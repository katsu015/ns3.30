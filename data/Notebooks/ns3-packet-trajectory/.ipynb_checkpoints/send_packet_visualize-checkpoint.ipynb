{
 "cells": [
  {
   "cell_type": "code",
   "execution_count": 46,
   "metadata": {},
   "outputs": [],
   "source": [
    "import pandas as pd\n",
    "import cv2\n",
    "import numpy as np\n",
    "import matplotlib.pyplot as plt\n",
    "#jupyter内で画像を表示\n",
    "%matplotlib inline \n",
    "#別ウィンドウで画像表示\n",
    "# %matplotlib qt \n",
    "import csv\n",
    "import json\n",
    "from ipywidgets import interact, interactive, fixed, RadioButtons\n",
    "import ipywidgets as widgets\n",
    "from IPython.display import display\n",
    "import pathlib\n",
    "import re\n",
    "import sys, math\n",
    "from IPython.core.interactiveshell import InteractiveShell\n",
    "InteractiveShell.ast_node_interactivity = \"all\"\n",
    "pd.set_option('display.max_columns', 100)"
   ]
  },
  {
   "cell_type": "markdown",
   "metadata": {},
   "source": [
    "# モビリティとノード数の登録"
   ]
  },
  {
   "cell_type": "code",
   "execution_count": 87,
   "metadata": {},
   "outputs": [],
   "source": [
    "row_no = 0\n",
    "fileobj = open(\"no_signal_900.tcl\", \"r\", encoding=\"utf_8\")\n",
    "# time = 14\n",
    "# id_list = ['50', '100', '300', '289', '190', '898'] #ノードの位置を表示させたいIDを初期化\n",
    "node_num = 900\n",
    "first_x = [0] * node_num\n",
    "first_y = [0] * node_num\n",
    "\n",
    "# 最初のポジションをリストに保存\n",
    "while True:\n",
    "    line = fileobj.readline()\n",
    "    line_split = line.split()\n",
    "    if(len(line_split) == 4):\n",
    "#         print(line_split)\n",
    "        node_id = re.sub(r\"\\D\", \"\", line_split[0])\n",
    "        if(line_split[2] == 'X_'):\n",
    "            x_pos = line_split[3]\n",
    "            first_x[int(node_id)] = int(x_pos[:-2])\n",
    "#             print('node id', node_id, 'x', first_x[int(node_id)])\n",
    "        if(line_split[2] == 'Y_'):\n",
    "            y_pos = line_split[3]\n",
    "            first_y[int(node_id)] = int(y_pos[:-2])\n",
    "#             print('node id', node_id, 'y', first_y[int(node_id)])\n",
    "    if(first_x[node_num - 1] != 0):\n",
    "        break"
   ]
  },
  {
   "cell_type": "code",
   "execution_count": 88,
   "metadata": {},
   "outputs": [],
   "source": [
    "send_sigo_path = pathlib.Path('../../ns3.30/data/send_sigo/shutoushu-seed_95000nodenum_601.csv')\n",
    "send_lsgo_path = pathlib.Path('../../ns3.30/data/send_lsgo/lsgo-seed_95000nodenum_601.csv')"
   ]
  },
  {
   "cell_type": "code",
   "execution_count": 89,
   "metadata": {},
   "outputs": [],
   "source": [
    "send_sigo_df = pd.read_csv(send_sigo_path)\n",
    "send_lsgo_df = pd.read_csv(send_lsgo_path)"
   ]
  },
  {
   "cell_type": "code",
   "execution_count": 90,
   "metadata": {},
   "outputs": [],
   "source": [
    "# print('aaaaaaaaaa')\n",
    "# send_lsgo_df[(send_lsgo_df['hop'] < 3) & (send_lsgo_df['time']>= 14000000) & (send_lsgo_df['time'] < 15000000)]"
   ]
  },
  {
   "cell_type": "code",
   "execution_count": 91,
   "metadata": {},
   "outputs": [
    {
     "data": {
      "text/plain": [
       "{585: 310, 590: 277, 293: 135, 241: 88, 540: 70}"
      ]
     },
     "execution_count": 91,
     "metadata": {},
     "output_type": "execute_result"
    }
   ],
   "source": [
    "send_sigo_df['des_id'].value_counts().to_dict()"
   ]
  },
  {
   "cell_type": "code",
   "execution_count": 92,
   "metadata": {},
   "outputs": [
    {
     "data": {
      "text/plain": [
       "{585: 366, 293: 207, 590: 104, 540: 78, 241: 68}"
      ]
     },
     "execution_count": 92,
     "metadata": {},
     "output_type": "execute_result"
    }
   ],
   "source": [
    "send_lsgo_df['des_id'].value_counts().to_dict()"
   ]
  },
  {
   "cell_type": "code",
   "execution_count": 93,
   "metadata": {},
   "outputs": [
    {
     "data": {
      "text/plain": [
       "5"
      ]
     },
     "execution_count": 93,
     "metadata": {},
     "output_type": "execute_result"
    }
   ],
   "source": [
    "dest_list =send_lsgo_df['des_id'].value_counts().index.tolist()\n",
    "dest_list.sort()\n",
    "len(dest_list)"
   ]
  },
  {
   "cell_type": "code",
   "execution_count": 94,
   "metadata": {},
   "outputs": [],
   "source": [
    "def output_df(hopcount, des_id):\n",
    "    # send_lsgo_df[(send_lsgo_df['hop'] < 3) & (send_lsgo_df['time']>= 14000000) & (send_lsgo_df['time'] < 15000000)]\n",
    "    print('lsgo')\n",
    "    display(send_lsgo_df[(send_lsgo_df['hop'] == hopcount) & (send_lsgo_df['des_id'] == des_id)])\n",
    "    print('sigo')\n",
    "    display(send_sigo_df[(send_sigo_df['hop'] == hopcount) & (send_sigo_df['des_id'] == des_id)])\n",
    "    "
   ]
  },
  {
   "cell_type": "code",
   "execution_count": 109,
   "metadata": {
    "scrolled": false
   },
   "outputs": [
    {
     "data": {
      "application/vnd.jupyter.widget-view+json": {
       "model_id": "80b530c596c64d2f8f2abf83a70c59d3",
       "version_major": 2,
       "version_minor": 0
      },
      "text/plain": [
       "interactive(children=(IntSlider(value=11, description='hopcount', max=21, min=1), Dropdown(description='des_id…"
      ]
     },
     "metadata": {},
     "output_type": "display_data"
    }
   ],
   "source": [
    "@interact(hopcount=(1,21,1), des_id = dest_list, time=(1,17,1))\n",
    "def df_run(hopcount, des_id, time):\n",
    "    output_df(hopcount, des_id)\n",
    "    #topologyが欲しいノードをリストで渡す\n",
    "    vis_list = ['530', '191', '189', '190', '192']\n",
    "    vis_topology(time)"
   ]
  },
  {
   "cell_type": "markdown",
   "metadata": {},
   "source": [
    "# トポロジーの確認"
   ]
  },
  {
   "cell_type": "code",
   "execution_count": 108,
   "metadata": {},
   "outputs": [],
   "source": [
    "def vis_topology(time):\n",
    "    fileobj2 = open(\"no_signal_900.tcl\", \"r\", encoding=\"utf_8\")\n",
    "    row_no = 0\n",
    "    x_list = []\n",
    "    y_list = []\n",
    "    while True:\n",
    "        line = fileobj2.readline()\n",
    "        line_split = line.split()\n",
    "        if(len(line_split) == 8):\n",
    "            split_time = line_split[2]\n",
    "            split_time = split_time[:-2]\n",
    "            if((int(split_time) >= time) & (int(split_time) < time + 1)):\n",
    "                split_id = re.sub(r\"\\D\", \"\", line_split[3])\n",
    "                split_x = line_split[5]\n",
    "                split_y = line_split[6]\n",
    "#                 if(split_id in id_list):\n",
    "                first_x[int(split_id)] = split_x\n",
    "                first_y[int(split_id)] = split_y\n",
    "        if line:\n",
    "            row_no += 1\n",
    "            if(row_no > 87575):\n",
    "                break\n",
    "        else:\n",
    "            break\n",
    "#     for node_id in range(0, 900):\n",
    "#         print('------------id', node_id, 'x', first_x[int(node_id)], 'y', first_y[int(node_id)])\n",
    "    img_area = np.zeros(shape=(1000,1000, 3), dtype=np.int16)\n",
    "    plt.figure(figsize=(15, 15))\n",
    "    print('グラフサイズ')\n",
    "    plt.grid(color='w', linestyle='dotted', linewidth=1.0)\n",
    "#     plt.xlim([0, 1000])\n",
    "    plt.xticks([1000,800,600,400,200, 0]) \n",
    "#     plt.ylim([0, 200])\n",
    "    plt.yticks([1000,800,600,400,200, 0])\n",
    "    plt.imshow(img_area)"
   ]
  },
  {
   "cell_type": "code",
   "execution_count": null,
   "metadata": {},
   "outputs": [],
   "source": []
  }
 ],
 "metadata": {
  "kernelspec": {
   "display_name": "Python 3",
   "language": "python",
   "name": "python3"
  },
  "language_info": {
   "codemirror_mode": {
    "name": "ipython",
    "version": 3
   },
   "file_extension": ".py",
   "mimetype": "text/x-python",
   "name": "python",
   "nbconvert_exporter": "python",
   "pygments_lexer": "ipython3",
   "version": "3.8.5"
  }
 },
 "nbformat": 4,
 "nbformat_minor": 4
}
