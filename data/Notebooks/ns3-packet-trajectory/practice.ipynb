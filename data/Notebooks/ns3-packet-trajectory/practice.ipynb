{
 "cells": [
  {
   "cell_type": "code",
   "execution_count": 39,
   "metadata": {},
   "outputs": [],
   "source": [
    "import cv2\n",
    "import numpy as np\n",
    "import matplotlib.pyplot as plt\n",
    "%matplotlib inline\n",
    "import csv\n",
    "import json\n",
    "from ipywidgets import interact, interactive, fixed, RadioButtons\n",
    "import ipywidgets as widgets\n",
    "from IPython.display import display\n",
    "import pathlib\n",
    "sigo_path = pathlib.Path('../../ns3.30/data/shutoushu-nodenum_600_seed_34567.csv')\n",
    "lsgo_path = pathlib.Path('../../ns3.30/data/lsgo-nodenum_600_seed_34567.csv')"
   ]
  },
  {
   "cell_type": "code",
   "execution_count": 40,
   "metadata": {},
   "outputs": [
    {
     "name": "stdout",
     "output_type": "stream",
     "text": [
      "{'source_x': '931', 'source_y': ' 1798', 'recv_x': ' 898', 'recv_y': ' 1720', 'time': ' 10000200', 'recv_priority': ' 0', 'hopcount': ' 1', 'recv_id': ' 2', 'source_id': ' 271', 'destination_id': ' 402', '': ' '}\n",
      "{' 398', ' 104', ' 239', ' 132', ' 145', ' 426', ' 334', ' 146', ' 131', ' 309', ' 447', ' 287', ' 101', ' 402', ' 411', ' 277', ' 278', ' 176', ' 63'}\n",
      "{' 398', ' 104', ' 239', ' 132', ' 145', ' 426', ' 334', ' 146', ' 131', ' 309', ' 447', ' 287', ' 101', ' 402', ' 411', ' 277', ' 278', ' 176', ' 63'}\n"
     ]
    }
   ],
   "source": [
    "with open(sigo_path, newline='', encoding='utf_8_sig') as f:\n",
    "    sigo_reader = csv.DictReader(f)\n",
    "    sigo_logs = [row for row in sigo_reader]\n",
    "\n",
    "with open(lsgo_path, newline='', encoding='utf_8_sig') as f:\n",
    "    lsgo_reader = csv.DictReader(f)\n",
    "    lsgo_logs = [row for row in lsgo_reader]\n",
    "    \n",
    "\n",
    "sigo_dest_list = [sigo_log.get('destination_id') for sigo_log in sigo_logs]   \n",
    "sigo_dest_list = set(sigo_dest_list)\n",
    "\n",
    "lsgo_dest_list = [lsgo_log.get('destination_id') for lsgo_log in lsgo_logs]   \n",
    "lsgo_dest_list = set(lsgo_dest_list)\n",
    "\n",
    "print(sigo_logs[2])\n",
    "\n",
    "print(sigo_dest_list)\n",
    "print(lsgo_dest_list)"
   ]
  },
  {
   "cell_type": "code",
   "execution_count": 41,
   "metadata": {
    "scrolled": false
   },
   "outputs": [
    {
     "data": {
      "application/vnd.jupyter.widget-view+json": {
       "model_id": "985b29af4a7b47f1b7d35043ab612a16",
       "version_major": 2,
       "version_minor": 0
      },
      "text/plain": [
       "interactive(children=(Dropdown(description='desId', options=(' 398', ' 104', ' 239', ' 132', ' 145', ' 426', '…"
      ]
     },
     "metadata": {},
     "output_type": "display_data"
    }
   ],
   "source": [
    "img_area = np.zeros(shape=(2100,2100, 3), dtype=np.int16)\n",
    "img_area.shape\n",
    "\n",
    "\n",
    "#packetの軌跡を描画 \n",
    "@interact(minHop=(0,14,1), maxHop=(2,15, 1), desId=sigo_dest_list)\n",
    "def packetDraw(desId, minHop, maxHop):\n",
    "    img_area = np.zeros(shape=(2100,2100, 3), dtype=np.int16)\n",
    "    count = 1\n",
    "    for log in sigo_logs:\n",
    "#         if log['destination_id'] == desId:\n",
    "        if log['destination_id'] == desId and int(log['hopcount']) > minHop and int(log['hopcount']) < maxHop:\n",
    "            cv2.arrowedLine(img_area,(int(log['source_x']), int(log['source_y'])), \n",
    "                            (int(log['recv_x']), int(log['recv_y'])), (0, 255, 0), thickness=2)\n",
    "            cv2.circle(img=img_area, center=(int(log['source_x']),\n",
    "                                   int(log['source_y'])), radius=15, color=(255,0,0), thickness=-1)\n",
    "            cv2.circle(img=img_area, center=(int(log['recv_x']),\n",
    "                                   int(log['recv_y'])), radius=15, color=(255,0,0), thickness=-1)\n",
    "            cv2.putText(img_area, log['source_id'], (int(log['source_x']) + 13,\n",
    "                                   int(log['source_y']) +13 ), cv2.FONT_HERSHEY_SIMPLEX, 1.6, (255, 255, 255), thickness=2)\n",
    "            cv2.putText(img_area, log['recv_id'], (int(log['recv_x']) + 13,\n",
    "                                   int(log['recv_y']) +13), cv2.FONT_HERSHEY_SIMPLEX, 1.6, (255, 255, 255), thickness=2)\n",
    "            if count == 1:\n",
    "                plt.figure(figsize=(14, 14))\n",
    "                plt.grid(color='r', linestyle='dotted', linewidth=1.3)\n",
    "                plt.xlim([-100, 2200])\n",
    "                plt.xticks([2100,1800,1500,1200,900,600,300, 0]) \n",
    "                plt.ylim([-100, 2200])\n",
    "                plt.yticks([0,300,600,900,1200,1500,1800,2100])  #メモリの間隔を指定 \n",
    "            plt.imshow(img_area)\n",
    "            count = count +1"
   ]
  },
  {
   "cell_type": "code",
   "execution_count": 37,
   "metadata": {},
   "outputs": [
    {
     "data": {
      "application/vnd.jupyter.widget-view+json": {
       "model_id": "fde260da818b4033bc91a8ac5788c0f9",
       "version_major": 2,
       "version_minor": 0
      },
      "text/plain": [
       "interactive(children=(Dropdown(description='protocol', options=('sigo', 'lsgo', 'both'), value='sigo'), Dropdo…"
      ]
     },
     "metadata": {},
     "output_type": "display_data"
    }
   ],
   "source": [
    "img_area = np.zeros(shape=(2100,2100, 3), dtype=np.int16)\n",
    "img_area.shape\n",
    "protocol_list = [\"sigo\",\"lsgo\", \"both\"]\n",
    "\n",
    "\n",
    "#packetの軌跡を描画 \n",
    "@interact(minHop=(0, 14,1), maxHop=(2, 15, 1), desId=sigo_dest_list, protocol = protocol_list)\n",
    "def packetDraw(protocol,desId, minHop, maxHop):\n",
    "    img_area = np.zeros(shape=(2100,2100, 3), dtype=np.int16)\n",
    "    count = 1\n",
    "    for log in sigo_logs:\n",
    "#         if log['destination_id'] == desId:\n",
    "        if log['destination_id'] == desId and int(log['hopcount']) > minHop and int(log['hopcount']) < maxHop:\n",
    "            cv2.arrowedLine(img_area,(int(log['source_x']), int(log['source_y'])), \n",
    "                            (int(log['recv_x']), int(log['recv_y'])), (0, 255, 0), thickness=2)\n",
    "            cv2.circle(img=img_area, center=(int(log['source_x']),\n",
    "                                   int(log['source_y'])), radius=10, color=(255,0,0), thickness=-1)\n",
    "            cv2.circle(img=img_area, center=(int(log['recv_x']),\n",
    "                                   int(log['recv_y'])), radius=10, color=(255,0,0), thickness=-1)\n",
    "            cv2.putText(img_area, log['source_id'], (int(log['source_x']) + 13,\n",
    "                                   int(log['source_y']) +13 ), cv2.FONT_HERSHEY_SIMPLEX, 1.6, (255, 255, 255), thickness=2)\n",
    "            cv2.putText(img_area, log['recv_id'], (int(log['recv_x']) + 13,\n",
    "                                   int(log['recv_y']) +13), cv2.FONT_HERSHEY_SIMPLEX, 1.6, (255, 255, 255), thickness=2)\n",
    "            if count == 1:\n",
    "                plt.figure(figsize=(16, 16))\n",
    "                plt.grid(color='r', linestyle='dotted', linewidth=1.3)\n",
    "                plt.xlim([-100, 2200])\n",
    "                plt.xticks([2100,1800,1500,1200,900,600,300, 0]) \n",
    "                plt.ylim([-100, 2200])\n",
    "                plt.yticks([0,300,600,900,1200,1500,1800,2100])  #メモリの間隔を指定 \n",
    "            plt.imshow(img_area)\n",
    "            count = count +1"
   ]
  },
  {
   "cell_type": "code",
   "execution_count": null,
   "metadata": {},
   "outputs": [],
   "source": []
  }
 ],
 "metadata": {
  "kernelspec": {
   "display_name": "Python 3",
   "language": "python",
   "name": "python3"
  },
  "language_info": {
   "codemirror_mode": {
    "name": "ipython",
    "version": 3
   },
   "file_extension": ".py",
   "mimetype": "text/x-python",
   "name": "python",
   "nbconvert_exporter": "python",
   "pygments_lexer": "ipython3",
   "version": "3.8.5"
  }
 },
 "nbformat": 4,
 "nbformat_minor": 4
}
