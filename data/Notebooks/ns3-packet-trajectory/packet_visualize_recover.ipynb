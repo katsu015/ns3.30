{
 "cells": [
  {
   "cell_type": "code",
   "execution_count": 20,
   "metadata": {},
   "outputs": [],
   "source": [
    "import pandas as pd\n",
    "import cv2\n",
    "import numpy as np\n",
    "import matplotlib.pyplot as plt\n",
    "#jupyter内で画像を表示\n",
    "%matplotlib inline \n",
    "#別ウィンドウで画像表示\n",
    "# %matplotlib qt \n",
    "import csv\n",
    "import json\n",
    "from ipywidgets import interact, interactive, fixed, RadioButtons\n",
    "import ipywidgets as widgets\n",
    "from IPython.display import display\n",
    "import pathlib\n",
    "seed = '10009'\n",
    "node_num = '400'\n",
    "shadow = 'shadow10_2'\n",
    "sigo_path = pathlib.Path('../../get_data/recover_test2/' + shadow + '/sigo/sigo-seed_' +seed +'nodenum_' +node_num+'.csv')\n",
    "lsgo_path = pathlib.Path('../../get_data/recover_test2/' + shadow + '/lsgo/lsgo-seed_' +seed +'nodenum_' +node_num+'.csv')\n",
    "jbr_path = pathlib.Path('../../get_data/recover_test2/' + shadow + '/jbr/sigo-seed_' +seed +'nodenum_' +node_num+'.csv')\n",
    "\n",
    "# sigo_path = pathlib.Path('../../ns3.30/data/no_buildings/sigo/sigo-seed_' +seed +'nodenum_' +node_num+'.csv')\n",
    "# lsgo_path = pathlib.Path('../../ns3.30/data/no_buildings/lsgo/lsgo-seed_' +seed +'nodenum_' +node_num+'.csv')"
   ]
  },
  {
   "cell_type": "markdown",
   "metadata": {},
   "source": [
    "# csvファイルの取得\n",
    "pandasを利用：https://note.nkmk.me/python-pandas-value-counts/"
   ]
  },
  {
   "cell_type": "code",
   "execution_count": 21,
   "metadata": {},
   "outputs": [],
   "source": [
    "sigo_df = pd.read_csv(sigo_path)\n",
    "lsgo_df = pd.read_csv(lsgo_path)\n",
    "jbr_df = pd.read_csv(jbr_path)"
   ]
  },
  {
   "cell_type": "code",
   "execution_count": 22,
   "metadata": {},
   "outputs": [
    {
     "data": {
      "text/html": [
       "<div>\n",
       "<style scoped>\n",
       "    .dataframe tbody tr th:only-of-type {\n",
       "        vertical-align: middle;\n",
       "    }\n",
       "\n",
       "    .dataframe tbody tr th {\n",
       "        vertical-align: top;\n",
       "    }\n",
       "\n",
       "    .dataframe thead th {\n",
       "        text-align: right;\n",
       "    }\n",
       "</style>\n",
       "<table border=\"1\" class=\"dataframe\">\n",
       "  <thead>\n",
       "    <tr style=\"text-align: right;\">\n",
       "      <th></th>\n",
       "      <th>source_x</th>\n",
       "      <th>source_y</th>\n",
       "      <th>recv_x</th>\n",
       "      <th>recv_y</th>\n",
       "      <th>time</th>\n",
       "      <th>recv_priority</th>\n",
       "      <th>hopcount</th>\n",
       "      <th>recv_id</th>\n",
       "      <th>source_id</th>\n",
       "      <th>destination_id</th>\n",
       "      <th>destination_x</th>\n",
       "      <th>destination_y</th>\n",
       "      <th>pri_1</th>\n",
       "      <th>pri_2</th>\n",
       "      <th>pri_3</th>\n",
       "      <th>pri_4</th>\n",
       "      <th>pri_5</th>\n",
       "    </tr>\n",
       "  </thead>\n",
       "  <tbody>\n",
       "    <tr>\n",
       "      <th>0</th>\n",
       "      <td>1</td>\n",
       "      <td>212</td>\n",
       "      <td>1</td>\n",
       "      <td>247</td>\n",
       "      <td>10300200</td>\n",
       "      <td>5</td>\n",
       "      <td>1</td>\n",
       "      <td>176</td>\n",
       "      <td>379</td>\n",
       "      <td>257</td>\n",
       "      <td>580</td>\n",
       "      <td>801</td>\n",
       "      <td>32</td>\n",
       "      <td>56</td>\n",
       "      <td>348</td>\n",
       "      <td>174</td>\n",
       "      <td>176</td>\n",
       "    </tr>\n",
       "    <tr>\n",
       "      <th>1</th>\n",
       "      <td>1</td>\n",
       "      <td>212</td>\n",
       "      <td>1</td>\n",
       "      <td>282</td>\n",
       "      <td>10300200</td>\n",
       "      <td>1</td>\n",
       "      <td>1</td>\n",
       "      <td>32</td>\n",
       "      <td>379</td>\n",
       "      <td>257</td>\n",
       "      <td>580</td>\n",
       "      <td>801</td>\n",
       "      <td>32</td>\n",
       "      <td>56</td>\n",
       "      <td>348</td>\n",
       "      <td>174</td>\n",
       "      <td>176</td>\n",
       "    </tr>\n",
       "    <tr>\n",
       "      <th>2</th>\n",
       "      <td>1</td>\n",
       "      <td>212</td>\n",
       "      <td>-1</td>\n",
       "      <td>355</td>\n",
       "      <td>10300200</td>\n",
       "      <td>4</td>\n",
       "      <td>1</td>\n",
       "      <td>174</td>\n",
       "      <td>379</td>\n",
       "      <td>257</td>\n",
       "      <td>580</td>\n",
       "      <td>801</td>\n",
       "      <td>32</td>\n",
       "      <td>56</td>\n",
       "      <td>348</td>\n",
       "      <td>174</td>\n",
       "      <td>176</td>\n",
       "    </tr>\n",
       "    <tr>\n",
       "      <th>3</th>\n",
       "      <td>1</td>\n",
       "      <td>212</td>\n",
       "      <td>-1</td>\n",
       "      <td>387</td>\n",
       "      <td>10300200</td>\n",
       "      <td>3</td>\n",
       "      <td>1</td>\n",
       "      <td>348</td>\n",
       "      <td>379</td>\n",
       "      <td>257</td>\n",
       "      <td>580</td>\n",
       "      <td>801</td>\n",
       "      <td>32</td>\n",
       "      <td>56</td>\n",
       "      <td>348</td>\n",
       "      <td>174</td>\n",
       "      <td>176</td>\n",
       "    </tr>\n",
       "    <tr>\n",
       "      <th>4</th>\n",
       "      <td>1</td>\n",
       "      <td>282</td>\n",
       "      <td>-1</td>\n",
       "      <td>319</td>\n",
       "      <td>10300564</td>\n",
       "      <td>3</td>\n",
       "      <td>2</td>\n",
       "      <td>64</td>\n",
       "      <td>32</td>\n",
       "      <td>257</td>\n",
       "      <td>580</td>\n",
       "      <td>801</td>\n",
       "      <td>348</td>\n",
       "      <td>282</td>\n",
       "      <td>64</td>\n",
       "      <td>174</td>\n",
       "      <td>43</td>\n",
       "    </tr>\n",
       "    <tr>\n",
       "      <th>...</th>\n",
       "      <td>...</td>\n",
       "      <td>...</td>\n",
       "      <td>...</td>\n",
       "      <td>...</td>\n",
       "      <td>...</td>\n",
       "      <td>...</td>\n",
       "      <td>...</td>\n",
       "      <td>...</td>\n",
       "      <td>...</td>\n",
       "      <td>...</td>\n",
       "      <td>...</td>\n",
       "      <td>...</td>\n",
       "      <td>...</td>\n",
       "      <td>...</td>\n",
       "      <td>...</td>\n",
       "      <td>...</td>\n",
       "      <td>...</td>\n",
       "    </tr>\n",
       "    <tr>\n",
       "      <th>501</th>\n",
       "      <td>801</td>\n",
       "      <td>723</td>\n",
       "      <td>798</td>\n",
       "      <td>800</td>\n",
       "      <td>19323480</td>\n",
       "      <td>2</td>\n",
       "      <td>10</td>\n",
       "      <td>74</td>\n",
       "      <td>261</td>\n",
       "      <td>301</td>\n",
       "      <td>868</td>\n",
       "      <td>798</td>\n",
       "      <td>94</td>\n",
       "      <td>74</td>\n",
       "      <td>131</td>\n",
       "      <td>6</td>\n",
       "      <td>10000000</td>\n",
       "    </tr>\n",
       "    <tr>\n",
       "      <th>502</th>\n",
       "      <td>802</td>\n",
       "      <td>793</td>\n",
       "      <td>818</td>\n",
       "      <td>801</td>\n",
       "      <td>19323844</td>\n",
       "      <td>5</td>\n",
       "      <td>11</td>\n",
       "      <td>51</td>\n",
       "      <td>94</td>\n",
       "      <td>301</td>\n",
       "      <td>868</td>\n",
       "      <td>798</td>\n",
       "      <td>252</td>\n",
       "      <td>301</td>\n",
       "      <td>196</td>\n",
       "      <td>329</td>\n",
       "      <td>51</td>\n",
       "    </tr>\n",
       "    <tr>\n",
       "      <th>503</th>\n",
       "      <td>802</td>\n",
       "      <td>793</td>\n",
       "      <td>840</td>\n",
       "      <td>801</td>\n",
       "      <td>19323844</td>\n",
       "      <td>3</td>\n",
       "      <td>11</td>\n",
       "      <td>196</td>\n",
       "      <td>94</td>\n",
       "      <td>301</td>\n",
       "      <td>868</td>\n",
       "      <td>798</td>\n",
       "      <td>252</td>\n",
       "      <td>301</td>\n",
       "      <td>196</td>\n",
       "      <td>329</td>\n",
       "      <td>51</td>\n",
       "    </tr>\n",
       "    <tr>\n",
       "      <th>504</th>\n",
       "      <td>802</td>\n",
       "      <td>793</td>\n",
       "      <td>876</td>\n",
       "      <td>801</td>\n",
       "      <td>19323844</td>\n",
       "      <td>1</td>\n",
       "      <td>11</td>\n",
       "      <td>252</td>\n",
       "      <td>94</td>\n",
       "      <td>301</td>\n",
       "      <td>868</td>\n",
       "      <td>798</td>\n",
       "      <td>252</td>\n",
       "      <td>301</td>\n",
       "      <td>196</td>\n",
       "      <td>329</td>\n",
       "      <td>51</td>\n",
       "    </tr>\n",
       "    <tr>\n",
       "      <th>505</th>\n",
       "      <td>802</td>\n",
       "      <td>793</td>\n",
       "      <td>885</td>\n",
       "      <td>798</td>\n",
       "      <td>19323844</td>\n",
       "      <td>301</td>\n",
       "      <td>11</td>\n",
       "      <td>301</td>\n",
       "      <td>94</td>\n",
       "      <td>301</td>\n",
       "      <td>868</td>\n",
       "      <td>798</td>\n",
       "      <td>252</td>\n",
       "      <td>301</td>\n",
       "      <td>196</td>\n",
       "      <td>329</td>\n",
       "      <td>51</td>\n",
       "    </tr>\n",
       "  </tbody>\n",
       "</table>\n",
       "<p>506 rows × 17 columns</p>\n",
       "</div>"
      ],
      "text/plain": [
       "     source_x  source_y  recv_x  recv_y      time  recv_priority  hopcount  \\\n",
       "0           1       212       1     247  10300200              5         1   \n",
       "1           1       212       1     282  10300200              1         1   \n",
       "2           1       212      -1     355  10300200              4         1   \n",
       "3           1       212      -1     387  10300200              3         1   \n",
       "4           1       282      -1     319  10300564              3         2   \n",
       "..        ...       ...     ...     ...       ...            ...       ...   \n",
       "501       801       723     798     800  19323480              2        10   \n",
       "502       802       793     818     801  19323844              5        11   \n",
       "503       802       793     840     801  19323844              3        11   \n",
       "504       802       793     876     801  19323844              1        11   \n",
       "505       802       793     885     798  19323844            301        11   \n",
       "\n",
       "     recv_id  source_id  destination_id  destination_x  destination_y  pri_1  \\\n",
       "0        176        379             257            580            801     32   \n",
       "1         32        379             257            580            801     32   \n",
       "2        174        379             257            580            801     32   \n",
       "3        348        379             257            580            801     32   \n",
       "4         64         32             257            580            801    348   \n",
       "..       ...        ...             ...            ...            ...    ...   \n",
       "501       74        261             301            868            798     94   \n",
       "502       51         94             301            868            798    252   \n",
       "503      196         94             301            868            798    252   \n",
       "504      252         94             301            868            798    252   \n",
       "505      301         94             301            868            798    252   \n",
       "\n",
       "     pri_2  pri_3  pri_4     pri_5  \n",
       "0       56    348    174       176  \n",
       "1       56    348    174       176  \n",
       "2       56    348    174       176  \n",
       "3       56    348    174       176  \n",
       "4      282     64    174        43  \n",
       "..     ...    ...    ...       ...  \n",
       "501     74    131      6  10000000  \n",
       "502    301    196    329        51  \n",
       "503    301    196    329        51  \n",
       "504    301    196    329        51  \n",
       "505    301    196    329        51  \n",
       "\n",
       "[506 rows x 17 columns]"
      ]
     },
     "execution_count": 22,
     "metadata": {},
     "output_type": "execute_result"
    }
   ],
   "source": [
    "sigo_df"
   ]
  },
  {
   "cell_type": "code",
   "execution_count": 23,
   "metadata": {},
   "outputs": [
    {
     "data": {
      "text/html": [
       "<div>\n",
       "<style scoped>\n",
       "    .dataframe tbody tr th:only-of-type {\n",
       "        vertical-align: middle;\n",
       "    }\n",
       "\n",
       "    .dataframe tbody tr th {\n",
       "        vertical-align: top;\n",
       "    }\n",
       "\n",
       "    .dataframe thead th {\n",
       "        text-align: right;\n",
       "    }\n",
       "</style>\n",
       "<table border=\"1\" class=\"dataframe\">\n",
       "  <thead>\n",
       "    <tr style=\"text-align: right;\">\n",
       "      <th></th>\n",
       "      <th>source_x</th>\n",
       "      <th>source_y</th>\n",
       "      <th>recv_x</th>\n",
       "      <th>recv_y</th>\n",
       "      <th>time</th>\n",
       "      <th>recv_priority</th>\n",
       "      <th>hopcount</th>\n",
       "      <th>recv_id</th>\n",
       "      <th>source_id</th>\n",
       "      <th>destination_id</th>\n",
       "      <th>destination_x</th>\n",
       "      <th>destination_y</th>\n",
       "      <th>pri_1</th>\n",
       "      <th>pri_2</th>\n",
       "      <th>pri_3</th>\n",
       "      <th>pri_4</th>\n",
       "      <th>pri_5</th>\n",
       "      <th>pri_recover</th>\n",
       "    </tr>\n",
       "  </thead>\n",
       "  <tbody>\n",
       "    <tr>\n",
       "      <th>0</th>\n",
       "      <td>1</td>\n",
       "      <td>212</td>\n",
       "      <td>1</td>\n",
       "      <td>247</td>\n",
       "      <td>10300200</td>\n",
       "      <td>5</td>\n",
       "      <td>1</td>\n",
       "      <td>176</td>\n",
       "      <td>379</td>\n",
       "      <td>257</td>\n",
       "      <td>580</td>\n",
       "      <td>801</td>\n",
       "      <td>32</td>\n",
       "      <td>56</td>\n",
       "      <td>348</td>\n",
       "      <td>174</td>\n",
       "      <td>176</td>\n",
       "      <td>0</td>\n",
       "    </tr>\n",
       "    <tr>\n",
       "      <th>1</th>\n",
       "      <td>1</td>\n",
       "      <td>212</td>\n",
       "      <td>1</td>\n",
       "      <td>282</td>\n",
       "      <td>10300200</td>\n",
       "      <td>1</td>\n",
       "      <td>1</td>\n",
       "      <td>32</td>\n",
       "      <td>379</td>\n",
       "      <td>257</td>\n",
       "      <td>580</td>\n",
       "      <td>801</td>\n",
       "      <td>32</td>\n",
       "      <td>56</td>\n",
       "      <td>348</td>\n",
       "      <td>174</td>\n",
       "      <td>176</td>\n",
       "      <td>0</td>\n",
       "    </tr>\n",
       "    <tr>\n",
       "      <th>2</th>\n",
       "      <td>1</td>\n",
       "      <td>212</td>\n",
       "      <td>-1</td>\n",
       "      <td>355</td>\n",
       "      <td>10300200</td>\n",
       "      <td>4</td>\n",
       "      <td>1</td>\n",
       "      <td>174</td>\n",
       "      <td>379</td>\n",
       "      <td>257</td>\n",
       "      <td>580</td>\n",
       "      <td>801</td>\n",
       "      <td>32</td>\n",
       "      <td>56</td>\n",
       "      <td>348</td>\n",
       "      <td>174</td>\n",
       "      <td>176</td>\n",
       "      <td>0</td>\n",
       "    </tr>\n",
       "    <tr>\n",
       "      <th>3</th>\n",
       "      <td>1</td>\n",
       "      <td>212</td>\n",
       "      <td>-1</td>\n",
       "      <td>387</td>\n",
       "      <td>10300200</td>\n",
       "      <td>3</td>\n",
       "      <td>1</td>\n",
       "      <td>348</td>\n",
       "      <td>379</td>\n",
       "      <td>257</td>\n",
       "      <td>580</td>\n",
       "      <td>801</td>\n",
       "      <td>32</td>\n",
       "      <td>56</td>\n",
       "      <td>348</td>\n",
       "      <td>174</td>\n",
       "      <td>176</td>\n",
       "      <td>0</td>\n",
       "    </tr>\n",
       "    <tr>\n",
       "      <th>4</th>\n",
       "      <td>1</td>\n",
       "      <td>282</td>\n",
       "      <td>-1</td>\n",
       "      <td>319</td>\n",
       "      <td>10300564</td>\n",
       "      <td>3</td>\n",
       "      <td>2</td>\n",
       "      <td>64</td>\n",
       "      <td>32</td>\n",
       "      <td>257</td>\n",
       "      <td>580</td>\n",
       "      <td>801</td>\n",
       "      <td>348</td>\n",
       "      <td>282</td>\n",
       "      <td>64</td>\n",
       "      <td>174</td>\n",
       "      <td>43</td>\n",
       "      <td>0</td>\n",
       "    </tr>\n",
       "    <tr>\n",
       "      <th>...</th>\n",
       "      <td>...</td>\n",
       "      <td>...</td>\n",
       "      <td>...</td>\n",
       "      <td>...</td>\n",
       "      <td>...</td>\n",
       "      <td>...</td>\n",
       "      <td>...</td>\n",
       "      <td>...</td>\n",
       "      <td>...</td>\n",
       "      <td>...</td>\n",
       "      <td>...</td>\n",
       "      <td>...</td>\n",
       "      <td>...</td>\n",
       "      <td>...</td>\n",
       "      <td>...</td>\n",
       "      <td>...</td>\n",
       "      <td>...</td>\n",
       "      <td>...</td>\n",
       "    </tr>\n",
       "    <tr>\n",
       "      <th>494</th>\n",
       "      <td>801</td>\n",
       "      <td>648</td>\n",
       "      <td>801</td>\n",
       "      <td>692</td>\n",
       "      <td>19327480</td>\n",
       "      <td>5</td>\n",
       "      <td>10</td>\n",
       "      <td>334</td>\n",
       "      <td>371</td>\n",
       "      <td>301</td>\n",
       "      <td>868</td>\n",
       "      <td>798</td>\n",
       "      <td>74</td>\n",
       "      <td>94</td>\n",
       "      <td>131</td>\n",
       "      <td>261</td>\n",
       "      <td>334</td>\n",
       "      <td>0</td>\n",
       "    </tr>\n",
       "    <tr>\n",
       "      <th>495</th>\n",
       "      <td>801</td>\n",
       "      <td>648</td>\n",
       "      <td>801</td>\n",
       "      <td>723</td>\n",
       "      <td>19327480</td>\n",
       "      <td>4</td>\n",
       "      <td>10</td>\n",
       "      <td>261</td>\n",
       "      <td>371</td>\n",
       "      <td>301</td>\n",
       "      <td>868</td>\n",
       "      <td>798</td>\n",
       "      <td>74</td>\n",
       "      <td>94</td>\n",
       "      <td>131</td>\n",
       "      <td>261</td>\n",
       "      <td>334</td>\n",
       "      <td>0</td>\n",
       "    </tr>\n",
       "    <tr>\n",
       "      <th>496</th>\n",
       "      <td>801</td>\n",
       "      <td>648</td>\n",
       "      <td>801</td>\n",
       "      <td>748</td>\n",
       "      <td>19327480</td>\n",
       "      <td>3</td>\n",
       "      <td>10</td>\n",
       "      <td>131</td>\n",
       "      <td>371</td>\n",
       "      <td>301</td>\n",
       "      <td>868</td>\n",
       "      <td>798</td>\n",
       "      <td>74</td>\n",
       "      <td>94</td>\n",
       "      <td>131</td>\n",
       "      <td>261</td>\n",
       "      <td>334</td>\n",
       "      <td>0</td>\n",
       "    </tr>\n",
       "    <tr>\n",
       "      <th>497</th>\n",
       "      <td>801</td>\n",
       "      <td>648</td>\n",
       "      <td>802</td>\n",
       "      <td>793</td>\n",
       "      <td>19327480</td>\n",
       "      <td>2</td>\n",
       "      <td>10</td>\n",
       "      <td>94</td>\n",
       "      <td>371</td>\n",
       "      <td>301</td>\n",
       "      <td>868</td>\n",
       "      <td>798</td>\n",
       "      <td>74</td>\n",
       "      <td>94</td>\n",
       "      <td>131</td>\n",
       "      <td>261</td>\n",
       "      <td>334</td>\n",
       "      <td>0</td>\n",
       "    </tr>\n",
       "    <tr>\n",
       "      <th>498</th>\n",
       "      <td>801</td>\n",
       "      <td>648</td>\n",
       "      <td>798</td>\n",
       "      <td>799</td>\n",
       "      <td>19327480</td>\n",
       "      <td>1</td>\n",
       "      <td>10</td>\n",
       "      <td>74</td>\n",
       "      <td>371</td>\n",
       "      <td>301</td>\n",
       "      <td>868</td>\n",
       "      <td>798</td>\n",
       "      <td>74</td>\n",
       "      <td>94</td>\n",
       "      <td>131</td>\n",
       "      <td>261</td>\n",
       "      <td>334</td>\n",
       "      <td>0</td>\n",
       "    </tr>\n",
       "  </tbody>\n",
       "</table>\n",
       "<p>499 rows × 18 columns</p>\n",
       "</div>"
      ],
      "text/plain": [
       "     source_x  source_y  recv_x  recv_y      time  recv_priority  hopcount  \\\n",
       "0           1       212       1     247  10300200              5         1   \n",
       "1           1       212       1     282  10300200              1         1   \n",
       "2           1       212      -1     355  10300200              4         1   \n",
       "3           1       212      -1     387  10300200              3         1   \n",
       "4           1       282      -1     319  10300564              3         2   \n",
       "..        ...       ...     ...     ...       ...            ...       ...   \n",
       "494       801       648     801     692  19327480              5        10   \n",
       "495       801       648     801     723  19327480              4        10   \n",
       "496       801       648     801     748  19327480              3        10   \n",
       "497       801       648     802     793  19327480              2        10   \n",
       "498       801       648     798     799  19327480              1        10   \n",
       "\n",
       "     recv_id  source_id  destination_id  destination_x  destination_y  pri_1  \\\n",
       "0        176        379             257            580            801     32   \n",
       "1         32        379             257            580            801     32   \n",
       "2        174        379             257            580            801     32   \n",
       "3        348        379             257            580            801     32   \n",
       "4         64         32             257            580            801    348   \n",
       "..       ...        ...             ...            ...            ...    ...   \n",
       "494      334        371             301            868            798     74   \n",
       "495      261        371             301            868            798     74   \n",
       "496      131        371             301            868            798     74   \n",
       "497       94        371             301            868            798     74   \n",
       "498       74        371             301            868            798     74   \n",
       "\n",
       "     pri_2  pri_3  pri_4  pri_5  pri_recover  \n",
       "0       56    348    174    176            0  \n",
       "1       56    348    174    176            0  \n",
       "2       56    348    174    176            0  \n",
       "3       56    348    174    176            0  \n",
       "4      282     64    174     43            0  \n",
       "..     ...    ...    ...    ...          ...  \n",
       "494     94    131    261    334            0  \n",
       "495     94    131    261    334            0  \n",
       "496     94    131    261    334            0  \n",
       "497     94    131    261    334            0  \n",
       "498     94    131    261    334            0  \n",
       "\n",
       "[499 rows x 18 columns]"
      ]
     },
     "execution_count": 23,
     "metadata": {},
     "output_type": "execute_result"
    }
   ],
   "source": [
    "jbr_df"
   ]
  },
  {
   "cell_type": "code",
   "execution_count": 24,
   "metadata": {},
   "outputs": [
    {
     "name": "stdout",
     "output_type": "stream",
     "text": [
      "..\\..\\get_data\\recover_test2\\shadow10_2\\sigo\\sigo-seed_10009nodenum_400.csv\n",
      "..\\..\\get_data\\recover_test2\\shadow10_2\\lsgo\\lsgo-seed_10009nodenum_400.csv\n",
      "..\\..\\get_data\\recover_test2\\shadow10_2\\jbr\\sigo-seed_10009nodenum_400.csv\n"
     ]
    }
   ],
   "source": [
    "print(sigo_path)\n",
    "print(lsgo_path)\n",
    "print(jbr_path)"
   ]
  },
  {
   "cell_type": "markdown",
   "metadata": {},
   "source": [
    "# recovery packet の多さ"
   ]
  },
  {
   "cell_type": "code",
   "execution_count": 25,
   "metadata": {},
   "outputs": [
    {
     "data": {
      "text/plain": [
       "{0: 495, 1: 4}"
      ]
     },
     "execution_count": 25,
     "metadata": {},
     "output_type": "execute_result"
    }
   ],
   "source": [
    "jbr_df['pri_recover'].value_counts().to_dict()"
   ]
  },
  {
   "cell_type": "markdown",
   "metadata": {},
   "source": [
    "# destination_idごとのパケット数"
   ]
  },
  {
   "cell_type": "code",
   "execution_count": 26,
   "metadata": {},
   "outputs": [
    {
     "data": {
      "text/plain": [
       "{148: 112,\n",
       " 257: 99,\n",
       " 301: 90,\n",
       " 6: 50,\n",
       " 69: 48,\n",
       " 377: 37,\n",
       " 133: 34,\n",
       " 16: 26,\n",
       " 273: 15,\n",
       " 128: 14}"
      ]
     },
     "execution_count": 26,
     "metadata": {},
     "output_type": "execute_result"
    }
   ],
   "source": [
    "lsgo_df['destination_id'].value_counts().to_dict()"
   ]
  },
  {
   "cell_type": "markdown",
   "metadata": {},
   "source": [
    "\n",
    "destination_id を重複なしにリスト保存"
   ]
  },
  {
   "cell_type": "code",
   "execution_count": 27,
   "metadata": {},
   "outputs": [
    {
     "data": {
      "text/plain": [
       "{69: 95,\n",
       " 301: 84,\n",
       " 257: 61,\n",
       " 133: 55,\n",
       " 6: 47,\n",
       " 128: 41,\n",
       " 377: 37,\n",
       " 16: 37,\n",
       " 148: 31,\n",
       " 273: 18}"
      ]
     },
     "execution_count": 27,
     "metadata": {},
     "output_type": "execute_result"
    }
   ],
   "source": [
    "sigo_df['destination_id'].value_counts().to_dict()"
   ]
  },
  {
   "cell_type": "code",
   "execution_count": 28,
   "metadata": {},
   "outputs": [
    {
     "data": {
      "text/plain": [
       "{69: 95,\n",
       " 128: 77,\n",
       " 301: 62,\n",
       " 257: 61,\n",
       " 133: 55,\n",
       " 6: 47,\n",
       " 148: 31,\n",
       " 377: 27,\n",
       " 16: 26,\n",
       " 273: 18}"
      ]
     },
     "execution_count": 28,
     "metadata": {},
     "output_type": "execute_result"
    }
   ],
   "source": [
    "jbr_df['destination_id'].value_counts().to_dict()"
   ]
  },
  {
   "cell_type": "code",
   "execution_count": 29,
   "metadata": {},
   "outputs": [
    {
     "data": {
      "text/plain": [
       "10"
      ]
     },
     "execution_count": 29,
     "metadata": {},
     "output_type": "execute_result"
    }
   ],
   "source": [
    "dest_list =lsgo_df['destination_id'].value_counts().index.tolist()\n",
    "dest_list.sort()\n",
    "len(dest_list)"
   ]
  },
  {
   "cell_type": "code",
   "execution_count": 30,
   "metadata": {},
   "outputs": [
    {
     "data": {
      "text/plain": [
       "10"
      ]
     },
     "execution_count": 30,
     "metadata": {},
     "output_type": "execute_result"
    }
   ],
   "source": [
    "dest_list = sigo_df['destination_id'].value_counts().index.tolist()\n",
    "dest_list.sort()\n",
    "len(dest_list)"
   ]
  },
  {
   "cell_type": "code",
   "execution_count": 31,
   "metadata": {},
   "outputs": [
    {
     "data": {
      "text/plain": [
       "10"
      ]
     },
     "execution_count": 31,
     "metadata": {},
     "output_type": "execute_result"
    }
   ],
   "source": [
    "dest_list = jbr_df['destination_id'].value_counts().index.tolist()\n",
    "dest_list.sort()\n",
    "len(dest_list)"
   ]
  },
  {
   "cell_type": "markdown",
   "metadata": {},
   "source": [
    "sigoとlsgoそれぞれ目的地に届いたidだけをlistに保存"
   ]
  },
  {
   "cell_type": "code",
   "execution_count": 32,
   "metadata": {},
   "outputs": [
    {
     "name": "stdout",
     "output_type": "stream",
     "text": [
      "sigo: [6, 16, 69, 128, 133, 148, 257, 273, 301, 377]\n",
      "lsgo: [6, 16, 69, 148, 257, 301, 377]\n",
      "jbr: [6, 16, 69, 133, 148, 257, 273, 377]\n"
     ]
    }
   ],
   "source": [
    "sigo_reach_list = sigo_df[sigo_df['recv_id'] == sigo_df['destination_id']]['destination_id'].value_counts().index.tolist()\n",
    "lsgo_reach_list = lsgo_df[lsgo_df['recv_id'] == lsgo_df['destination_id']]['destination_id'].value_counts().index.tolist()\n",
    "jbr_reach_list = jbr_df[jbr_df['recv_id'] == jbr_df['destination_id']]['destination_id'].value_counts().index.tolist()\n",
    "sigo_reach_list.sort()\n",
    "lsgo_reach_list.sort()\n",
    "jbr_reach_list.sort()\n",
    "\n",
    "print('sigo:',sigo_reach_list)\n",
    "print('lsgo:',lsgo_reach_list)\n",
    "print('jbr:',jbr_reach_list)"
   ]
  },
  {
   "cell_type": "markdown",
   "metadata": {},
   "source": [
    "# 平均delayを返すメソッド"
   ]
  },
  {
   "cell_type": "code",
   "execution_count": 33,
   "metadata": {},
   "outputs": [],
   "source": [
    "def packet_delay(path, spefic=0): #spefic 0 or id   0の時平均を返す idのときそのdestination id のdelayを返す\n",
    "    delay_list = []\n",
    "    #csvファイルの取得\n",
    "    path_df = pd.read_csv(path)\n",
    "    #目的地に届いたidだけをlistに保存\n",
    "    reach_list = path_df[path_df['recv_id'] == path_df['destination_id']]['destination_id'].value_counts().index.tolist()\n",
    "    if(spefic == 0):\n",
    "        #reach_listを回す\n",
    "        for reach_id in reach_list:\n",
    "            source_time = path_df[path_df['destination_id'] == reach_id]['time']\n",
    "            recv_time = path_df[(path_df['destination_id'] == reach_id) & (path_df['destination_id'] == path_df['recv_id'])]['time']\n",
    "            delay = int(recv_time.head(1).iloc[-1]) - int(source_time.head(1).iloc[-1])\n",
    "            delay = delay / 100000\n",
    "        #         print('desID:', reach_id, 'delay:',delay)\n",
    "            delay_list.append(delay)\n",
    "        delay_mean = np.mean(delay_list)\n",
    "        return delay_mean\n",
    "    else:\n",
    "        source_time = path_df[path_df['destination_id'] == spefic]['time']\n",
    "        recv_time = path_df[(path_df['destination_id'] == spefic) & (path_df['destination_id'] == path_df['recv_id'])]['time']\n",
    "        delay = int(recv_time.head(1).iloc[-1]) - int(source_time.head(1).iloc[-1])\n",
    "        delay = delay / 100000\n",
    "        return delay"
   ]
  },
  {
   "cell_type": "code",
   "execution_count": 34,
   "metadata": {},
   "outputs": [
    {
     "data": {
      "text/plain": [
       "0.261522"
      ]
     },
     "execution_count": 34,
     "metadata": {},
     "output_type": "execute_result"
    }
   ],
   "source": [
    "packet_delay(sigo_path)"
   ]
  },
  {
   "cell_type": "code",
   "execution_count": 35,
   "metadata": {},
   "outputs": [
    {
     "data": {
      "text/plain": [
       "0.29981"
      ]
     },
     "execution_count": 35,
     "metadata": {},
     "output_type": "execute_result"
    }
   ],
   "source": [
    "packet_delay(lsgo_path)"
   ]
  },
  {
   "cell_type": "code",
   "execution_count": 36,
   "metadata": {},
   "outputs": [
    {
     "data": {
      "text/plain": [
       "0.3223375"
      ]
     },
     "execution_count": 36,
     "metadata": {},
     "output_type": "execute_result"
    }
   ],
   "source": [
    "packet_delay(jbr_path)"
   ]
  },
  {
   "cell_type": "markdown",
   "metadata": {},
   "source": [
    "# 軌跡描画"
   ]
  },
  {
   "cell_type": "code",
   "execution_count": 37,
   "metadata": {},
   "outputs": [],
   "source": [
    "def draw_source_area(log, img_area):\n",
    "    cv2.rectangle(img_area, (log.source_x - 15, log.source_y - 15), (log.source_x + 15, log.source_y + 15), (255, 255, 0),thickness=8)\n",
    "    cv2.rectangle(img_area, (log.destination_x - 15, log.destination_y - 15), (log.destination_x + 15, log.destination_y + 15), (255, 255, 0),thickness=8)\n",
    "    #source nodeを視覚で囲む\n",
    "    cv2.rectangle(img_area, (log.source_x - 15, log.source_y - 15), (log.source_x + 15, log.source_y + 15), (255, 255, 0),thickness=8)\n",
    "\n",
    "    #方眼\n",
    "    plt.figure(figsize=(10, 10))\n",
    "    print('グラフサイズ')\n",
    "    plt.grid(color='w', linestyle='dotted', linewidth=1.0)\n",
    "    plt.xlim([0, 1000])\n",
    "    plt.xticks([1000,800,600,400,200, 0]) \n",
    "    plt.ylim([0, 1000])\n",
    "    plt.yticks([1000,800,600,400,200, 0])  #メモリの間隔を指定 \n",
    "    print('source_area 描画', log.source_x)\n",
    "\n",
    "# パケットの軌跡を描画\n",
    "def draw(log,count,img_area,protocol,text):\n",
    "    recover_line_color = (255, 0, 0)\n",
    "    if protocol == 'sigo':\n",
    "        line_color = (0, 255, 0)\n",
    "        thick = 7\n",
    "        des_thick = 8\n",
    "    elif protocol == 'lsgo':\n",
    "        line_color = (255, 0, 0)\n",
    "        thick = 2\n",
    "        des_thick = 2\n",
    "    elif protocol == 'jbr':\n",
    "        line_color = (0, 255, 255)\n",
    "        thick = 6\n",
    "        des_thick = 2\n",
    "    else:\n",
    "        line_color = (255, 0, 0)\n",
    "        thick = 2\n",
    "        des_thick = 2\n",
    "        \n",
    "    if(protocol != 'sigo' and protocol != 'lsgo'):  #recovery routing だった場合\n",
    "        if(log.pri_recover == 1):\n",
    "            cv2.arrowedLine(img_area,(log.source_x, log.source_y), \n",
    "                                (log.recv_x, log.recv_y), recover_line_color, thickness=thick, tipLength=0.3)\n",
    "            cv2.circle(img=img_area, center=(log.source_x,\n",
    "                                   log.source_y), radius=5, color=(255,0,0), thickness=-1)\n",
    "            cv2.circle(img=img_area, center=(log.recv_x,\n",
    "                                   log.recv_y), radius=5, color=(255,0,0), thickness=-1)\n",
    "        else:\n",
    "            cv2.arrowedLine(img_area,(log.source_x, log.source_y), \n",
    "                                (log.recv_x, log.recv_y), line_color, thickness=thick, tipLength=0.1)\n",
    "            cv2.circle(img=img_area, center=(log.source_x,\n",
    "                                   log.source_y), radius=5, color=(255,0,0), thickness=-1)\n",
    "            cv2.circle(img=img_area, center=(log.recv_x,\n",
    "                                   log.recv_y), radius=5, color=(255,0,0), thickness=-1)\n",
    "    \n",
    "    else: # normal routing sigo or lsgo\n",
    "        cv2.arrowedLine(img_area,(log.source_x, log.source_y), \n",
    "                            (log.recv_x, log.recv_y), line_color, thickness=thick, tipLength=0.1)\n",
    "        cv2.circle(img=img_area, center=(log.source_x,\n",
    "                               log.source_y), radius=5, color=(255,0,0), thickness=-1)\n",
    "        cv2.circle(img=img_area, center=(log.recv_x,\n",
    "                               log.recv_y), radius=5, color=(255,0,0), thickness=-1)\n",
    "        \n",
    "    \n",
    "    \n",
    "    #受け取ったのが宛先だったならば\n",
    "    if log.recv_id == log.destination_id:\n",
    "        cv2.drawMarker(img_area, (log.recv_x, log.recv_y), line_color, thickness=des_thick, markerType=cv2.MARKER_TILTED_CROSS, markerSize=25)\n",
    "    if text == 'あり':    \n",
    "        cv2.putText(img_area, str(log.source_id), (log.source_x + 10,log.source_y +10 ), cv2.FONT_HERSHEY_SIMPLEX, 0.7, (255, 255, 255), thickness=2)\n",
    "        cv2.putText(img_area, str(log.recv_id), (log.recv_x + 10,log.recv_y +10 ), cv2.FONT_HERSHEY_SIMPLEX, 0.7, (255, 255, 255), thickness=2)"
   ]
  },
  {
   "cell_type": "code",
   "execution_count": 38,
   "metadata": {
    "scrolled": false
   },
   "outputs": [
    {
     "name": "stdout",
     "output_type": "stream",
     "text": [
      "sigo: [6, 16, 69, 128, 133, 148, 257, 273, 301, 377] PDR: 1.0\n",
      "lsgo: [6, 16, 69, 148, 257, 301, 377] PDR: 0.7\n",
      "jbr: [6, 16, 69, 133, 148, 257, 273, 377] PDR: 0.8\n",
      "sigo delay: 0.261522\n",
      "lsgo delay: 0.29981\n",
      "jbr delay: 0.3223375\n"
     ]
    },
    {
     "data": {
      "application/vnd.jupyter.widget-view+json": {
       "model_id": "cb9769c3ae0745b58e0eeb55b2ceeb8e",
       "version_major": 2,
       "version_minor": 0
      },
      "text/plain": [
       "interactive(children=(Dropdown(description='protocol', options=('both', 'lsgo', 'sigo', 'jbr'), value='both'),…"
      ]
     },
     "metadata": {},
     "output_type": "display_data"
    }
   ],
   "source": [
    "img_area = np.zeros(shape=(1000,1000, 3), dtype=np.int16)\n",
    "protocol_list = [\"both\",\"lsgo\", \"sigo\", \"jbr\"]\n",
    "text_list = [\"なし\", \"あり\"]\n",
    "print('sigo:',sigo_reach_list,'PDR:',len(sigo_reach_list)/len(sigo_df['destination_id'].value_counts().index.tolist()))\n",
    "print('lsgo:',lsgo_reach_list,'PDR:',len(lsgo_reach_list)/len(lsgo_df['destination_id'].value_counts().index.tolist()))\n",
    "print('jbr:',jbr_reach_list,'PDR:',len(jbr_reach_list)/len(jbr_df['destination_id'].value_counts().index.tolist()))\n",
    "print('sigo delay:', packet_delay(sigo_path))\n",
    "print('lsgo delay:', packet_delay(lsgo_path))\n",
    "print('jbr delay:', packet_delay(jbr_path))\n",
    "\n",
    "#packetの軌跡を描画 \n",
    "@interact(minHop=(0,19,1), maxHop=(1,21, 1), desId=dest_list, protocol = protocol_list, text = text_list)\n",
    "def packetDraw(protocol, desId, minHop=0, maxHop = 21, text = \"なし\"):\n",
    "    \n",
    "    img_area = np.zeros(shape=(2100,2100, 3), dtype=np.int16)\n",
    "    count = 1\n",
    "    if protocol == 'sigo':     \n",
    "        for log in sigo_df[sigo_df['destination_id'] == desId].itertuples():\n",
    "            if count == 1:\n",
    "                draw_source_area(log, img_area)\n",
    "                count = count +1\n",
    "            if log.hopcount >= minHop and log.hopcount <= maxHop:\n",
    "                draw(log,count,img_area,protocol,text)\n",
    "                \n",
    "        plt.imshow(img_area)\n",
    "    elif protocol == 'lsgo':\n",
    "        \n",
    "        for log in lsgo_df[lsgo_df['destination_id'] == desId].itertuples():\n",
    "            if count == 1:\n",
    "                draw_source_area(log, img_area)\n",
    "                count = count +1\n",
    "                \n",
    "            if log.hopcount >= minHop and log.hopcount <= maxHop:\n",
    "                draw(log,count,img_area,protocol,text)\n",
    " \n",
    "        plt.imshow(img_area)\n",
    "    \n",
    "    elif protocol == 'jbr':\n",
    "        \n",
    "        for log in jbr_df[jbr_df['destination_id'] == desId].itertuples():\n",
    "            if count == 1:\n",
    "                draw_source_area(log, img_area)\n",
    "                count = count +1\n",
    "                \n",
    "            if log.hopcount >= minHop and log.hopcount <= maxHop:\n",
    "                draw(log,count,img_area,protocol,text)\n",
    " \n",
    "        plt.imshow(img_area)\n",
    "    \n",
    "    else:\n",
    "        if(desId in sigo_reach_list):\n",
    "            print('sigo packet delay id', desId, 'delay', packet_delay(sigo_path, desId))\n",
    "        if(desId in lsgo_reach_list):\n",
    "            print('lsgo packet delay id', desId, 'delay', packet_delay(lsgo_path, desId))\n",
    "        if(desId in jbr_reach_list):\n",
    "            print('jbr packet delay id', desId, 'delay', packet_delay(jbr_path, desId))\n",
    "        \n",
    "        for log in sigo_df[sigo_df['destination_id'] == desId].itertuples():\n",
    "            if count == 1:\n",
    "                draw_source_area(log, img_area)\n",
    "                count = count +1\n",
    "                \n",
    "            if log.hopcount >= minHop and log.hopcount <= maxHop:\n",
    "                draw(log,count,img_area,'sigo',text)\n",
    "                \n",
    "        for log in lsgo_df[lsgo_df['destination_id'] == desId].itertuples():\n",
    "            if log.hopcount >= minHop and log.hopcount <= maxHop:\n",
    "                draw(log,count,img_area,'lsgo',text)\n",
    "        plt.imshow(img_area)"
   ]
  },
  {
   "cell_type": "markdown",
   "metadata": {},
   "source": [
    "210 344"
   ]
  },
  {
   "cell_type": "code",
   "execution_count": 39,
   "metadata": {},
   "outputs": [],
   "source": [
    "def output_df(hopcount, des_id):\n",
    "    print('lsgo')\n",
    "    display(lsgo_df[(lsgo_df['hopcount'] == hopcount) & (lsgo_df['destination_id'] == des_id)])\n",
    "    print('sigo')\n",
    "    display(sigo_df[(sigo_df['hopcount'] == hopcount) & (sigo_df['destination_id'] == des_id)])"
   ]
  },
  {
   "cell_type": "code",
   "execution_count": 314,
   "metadata": {},
   "outputs": [
    {
     "data": {
      "application/vnd.jupyter.widget-view+json": {
       "model_id": "e070a067c9394e84a104ac07762d3a0b",
       "version_major": 2,
       "version_minor": 0
      },
      "text/plain": [
       "interactive(children=(IntSlider(value=10, description='hopcount', max=21), Dropdown(description='des_id', opti…"
      ]
     },
     "metadata": {},
     "output_type": "display_data"
    }
   ],
   "source": [
    "@interact(hopcount=(0,21,1), des_id = dest_list)\n",
    "def df_run(hopcount, des_id):\n",
    "    output_df(hopcount, des_id)"
   ]
  },
  {
   "cell_type": "code",
   "execution_count": null,
   "metadata": {},
   "outputs": [],
   "source": []
  },
  {
   "cell_type": "code",
   "execution_count": null,
   "metadata": {},
   "outputs": [],
   "source": []
  }
 ],
 "metadata": {
  "kernelspec": {
   "display_name": "Python 3",
   "language": "python",
   "name": "python3"
  },
  "language_info": {
   "codemirror_mode": {
    "name": "ipython",
    "version": 3
   },
   "file_extension": ".py",
   "mimetype": "text/x-python",
   "name": "python",
   "nbconvert_exporter": "python",
   "pygments_lexer": "ipython3",
   "version": "3.8.5"
  }
 },
 "nbformat": 4,
 "nbformat_minor": 4
}
