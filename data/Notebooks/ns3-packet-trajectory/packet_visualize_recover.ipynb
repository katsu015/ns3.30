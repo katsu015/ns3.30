{
 "cells": [
  {
   "cell_type": "code",
   "execution_count": 174,
   "metadata": {},
   "outputs": [],
   "source": [
    "import pandas as pd\n",
    "import cv2\n",
    "import numpy as np\n",
    "import matplotlib.pyplot as plt\n",
    "#jupyter内で画像を表示\n",
    "%matplotlib inline \n",
    "#別ウィンドウで画像表示\n",
    "# %matplotlib qt \n",
    "import csv\n",
    "import json\n",
    "from ipywidgets import interact, interactive, fixed, RadioButtons\n",
    "import ipywidgets as widgets\n",
    "from IPython.display import display\n",
    "import pathlib\n",
    "seed = '10003'\n",
    "node_num = '300'\n",
    "shadow = 'shadow10_2'\n",
    "sigo_path = pathlib.Path('../../get_data/recover_test2/' + shadow + '/sigo/sigo-seed_' +seed +'nodenum_' +node_num+'.csv')\n",
    "lsgo_path = pathlib.Path('../../get_data/recover_test2/' + shadow + '/lsgo/lsgo-seed_' +seed +'nodenum_' +node_num+'.csv')\n",
    "jbr_path = pathlib.Path('../../get_data/recover_test2/' + shadow + '/jbr/sigo-seed_' +seed +'nodenum_' +node_num+'.csv')\n",
    "\n",
    "# sigo_path = pathlib.Path('../../ns3.30/data/no_buildings/sigo/sigo-seed_' +seed +'nodenum_' +node_num+'.csv')\n",
    "# lsgo_path = pathlib.Path('../../ns3.30/data/no_buildings/lsgo/lsgo-seed_' +seed +'nodenum_' +node_num+'.csv')"
   ]
  },
  {
   "cell_type": "markdown",
   "metadata": {},
   "source": [
    "# csvファイルの取得\n",
    "pandasを利用：https://note.nkmk.me/python-pandas-value-counts/"
   ]
  },
  {
   "cell_type": "code",
   "execution_count": 175,
   "metadata": {},
   "outputs": [],
   "source": [
    "sigo_df = pd.read_csv(sigo_path)\n",
    "lsgo_df = pd.read_csv(lsgo_path)\n",
    "jbr_df = pd.read_csv(jbr_path)"
   ]
  },
  {
   "cell_type": "code",
   "execution_count": 176,
   "metadata": {},
   "outputs": [
    {
     "data": {
      "text/html": [
       "<div>\n",
       "<style scoped>\n",
       "    .dataframe tbody tr th:only-of-type {\n",
       "        vertical-align: middle;\n",
       "    }\n",
       "\n",
       "    .dataframe tbody tr th {\n",
       "        vertical-align: top;\n",
       "    }\n",
       "\n",
       "    .dataframe thead th {\n",
       "        text-align: right;\n",
       "    }\n",
       "</style>\n",
       "<table border=\"1\" class=\"dataframe\">\n",
       "  <thead>\n",
       "    <tr style=\"text-align: right;\">\n",
       "      <th></th>\n",
       "      <th>source_x</th>\n",
       "      <th>source_y</th>\n",
       "      <th>recv_x</th>\n",
       "      <th>recv_y</th>\n",
       "      <th>time</th>\n",
       "      <th>recv_priority</th>\n",
       "      <th>hopcount</th>\n",
       "      <th>recv_id</th>\n",
       "      <th>source_id</th>\n",
       "      <th>destination_id</th>\n",
       "      <th>destination_x</th>\n",
       "      <th>destination_y</th>\n",
       "      <th>pri_1</th>\n",
       "      <th>pri_2</th>\n",
       "      <th>pri_3</th>\n",
       "      <th>pri_4</th>\n",
       "      <th>pri_5</th>\n",
       "    </tr>\n",
       "  </thead>\n",
       "  <tbody>\n",
       "    <tr>\n",
       "      <th>0</th>\n",
       "      <td>-1</td>\n",
       "      <td>115</td>\n",
       "      <td>-1</td>\n",
       "      <td>151</td>\n",
       "      <td>10300200</td>\n",
       "      <td>5</td>\n",
       "      <td>1</td>\n",
       "      <td>159</td>\n",
       "      <td>29</td>\n",
       "      <td>167</td>\n",
       "      <td>565</td>\n",
       "      <td>601</td>\n",
       "      <td>32</td>\n",
       "      <td>170</td>\n",
       "      <td>207</td>\n",
       "      <td>197</td>\n",
       "      <td>159</td>\n",
       "    </tr>\n",
       "    <tr>\n",
       "      <th>1</th>\n",
       "      <td>-1</td>\n",
       "      <td>115</td>\n",
       "      <td>1</td>\n",
       "      <td>248</td>\n",
       "      <td>10300200</td>\n",
       "      <td>2</td>\n",
       "      <td>1</td>\n",
       "      <td>170</td>\n",
       "      <td>29</td>\n",
       "      <td>167</td>\n",
       "      <td>565</td>\n",
       "      <td>601</td>\n",
       "      <td>32</td>\n",
       "      <td>170</td>\n",
       "      <td>207</td>\n",
       "      <td>197</td>\n",
       "      <td>159</td>\n",
       "    </tr>\n",
       "    <tr>\n",
       "      <th>2</th>\n",
       "      <td>1</td>\n",
       "      <td>248</td>\n",
       "      <td>1</td>\n",
       "      <td>281</td>\n",
       "      <td>10304869</td>\n",
       "      <td>2</td>\n",
       "      <td>2</td>\n",
       "      <td>32</td>\n",
       "      <td>170</td>\n",
       "      <td>167</td>\n",
       "      <td>565</td>\n",
       "      <td>601</td>\n",
       "      <td>168</td>\n",
       "      <td>32</td>\n",
       "      <td>56</td>\n",
       "      <td>64</td>\n",
       "      <td>197</td>\n",
       "    </tr>\n",
       "    <tr>\n",
       "      <th>3</th>\n",
       "      <td>1</td>\n",
       "      <td>248</td>\n",
       "      <td>-1</td>\n",
       "      <td>317</td>\n",
       "      <td>10304869</td>\n",
       "      <td>4</td>\n",
       "      <td>2</td>\n",
       "      <td>64</td>\n",
       "      <td>170</td>\n",
       "      <td>167</td>\n",
       "      <td>565</td>\n",
       "      <td>601</td>\n",
       "      <td>168</td>\n",
       "      <td>32</td>\n",
       "      <td>56</td>\n",
       "      <td>64</td>\n",
       "      <td>197</td>\n",
       "    </tr>\n",
       "    <tr>\n",
       "      <th>4</th>\n",
       "      <td>1</td>\n",
       "      <td>248</td>\n",
       "      <td>-1</td>\n",
       "      <td>358</td>\n",
       "      <td>10304869</td>\n",
       "      <td>1</td>\n",
       "      <td>2</td>\n",
       "      <td>168</td>\n",
       "      <td>170</td>\n",
       "      <td>167</td>\n",
       "      <td>565</td>\n",
       "      <td>601</td>\n",
       "      <td>168</td>\n",
       "      <td>32</td>\n",
       "      <td>56</td>\n",
       "      <td>64</td>\n",
       "      <td>197</td>\n",
       "    </tr>\n",
       "    <tr>\n",
       "      <th>...</th>\n",
       "      <td>...</td>\n",
       "      <td>...</td>\n",
       "      <td>...</td>\n",
       "      <td>...</td>\n",
       "      <td>...</td>\n",
       "      <td>...</td>\n",
       "      <td>...</td>\n",
       "      <td>...</td>\n",
       "      <td>...</td>\n",
       "      <td>...</td>\n",
       "      <td>...</td>\n",
       "      <td>...</td>\n",
       "      <td>...</td>\n",
       "      <td>...</td>\n",
       "      <td>...</td>\n",
       "      <td>...</td>\n",
       "      <td>...</td>\n",
       "    </tr>\n",
       "    <tr>\n",
       "      <th>247</th>\n",
       "      <td>753</td>\n",
       "      <td>598</td>\n",
       "      <td>810</td>\n",
       "      <td>601</td>\n",
       "      <td>19328885</td>\n",
       "      <td>2</td>\n",
       "      <td>8</td>\n",
       "      <td>70</td>\n",
       "      <td>122</td>\n",
       "      <td>238</td>\n",
       "      <td>801</td>\n",
       "      <td>700</td>\n",
       "      <td>37</td>\n",
       "      <td>70</td>\n",
       "      <td>84</td>\n",
       "      <td>183</td>\n",
       "      <td>10000000</td>\n",
       "    </tr>\n",
       "    <tr>\n",
       "      <th>248</th>\n",
       "      <td>753</td>\n",
       "      <td>598</td>\n",
       "      <td>829</td>\n",
       "      <td>601</td>\n",
       "      <td>19328885</td>\n",
       "      <td>4</td>\n",
       "      <td>8</td>\n",
       "      <td>183</td>\n",
       "      <td>122</td>\n",
       "      <td>238</td>\n",
       "      <td>801</td>\n",
       "      <td>700</td>\n",
       "      <td>37</td>\n",
       "      <td>70</td>\n",
       "      <td>84</td>\n",
       "      <td>183</td>\n",
       "      <td>10000000</td>\n",
       "    </tr>\n",
       "    <tr>\n",
       "      <th>249</th>\n",
       "      <td>798</td>\n",
       "      <td>613</td>\n",
       "      <td>798</td>\n",
       "      <td>653</td>\n",
       "      <td>19329554</td>\n",
       "      <td>2</td>\n",
       "      <td>9</td>\n",
       "      <td>165</td>\n",
       "      <td>37</td>\n",
       "      <td>238</td>\n",
       "      <td>801</td>\n",
       "      <td>700</td>\n",
       "      <td>238</td>\n",
       "      <td>165</td>\n",
       "      <td>125</td>\n",
       "      <td>10000000</td>\n",
       "      <td>10000000</td>\n",
       "    </tr>\n",
       "    <tr>\n",
       "      <th>250</th>\n",
       "      <td>798</td>\n",
       "      <td>613</td>\n",
       "      <td>801</td>\n",
       "      <td>759</td>\n",
       "      <td>19329555</td>\n",
       "      <td>3</td>\n",
       "      <td>9</td>\n",
       "      <td>125</td>\n",
       "      <td>37</td>\n",
       "      <td>238</td>\n",
       "      <td>801</td>\n",
       "      <td>700</td>\n",
       "      <td>238</td>\n",
       "      <td>165</td>\n",
       "      <td>125</td>\n",
       "      <td>10000000</td>\n",
       "      <td>10000000</td>\n",
       "    </tr>\n",
       "    <tr>\n",
       "      <th>251</th>\n",
       "      <td>798</td>\n",
       "      <td>653</td>\n",
       "      <td>801</td>\n",
       "      <td>717</td>\n",
       "      <td>19334224</td>\n",
       "      <td>238</td>\n",
       "      <td>10</td>\n",
       "      <td>238</td>\n",
       "      <td>165</td>\n",
       "      <td>238</td>\n",
       "      <td>801</td>\n",
       "      <td>700</td>\n",
       "      <td>238</td>\n",
       "      <td>10000000</td>\n",
       "      <td>10000000</td>\n",
       "      <td>10000000</td>\n",
       "      <td>10000000</td>\n",
       "    </tr>\n",
       "  </tbody>\n",
       "</table>\n",
       "<p>252 rows × 17 columns</p>\n",
       "</div>"
      ],
      "text/plain": [
       "     source_x  source_y  recv_x  recv_y      time  recv_priority  hopcount  \\\n",
       "0          -1       115      -1     151  10300200              5         1   \n",
       "1          -1       115       1     248  10300200              2         1   \n",
       "2           1       248       1     281  10304869              2         2   \n",
       "3           1       248      -1     317  10304869              4         2   \n",
       "4           1       248      -1     358  10304869              1         2   \n",
       "..        ...       ...     ...     ...       ...            ...       ...   \n",
       "247       753       598     810     601  19328885              2         8   \n",
       "248       753       598     829     601  19328885              4         8   \n",
       "249       798       613     798     653  19329554              2         9   \n",
       "250       798       613     801     759  19329555              3         9   \n",
       "251       798       653     801     717  19334224            238        10   \n",
       "\n",
       "     recv_id  source_id  destination_id  destination_x  destination_y  pri_1  \\\n",
       "0        159         29             167            565            601     32   \n",
       "1        170         29             167            565            601     32   \n",
       "2         32        170             167            565            601    168   \n",
       "3         64        170             167            565            601    168   \n",
       "4        168        170             167            565            601    168   \n",
       "..       ...        ...             ...            ...            ...    ...   \n",
       "247       70        122             238            801            700     37   \n",
       "248      183        122             238            801            700     37   \n",
       "249      165         37             238            801            700    238   \n",
       "250      125         37             238            801            700    238   \n",
       "251      238        165             238            801            700    238   \n",
       "\n",
       "        pri_2     pri_3     pri_4     pri_5  \n",
       "0         170       207       197       159  \n",
       "1         170       207       197       159  \n",
       "2          32        56        64       197  \n",
       "3          32        56        64       197  \n",
       "4          32        56        64       197  \n",
       "..        ...       ...       ...       ...  \n",
       "247        70        84       183  10000000  \n",
       "248        70        84       183  10000000  \n",
       "249       165       125  10000000  10000000  \n",
       "250       165       125  10000000  10000000  \n",
       "251  10000000  10000000  10000000  10000000  \n",
       "\n",
       "[252 rows x 17 columns]"
      ]
     },
     "execution_count": 176,
     "metadata": {},
     "output_type": "execute_result"
    }
   ],
   "source": [
    "sigo_df"
   ]
  },
  {
   "cell_type": "code",
   "execution_count": 177,
   "metadata": {},
   "outputs": [
    {
     "data": {
      "text/html": [
       "<div>\n",
       "<style scoped>\n",
       "    .dataframe tbody tr th:only-of-type {\n",
       "        vertical-align: middle;\n",
       "    }\n",
       "\n",
       "    .dataframe tbody tr th {\n",
       "        vertical-align: top;\n",
       "    }\n",
       "\n",
       "    .dataframe thead th {\n",
       "        text-align: right;\n",
       "    }\n",
       "</style>\n",
       "<table border=\"1\" class=\"dataframe\">\n",
       "  <thead>\n",
       "    <tr style=\"text-align: right;\">\n",
       "      <th></th>\n",
       "      <th>source_x</th>\n",
       "      <th>source_y</th>\n",
       "      <th>recv_x</th>\n",
       "      <th>recv_y</th>\n",
       "      <th>time</th>\n",
       "      <th>recv_priority</th>\n",
       "      <th>hopcount</th>\n",
       "      <th>recv_id</th>\n",
       "      <th>source_id</th>\n",
       "      <th>destination_id</th>\n",
       "      <th>destination_x</th>\n",
       "      <th>destination_y</th>\n",
       "      <th>pri_1</th>\n",
       "      <th>pri_2</th>\n",
       "      <th>pri_3</th>\n",
       "      <th>pri_4</th>\n",
       "      <th>pri_5</th>\n",
       "      <th>pri_recover</th>\n",
       "    </tr>\n",
       "  </thead>\n",
       "  <tbody>\n",
       "    <tr>\n",
       "      <th>0</th>\n",
       "      <td>-1</td>\n",
       "      <td>115</td>\n",
       "      <td>-1</td>\n",
       "      <td>151</td>\n",
       "      <td>10300200</td>\n",
       "      <td>5</td>\n",
       "      <td>1</td>\n",
       "      <td>159</td>\n",
       "      <td>29</td>\n",
       "      <td>167</td>\n",
       "      <td>565</td>\n",
       "      <td>601</td>\n",
       "      <td>32</td>\n",
       "      <td>170</td>\n",
       "      <td>207</td>\n",
       "      <td>197</td>\n",
       "      <td>159</td>\n",
       "      <td>0</td>\n",
       "    </tr>\n",
       "    <tr>\n",
       "      <th>1</th>\n",
       "      <td>-1</td>\n",
       "      <td>115</td>\n",
       "      <td>1</td>\n",
       "      <td>248</td>\n",
       "      <td>10300200</td>\n",
       "      <td>2</td>\n",
       "      <td>1</td>\n",
       "      <td>170</td>\n",
       "      <td>29</td>\n",
       "      <td>167</td>\n",
       "      <td>565</td>\n",
       "      <td>601</td>\n",
       "      <td>32</td>\n",
       "      <td>170</td>\n",
       "      <td>207</td>\n",
       "      <td>197</td>\n",
       "      <td>159</td>\n",
       "      <td>0</td>\n",
       "    </tr>\n",
       "    <tr>\n",
       "      <th>2</th>\n",
       "      <td>1</td>\n",
       "      <td>248</td>\n",
       "      <td>1</td>\n",
       "      <td>281</td>\n",
       "      <td>10304869</td>\n",
       "      <td>2</td>\n",
       "      <td>2</td>\n",
       "      <td>32</td>\n",
       "      <td>170</td>\n",
       "      <td>167</td>\n",
       "      <td>565</td>\n",
       "      <td>601</td>\n",
       "      <td>168</td>\n",
       "      <td>32</td>\n",
       "      <td>56</td>\n",
       "      <td>64</td>\n",
       "      <td>197</td>\n",
       "      <td>0</td>\n",
       "    </tr>\n",
       "    <tr>\n",
       "      <th>3</th>\n",
       "      <td>1</td>\n",
       "      <td>248</td>\n",
       "      <td>-1</td>\n",
       "      <td>317</td>\n",
       "      <td>10304869</td>\n",
       "      <td>4</td>\n",
       "      <td>2</td>\n",
       "      <td>64</td>\n",
       "      <td>170</td>\n",
       "      <td>167</td>\n",
       "      <td>565</td>\n",
       "      <td>601</td>\n",
       "      <td>168</td>\n",
       "      <td>32</td>\n",
       "      <td>56</td>\n",
       "      <td>64</td>\n",
       "      <td>197</td>\n",
       "      <td>0</td>\n",
       "    </tr>\n",
       "    <tr>\n",
       "      <th>4</th>\n",
       "      <td>1</td>\n",
       "      <td>248</td>\n",
       "      <td>-1</td>\n",
       "      <td>358</td>\n",
       "      <td>10304869</td>\n",
       "      <td>1</td>\n",
       "      <td>2</td>\n",
       "      <td>168</td>\n",
       "      <td>170</td>\n",
       "      <td>167</td>\n",
       "      <td>565</td>\n",
       "      <td>601</td>\n",
       "      <td>168</td>\n",
       "      <td>32</td>\n",
       "      <td>56</td>\n",
       "      <td>64</td>\n",
       "      <td>197</td>\n",
       "      <td>0</td>\n",
       "    </tr>\n",
       "    <tr>\n",
       "      <th>...</th>\n",
       "      <td>...</td>\n",
       "      <td>...</td>\n",
       "      <td>...</td>\n",
       "      <td>...</td>\n",
       "      <td>...</td>\n",
       "      <td>...</td>\n",
       "      <td>...</td>\n",
       "      <td>...</td>\n",
       "      <td>...</td>\n",
       "      <td>...</td>\n",
       "      <td>...</td>\n",
       "      <td>...</td>\n",
       "      <td>...</td>\n",
       "      <td>...</td>\n",
       "      <td>...</td>\n",
       "      <td>...</td>\n",
       "      <td>...</td>\n",
       "      <td>...</td>\n",
       "    </tr>\n",
       "    <tr>\n",
       "      <th>251</th>\n",
       "      <td>798</td>\n",
       "      <td>454</td>\n",
       "      <td>791</td>\n",
       "      <td>598</td>\n",
       "      <td>19312216</td>\n",
       "      <td>2</td>\n",
       "      <td>7</td>\n",
       "      <td>84</td>\n",
       "      <td>140</td>\n",
       "      <td>238</td>\n",
       "      <td>801</td>\n",
       "      <td>700</td>\n",
       "      <td>165</td>\n",
       "      <td>84</td>\n",
       "      <td>37</td>\n",
       "      <td>238</td>\n",
       "      <td>273</td>\n",
       "      <td>0</td>\n",
       "    </tr>\n",
       "    <tr>\n",
       "      <th>252</th>\n",
       "      <td>753</td>\n",
       "      <td>598</td>\n",
       "      <td>791</td>\n",
       "      <td>598</td>\n",
       "      <td>19312885</td>\n",
       "      <td>3</td>\n",
       "      <td>8</td>\n",
       "      <td>84</td>\n",
       "      <td>122</td>\n",
       "      <td>238</td>\n",
       "      <td>801</td>\n",
       "      <td>700</td>\n",
       "      <td>37</td>\n",
       "      <td>70</td>\n",
       "      <td>84</td>\n",
       "      <td>183</td>\n",
       "      <td>10000000</td>\n",
       "      <td>0</td>\n",
       "    </tr>\n",
       "    <tr>\n",
       "      <th>253</th>\n",
       "      <td>753</td>\n",
       "      <td>598</td>\n",
       "      <td>798</td>\n",
       "      <td>614</td>\n",
       "      <td>19312885</td>\n",
       "      <td>1</td>\n",
       "      <td>8</td>\n",
       "      <td>37</td>\n",
       "      <td>122</td>\n",
       "      <td>238</td>\n",
       "      <td>801</td>\n",
       "      <td>700</td>\n",
       "      <td>37</td>\n",
       "      <td>70</td>\n",
       "      <td>84</td>\n",
       "      <td>183</td>\n",
       "      <td>10000000</td>\n",
       "      <td>0</td>\n",
       "    </tr>\n",
       "    <tr>\n",
       "      <th>254</th>\n",
       "      <td>753</td>\n",
       "      <td>598</td>\n",
       "      <td>810</td>\n",
       "      <td>601</td>\n",
       "      <td>19312885</td>\n",
       "      <td>2</td>\n",
       "      <td>8</td>\n",
       "      <td>70</td>\n",
       "      <td>122</td>\n",
       "      <td>238</td>\n",
       "      <td>801</td>\n",
       "      <td>700</td>\n",
       "      <td>37</td>\n",
       "      <td>70</td>\n",
       "      <td>84</td>\n",
       "      <td>183</td>\n",
       "      <td>10000000</td>\n",
       "      <td>0</td>\n",
       "    </tr>\n",
       "    <tr>\n",
       "      <th>255</th>\n",
       "      <td>753</td>\n",
       "      <td>598</td>\n",
       "      <td>830</td>\n",
       "      <td>601</td>\n",
       "      <td>19312885</td>\n",
       "      <td>4</td>\n",
       "      <td>8</td>\n",
       "      <td>183</td>\n",
       "      <td>122</td>\n",
       "      <td>238</td>\n",
       "      <td>801</td>\n",
       "      <td>700</td>\n",
       "      <td>37</td>\n",
       "      <td>70</td>\n",
       "      <td>84</td>\n",
       "      <td>183</td>\n",
       "      <td>10000000</td>\n",
       "      <td>0</td>\n",
       "    </tr>\n",
       "  </tbody>\n",
       "</table>\n",
       "<p>256 rows × 18 columns</p>\n",
       "</div>"
      ],
      "text/plain": [
       "     source_x  source_y  recv_x  recv_y      time  recv_priority  hopcount  \\\n",
       "0          -1       115      -1     151  10300200              5         1   \n",
       "1          -1       115       1     248  10300200              2         1   \n",
       "2           1       248       1     281  10304869              2         2   \n",
       "3           1       248      -1     317  10304869              4         2   \n",
       "4           1       248      -1     358  10304869              1         2   \n",
       "..        ...       ...     ...     ...       ...            ...       ...   \n",
       "251       798       454     791     598  19312216              2         7   \n",
       "252       753       598     791     598  19312885              3         8   \n",
       "253       753       598     798     614  19312885              1         8   \n",
       "254       753       598     810     601  19312885              2         8   \n",
       "255       753       598     830     601  19312885              4         8   \n",
       "\n",
       "     recv_id  source_id  destination_id  destination_x  destination_y  pri_1  \\\n",
       "0        159         29             167            565            601     32   \n",
       "1        170         29             167            565            601     32   \n",
       "2         32        170             167            565            601    168   \n",
       "3         64        170             167            565            601    168   \n",
       "4        168        170             167            565            601    168   \n",
       "..       ...        ...             ...            ...            ...    ...   \n",
       "251       84        140             238            801            700    165   \n",
       "252       84        122             238            801            700     37   \n",
       "253       37        122             238            801            700     37   \n",
       "254       70        122             238            801            700     37   \n",
       "255      183        122             238            801            700     37   \n",
       "\n",
       "     pri_2  pri_3  pri_4     pri_5  pri_recover  \n",
       "0      170    207    197       159            0  \n",
       "1      170    207    197       159            0  \n",
       "2       32     56     64       197            0  \n",
       "3       32     56     64       197            0  \n",
       "4       32     56     64       197            0  \n",
       "..     ...    ...    ...       ...          ...  \n",
       "251     84     37    238       273            0  \n",
       "252     70     84    183  10000000            0  \n",
       "253     70     84    183  10000000            0  \n",
       "254     70     84    183  10000000            0  \n",
       "255     70     84    183  10000000            0  \n",
       "\n",
       "[256 rows x 18 columns]"
      ]
     },
     "execution_count": 177,
     "metadata": {},
     "output_type": "execute_result"
    }
   ],
   "source": [
    "jbr_df"
   ]
  },
  {
   "cell_type": "code",
   "execution_count": 178,
   "metadata": {},
   "outputs": [
    {
     "name": "stdout",
     "output_type": "stream",
     "text": [
      "..\\..\\get_data\\recover_test2\\shadow10_2\\sigo\\sigo-seed_10003nodenum_300.csv\n",
      "..\\..\\get_data\\recover_test2\\shadow10_2\\lsgo\\lsgo-seed_10003nodenum_300.csv\n",
      "..\\..\\get_data\\recover_test2\\shadow10_2\\jbr\\sigo-seed_10003nodenum_300.csv\n"
     ]
    }
   ],
   "source": [
    "print(sigo_path)\n",
    "print(lsgo_path)\n",
    "print(jbr_path)"
   ]
  },
  {
   "cell_type": "markdown",
   "metadata": {},
   "source": [
    "# recovery packet の多さ"
   ]
  },
  {
   "cell_type": "code",
   "execution_count": 179,
   "metadata": {},
   "outputs": [
    {
     "data": {
      "text/plain": [
       "{0: 254, 1: 2}"
      ]
     },
     "execution_count": 179,
     "metadata": {},
     "output_type": "execute_result"
    }
   ],
   "source": [
    "jbr_df['pri_recover'].value_counts().to_dict()"
   ]
  },
  {
   "cell_type": "markdown",
   "metadata": {},
   "source": [
    "# destination_idごとのパケット数"
   ]
  },
  {
   "cell_type": "code",
   "execution_count": 180,
   "metadata": {},
   "outputs": [
    {
     "data": {
      "text/plain": [
       "{217: 66,\n",
       " 94: 60,\n",
       " 234: 48,\n",
       " 167: 47,\n",
       " 238: 37,\n",
       " 296: 25,\n",
       " 142: 23,\n",
       " 294: 22,\n",
       " 250: 20,\n",
       " 124: 8}"
      ]
     },
     "execution_count": 180,
     "metadata": {},
     "output_type": "execute_result"
    }
   ],
   "source": [
    "lsgo_df['destination_id'].value_counts().to_dict()"
   ]
  },
  {
   "cell_type": "markdown",
   "metadata": {},
   "source": [
    "\n",
    "destination_id を重複なしにリスト保存"
   ]
  },
  {
   "cell_type": "code",
   "execution_count": 181,
   "metadata": {},
   "outputs": [
    {
     "data": {
      "text/plain": [
       "{238: 43,\n",
       " 217: 39,\n",
       " 294: 34,\n",
       " 296: 28,\n",
       " 234: 24,\n",
       " 167: 23,\n",
       " 124: 22,\n",
       " 142: 18,\n",
       " 250: 12,\n",
       " 94: 9}"
      ]
     },
     "execution_count": 181,
     "metadata": {},
     "output_type": "execute_result"
    }
   ],
   "source": [
    "sigo_df['destination_id'].value_counts().to_dict()"
   ]
  },
  {
   "cell_type": "code",
   "execution_count": 182,
   "metadata": {},
   "outputs": [
    {
     "data": {
      "text/plain": [
       "{238: 44,\n",
       " 217: 39,\n",
       " 294: 34,\n",
       " 296: 30,\n",
       " 234: 25,\n",
       " 167: 23,\n",
       " 124: 22,\n",
       " 142: 18,\n",
       " 250: 12,\n",
       " 94: 9}"
      ]
     },
     "execution_count": 182,
     "metadata": {},
     "output_type": "execute_result"
    }
   ],
   "source": [
    "jbr_df['destination_id'].value_counts().to_dict()"
   ]
  },
  {
   "cell_type": "code",
   "execution_count": 183,
   "metadata": {},
   "outputs": [
    {
     "data": {
      "text/plain": [
       "10"
      ]
     },
     "execution_count": 183,
     "metadata": {},
     "output_type": "execute_result"
    }
   ],
   "source": [
    "dest_list =lsgo_df['destination_id'].value_counts().index.tolist()\n",
    "dest_list.sort()\n",
    "len(dest_list)"
   ]
  },
  {
   "cell_type": "code",
   "execution_count": 184,
   "metadata": {},
   "outputs": [
    {
     "data": {
      "text/plain": [
       "10"
      ]
     },
     "execution_count": 184,
     "metadata": {},
     "output_type": "execute_result"
    }
   ],
   "source": [
    "dest_list = sigo_df['destination_id'].value_counts().index.tolist()\n",
    "dest_list.sort()\n",
    "len(dest_list)"
   ]
  },
  {
   "cell_type": "code",
   "execution_count": 185,
   "metadata": {},
   "outputs": [
    {
     "data": {
      "text/plain": [
       "10"
      ]
     },
     "execution_count": 185,
     "metadata": {},
     "output_type": "execute_result"
    }
   ],
   "source": [
    "dest_list = jbr_df['destination_id'].value_counts().index.tolist()\n",
    "dest_list.sort()\n",
    "len(dest_list)"
   ]
  },
  {
   "cell_type": "markdown",
   "metadata": {},
   "source": [
    "sigoとlsgoそれぞれ目的地に届いたidだけをlistに保存"
   ]
  },
  {
   "cell_type": "code",
   "execution_count": 186,
   "metadata": {},
   "outputs": [
    {
     "name": "stdout",
     "output_type": "stream",
     "text": [
      "sigo: [167, 217, 238, 294, 296]\n",
      "lsgo: [94, 167, 217, 238]\n",
      "jbr: [167, 217, 294, 296]\n"
     ]
    }
   ],
   "source": [
    "sigo_reach_list = sigo_df[sigo_df['recv_id'] == sigo_df['destination_id']]['destination_id'].value_counts().index.tolist()\n",
    "lsgo_reach_list = lsgo_df[lsgo_df['recv_id'] == lsgo_df['destination_id']]['destination_id'].value_counts().index.tolist()\n",
    "jbr_reach_list = jbr_df[jbr_df['recv_id'] == jbr_df['destination_id']]['destination_id'].value_counts().index.tolist()\n",
    "sigo_reach_list.sort()\n",
    "lsgo_reach_list.sort()\n",
    "jbr_reach_list.sort()\n",
    "\n",
    "print('sigo:',sigo_reach_list)\n",
    "print('lsgo:',lsgo_reach_list)\n",
    "print('jbr:',jbr_reach_list)"
   ]
  },
  {
   "cell_type": "markdown",
   "metadata": {},
   "source": [
    "# 平均delayを返すメソッド"
   ]
  },
  {
   "cell_type": "code",
   "execution_count": 187,
   "metadata": {},
   "outputs": [],
   "source": [
    "def packet_delay(path, spefic=0): #spefic 0 or id   0の時平均を返す idのときそのdestination id のdelayを返す\n",
    "    delay_list = []\n",
    "    #csvファイルの取得\n",
    "    path_df = pd.read_csv(path)\n",
    "    #目的地に届いたidだけをlistに保存\n",
    "    reach_list = path_df[path_df['recv_id'] == path_df['destination_id']]['destination_id'].value_counts().index.tolist()\n",
    "    if(spefic == 0):\n",
    "        #reach_listを回す\n",
    "        for reach_id in reach_list:\n",
    "            source_time = path_df[path_df['destination_id'] == reach_id]['time']\n",
    "            recv_time = path_df[(path_df['destination_id'] == reach_id) & (path_df['destination_id'] == path_df['recv_id'])]['time']\n",
    "            delay = int(recv_time.head(1).iloc[-1]) - int(source_time.head(1).iloc[-1])\n",
    "            delay = delay / 100000\n",
    "        #         print('desID:', reach_id, 'delay:',delay)\n",
    "            delay_list.append(delay)\n",
    "        delay_mean = np.mean(delay_list)\n",
    "        return delay_mean\n",
    "    else:\n",
    "        source_time = path_df[path_df['destination_id'] == spefic]['time']\n",
    "        recv_time = path_df[(path_df['destination_id'] == spefic) & (path_df['destination_id'] == path_df['recv_id'])]['time']\n",
    "        delay = int(recv_time.head(1).iloc[-1]) - int(source_time.head(1).iloc[-1])\n",
    "        delay = delay / 100000\n",
    "        return delay"
   ]
  },
  {
   "cell_type": "code",
   "execution_count": 188,
   "metadata": {},
   "outputs": [
    {
     "data": {
      "text/plain": [
       "0.273592"
      ]
     },
     "execution_count": 188,
     "metadata": {},
     "output_type": "execute_result"
    }
   ],
   "source": [
    "packet_delay(sigo_path)"
   ]
  },
  {
   "cell_type": "code",
   "execution_count": 189,
   "metadata": {},
   "outputs": [
    {
     "data": {
      "text/plain": [
       "0.3069325"
      ]
     },
     "execution_count": 189,
     "metadata": {},
     "output_type": "execute_result"
    }
   ],
   "source": [
    "packet_delay(lsgo_path)"
   ]
  },
  {
   "cell_type": "code",
   "execution_count": 190,
   "metadata": {},
   "outputs": [
    {
     "data": {
      "text/plain": [
       "0.21525750000000002"
      ]
     },
     "execution_count": 190,
     "metadata": {},
     "output_type": "execute_result"
    }
   ],
   "source": [
    "packet_delay(jbr_path)"
   ]
  },
  {
   "cell_type": "markdown",
   "metadata": {},
   "source": [
    "# 軌跡描画"
   ]
  },
  {
   "cell_type": "code",
   "execution_count": 191,
   "metadata": {},
   "outputs": [],
   "source": [
    "def draw_source_area(log, img_area):\n",
    "    cv2.rectangle(img_area, (log.source_x - 15, log.source_y - 15), (log.source_x + 15, log.source_y + 15), (255, 255, 0),thickness=8)\n",
    "    cv2.rectangle(img_area, (log.destination_x - 15, log.destination_y - 15), (log.destination_x + 15, log.destination_y + 15), (255, 255, 0),thickness=8)\n",
    "    #source nodeを視覚で囲む\n",
    "    cv2.rectangle(img_area, (log.source_x - 15, log.source_y - 15), (log.source_x + 15, log.source_y + 15), (255, 255, 0),thickness=8)\n",
    "\n",
    "    #方眼\n",
    "    plt.figure(figsize=(10, 10))\n",
    "    print('グラフサイズ')\n",
    "    plt.grid(color='w', linestyle='dotted', linewidth=1.0)\n",
    "    plt.xlim([0, 1000])\n",
    "    plt.xticks([1000,800,600,400,200, 0]) \n",
    "    plt.ylim([0, 1000])\n",
    "    plt.yticks([1000,800,600,400,200, 0])  #メモリの間隔を指定 \n",
    "    print('source_area 描画', log.source_x)\n",
    "\n",
    "# パケットの軌跡を描画\n",
    "def draw(log,count,img_area,protocol,text):\n",
    "    recover_line_color = (255, 0, 0)\n",
    "    if protocol == 'sigo':\n",
    "        line_color = (0, 255, 0)\n",
    "        thick = 7\n",
    "        des_thick = 8\n",
    "    elif protocol == 'lsgo':\n",
    "        line_color = (255, 0, 0)\n",
    "        thick = 2\n",
    "        des_thick = 2\n",
    "    elif protocol == 'jbr':\n",
    "        line_color = (0, 255, 255)\n",
    "        thick = 2\n",
    "        des_thick = 2\n",
    "    else:\n",
    "        line_color = (255, 0, 0)\n",
    "        thick = 2\n",
    "        des_thick = 2\n",
    "        \n",
    "    if(protocol != 'sigo' and protocol != 'lsgo'):  #recovery routing だった場合\n",
    "        if(log.pri_recover == 1):\n",
    "            cv2.arrowedLine(img_area,(log.source_x, log.source_y), \n",
    "                                (log.recv_x, log.recv_y), recover_line_color, thickness=thick, tipLength=0.3)\n",
    "            cv2.circle(img=img_area, center=(log.source_x,\n",
    "                                   log.source_y), radius=5, color=(255,0,0), thickness=-1)\n",
    "            cv2.circle(img=img_area, center=(log.recv_x,\n",
    "                                   log.recv_y), radius=5, color=(255,0,0), thickness=-1)\n",
    "        else:\n",
    "            cv2.arrowedLine(img_area,(log.source_x, log.source_y), \n",
    "                                (log.recv_x, log.recv_y), line_color, thickness=thick, tipLength=0.1)\n",
    "            cv2.circle(img=img_area, center=(log.source_x,\n",
    "                                   log.source_y), radius=5, color=(255,0,0), thickness=-1)\n",
    "            cv2.circle(img=img_area, center=(log.recv_x,\n",
    "                                   log.recv_y), radius=5, color=(255,0,0), thickness=-1)\n",
    "    \n",
    "    else: # normal routing sigo or lsgo\n",
    "        cv2.arrowedLine(img_area,(log.source_x, log.source_y), \n",
    "                            (log.recv_x, log.recv_y), line_color, thickness=thick, tipLength=0.1)\n",
    "        cv2.circle(img=img_area, center=(log.source_x,\n",
    "                               log.source_y), radius=5, color=(255,0,0), thickness=-1)\n",
    "        cv2.circle(img=img_area, center=(log.recv_x,\n",
    "                               log.recv_y), radius=5, color=(255,0,0), thickness=-1)\n",
    "        \n",
    "    \n",
    "    \n",
    "    #受け取ったのが宛先だったならば\n",
    "    if log.recv_id == log.destination_id:\n",
    "        cv2.drawMarker(img_area, (log.recv_x, log.recv_y), line_color, thickness=des_thick, markerType=cv2.MARKER_TILTED_CROSS, markerSize=25)\n",
    "    if text == 'あり':    \n",
    "        cv2.putText(img_area, str(log.source_id), (log.source_x + 10,log.source_y +10 ), cv2.FONT_HERSHEY_SIMPLEX, 0.7, (255, 255, 255), thickness=2)\n",
    "        cv2.putText(img_area, str(log.recv_id), (log.recv_x + 10,log.recv_y +10 ), cv2.FONT_HERSHEY_SIMPLEX, 0.7, (255, 255, 255), thickness=2)"
   ]
  },
  {
   "cell_type": "code",
   "execution_count": 192,
   "metadata": {
    "scrolled": false
   },
   "outputs": [
    {
     "name": "stdout",
     "output_type": "stream",
     "text": [
      "sigo: [167, 217, 238, 294, 296] PDR: 0.5\n",
      "lsgo: [94, 167, 217, 238] PDR: 0.4\n",
      "jbr: [167, 217, 294, 296] PDR: 0.4\n",
      "sigo delay: 0.273592\n",
      "lsgo delay: 0.3069325\n",
      "jbr delay: 0.21525750000000002\n"
     ]
    },
    {
     "data": {
      "application/vnd.jupyter.widget-view+json": {
       "model_id": "6f022824b33842dca5ec30879ac4aa0c",
       "version_major": 2,
       "version_minor": 0
      },
      "text/plain": [
       "interactive(children=(Dropdown(description='protocol', options=('both', 'lsgo', 'sigo', 'jbr'), value='both'),…"
      ]
     },
     "metadata": {},
     "output_type": "display_data"
    }
   ],
   "source": [
    "img_area = np.zeros(shape=(1000,1000, 3), dtype=np.int16)\n",
    "protocol_list = [\"both\",\"lsgo\", \"sigo\", \"jbr\"]\n",
    "text_list = [\"なし\", \"あり\"]\n",
    "print('sigo:',sigo_reach_list,'PDR:',len(sigo_reach_list)/len(sigo_df['destination_id'].value_counts().index.tolist()))\n",
    "print('lsgo:',lsgo_reach_list,'PDR:',len(lsgo_reach_list)/len(lsgo_df['destination_id'].value_counts().index.tolist()))\n",
    "print('jbr:',jbr_reach_list,'PDR:',len(jbr_reach_list)/len(jbr_df['destination_id'].value_counts().index.tolist()))\n",
    "print('sigo delay:', packet_delay(sigo_path))\n",
    "print('lsgo delay:', packet_delay(lsgo_path))\n",
    "print('jbr delay:', packet_delay(jbr_path))\n",
    "\n",
    "#packetの軌跡を描画 \n",
    "@interact(minHop=(0,19,1), maxHop=(1,21, 1), desId=dest_list, protocol = protocol_list, text = text_list)\n",
    "def packetDraw(protocol, desId, minHop=0, maxHop = 21, text = \"なし\"):\n",
    "    \n",
    "    img_area = np.zeros(shape=(2100,2100, 3), dtype=np.int16)\n",
    "    count = 1\n",
    "    if protocol == 'sigo':     \n",
    "        for log in sigo_df[sigo_df['destination_id'] == desId].itertuples():\n",
    "            if count == 1:\n",
    "                draw_source_area(log, img_area)\n",
    "                count = count +1\n",
    "            if log.hopcount >= minHop and log.hopcount <= maxHop:\n",
    "                draw(log,count,img_area,protocol,text)\n",
    "                \n",
    "        plt.imshow(img_area)\n",
    "    elif protocol == 'lsgo':\n",
    "        \n",
    "        for log in lsgo_df[lsgo_df['destination_id'] == desId].itertuples():\n",
    "            if count == 1:\n",
    "                draw_source_area(log, img_area)\n",
    "                count = count +1\n",
    "                \n",
    "            if log.hopcount >= minHop and log.hopcount <= maxHop:\n",
    "                draw(log,count,img_area,protocol,text)\n",
    " \n",
    "        plt.imshow(img_area)\n",
    "    \n",
    "    elif protocol == 'jbr':\n",
    "        \n",
    "        for log in jbr_df[jbr_df['destination_id'] == desId].itertuples():\n",
    "            if count == 1:\n",
    "                draw_source_area(log, img_area)\n",
    "                count = count +1\n",
    "                \n",
    "            if log.hopcount >= minHop and log.hopcount <= maxHop:\n",
    "                draw(log,count,img_area,protocol,text)\n",
    " \n",
    "        plt.imshow(img_area)\n",
    "    \n",
    "    else:\n",
    "        if(desId in sigo_reach_list):\n",
    "            print('sigo packet delay id', desId, 'delay', packet_delay(sigo_path, desId))\n",
    "        if(desId in lsgo_reach_list):\n",
    "            print('lsgo packet delay id', desId, 'delay', packet_delay(lsgo_path, desId))\n",
    "        if(desId in jbr_reach_list):\n",
    "            print('jbr packet delay id', desId, 'delay', packet_delay(jbr_path, desId))\n",
    "        \n",
    "        for log in sigo_df[sigo_df['destination_id'] == desId].itertuples():\n",
    "            if count == 1:\n",
    "                draw_source_area(log, img_area)\n",
    "                count = count +1\n",
    "                \n",
    "            if log.hopcount >= minHop and log.hopcount <= maxHop:\n",
    "                draw(log,count,img_area,'sigo',text)\n",
    "                \n",
    "        for log in lsgo_df[lsgo_df['destination_id'] == desId].itertuples():\n",
    "            if log.hopcount >= minHop and log.hopcount <= maxHop:\n",
    "                draw(log,count,img_area,'lsgo',text)\n",
    "        plt.imshow(img_area)"
   ]
  },
  {
   "cell_type": "markdown",
   "metadata": {},
   "source": [
    "210 344"
   ]
  },
  {
   "cell_type": "code",
   "execution_count": 40,
   "metadata": {},
   "outputs": [],
   "source": [
    "def output_df(hopcount, des_id):\n",
    "    print('lsgo')\n",
    "    display(lsgo_df[(lsgo_df['hopcount'] == hopcount) & (lsgo_df['destination_id'] == des_id)])\n",
    "    print('sigo')\n",
    "    display(sigo_df[(sigo_df['hopcount'] == hopcount) & (sigo_df['destination_id'] == des_id)])"
   ]
  },
  {
   "cell_type": "code",
   "execution_count": 314,
   "metadata": {},
   "outputs": [
    {
     "data": {
      "application/vnd.jupyter.widget-view+json": {
       "model_id": "e070a067c9394e84a104ac07762d3a0b",
       "version_major": 2,
       "version_minor": 0
      },
      "text/plain": [
       "interactive(children=(IntSlider(value=10, description='hopcount', max=21), Dropdown(description='des_id', opti…"
      ]
     },
     "metadata": {},
     "output_type": "display_data"
    }
   ],
   "source": [
    "@interact(hopcount=(0,21,1), des_id = dest_list)\n",
    "def df_run(hopcount, des_id):\n",
    "    output_df(hopcount, des_id)"
   ]
  },
  {
   "cell_type": "code",
   "execution_count": null,
   "metadata": {},
   "outputs": [],
   "source": []
  },
  {
   "cell_type": "code",
   "execution_count": null,
   "metadata": {},
   "outputs": [],
   "source": []
  }
 ],
 "metadata": {
  "kernelspec": {
   "display_name": "Python 3",
   "language": "python",
   "name": "python3"
  },
  "language_info": {
   "codemirror_mode": {
    "name": "ipython",
    "version": 3
   },
   "file_extension": ".py",
   "mimetype": "text/x-python",
   "name": "python",
   "nbconvert_exporter": "python",
   "pygments_lexer": "ipython3",
   "version": "3.8.5"
  }
 },
 "nbformat": 4,
 "nbformat_minor": 4
}
