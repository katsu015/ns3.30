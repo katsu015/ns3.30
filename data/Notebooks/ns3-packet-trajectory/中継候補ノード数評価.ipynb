{
 "cells": [
  {
   "cell_type": "code",
   "execution_count": 54,
   "metadata": {},
   "outputs": [],
   "source": [
    "import pandas as pd\n",
    "import cv2\n",
    "import numpy as np\n",
    "import matplotlib.pyplot as plt\n",
    "#jupyter内で画像を表示\n",
    "%matplotlib inline \n",
    "#別ウィンドウで画像表示\n",
    "# %matplotlib qt \n",
    "import csv\n",
    "import json\n",
    "from ipywidgets import interact, interactive, fixed, RadioButtons\n",
    "import ipywidgets as widgets\n",
    "from IPython.display import display\n",
    "import pathlib\n",
    "import glob\n",
    "import re\n",
    "import copy"
   ]
  },
  {
   "cell_type": "code",
   "execution_count": 55,
   "metadata": {
    "scrolled": true
   },
   "outputs": [
    {
     "name": "stdout",
     "output_type": "stream",
     "text": [
      "receive log\n",
      "['../../get_data/evaluation_relay_nodes3/shadow10_2/lsgo\\\\lsgo-seed_10001nodenum_400.csv', '../../get_data/evaluation_relay_nodes3/shadow10_2/lsgo\\\\lsgo-seed_10002nodenum_400.csv', '../../get_data/evaluation_relay_nodes3/shadow10_2/lsgo\\\\lsgo-seed_10003nodenum_400.csv', '../../get_data/evaluation_relay_nodes3/shadow10_2/lsgo\\\\lsgo-seed_10004nodenum_400.csv', '../../get_data/evaluation_relay_nodes3/shadow10_2/lsgo\\\\lsgo-seed_10005nodenum_400.csv', '../../get_data/evaluation_relay_nodes3/shadow10_2/lsgo\\\\lsgo-seed_10006nodenum_400.csv', '../../get_data/evaluation_relay_nodes3/shadow10_2/lsgo\\\\lsgo-seed_10007nodenum_400.csv', '../../get_data/evaluation_relay_nodes3/shadow10_2/lsgo\\\\lsgo-seed_10008nodenum_400.csv', '../../get_data/evaluation_relay_nodes3/shadow10_2/lsgo\\\\lsgo-seed_10009nodenum_400.csv', '../../get_data/evaluation_relay_nodes3/shadow10_2/lsgo\\\\lsgo-seed_10010nodenum_400.csv', '../../get_data/evaluation_relay_nodes3/shadow10_2/lsgo\\\\lsgo-seed_10011nodenum_400.csv', '../../get_data/evaluation_relay_nodes3/shadow10_2/lsgo\\\\lsgo-seed_10012nodenum_400.csv', '../../get_data/evaluation_relay_nodes3/shadow10_2/lsgo\\\\lsgo-seed_10013nodenum_400.csv', '../../get_data/evaluation_relay_nodes3/shadow10_2/lsgo\\\\lsgo-seed_10014nodenum_400.csv', '../../get_data/evaluation_relay_nodes3/shadow10_2/lsgo\\\\lsgo-seed_10015nodenum_400.csv', '../../get_data/evaluation_relay_nodes3/shadow10_2/lsgo\\\\lsgo-seed_10016nodenum_400.csv', '../../get_data/evaluation_relay_nodes3/shadow10_2/lsgo\\\\lsgo-seed_10017nodenum_400.csv', '../../get_data/evaluation_relay_nodes3/shadow10_2/lsgo\\\\lsgo-seed_10018nodenum_400.csv', '../../get_data/evaluation_relay_nodes3/shadow10_2/lsgo\\\\lsgo-seed_10019nodenum_400.csv', '../../get_data/evaluation_relay_nodes3/shadow10_2/lsgo\\\\lsgo-seed_10020nodenum_400.csv', '../../get_data/evaluation_relay_nodes3/shadow10_2/lsgo\\\\lsgo-seed_10021nodenum_400.csv', '../../get_data/evaluation_relay_nodes3/shadow10_2/lsgo\\\\lsgo-seed_10022nodenum_400.csv', '../../get_data/evaluation_relay_nodes3/shadow10_2/lsgo\\\\lsgo-seed_10023nodenum_400.csv', '../../get_data/evaluation_relay_nodes3/shadow10_2/lsgo\\\\lsgo-seed_10024nodenum_400.csv', '../../get_data/evaluation_relay_nodes3/shadow10_2/lsgo\\\\lsgo-seed_10025nodenum_400.csv', '../../get_data/evaluation_relay_nodes3/shadow10_2/lsgo\\\\lsgo-seed_10026nodenum_400.csv', '../../get_data/evaluation_relay_nodes3/shadow10_2/lsgo\\\\lsgo-seed_10027nodenum_400.csv', '../../get_data/evaluation_relay_nodes3/shadow10_2/lsgo\\\\lsgo-seed_10028nodenum_400.csv', '../../get_data/evaluation_relay_nodes3/shadow10_2/lsgo\\\\lsgo-seed_10029nodenum_400.csv', '../../get_data/evaluation_relay_nodes3/shadow10_2/lsgo\\\\lsgo-seed_10030nodenum_400.csv', '../../get_data/evaluation_relay_nodes3/shadow10_2/lsgo\\\\lsgo-seed_10031nodenum_400.csv', '../../get_data/evaluation_relay_nodes3/shadow10_2/lsgo\\\\lsgo-seed_10032nodenum_400.csv', '../../get_data/evaluation_relay_nodes3/shadow10_2/lsgo\\\\lsgo-seed_10033nodenum_400.csv', '../../get_data/evaluation_relay_nodes3/shadow10_2/lsgo\\\\lsgo-seed_10034nodenum_400.csv', '../../get_data/evaluation_relay_nodes3/shadow10_2/lsgo\\\\lsgo-seed_10035nodenum_400.csv', '../../get_data/evaluation_relay_nodes3/shadow10_2/lsgo\\\\lsgo-seed_10036nodenum_400.csv', '../../get_data/evaluation_relay_nodes3/shadow10_2/lsgo\\\\lsgo-seed_10037nodenum_400.csv', '../../get_data/evaluation_relay_nodes3/shadow10_2/lsgo\\\\lsgo-seed_10038nodenum_400.csv', '../../get_data/evaluation_relay_nodes3/shadow10_2/lsgo\\\\lsgo-seed_10039nodenum_400.csv', '../../get_data/evaluation_relay_nodes3/shadow10_2/lsgo\\\\lsgo-seed_10040nodenum_400.csv', '../../get_data/evaluation_relay_nodes3/shadow10_2/lsgo\\\\lsgo-seed_10041nodenum_400.csv', '../../get_data/evaluation_relay_nodes3/shadow10_2/lsgo\\\\lsgo-seed_10042nodenum_400.csv', '../../get_data/evaluation_relay_nodes3/shadow10_2/lsgo\\\\lsgo-seed_10043nodenum_400.csv', '../../get_data/evaluation_relay_nodes3/shadow10_2/lsgo\\\\lsgo-seed_10044nodenum_400.csv', '../../get_data/evaluation_relay_nodes3/shadow10_2/lsgo\\\\lsgo-seed_10045nodenum_400.csv', '../../get_data/evaluation_relay_nodes3/shadow10_2/lsgo\\\\lsgo-seed_10046nodenum_400.csv', '../../get_data/evaluation_relay_nodes3/shadow10_2/lsgo\\\\lsgo-seed_10047nodenum_400.csv', '../../get_data/evaluation_relay_nodes3/shadow10_2/lsgo\\\\lsgo-seed_10048nodenum_400.csv', '../../get_data/evaluation_relay_nodes3/shadow10_2/lsgo\\\\lsgo-seed_10049nodenum_400.csv']\n",
      "send log\n",
      "['../../get_data/evaluation_relay_nodes3/shadow10_2/send_lsgo\\\\lsgo-seed_10001nodenum_400.csv', '../../get_data/evaluation_relay_nodes3/shadow10_2/send_lsgo\\\\lsgo-seed_10002nodenum_400.csv', '../../get_data/evaluation_relay_nodes3/shadow10_2/send_lsgo\\\\lsgo-seed_10003nodenum_400.csv', '../../get_data/evaluation_relay_nodes3/shadow10_2/send_lsgo\\\\lsgo-seed_10004nodenum_400.csv', '../../get_data/evaluation_relay_nodes3/shadow10_2/send_lsgo\\\\lsgo-seed_10005nodenum_400.csv', '../../get_data/evaluation_relay_nodes3/shadow10_2/send_lsgo\\\\lsgo-seed_10006nodenum_400.csv', '../../get_data/evaluation_relay_nodes3/shadow10_2/send_lsgo\\\\lsgo-seed_10007nodenum_400.csv', '../../get_data/evaluation_relay_nodes3/shadow10_2/send_lsgo\\\\lsgo-seed_10008nodenum_400.csv', '../../get_data/evaluation_relay_nodes3/shadow10_2/send_lsgo\\\\lsgo-seed_10009nodenum_400.csv', '../../get_data/evaluation_relay_nodes3/shadow10_2/send_lsgo\\\\lsgo-seed_10010nodenum_400.csv', '../../get_data/evaluation_relay_nodes3/shadow10_2/send_lsgo\\\\lsgo-seed_10011nodenum_400.csv', '../../get_data/evaluation_relay_nodes3/shadow10_2/send_lsgo\\\\lsgo-seed_10012nodenum_400.csv', '../../get_data/evaluation_relay_nodes3/shadow10_2/send_lsgo\\\\lsgo-seed_10013nodenum_400.csv', '../../get_data/evaluation_relay_nodes3/shadow10_2/send_lsgo\\\\lsgo-seed_10014nodenum_400.csv', '../../get_data/evaluation_relay_nodes3/shadow10_2/send_lsgo\\\\lsgo-seed_10015nodenum_400.csv', '../../get_data/evaluation_relay_nodes3/shadow10_2/send_lsgo\\\\lsgo-seed_10016nodenum_400.csv', '../../get_data/evaluation_relay_nodes3/shadow10_2/send_lsgo\\\\lsgo-seed_10017nodenum_400.csv', '../../get_data/evaluation_relay_nodes3/shadow10_2/send_lsgo\\\\lsgo-seed_10018nodenum_400.csv', '../../get_data/evaluation_relay_nodes3/shadow10_2/send_lsgo\\\\lsgo-seed_10019nodenum_400.csv', '../../get_data/evaluation_relay_nodes3/shadow10_2/send_lsgo\\\\lsgo-seed_10020nodenum_400.csv', '../../get_data/evaluation_relay_nodes3/shadow10_2/send_lsgo\\\\lsgo-seed_10021nodenum_400.csv', '../../get_data/evaluation_relay_nodes3/shadow10_2/send_lsgo\\\\lsgo-seed_10022nodenum_400.csv', '../../get_data/evaluation_relay_nodes3/shadow10_2/send_lsgo\\\\lsgo-seed_10023nodenum_400.csv', '../../get_data/evaluation_relay_nodes3/shadow10_2/send_lsgo\\\\lsgo-seed_10024nodenum_400.csv', '../../get_data/evaluation_relay_nodes3/shadow10_2/send_lsgo\\\\lsgo-seed_10025nodenum_400.csv', '../../get_data/evaluation_relay_nodes3/shadow10_2/send_lsgo\\\\lsgo-seed_10026nodenum_400.csv', '../../get_data/evaluation_relay_nodes3/shadow10_2/send_lsgo\\\\lsgo-seed_10027nodenum_400.csv', '../../get_data/evaluation_relay_nodes3/shadow10_2/send_lsgo\\\\lsgo-seed_10028nodenum_400.csv', '../../get_data/evaluation_relay_nodes3/shadow10_2/send_lsgo\\\\lsgo-seed_10029nodenum_400.csv', '../../get_data/evaluation_relay_nodes3/shadow10_2/send_lsgo\\\\lsgo-seed_10030nodenum_400.csv', '../../get_data/evaluation_relay_nodes3/shadow10_2/send_lsgo\\\\lsgo-seed_10031nodenum_400.csv', '../../get_data/evaluation_relay_nodes3/shadow10_2/send_lsgo\\\\lsgo-seed_10032nodenum_400.csv', '../../get_data/evaluation_relay_nodes3/shadow10_2/send_lsgo\\\\lsgo-seed_10033nodenum_400.csv', '../../get_data/evaluation_relay_nodes3/shadow10_2/send_lsgo\\\\lsgo-seed_10034nodenum_400.csv', '../../get_data/evaluation_relay_nodes3/shadow10_2/send_lsgo\\\\lsgo-seed_10035nodenum_400.csv', '../../get_data/evaluation_relay_nodes3/shadow10_2/send_lsgo\\\\lsgo-seed_10036nodenum_400.csv', '../../get_data/evaluation_relay_nodes3/shadow10_2/send_lsgo\\\\lsgo-seed_10037nodenum_400.csv', '../../get_data/evaluation_relay_nodes3/shadow10_2/send_lsgo\\\\lsgo-seed_10038nodenum_400.csv', '../../get_data/evaluation_relay_nodes3/shadow10_2/send_lsgo\\\\lsgo-seed_10039nodenum_400.csv', '../../get_data/evaluation_relay_nodes3/shadow10_2/send_lsgo\\\\lsgo-seed_10040nodenum_400.csv', '../../get_data/evaluation_relay_nodes3/shadow10_2/send_lsgo\\\\lsgo-seed_10041nodenum_400.csv', '../../get_data/evaluation_relay_nodes3/shadow10_2/send_lsgo\\\\lsgo-seed_10042nodenum_400.csv', '../../get_data/evaluation_relay_nodes3/shadow10_2/send_lsgo\\\\lsgo-seed_10043nodenum_400.csv', '../../get_data/evaluation_relay_nodes3/shadow10_2/send_lsgo\\\\lsgo-seed_10044nodenum_400.csv', '../../get_data/evaluation_relay_nodes3/shadow10_2/send_lsgo\\\\lsgo-seed_10045nodenum_400.csv', '../../get_data/evaluation_relay_nodes3/shadow10_2/send_lsgo\\\\lsgo-seed_10046nodenum_400.csv', '../../get_data/evaluation_relay_nodes3/shadow10_2/send_lsgo\\\\lsgo-seed_10047nodenum_400.csv', '../../get_data/evaluation_relay_nodes3/shadow10_2/send_lsgo\\\\lsgo-seed_10048nodenum_400.csv', '../../get_data/evaluation_relay_nodes3/shadow10_2/send_lsgo\\\\lsgo-seed_10049nodenum_400.csv']\n"
     ]
    }
   ],
   "source": [
    "shadow = 'shadow10_2'\n",
    "evaluation_path = \"../../get_data/evaluation_relay_nodes3/\" + shadow + \"/\"\n",
    "lsgo_file_list = []\n",
    "# lsgo_files = glob.glob(\"../../ns3.30/data/lsgo/*\")\n",
    "lsgo_files = glob.glob(evaluation_path + \"lsgo/*\")\n",
    "for file in lsgo_files:\n",
    "    lsgo_file_list.append(file)\n",
    "    \n",
    "send_lsgo_file_list = []\n",
    "# send_lsgo_files = glob.glob(\"../../ns3.30/data/send_lsgo/*\")\n",
    "send_lsgo_files = glob.glob(evaluation_path + \"send_lsgo/*\")\n",
    "for file in send_lsgo_files:\n",
    "    send_lsgo_file_list.append(file)\n",
    "print('receive log')\n",
    "print(lsgo_file_list)\n",
    "print('send log')\n",
    "print(send_lsgo_file_list)"
   ]
  },
  {
   "cell_type": "code",
   "execution_count": 56,
   "metadata": {},
   "outputs": [
    {
     "name": "stdout",
     "output_type": "stream",
     "text": [
      "['10001', '10002', '10003', '10004', '10005', '10006', '10007', '10008', '10009', '10010', '10011', '10012', '10013', '10014', '10015', '10016', '10017', '10018', '10019', '10020', '10021', '10022', '10023', '10024', '10025', '10026', '10027', '10028', '10029', '10030', '10031', '10032', '10033', '10034', '10035', '10036', '10037', '10038', '10039', '10040', '10041', '10042', '10043', '10044', '10045', '10046', '10047', '10048', '10049']\n",
      "simulation 試行回数 49\n"
     ]
    }
   ],
   "source": [
    "seed_index = 3\n",
    "node_index = 4\n",
    "seed_list = []\n",
    "nodenum_list = ['400'] ###############nodenumの形式を変更したらここはベタ打ちで変更を加える\n",
    "regex = re.compile('\\d+')\n",
    "\n",
    "for path in lsgo_file_list:\n",
    "    for line in path.splitlines():\n",
    "        match = regex.findall(line)\n",
    "        if match[seed_index] not in seed_list:\n",
    "            seed_list.append(match[seed_index])\n",
    "            \n",
    "print(seed_list)\n",
    "print('simulation 試行回数',len(seed_list))"
   ]
  },
  {
   "cell_type": "code",
   "execution_count": 57,
   "metadata": {
    "scrolled": true
   },
   "outputs": [
    {
     "name": "stdout",
     "output_type": "stream",
     "text": [
      "{'10001': {'400': '../../get_data/evaluation_relay_nodes3/shadow10_2/lsgo\\\\lsgo-seed_10001nodenum_400.csv'}, '10002': {'400': '../../get_data/evaluation_relay_nodes3/shadow10_2/lsgo\\\\lsgo-seed_10002nodenum_400.csv'}, '10003': {'400': '../../get_data/evaluation_relay_nodes3/shadow10_2/lsgo\\\\lsgo-seed_10003nodenum_400.csv'}, '10004': {'400': '../../get_data/evaluation_relay_nodes3/shadow10_2/lsgo\\\\lsgo-seed_10004nodenum_400.csv'}, '10005': {'400': '../../get_data/evaluation_relay_nodes3/shadow10_2/lsgo\\\\lsgo-seed_10005nodenum_400.csv'}, '10006': {'400': '../../get_data/evaluation_relay_nodes3/shadow10_2/lsgo\\\\lsgo-seed_10006nodenum_400.csv'}, '10007': {'400': '../../get_data/evaluation_relay_nodes3/shadow10_2/lsgo\\\\lsgo-seed_10007nodenum_400.csv'}, '10008': {'400': '../../get_data/evaluation_relay_nodes3/shadow10_2/lsgo\\\\lsgo-seed_10008nodenum_400.csv'}, '10009': {'400': '../../get_data/evaluation_relay_nodes3/shadow10_2/lsgo\\\\lsgo-seed_10009nodenum_400.csv'}, '10010': {'400': '../../get_data/evaluation_relay_nodes3/shadow10_2/lsgo\\\\lsgo-seed_10010nodenum_400.csv'}, '10011': {'400': '../../get_data/evaluation_relay_nodes3/shadow10_2/lsgo\\\\lsgo-seed_10011nodenum_400.csv'}, '10012': {'400': '../../get_data/evaluation_relay_nodes3/shadow10_2/lsgo\\\\lsgo-seed_10012nodenum_400.csv'}, '10013': {'400': '../../get_data/evaluation_relay_nodes3/shadow10_2/lsgo\\\\lsgo-seed_10013nodenum_400.csv'}, '10014': {'400': '../../get_data/evaluation_relay_nodes3/shadow10_2/lsgo\\\\lsgo-seed_10014nodenum_400.csv'}, '10015': {'400': '../../get_data/evaluation_relay_nodes3/shadow10_2/lsgo\\\\lsgo-seed_10015nodenum_400.csv'}, '10016': {'400': '../../get_data/evaluation_relay_nodes3/shadow10_2/lsgo\\\\lsgo-seed_10016nodenum_400.csv'}, '10017': {'400': '../../get_data/evaluation_relay_nodes3/shadow10_2/lsgo\\\\lsgo-seed_10017nodenum_400.csv'}, '10018': {'400': '../../get_data/evaluation_relay_nodes3/shadow10_2/lsgo\\\\lsgo-seed_10018nodenum_400.csv'}, '10019': {'400': '../../get_data/evaluation_relay_nodes3/shadow10_2/lsgo\\\\lsgo-seed_10019nodenum_400.csv'}, '10020': {'400': '../../get_data/evaluation_relay_nodes3/shadow10_2/lsgo\\\\lsgo-seed_10020nodenum_400.csv'}, '10021': {'400': '../../get_data/evaluation_relay_nodes3/shadow10_2/lsgo\\\\lsgo-seed_10021nodenum_400.csv'}, '10022': {'400': '../../get_data/evaluation_relay_nodes3/shadow10_2/lsgo\\\\lsgo-seed_10022nodenum_400.csv'}, '10023': {'400': '../../get_data/evaluation_relay_nodes3/shadow10_2/lsgo\\\\lsgo-seed_10023nodenum_400.csv'}, '10024': {'400': '../../get_data/evaluation_relay_nodes3/shadow10_2/lsgo\\\\lsgo-seed_10024nodenum_400.csv'}, '10025': {'400': '../../get_data/evaluation_relay_nodes3/shadow10_2/lsgo\\\\lsgo-seed_10025nodenum_400.csv'}, '10026': {'400': '../../get_data/evaluation_relay_nodes3/shadow10_2/lsgo\\\\lsgo-seed_10026nodenum_400.csv'}, '10027': {'400': '../../get_data/evaluation_relay_nodes3/shadow10_2/lsgo\\\\lsgo-seed_10027nodenum_400.csv'}, '10028': {'400': '../../get_data/evaluation_relay_nodes3/shadow10_2/lsgo\\\\lsgo-seed_10028nodenum_400.csv'}, '10029': {'400': '../../get_data/evaluation_relay_nodes3/shadow10_2/lsgo\\\\lsgo-seed_10029nodenum_400.csv'}, '10030': {'400': '../../get_data/evaluation_relay_nodes3/shadow10_2/lsgo\\\\lsgo-seed_10030nodenum_400.csv'}, '10031': {'400': '../../get_data/evaluation_relay_nodes3/shadow10_2/lsgo\\\\lsgo-seed_10031nodenum_400.csv'}, '10032': {'400': '../../get_data/evaluation_relay_nodes3/shadow10_2/lsgo\\\\lsgo-seed_10032nodenum_400.csv'}, '10033': {'400': '../../get_data/evaluation_relay_nodes3/shadow10_2/lsgo\\\\lsgo-seed_10033nodenum_400.csv'}, '10034': {'400': '../../get_data/evaluation_relay_nodes3/shadow10_2/lsgo\\\\lsgo-seed_10034nodenum_400.csv'}, '10035': {'400': '../../get_data/evaluation_relay_nodes3/shadow10_2/lsgo\\\\lsgo-seed_10035nodenum_400.csv'}, '10036': {'400': '../../get_data/evaluation_relay_nodes3/shadow10_2/lsgo\\\\lsgo-seed_10036nodenum_400.csv'}, '10037': {'400': '../../get_data/evaluation_relay_nodes3/shadow10_2/lsgo\\\\lsgo-seed_10037nodenum_400.csv'}, '10038': {'400': '../../get_data/evaluation_relay_nodes3/shadow10_2/lsgo\\\\lsgo-seed_10038nodenum_400.csv'}, '10039': {'400': '../../get_data/evaluation_relay_nodes3/shadow10_2/lsgo\\\\lsgo-seed_10039nodenum_400.csv'}, '10040': {'400': '../../get_data/evaluation_relay_nodes3/shadow10_2/lsgo\\\\lsgo-seed_10040nodenum_400.csv'}, '10041': {'400': '../../get_data/evaluation_relay_nodes3/shadow10_2/lsgo\\\\lsgo-seed_10041nodenum_400.csv'}, '10042': {'400': '../../get_data/evaluation_relay_nodes3/shadow10_2/lsgo\\\\lsgo-seed_10042nodenum_400.csv'}, '10043': {'400': '../../get_data/evaluation_relay_nodes3/shadow10_2/lsgo\\\\lsgo-seed_10043nodenum_400.csv'}, '10044': {'400': '../../get_data/evaluation_relay_nodes3/shadow10_2/lsgo\\\\lsgo-seed_10044nodenum_400.csv'}, '10045': {'400': '../../get_data/evaluation_relay_nodes3/shadow10_2/lsgo\\\\lsgo-seed_10045nodenum_400.csv'}, '10046': {'400': '../../get_data/evaluation_relay_nodes3/shadow10_2/lsgo\\\\lsgo-seed_10046nodenum_400.csv'}, '10047': {'400': '../../get_data/evaluation_relay_nodes3/shadow10_2/lsgo\\\\lsgo-seed_10047nodenum_400.csv'}, '10048': {'400': '../../get_data/evaluation_relay_nodes3/shadow10_2/lsgo\\\\lsgo-seed_10048nodenum_400.csv'}, '10049': {'400': '../../get_data/evaluation_relay_nodes3/shadow10_2/lsgo\\\\lsgo-seed_10049nodenum_400.csv'}}\n",
      "{'10001': {'400': '../../get_data/evaluation_relay_nodes3/shadow10_2/send_lsgo\\\\lsgo-seed_10001nodenum_400.csv'}, '10002': {'400': '../../get_data/evaluation_relay_nodes3/shadow10_2/send_lsgo\\\\lsgo-seed_10002nodenum_400.csv'}, '10003': {'400': '../../get_data/evaluation_relay_nodes3/shadow10_2/send_lsgo\\\\lsgo-seed_10003nodenum_400.csv'}, '10004': {'400': '../../get_data/evaluation_relay_nodes3/shadow10_2/send_lsgo\\\\lsgo-seed_10004nodenum_400.csv'}, '10005': {'400': '../../get_data/evaluation_relay_nodes3/shadow10_2/send_lsgo\\\\lsgo-seed_10005nodenum_400.csv'}, '10006': {'400': '../../get_data/evaluation_relay_nodes3/shadow10_2/send_lsgo\\\\lsgo-seed_10006nodenum_400.csv'}, '10007': {'400': '../../get_data/evaluation_relay_nodes3/shadow10_2/send_lsgo\\\\lsgo-seed_10007nodenum_400.csv'}, '10008': {'400': '../../get_data/evaluation_relay_nodes3/shadow10_2/send_lsgo\\\\lsgo-seed_10008nodenum_400.csv'}, '10009': {'400': '../../get_data/evaluation_relay_nodes3/shadow10_2/send_lsgo\\\\lsgo-seed_10009nodenum_400.csv'}, '10010': {'400': '../../get_data/evaluation_relay_nodes3/shadow10_2/send_lsgo\\\\lsgo-seed_10010nodenum_400.csv'}, '10011': {'400': '../../get_data/evaluation_relay_nodes3/shadow10_2/send_lsgo\\\\lsgo-seed_10011nodenum_400.csv'}, '10012': {'400': '../../get_data/evaluation_relay_nodes3/shadow10_2/send_lsgo\\\\lsgo-seed_10012nodenum_400.csv'}, '10013': {'400': '../../get_data/evaluation_relay_nodes3/shadow10_2/send_lsgo\\\\lsgo-seed_10013nodenum_400.csv'}, '10014': {'400': '../../get_data/evaluation_relay_nodes3/shadow10_2/send_lsgo\\\\lsgo-seed_10014nodenum_400.csv'}, '10015': {'400': '../../get_data/evaluation_relay_nodes3/shadow10_2/send_lsgo\\\\lsgo-seed_10015nodenum_400.csv'}, '10016': {'400': '../../get_data/evaluation_relay_nodes3/shadow10_2/send_lsgo\\\\lsgo-seed_10016nodenum_400.csv'}, '10017': {'400': '../../get_data/evaluation_relay_nodes3/shadow10_2/send_lsgo\\\\lsgo-seed_10017nodenum_400.csv'}, '10018': {'400': '../../get_data/evaluation_relay_nodes3/shadow10_2/send_lsgo\\\\lsgo-seed_10018nodenum_400.csv'}, '10019': {'400': '../../get_data/evaluation_relay_nodes3/shadow10_2/send_lsgo\\\\lsgo-seed_10019nodenum_400.csv'}, '10020': {'400': '../../get_data/evaluation_relay_nodes3/shadow10_2/send_lsgo\\\\lsgo-seed_10020nodenum_400.csv'}, '10021': {'400': '../../get_data/evaluation_relay_nodes3/shadow10_2/send_lsgo\\\\lsgo-seed_10021nodenum_400.csv'}, '10022': {'400': '../../get_data/evaluation_relay_nodes3/shadow10_2/send_lsgo\\\\lsgo-seed_10022nodenum_400.csv'}, '10023': {'400': '../../get_data/evaluation_relay_nodes3/shadow10_2/send_lsgo\\\\lsgo-seed_10023nodenum_400.csv'}, '10024': {'400': '../../get_data/evaluation_relay_nodes3/shadow10_2/send_lsgo\\\\lsgo-seed_10024nodenum_400.csv'}, '10025': {'400': '../../get_data/evaluation_relay_nodes3/shadow10_2/send_lsgo\\\\lsgo-seed_10025nodenum_400.csv'}, '10026': {'400': '../../get_data/evaluation_relay_nodes3/shadow10_2/send_lsgo\\\\lsgo-seed_10026nodenum_400.csv'}, '10027': {'400': '../../get_data/evaluation_relay_nodes3/shadow10_2/send_lsgo\\\\lsgo-seed_10027nodenum_400.csv'}, '10028': {'400': '../../get_data/evaluation_relay_nodes3/shadow10_2/send_lsgo\\\\lsgo-seed_10028nodenum_400.csv'}, '10029': {'400': '../../get_data/evaluation_relay_nodes3/shadow10_2/send_lsgo\\\\lsgo-seed_10029nodenum_400.csv'}, '10030': {'400': '../../get_data/evaluation_relay_nodes3/shadow10_2/send_lsgo\\\\lsgo-seed_10030nodenum_400.csv'}, '10031': {'400': '../../get_data/evaluation_relay_nodes3/shadow10_2/send_lsgo\\\\lsgo-seed_10031nodenum_400.csv'}, '10032': {'400': '../../get_data/evaluation_relay_nodes3/shadow10_2/send_lsgo\\\\lsgo-seed_10032nodenum_400.csv'}, '10033': {'400': '../../get_data/evaluation_relay_nodes3/shadow10_2/send_lsgo\\\\lsgo-seed_10033nodenum_400.csv'}, '10034': {'400': '../../get_data/evaluation_relay_nodes3/shadow10_2/send_lsgo\\\\lsgo-seed_10034nodenum_400.csv'}, '10035': {'400': '../../get_data/evaluation_relay_nodes3/shadow10_2/send_lsgo\\\\lsgo-seed_10035nodenum_400.csv'}, '10036': {'400': '../../get_data/evaluation_relay_nodes3/shadow10_2/send_lsgo\\\\lsgo-seed_10036nodenum_400.csv'}, '10037': {'400': '../../get_data/evaluation_relay_nodes3/shadow10_2/send_lsgo\\\\lsgo-seed_10037nodenum_400.csv'}, '10038': {'400': '../../get_data/evaluation_relay_nodes3/shadow10_2/send_lsgo\\\\lsgo-seed_10038nodenum_400.csv'}, '10039': {'400': '../../get_data/evaluation_relay_nodes3/shadow10_2/send_lsgo\\\\lsgo-seed_10039nodenum_400.csv'}, '10040': {'400': '../../get_data/evaluation_relay_nodes3/shadow10_2/send_lsgo\\\\lsgo-seed_10040nodenum_400.csv'}, '10041': {'400': '../../get_data/evaluation_relay_nodes3/shadow10_2/send_lsgo\\\\lsgo-seed_10041nodenum_400.csv'}, '10042': {'400': '../../get_data/evaluation_relay_nodes3/shadow10_2/send_lsgo\\\\lsgo-seed_10042nodenum_400.csv'}, '10043': {'400': '../../get_data/evaluation_relay_nodes3/shadow10_2/send_lsgo\\\\lsgo-seed_10043nodenum_400.csv'}, '10044': {'400': '../../get_data/evaluation_relay_nodes3/shadow10_2/send_lsgo\\\\lsgo-seed_10044nodenum_400.csv'}, '10045': {'400': '../../get_data/evaluation_relay_nodes3/shadow10_2/send_lsgo\\\\lsgo-seed_10045nodenum_400.csv'}, '10046': {'400': '../../get_data/evaluation_relay_nodes3/shadow10_2/send_lsgo\\\\lsgo-seed_10046nodenum_400.csv'}, '10047': {'400': '../../get_data/evaluation_relay_nodes3/shadow10_2/send_lsgo\\\\lsgo-seed_10047nodenum_400.csv'}, '10048': {'400': '../../get_data/evaluation_relay_nodes3/shadow10_2/send_lsgo\\\\lsgo-seed_10048nodenum_400.csv'}, '10049': {'400': '../../get_data/evaluation_relay_nodes3/shadow10_2/send_lsgo\\\\lsgo-seed_10049nodenum_400.csv'}}\n"
     ]
    }
   ],
   "source": [
    "lsgo_dict = {}\n",
    "check_seed = seed_list[0]\n",
    "lsgo_dict[check_seed] = {}\n",
    "for path in lsgo_file_list:\n",
    "    for line in path.splitlines():\n",
    "      match = regex.findall(line) # match[2] = seed ,match[3] = nudenum\n",
    "     \n",
    "    if match[seed_index] == check_seed:\n",
    "        lsgo_dict[match[seed_index]][match[node_index]] = path\n",
    "    else:#ロープ中seed値が変わるとき\n",
    "        lsgo_dict[match[seed_index]] = {}\n",
    "        lsgo_dict[match[seed_index]][match[node_index]] = path\n",
    "        check_seed = match[seed_index] #seed値の更新\n",
    "        \n",
    "send_lsgo_dict = {}\n",
    "check_seed = seed_list[0]\n",
    "send_lsgo_dict[check_seed] = {}\n",
    "for path in send_lsgo_file_list:\n",
    "    for line in path.splitlines():\n",
    "      match = regex.findall(line) # match[2] = seed ,match[3] = nudenum\n",
    "     \n",
    "    if match[seed_index] == check_seed:\n",
    "        send_lsgo_dict[match[seed_index]][match[node_index]] = path\n",
    "    else:#ロープ中seed値が変わるとき\n",
    "        send_lsgo_dict[match[seed_index]] = {}\n",
    "        send_lsgo_dict[match[seed_index]][match[node_index]] = path\n",
    "        check_seed = match[seed_index] #seed値の更新\n",
    "        \n",
    "print(lsgo_dict)\n",
    "print(send_lsgo_dict)"
   ]
  },
  {
   "cell_type": "code",
   "execution_count": 58,
   "metadata": {},
   "outputs": [],
   "source": [
    "def packet_ratio(path):\n",
    "    #csvファイルの取得\n",
    "    path_df = pd.read_csv(path)\n",
    "    dest_list = path_df['destination_id'].value_counts().index.tolist() #重複なしのdestination_idを格納\n",
    "    #目的地に届いたidだけをlistに保存\n",
    "    reach_list = path_df[path_df['recv_id'] == path_df['destination_id']]['destination_id'].value_counts().index.tolist()\n",
    "#     PDR = len(reach_list)/len(dest_list)\n",
    "    PDR = len(reach_list)/10\n",
    "    \n",
    "#     *************** len(dest_list): destination_idのリストをいったん10個で定義\n",
    "    return PDR"
   ]
  },
  {
   "cell_type": "code",
   "execution_count": 59,
   "metadata": {},
   "outputs": [],
   "source": [
    "def packet_hop(path):\n",
    "    path_df = pd.read_csv(path)\n",
    "    dest_list = path_df['destination_id'].value_counts().index.tolist() #重複なしのdestination_idを格納\n",
    "    #目的地に届いたidだけをlistに保存\n",
    "    reach_list = path_df[path_df['recv_id'] == path_df['destination_id']]['destination_id'] \n",
    "    #reach_listを回す\n",
    "    total_hop = 0\n",
    "    for reach_id in reach_list:\n",
    "        hop = path_df[(path_df['destination_id'] == reach_id) & (path_df['destination_id'] == path_df['recv_id'])]['hopcount']\n",
    "        hop = int(hop.head(1).iloc[-1])\n",
    "        total_hop += hop\n",
    "    if(len(reach_list) != 0):\n",
    "        average_hop = total_hop / len(reach_list)\n",
    "    else:\n",
    "        average_hop = total_hop\n",
    "    \n",
    "    return average_hop"
   ]
  },
  {
   "cell_type": "code",
   "execution_count": 60,
   "metadata": {},
   "outputs": [],
   "source": [
    "def packet_delay(path):\n",
    "    delay_list = []\n",
    "    #csvファイルの取得\n",
    "    path_df = pd.read_csv(path)\n",
    "    #目的地に届いたidだけをlistに保存\n",
    "    reach_list = path_df[path_df['recv_id'] == path_df['destination_id']]['destination_id'].value_counts().index.tolist()\n",
    "    #reach_listを回す\n",
    "    if (len(reach_list) == 0):\n",
    "        delay = 0\n",
    "        print('reach_list none')\n",
    "        return delay\n",
    "    for reach_id in reach_list:\n",
    "        source_time = path_df[path_df['destination_id'] == reach_id]['time']\n",
    "        recv_time = path_df[(path_df['destination_id'] == reach_id) & (path_df['destination_id'] == path_df['recv_id'])]['time']\n",
    "        delay = int(recv_time.head(1).iloc[-1]) - int(source_time.head(1).iloc[-1])\n",
    "        delay = delay / 1000000\n",
    "        delay_list.append(delay)\n",
    "    delay_mean = np.mean(delay_list)\n",
    "    return delay_mean"
   ]
  },
  {
   "cell_type": "code",
   "execution_count": 61,
   "metadata": {},
   "outputs": [],
   "source": [
    "def packet_over_head_send(send_path, recv_path):\n",
    "    send_path_df = pd.read_csv(send_path)\n",
    "    send_column_num = len(send_path_df.columns) #カラム数を取得\n",
    "#     display(path_df.iloc[:,send_column_num-1]) 末尾の取得方法　path_df = pd.read_csv(recv_path)末尾=送信ログ(送信したかどうか)\n",
    "    #目的地に届いたidだけをlistに保存\n",
    "    recv_path_df = pd.read_csv(recv_path)\n",
    "    reach_list = recv_path_df[recv_path_df['recv_id'] == recv_path_df['destination_id']]['destination_id'].value_counts().index.tolist()\n",
    "    send_count = send_path_df[send_path_df.iloc[:,send_column_num-1] == 1].value_counts() #最後のカラムの値が1\n",
    "#     print(len(send_count))\n",
    "    if(len(reach_list) != 0):\n",
    "        overhead = len(send_count)/len(reach_list)\n",
    "    else:\n",
    "        overhead = len(send_count)\n",
    "    return overhead"
   ]
  },
  {
   "cell_type": "code",
   "execution_count": 62,
   "metadata": {},
   "outputs": [],
   "source": [
    "def col_average(seeds):\n",
    "    new_list = []\n",
    "    for seed in seeds:\n",
    "        del seed[len(nodenum_list)] #1列ずつ平均を算出するうえで邪魔なseed値を消していく seedの個数 \n",
    "        new_list.append(seed)\n",
    "#     np.set_printoptions(precision=3, suppress=True)\n",
    "    np_new_list = np.array(new_list)\n",
    "    return np.mean(np_new_list, axis=0)"
   ]
  },
  {
   "cell_type": "code",
   "execution_count": 63,
   "metadata": {},
   "outputs": [],
   "source": [
    "def header(protocol, writer, index):\n",
    "    writer.writerow([])\n",
    "    writer.writerow([protocol, index])\n",
    "    writer.writerow(['200','300','400','seed'])"
   ]
  },
  {
   "cell_type": "code",
   "execution_count": 64,
   "metadata": {},
   "outputs": [
    {
     "name": "stdout",
     "output_type": "stream",
     "text": [
      "finish\n"
     ]
    }
   ],
   "source": [
    "def write(seeds):\n",
    "    for seed in seeds:\n",
    "        writer.writerow(seed)\n",
    "\n",
    "with open(evaluation_path + '/12_20.csv', 'w', newline='') as csv_file:\n",
    "    #---------------------------PDR---------------------------\n",
    "    lsgo_pdr_average_list = []\n",
    "    lsgo_delay_average_list = []\n",
    "    lsgo_overhead_average_list = []\n",
    "    lsgo_hop_average_list = []\n",
    "    \n",
    "    #headerを設定\n",
    "    writer = csv.writer(csv_file)\n",
    "    #--lsgo---#\n",
    "    header('LSGO', writer, 'PDR')\n",
    "    for seed in seed_list:\n",
    "        lsgo_pdr_ratio_list = []\n",
    "        for node in nodenum_list:\n",
    "            path = lsgo_dict[seed][node]\n",
    "            ratio = packet_ratio(path)\n",
    "            lsgo_pdr_ratio_list.append(ratio)\n",
    "        lsgo_pdr_ratio_list.append(seed)\n",
    "        writer.writerow(lsgo_pdr_ratio_list)\n",
    "        lsgo_pdr_average_list.append(lsgo_pdr_ratio_list)\n",
    "    #------------------------delay-----------------------\n",
    "    #--lsgo--#\n",
    "    header('LSGO', writer, 'delay')\n",
    "    for seed in seed_list:\n",
    "        lsgo_delay_list = []\n",
    "        for node in nodenum_list:\n",
    "            path = lsgo_dict[seed][node]\n",
    "            delay = packet_delay(path)\n",
    "            lsgo_delay_list.append(delay)\n",
    "        lsgo_delay_list.append(seed)\n",
    "        writer.writerow(lsgo_delay_list)\n",
    "\n",
    "        lsgo_delay_average_list.append(lsgo_delay_list)\n",
    "#         print('lsgo_delay_average_list', lsgo_delay_average_list)       \n",
    "    #------------------------overhead-----------------------\n",
    "    #--lsgo--#\n",
    "    header('LSGO', writer, 'Overhead')\n",
    "    for seed in seed_list:\n",
    "        lsgo_overhead_list = []\n",
    "        for node in nodenum_list:\n",
    "            recv_path = lsgo_dict[seed][node]\n",
    "            send_path = send_lsgo_dict[seed][node]\n",
    "            overhead = packet_over_head_send(send_path, recv_path)\n",
    "            lsgo_overhead_list.append(overhead)\n",
    "        lsgo_overhead_list.append(seed)\n",
    "        writer.writerow(lsgo_overhead_list)\n",
    "        lsgo_overhead_average_list.append(lsgo_overhead_list)\n",
    "        \n",
    "    #------------------------Hop-----------------------\n",
    "    header('LSGO', writer, 'Hop')\n",
    "    for seed in seed_list:\n",
    "        lsgo_hop_list = []\n",
    "        for node in nodenum_list:\n",
    "            path = lsgo_dict[seed][node]\n",
    "            hop = packet_hop(path)\n",
    "            lsgo_hop_list.append(hop)\n",
    "        lsgo_hop_list.append(seed)\n",
    "        writer.writerow(lsgo_hop_list)\n",
    "        lsgo_hop_average_list.append(lsgo_hop_list)\n",
    "        \n",
    "    header('LSGO', writer , 'PDR-average')\n",
    "    writer.writerow(col_average(lsgo_pdr_average_list))\n",
    "    header('LSGO', writer , 'delay-average')\n",
    "    writer.writerow(col_average(lsgo_delay_average_list))\n",
    "    header('LSGO', writer , 'overhead-average')\n",
    "    writer.writerow(col_average(lsgo_overhead_average_list))\n",
    "    header('LSGO', writer , 'hop-average')\n",
    "    writer.writerow(col_average(lsgo_hop_average_list))\n",
    "    print('finish')"
   ]
  },
  {
   "cell_type": "code",
   "execution_count": 65,
   "metadata": {},
   "outputs": [
    {
     "name": "stdout",
     "output_type": "stream",
     "text": [
      "lsgo-----------------\n"
     ]
    }
   ],
   "source": [
    "print('lsgo-----------------')\n",
    "for seed in seed_list:\n",
    "        lsgo_delay_list = []\n",
    "        for node in nodenum_list:\n",
    "            if(node not in lsgo_dict[seed]):\n",
    "                print(\"seed\", seed, 'node_num', node)"
   ]
  },
  {
   "cell_type": "code",
   "execution_count": null,
   "metadata": {},
   "outputs": [],
   "source": []
  }
 ],
 "metadata": {
  "kernelspec": {
   "display_name": "Python 3",
   "language": "python",
   "name": "python3"
  },
  "language_info": {
   "codemirror_mode": {
    "name": "ipython",
    "version": 3
   },
   "file_extension": ".py",
   "mimetype": "text/x-python",
   "name": "python",
   "nbconvert_exporter": "python",
   "pygments_lexer": "ipython3",
   "version": "3.8.5"
  }
 },
 "nbformat": 4,
 "nbformat_minor": 4
}
