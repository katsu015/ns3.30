{
 "cells": [
  {
   "cell_type": "code",
   "execution_count": 2,
   "metadata": {},
   "outputs": [],
   "source": [
    "import pandas as pd\n",
    "import cv2\n",
    "import numpy as np\n",
    "import matplotlib.pyplot as plt\n",
    "#jupyter内で画像を表示\n",
    "%matplotlib inline \n",
    "#別ウィンドウで画像表示\n",
    "# %matplotlib qt \n",
    "import csv\n",
    "import json\n",
    "from ipywidgets import interact, interactive, fixed, RadioButtons\n",
    "import ipywidgets as widgets\n",
    "from IPython.display import display\n",
    "import pathlib\n",
    "import glob\n",
    "import re\n",
    "import copy"
   ]
  },
  {
   "cell_type": "code",
   "execution_count": 3,
   "metadata": {},
   "outputs": [
    {
     "name": "stdout",
     "output_type": "stream",
     "text": [
      "receive log\n",
      "['../../get_data/recover_test2/shadow10_2/jbr\\\\sigo-seed_10001nodenum_200.csv', '../../get_data/recover_test2/shadow10_2/jbr\\\\sigo-seed_10001nodenum_300.csv', '../../get_data/recover_test2/shadow10_2/jbr\\\\sigo-seed_10001nodenum_400.csv', '../../get_data/recover_test2/shadow10_2/jbr\\\\sigo-seed_10002nodenum_200.csv', '../../get_data/recover_test2/shadow10_2/jbr\\\\sigo-seed_10002nodenum_300.csv', '../../get_data/recover_test2/shadow10_2/jbr\\\\sigo-seed_10002nodenum_400.csv', '../../get_data/recover_test2/shadow10_2/jbr\\\\sigo-seed_10003nodenum_200.csv', '../../get_data/recover_test2/shadow10_2/jbr\\\\sigo-seed_10003nodenum_300.csv', '../../get_data/recover_test2/shadow10_2/jbr\\\\sigo-seed_10003nodenum_400.csv', '../../get_data/recover_test2/shadow10_2/jbr\\\\sigo-seed_10004nodenum_200.csv', '../../get_data/recover_test2/shadow10_2/jbr\\\\sigo-seed_10004nodenum_300.csv', '../../get_data/recover_test2/shadow10_2/jbr\\\\sigo-seed_10004nodenum_400.csv', '../../get_data/recover_test2/shadow10_2/jbr\\\\sigo-seed_10005nodenum_200.csv', '../../get_data/recover_test2/shadow10_2/jbr\\\\sigo-seed_10005nodenum_300.csv', '../../get_data/recover_test2/shadow10_2/jbr\\\\sigo-seed_10005nodenum_400.csv', '../../get_data/recover_test2/shadow10_2/jbr\\\\sigo-seed_10006nodenum_200.csv', '../../get_data/recover_test2/shadow10_2/jbr\\\\sigo-seed_10006nodenum_300.csv', '../../get_data/recover_test2/shadow10_2/jbr\\\\sigo-seed_10006nodenum_400.csv', '../../get_data/recover_test2/shadow10_2/jbr\\\\sigo-seed_10007nodenum_200.csv', '../../get_data/recover_test2/shadow10_2/jbr\\\\sigo-seed_10007nodenum_300.csv', '../../get_data/recover_test2/shadow10_2/jbr\\\\sigo-seed_10007nodenum_400.csv', '../../get_data/recover_test2/shadow10_2/jbr\\\\sigo-seed_10008nodenum_200.csv', '../../get_data/recover_test2/shadow10_2/jbr\\\\sigo-seed_10008nodenum_300.csv', '../../get_data/recover_test2/shadow10_2/jbr\\\\sigo-seed_10008nodenum_400.csv', '../../get_data/recover_test2/shadow10_2/jbr\\\\sigo-seed_10009nodenum_200.csv', '../../get_data/recover_test2/shadow10_2/jbr\\\\sigo-seed_10009nodenum_300.csv', '../../get_data/recover_test2/shadow10_2/jbr\\\\sigo-seed_10009nodenum_400.csv']\n",
      "send log\n",
      "['../../get_data/recover_test2/shadow10_2/send_jbr\\\\sigo-seed_10001nodenum_200.csv', '../../get_data/recover_test2/shadow10_2/send_jbr\\\\sigo-seed_10001nodenum_300.csv', '../../get_data/recover_test2/shadow10_2/send_jbr\\\\sigo-seed_10001nodenum_400.csv', '../../get_data/recover_test2/shadow10_2/send_jbr\\\\sigo-seed_10002nodenum_200.csv', '../../get_data/recover_test2/shadow10_2/send_jbr\\\\sigo-seed_10002nodenum_300.csv', '../../get_data/recover_test2/shadow10_2/send_jbr\\\\sigo-seed_10002nodenum_400.csv', '../../get_data/recover_test2/shadow10_2/send_jbr\\\\sigo-seed_10003nodenum_200.csv', '../../get_data/recover_test2/shadow10_2/send_jbr\\\\sigo-seed_10003nodenum_300.csv', '../../get_data/recover_test2/shadow10_2/send_jbr\\\\sigo-seed_10003nodenum_400.csv', '../../get_data/recover_test2/shadow10_2/send_jbr\\\\sigo-seed_10004nodenum_200.csv', '../../get_data/recover_test2/shadow10_2/send_jbr\\\\sigo-seed_10004nodenum_300.csv', '../../get_data/recover_test2/shadow10_2/send_jbr\\\\sigo-seed_10004nodenum_400.csv', '../../get_data/recover_test2/shadow10_2/send_jbr\\\\sigo-seed_10005nodenum_200.csv', '../../get_data/recover_test2/shadow10_2/send_jbr\\\\sigo-seed_10005nodenum_300.csv', '../../get_data/recover_test2/shadow10_2/send_jbr\\\\sigo-seed_10005nodenum_400.csv', '../../get_data/recover_test2/shadow10_2/send_jbr\\\\sigo-seed_10006nodenum_200.csv', '../../get_data/recover_test2/shadow10_2/send_jbr\\\\sigo-seed_10006nodenum_300.csv', '../../get_data/recover_test2/shadow10_2/send_jbr\\\\sigo-seed_10006nodenum_400.csv', '../../get_data/recover_test2/shadow10_2/send_jbr\\\\sigo-seed_10007nodenum_200.csv', '../../get_data/recover_test2/shadow10_2/send_jbr\\\\sigo-seed_10007nodenum_300.csv', '../../get_data/recover_test2/shadow10_2/send_jbr\\\\sigo-seed_10007nodenum_400.csv', '../../get_data/recover_test2/shadow10_2/send_jbr\\\\sigo-seed_10008nodenum_200.csv', '../../get_data/recover_test2/shadow10_2/send_jbr\\\\sigo-seed_10008nodenum_300.csv', '../../get_data/recover_test2/shadow10_2/send_jbr\\\\sigo-seed_10008nodenum_400.csv', '../../get_data/recover_test2/shadow10_2/send_jbr\\\\sigo-seed_10009nodenum_200.csv', '../../get_data/recover_test2/shadow10_2/send_jbr\\\\sigo-seed_10009nodenum_300.csv', '../../get_data/recover_test2/shadow10_2/send_jbr\\\\sigo-seed_10009nodenum_400.csv']\n"
     ]
    }
   ],
   "source": [
    "shadow = 'shadow10_2'\n",
    "AngleGammma = 'AngleGamma0.400000'\n",
    "evaluation_path = \"../../get_data/recover_test2/\" + shadow\n",
    "protocol = \"jbr\"\n",
    "sigo_file_list = []\n",
    "# sigo_files = glob.glob(\"../../ns3.30/data/sigo/*\")\n",
    "# sigo_files = glob.glob(evaluation_path + \"/sigo/*\")\n",
    "sigo_files = glob.glob(evaluation_path + \"/\"+protocol+\"/*\")\n",
    "for file in sigo_files:\n",
    "    sigo_file_list.append(file)\n",
    "    \n",
    "send_sigo_file_list = []\n",
    "# send_sigo_files = glob.glob(\"../../ns3.30/data/send_sigo/*\")\n",
    "# send_sigo_files = glob.glob(evaluation_path + \"/send_sigo/*\")\n",
    "send_sigo_files = glob.glob(evaluation_path + \"/send_\" + protocol + \"/*\")\n",
    "for file in send_sigo_files:\n",
    "    send_sigo_file_list.append(file)\n",
    "print('receive log')\n",
    "print(sigo_file_list)\n",
    "print('send log')\n",
    "print(send_sigo_file_list)"
   ]
  },
  {
   "cell_type": "code",
   "execution_count": 5,
   "metadata": {},
   "outputs": [
    {
     "name": "stdout",
     "output_type": "stream",
     "text": [
      "['10001', '10002', '10003', '10004', '10005', '10006', '10007', '10008', '10009']\n",
      "simulation 試行回数 9\n"
     ]
    }
   ],
   "source": [
    "seed_list = []\n",
    "nodenum_list = ['200', '300', '400'] ###############nodenumの形式を変更したらここはベタ打ちで変更を加える\n",
    "regex = re.compile('\\d+')\n",
    "seed_index = 3\n",
    "node_index = 4\n",
    "\n",
    "for path in sigo_file_list:\n",
    "    for line in path.splitlines():\n",
    "        match = regex.findall(line)\n",
    "        if match[seed_index] not in seed_list:\n",
    "            seed_list.append(match[seed_index])\n",
    "            \n",
    "print(seed_list)\n",
    "print('simulation 試行回数',len(seed_list))"
   ]
  },
  {
   "cell_type": "code",
   "execution_count": 6,
   "metadata": {},
   "outputs": [
    {
     "name": "stdout",
     "output_type": "stream",
     "text": [
      "{'10001': {'200': '../../get_data/recover_test2/shadow10_2/jbr\\\\sigo-seed_10001nodenum_200.csv', '300': '../../get_data/recover_test2/shadow10_2/jbr\\\\sigo-seed_10001nodenum_300.csv', '400': '../../get_data/recover_test2/shadow10_2/jbr\\\\sigo-seed_10001nodenum_400.csv'}, '10002': {'200': '../../get_data/recover_test2/shadow10_2/jbr\\\\sigo-seed_10002nodenum_200.csv', '300': '../../get_data/recover_test2/shadow10_2/jbr\\\\sigo-seed_10002nodenum_300.csv', '400': '../../get_data/recover_test2/shadow10_2/jbr\\\\sigo-seed_10002nodenum_400.csv'}, '10003': {'200': '../../get_data/recover_test2/shadow10_2/jbr\\\\sigo-seed_10003nodenum_200.csv', '300': '../../get_data/recover_test2/shadow10_2/jbr\\\\sigo-seed_10003nodenum_300.csv', '400': '../../get_data/recover_test2/shadow10_2/jbr\\\\sigo-seed_10003nodenum_400.csv'}, '10004': {'200': '../../get_data/recover_test2/shadow10_2/jbr\\\\sigo-seed_10004nodenum_200.csv', '300': '../../get_data/recover_test2/shadow10_2/jbr\\\\sigo-seed_10004nodenum_300.csv', '400': '../../get_data/recover_test2/shadow10_2/jbr\\\\sigo-seed_10004nodenum_400.csv'}, '10005': {'200': '../../get_data/recover_test2/shadow10_2/jbr\\\\sigo-seed_10005nodenum_200.csv', '300': '../../get_data/recover_test2/shadow10_2/jbr\\\\sigo-seed_10005nodenum_300.csv', '400': '../../get_data/recover_test2/shadow10_2/jbr\\\\sigo-seed_10005nodenum_400.csv'}, '10006': {'200': '../../get_data/recover_test2/shadow10_2/jbr\\\\sigo-seed_10006nodenum_200.csv', '300': '../../get_data/recover_test2/shadow10_2/jbr\\\\sigo-seed_10006nodenum_300.csv', '400': '../../get_data/recover_test2/shadow10_2/jbr\\\\sigo-seed_10006nodenum_400.csv'}, '10007': {'200': '../../get_data/recover_test2/shadow10_2/jbr\\\\sigo-seed_10007nodenum_200.csv', '300': '../../get_data/recover_test2/shadow10_2/jbr\\\\sigo-seed_10007nodenum_300.csv', '400': '../../get_data/recover_test2/shadow10_2/jbr\\\\sigo-seed_10007nodenum_400.csv'}, '10008': {'200': '../../get_data/recover_test2/shadow10_2/jbr\\\\sigo-seed_10008nodenum_200.csv', '300': '../../get_data/recover_test2/shadow10_2/jbr\\\\sigo-seed_10008nodenum_300.csv', '400': '../../get_data/recover_test2/shadow10_2/jbr\\\\sigo-seed_10008nodenum_400.csv'}, '10009': {'200': '../../get_data/recover_test2/shadow10_2/jbr\\\\sigo-seed_10009nodenum_200.csv', '300': '../../get_data/recover_test2/shadow10_2/jbr\\\\sigo-seed_10009nodenum_300.csv', '400': '../../get_data/recover_test2/shadow10_2/jbr\\\\sigo-seed_10009nodenum_400.csv'}}\n",
      "{'10001': {'200': '../../get_data/recover_test2/shadow10_2/send_jbr\\\\sigo-seed_10001nodenum_200.csv', '300': '../../get_data/recover_test2/shadow10_2/send_jbr\\\\sigo-seed_10001nodenum_300.csv', '400': '../../get_data/recover_test2/shadow10_2/send_jbr\\\\sigo-seed_10001nodenum_400.csv'}, '10002': {'200': '../../get_data/recover_test2/shadow10_2/send_jbr\\\\sigo-seed_10002nodenum_200.csv', '300': '../../get_data/recover_test2/shadow10_2/send_jbr\\\\sigo-seed_10002nodenum_300.csv', '400': '../../get_data/recover_test2/shadow10_2/send_jbr\\\\sigo-seed_10002nodenum_400.csv'}, '10003': {'200': '../../get_data/recover_test2/shadow10_2/send_jbr\\\\sigo-seed_10003nodenum_200.csv', '300': '../../get_data/recover_test2/shadow10_2/send_jbr\\\\sigo-seed_10003nodenum_300.csv', '400': '../../get_data/recover_test2/shadow10_2/send_jbr\\\\sigo-seed_10003nodenum_400.csv'}, '10004': {'200': '../../get_data/recover_test2/shadow10_2/send_jbr\\\\sigo-seed_10004nodenum_200.csv', '300': '../../get_data/recover_test2/shadow10_2/send_jbr\\\\sigo-seed_10004nodenum_300.csv', '400': '../../get_data/recover_test2/shadow10_2/send_jbr\\\\sigo-seed_10004nodenum_400.csv'}, '10005': {'200': '../../get_data/recover_test2/shadow10_2/send_jbr\\\\sigo-seed_10005nodenum_200.csv', '300': '../../get_data/recover_test2/shadow10_2/send_jbr\\\\sigo-seed_10005nodenum_300.csv', '400': '../../get_data/recover_test2/shadow10_2/send_jbr\\\\sigo-seed_10005nodenum_400.csv'}, '10006': {'200': '../../get_data/recover_test2/shadow10_2/send_jbr\\\\sigo-seed_10006nodenum_200.csv', '300': '../../get_data/recover_test2/shadow10_2/send_jbr\\\\sigo-seed_10006nodenum_300.csv', '400': '../../get_data/recover_test2/shadow10_2/send_jbr\\\\sigo-seed_10006nodenum_400.csv'}, '10007': {'200': '../../get_data/recover_test2/shadow10_2/send_jbr\\\\sigo-seed_10007nodenum_200.csv', '300': '../../get_data/recover_test2/shadow10_2/send_jbr\\\\sigo-seed_10007nodenum_300.csv', '400': '../../get_data/recover_test2/shadow10_2/send_jbr\\\\sigo-seed_10007nodenum_400.csv'}, '10008': {'200': '../../get_data/recover_test2/shadow10_2/send_jbr\\\\sigo-seed_10008nodenum_200.csv', '300': '../../get_data/recover_test2/shadow10_2/send_jbr\\\\sigo-seed_10008nodenum_300.csv', '400': '../../get_data/recover_test2/shadow10_2/send_jbr\\\\sigo-seed_10008nodenum_400.csv'}, '10009': {'200': '../../get_data/recover_test2/shadow10_2/send_jbr\\\\sigo-seed_10009nodenum_200.csv', '300': '../../get_data/recover_test2/shadow10_2/send_jbr\\\\sigo-seed_10009nodenum_300.csv', '400': '../../get_data/recover_test2/shadow10_2/send_jbr\\\\sigo-seed_10009nodenum_400.csv'}}\n"
     ]
    }
   ],
   "source": [
    "\n",
    "sigo_dict = {}\n",
    "check_seed = seed_list[0]\n",
    "sigo_dict[check_seed] = {}\n",
    "for path in sigo_file_list:\n",
    "    for line in path.splitlines():\n",
    "      match = regex.findall(line) # match[2] = seed ,match[3] = nudenum\n",
    "     \n",
    "    if match[seed_index] == check_seed:\n",
    "        sigo_dict[match[seed_index]][match[node_index]] = path\n",
    "    else:#ロープ中seed値が変わるとき\n",
    "        sigo_dict[match[seed_index]] = {}\n",
    "        sigo_dict[match[seed_index]][match[node_index]] = path\n",
    "        check_seed = match[seed_index] #seed値の更新\n",
    "        \n",
    "send_sigo_dict = {}\n",
    "check_seed = seed_list[0]\n",
    "send_sigo_dict[check_seed] = {}\n",
    "for path in send_sigo_file_list:\n",
    "    for line in path.splitlines():\n",
    "      match = regex.findall(line) # match[2] = seed ,match[3] = nudenum\n",
    "     \n",
    "    if match[seed_index] == check_seed:\n",
    "        send_sigo_dict[match[seed_index]][match[node_index]] = path\n",
    "    else:#ロープ中seed値が変わるとき\n",
    "        send_sigo_dict[match[seed_index]] = {}\n",
    "        send_sigo_dict[match[seed_index]][match[node_index]] = path\n",
    "        check_seed = match[seed_index] #seed値の更新\n",
    "        \n",
    "\n",
    "print(sigo_dict)\n",
    "print(send_sigo_dict)"
   ]
  },
  {
   "cell_type": "code",
   "execution_count": 7,
   "metadata": {},
   "outputs": [],
   "source": [
    "def packet_ratio(path):\n",
    "    #csvファイルの取得\n",
    "    path_df = pd.read_csv(path)\n",
    "    dest_list = path_df['destination_id'].value_counts().index.tolist() #重複なしのdestination_idを格納\n",
    "    #目的地に届いたidだけをlistに保存\n",
    "    reach_list = path_df[path_df['recv_id'] == path_df['destination_id']]['destination_id'].value_counts().index.tolist()\n",
    "#     PDR = len(reach_list)/len(dest_list)\n",
    "    PDR = len(reach_list)/10\n",
    "    \n",
    "#     *************** len(dest_list): destination_idのリストをいったん10個で定義\n",
    "    return PDR\n",
    "\n",
    "def packet_hop(path):\n",
    "    path_df = pd.read_csv(path)\n",
    "    dest_list = path_df['destination_id'].value_counts().index.tolist() #重複なしのdestination_idを格納\n",
    "    #目的地に届いたidだけをlistに保存\n",
    "    reach_list = path_df[path_df['recv_id'] == path_df['destination_id']]['destination_id'] \n",
    "    #reach_listを回す\n",
    "    total_hop = 0\n",
    "    for reach_id in reach_list:\n",
    "        hop = path_df[(path_df['destination_id'] == reach_id) & (path_df['destination_id'] == path_df['recv_id'])]['hopcount']\n",
    "        hop = int(hop.head(1).iloc[-1])\n",
    "        total_hop += hop\n",
    "    if(len(reach_list) != 0):\n",
    "        average_hop = total_hop / len(reach_list)\n",
    "    else:\n",
    "        average_hop = total_hop\n",
    "    \n",
    "    return average_hop\n",
    "\n",
    "def packet_delay(path):\n",
    "    delay_list = []\n",
    "    #csvファイルの取得\n",
    "    path_df = pd.read_csv(path)\n",
    "    #目的地に届いたidだけをlistに保存\n",
    "    reach_list = path_df[path_df['recv_id'] == path_df['destination_id']]['destination_id'].value_counts().index.tolist()\n",
    "    #reach_listを回す\n",
    "    if (len(reach_list) == 0):\n",
    "        delay = 0\n",
    "        print('reach_list none')\n",
    "        return delay\n",
    "    for reach_id in reach_list:\n",
    "        source_time = path_df[path_df['destination_id'] == reach_id]['time']\n",
    "        recv_time = path_df[(path_df['destination_id'] == reach_id) & (path_df['destination_id'] == path_df['recv_id'])]['time']\n",
    "        delay = int(recv_time.head(1).iloc[-1]) - int(source_time.head(1).iloc[-1])\n",
    "        delay = delay / 1000000\n",
    "        delay_list.append(delay)\n",
    "    delay_mean = np.mean(delay_list)\n",
    "    return delay_mean\n",
    "\n",
    "def packet_over_head_send(send_path, recv_path):\n",
    "    send_path_df = pd.read_csv(send_path)\n",
    "    send_column_num = len(send_path_df.columns) #カラム数を取得\n",
    "#     display(path_df.iloc[:,send_column_num-1]) 末尾の取得方法　path_df = pd.read_csv(recv_path)末尾=送信ログ(送信したかどうか)\n",
    "    #目的地に届いたidだけをlistに保存\n",
    "    recv_path_df = pd.read_csv(recv_path)\n",
    "    reach_list = recv_path_df[recv_path_df['recv_id'] == recv_path_df['destination_id']]['destination_id'].value_counts().index.tolist()\n",
    "    send_count = send_path_df[send_path_df.iloc[:,send_column_num-1] == 1].value_counts() #最後のカラムの値が1\n",
    "#     print(len(send_count))\n",
    "    if(len(reach_list) != 0):\n",
    "        overhead = len(send_count)/len(reach_list)\n",
    "    else:\n",
    "        overhead = len(send_count)\n",
    "    return overhead"
   ]
  },
  {
   "cell_type": "code",
   "execution_count": 11,
   "metadata": {},
   "outputs": [],
   "source": [
    "def col_average(seeds):\n",
    "    new_list = []\n",
    "    for seed in seeds:\n",
    "        del seed[len(nodenum_list)] #1列ずつ平均を算出するうえで邪魔なseed値を消していく seedの個数 \n",
    "        new_list.append(seed)\n",
    "#     np.set_printoptions(precision=3, suppress=True)\n",
    "    np_new_list = np.array(new_list)\n",
    "    return np.mean(np_new_list, axis=0)"
   ]
  },
  {
   "cell_type": "code",
   "execution_count": 12,
   "metadata": {},
   "outputs": [],
   "source": [
    "def header(protocol, writer, index):\n",
    "    writer.writerow([])\n",
    "    writer.writerow([protocol, index])\n",
    "    writer.writerow(['200','300','400','seed'])"
   ]
  },
  {
   "cell_type": "code",
   "execution_count": 13,
   "metadata": {},
   "outputs": [
    {
     "name": "stdout",
     "output_type": "stream",
     "text": [
      "reach_list none\n",
      "10001\n",
      "10001\n",
      "10001\n",
      "10002\n",
      "10002\n",
      "10002\n",
      "10003\n",
      "10003\n",
      "10003\n",
      "10004\n",
      "10004\n",
      "10004\n",
      "10005\n",
      "10005\n",
      "10005\n",
      "10006\n",
      "10006\n",
      "10006\n",
      "10007\n",
      "10007\n",
      "10007\n",
      "10008\n",
      "10008\n",
      "10008\n",
      "10009\n",
      "10009\n",
      "10009\n",
      "finish\n"
     ]
    }
   ],
   "source": [
    "def write(seeds):\n",
    "    for seed in seeds:\n",
    "        writer.writerow(seed)\n",
    "\n",
    "with open(evaluation_path + '/' + protocol + '/jbr_test.csv', 'w', newline='') as csv_file:\n",
    "    #---------------------------PDR---------------------------\n",
    "    sigo_pdr_average_list = []\n",
    "    sigo_delay_average_list = []\n",
    "    sigo_overhead_average_list = []\n",
    "    sigo_hop_average_list = []\n",
    "    \n",
    "    #headerを設定\n",
    "    writer = csv.writer(csv_file)\n",
    "    header(protocol, writer, 'PDR')\n",
    "    #--sigo--#\n",
    "    for seed in seed_list:\n",
    "        sigo_pdr_ratio_list = []\n",
    "        for node in nodenum_list:\n",
    "            path = sigo_dict[seed][node]\n",
    "            ratio = packet_ratio(path)\n",
    "            sigo_pdr_ratio_list.append(ratio)\n",
    "        sigo_pdr_ratio_list.append(seed)\n",
    "        writer.writerow(sigo_pdr_ratio_list)\n",
    "        sigo_pdr_average_list.append(sigo_pdr_ratio_list)\n",
    "    #------------------------delay-----------------------\n",
    "    header(protocol, writer, 'delay')\n",
    "    #--sigo--#\n",
    "    for seed in seed_list:\n",
    "        sigo_delay_list = []\n",
    "        for node in nodenum_list:\n",
    "            path = sigo_dict[seed][node]\n",
    "            delay = packet_delay(path)\n",
    "            sigo_delay_list.append(delay)\n",
    "        sigo_delay_list.append(seed)\n",
    "        writer.writerow(sigo_delay_list)\n",
    "        sigo_delay_average_list.append(sigo_delay_list)    \n",
    "    #------------------------overhead-----------------------\n",
    "    header(protocol, writer, 'Overhead')\n",
    "    #--sigo--#\n",
    "    for seed in seed_list:\n",
    "        sigo_overhead_list = []\n",
    "        for node in nodenum_list:\n",
    "            recv_path = sigo_dict[seed][node]\n",
    "            print(seed)\n",
    "            send_path = send_sigo_dict[seed][node]\n",
    "#             print('path', 'seed', seed)\n",
    "            overhead = packet_over_head_send(send_path, recv_path)\n",
    "            sigo_overhead_list.append(overhead)\n",
    "        sigo_overhead_list.append(seed)\n",
    "        writer.writerow(sigo_overhead_list)\n",
    "        sigo_overhead_average_list.append(sigo_overhead_list)\n",
    "    #------------------------Hop-----------------------\n",
    "    header(protocol, writer, 'Hop')\n",
    "    #--sigo--#\n",
    "    for seed in seed_list:\n",
    "        sigo_hop_list = []\n",
    "        for node in nodenum_list:\n",
    "            path = sigo_dict[seed][node]\n",
    "            hop = packet_hop(path)\n",
    "            sigo_hop_list.append(hop)\n",
    "        sigo_hop_list.append(seed)\n",
    "        writer.writerow(sigo_hop_list)\n",
    "        sigo_hop_average_list.append(sigo_hop_list)\n",
    "        \n",
    "    header(protocol, writer , 'PDR-average')\n",
    "    writer.writerow(col_average(sigo_pdr_average_list))\n",
    "    header(protocol, writer , 'delay-average')\n",
    "    writer.writerow(col_average(sigo_delay_average_list))\n",
    "    header(protocol, writer , 'overhead-average')\n",
    "    writer.writerow(col_average(sigo_overhead_average_list))\n",
    "    header(protocol, writer , 'hop-average')\n",
    "    writer.writerow(col_average(sigo_hop_average_list))\n",
    "    print('finish')"
   ]
  },
  {
   "cell_type": "code",
   "execution_count": 19,
   "metadata": {},
   "outputs": [
    {
     "name": "stdout",
     "output_type": "stream",
     "text": [
      "sigo -----------------\n",
      "seed 10050 node_num 200\n",
      "seed 10050 node_num 300\n",
      "seed 10050 node_num 400\n"
     ]
    }
   ],
   "source": [
    "#sigo\n",
    "print('sigo -----------------')\n",
    "for seed in seed_list:\n",
    "        sigo_delay_list = []\n",
    "        for node in nodenum_list:\n",
    "            if(node not in sigo_dict[seed]):\n",
    "                print(\"seed\", seed, 'node_num', node)"
   ]
  },
  {
   "cell_type": "code",
   "execution_count": 98,
   "metadata": {},
   "outputs": [
    {
     "data": {
      "text/plain": [
       "'../../get_data/interRange_20/shadow20_2Performance_evaluation_5_30.csv'"
      ]
     },
     "execution_count": 98,
     "metadata": {},
     "output_type": "execute_result"
    }
   ],
   "source": [
    "evaluation_path + 'Performance_evaluation_5_30.csv'"
   ]
  },
  {
   "cell_type": "code",
   "execution_count": null,
   "metadata": {},
   "outputs": [],
   "source": []
  },
  {
   "cell_type": "code",
   "execution_count": null,
   "metadata": {},
   "outputs": [],
   "source": []
  },
  {
   "cell_type": "code",
   "execution_count": null,
   "metadata": {},
   "outputs": [],
   "source": []
  },
  {
   "cell_type": "code",
   "execution_count": null,
   "metadata": {},
   "outputs": [],
   "source": []
  },
  {
   "cell_type": "code",
   "execution_count": null,
   "metadata": {},
   "outputs": [],
   "source": []
  }
 ],
 "metadata": {
  "kernelspec": {
   "display_name": "Python 3",
   "language": "python",
   "name": "python3"
  },
  "language_info": {
   "codemirror_mode": {
    "name": "ipython",
    "version": 3
   },
   "file_extension": ".py",
   "mimetype": "text/x-python",
   "name": "python",
   "nbconvert_exporter": "python",
   "pygments_lexer": "ipython3",
   "version": "3.8.5"
  }
 },
 "nbformat": 4,
 "nbformat_minor": 4
}
