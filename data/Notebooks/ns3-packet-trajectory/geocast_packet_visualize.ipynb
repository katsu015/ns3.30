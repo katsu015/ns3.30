{
 "cells": [
  {
   "cell_type": "code",
   "execution_count": 19,
   "metadata": {},
   "outputs": [],
   "source": [
    "import pandas as pd\n",
    "import cv2\n",
    "import numpy as np\n",
    "import matplotlib.pyplot as plt\n",
    "#jupyter内で画像を表示\n",
    "%matplotlib inline \n",
    "#別ウィンドウで画像表示\n",
    "# %matplotlib qt \n",
    "import csv\n",
    "import json\n",
    "from ipywidgets import interact, interactive, fixed, RadioButtons\n",
    "import ipywidgets as widgets\n",
    "from IPython.display import display\n",
    "import pathlib\n",
    "seed = '10013'\n",
    "node_num = '400'\n",
    "shadow = 'shadow30_2'\n",
    "sigo_path = pathlib.Path('../../get_data/geocast/' + shadow + '/gsigo/gsigo-seed_' +seed +'nodenum_' +node_num+'.csv')\n",
    "lsgo_path = pathlib.Path('../../get_data/geocast/' + shadow + '/glsgo/glsgo-seed_' +seed +'nodenum_' +node_num+'.csv')\n",
    "# sigo_path = pathlib.Path('../../ns3.30/data/no_buildings/sigo/sigo-seed_' +seed +'nodenum_' +node_num+'.csv')\n",
    "# lsgo_path = pathlib.Path('../../ns3.30/data/no_buildings/lsgo/lsgo-seed_' +seed +'nodenum_' +node_num+'.csv')"
   ]
  },
  {
   "cell_type": "markdown",
   "metadata": {},
   "source": [
    "# csvファイルの取得\n",
    "pandasを利用：https://note.nkmk.me/python-pandas-value-counts/"
   ]
  },
  {
   "cell_type": "code",
   "execution_count": 20,
   "metadata": {},
   "outputs": [],
   "source": [
    "sigo_df = pd.read_csv(sigo_path)\n",
    "lsgo_df = pd.read_csv(lsgo_path)"
   ]
  },
  {
   "cell_type": "code",
   "execution_count": 21,
   "metadata": {},
   "outputs": [
    {
     "name": "stdout",
     "output_type": "stream",
     "text": [
      "..\\..\\get_data\\geocast\\shadow30_2\\gsigo\\gsigo-seed_10013nodenum_400.csv\n",
      "..\\..\\get_data\\geocast\\shadow30_2\\glsgo\\glsgo-seed_10013nodenum_400.csv\n"
     ]
    }
   ],
   "source": [
    "print(sigo_path)\n",
    "print(lsgo_path)"
   ]
  },
  {
   "cell_type": "markdown",
   "metadata": {},
   "source": [
    "# source_idごとのパケット数"
   ]
  },
  {
   "cell_type": "code",
   "execution_count": 22,
   "metadata": {
    "scrolled": true
   },
   "outputs": [
    {
     "data": {
      "text/plain": [
       "{7: 160,\n",
       " 379: 130,\n",
       " 199: 118,\n",
       " 343: 113,\n",
       " 170: 95,\n",
       " 230: 61,\n",
       " 165: 33,\n",
       " 27: 29,\n",
       " 346: 20,\n",
       " 11: 19}"
      ]
     },
     "execution_count": 22,
     "metadata": {},
     "output_type": "execute_result"
    }
   ],
   "source": [
    "lsgo_df['source_id'].value_counts().to_dict()"
   ]
  },
  {
   "cell_type": "markdown",
   "metadata": {},
   "source": [
    "\n",
    "destination_id を重複なしにリスト保存"
   ]
  },
  {
   "cell_type": "code",
   "execution_count": 23,
   "metadata": {},
   "outputs": [
    {
     "data": {
      "text/plain": [
       "{165: 168,\n",
       " 343: 163,\n",
       " 11: 141,\n",
       " 379: 108,\n",
       " 199: 101,\n",
       " 346: 95,\n",
       " 7: 88,\n",
       " 27: 70,\n",
       " 230: 22,\n",
       " 170: 18}"
      ]
     },
     "execution_count": 23,
     "metadata": {},
     "output_type": "execute_result"
    }
   ],
   "source": [
    "sigo_df['source_id'].value_counts().to_dict()"
   ]
  },
  {
   "cell_type": "code",
   "execution_count": 24,
   "metadata": {},
   "outputs": [
    {
     "data": {
      "text/plain": [
       "10"
      ]
     },
     "execution_count": 24,
     "metadata": {},
     "output_type": "execute_result"
    }
   ],
   "source": [
    "source_list =lsgo_df['source_id'].value_counts().index.tolist()\n",
    "source_list.sort()\n",
    "len(source_list)"
   ]
  },
  {
   "cell_type": "code",
   "execution_count": 25,
   "metadata": {},
   "outputs": [
    {
     "data": {
      "text/plain": [
       "10"
      ]
     },
     "execution_count": 25,
     "metadata": {},
     "output_type": "execute_result"
    }
   ],
   "source": [
    "source_list = sigo_df['source_id'].value_counts().index.tolist()\n",
    "source_list.sort()\n",
    "len(source_list)"
   ]
  },
  {
   "cell_type": "markdown",
   "metadata": {},
   "source": [
    "sigoとlsgoそれぞれ目的地に届いたidだけをlistに保存"
   ]
  },
  {
   "cell_type": "markdown",
   "metadata": {},
   "source": [
    "# 軌跡描画"
   ]
  },
  {
   "cell_type": "code",
   "execution_count": 26,
   "metadata": {},
   "outputs": [],
   "source": [
    "def draw_source_area(log, img_area):\n",
    "    MR = 150 #中心座標とmulticast regionの距離\n",
    "    #multicast region 中心座標描画\n",
    "    cv2.circle(img=img_area, center=(log.destination_x,\n",
    "                           log.destination_y), radius=15, color=(255,0,255), thickness=-1)\n",
    "    cv2.rectangle(img_area, (log.destination_x - MR, log.destination_y - MR), (log.destination_x + MR, log.destination_y + MR), (255, 255, 0),thickness=8)\n",
    "    #source nodeを視覚で囲む\n",
    "    cv2.rectangle(img_area, (log.send_x - 15, log.send_y - 15), (log.send_x + 15, log.send_y + 15), (255, 255, 0),thickness=8)\n",
    "    #方眼\n",
    "    plt.figure(figsize=(10, 10))\n",
    "    print('グラフサイズ')\n",
    "    plt.grid(color='w', linestyle='dotted', linewidth=1.0)\n",
    "    plt.xlim([0, 1000])\n",
    "    plt.xticks([1000,800,600,400,200, 0]) \n",
    "    plt.ylim([0, 1000])\n",
    "    plt.yticks([1000,800,600,400,200, 0])  #メモリの間隔を指定 \n",
    "    print('source_area 描画')\n",
    "\n",
    "# パケットの軌跡を描画\n",
    "def draw(log,count,img_area,protocol,text):\n",
    "    flooding_color = (0, 128, 0)\n",
    "    if protocol == 'sigo':\n",
    "        line_color = (0, 255, 0)\n",
    "        thick = 7\n",
    "        des_thick = 8\n",
    "    else:\n",
    "        line_color = (255, 0, 0)\n",
    "        thick = 2\n",
    "        des_thick = 2\n",
    "    \n",
    "    if log.recv_priority == 10000000:\n",
    "        cv2.arrowedLine(img_area,(log.send_x, log.send_y), \n",
    "                            (log.recv_x, log.recv_y), flooding_color, thickness=thick, tipLength=0.1)\n",
    "        cv2.circle(img=img_area, center=(log.send_x,\n",
    "                           log.send_y), radius=5, color=(255,0,0), thickness=-1)\n",
    "        cv2.circle(img=img_area, center=(log.recv_x,\n",
    "                           log.recv_y), radius=5, color=(255,0,0), thickness=-1)\n",
    "    else:\n",
    "        cv2.arrowedLine(img_area,(log.send_x, log.send_y), \n",
    "                            (log.recv_x, log.recv_y), line_color, thickness=thick, tipLength=0.1)\n",
    "        cv2.circle(img=img_area, center=(log.send_x,\n",
    "                           log.send_y), radius=5, color=(255,0,0), thickness=-1)\n",
    "        cv2.circle(img=img_area, center=(log.recv_x,\n",
    "                           log.recv_y), radius=5, color=(255,0,0), thickness=-1)"
   ]
  },
  {
   "cell_type": "code",
   "execution_count": 27,
   "metadata": {
    "scrolled": false
   },
   "outputs": [
    {
     "data": {
      "application/vnd.jupyter.widget-view+json": {
       "model_id": "239b2e3544e54583a5d6f460f6c3d0d4",
       "version_major": 2,
       "version_minor": 0
      },
      "text/plain": [
       "interactive(children=(Dropdown(description='protocol', options=('lsgo', 'sigo', 'both'), value='lsgo'), Dropdo…"
      ]
     },
     "metadata": {},
     "output_type": "display_data"
    }
   ],
   "source": [
    "img_area = np.zeros(shape=(1000,1000, 3), dtype=np.int16)\n",
    "protocol_list = [\"lsgo\", \"sigo\", \"both\"]\n",
    "text_list = [\"なし\", \"あり\"]\n",
    "\n",
    "#packetの軌跡を描画 \n",
    "@interact(minHop=(0,19,1), maxHop=(1,21, 1), sourceId=source_list, protocol = protocol_list, text = text_list)\n",
    "def packetDraw(protocol, sourceId, minHop=0, maxHop = 21, text = \"なし\"):\n",
    "    \n",
    "    img_area = np.zeros(shape=(2100,2100, 3), dtype=np.int16)\n",
    "    count = 1\n",
    "    if protocol == 'sigo':\n",
    "        for log in sigo_df[sigo_df['source_id'] == sourceId].itertuples():\n",
    "            if count == 1:\n",
    "                draw_source_area(log, img_area)\n",
    "                count = count +1\n",
    "            if log.hopcount >= minHop and log.hopcount <= maxHop:\n",
    "                draw(log,count,img_area,protocol,text)\n",
    "        plt.imshow(img_area)\n",
    "    elif protocol == 'lsgo':\n",
    "        for log in lsgo_df[lsgo_df['source_id'] == sourceId].itertuples():\n",
    "            if count == 1:\n",
    "                draw_source_area(log, img_area)\n",
    "                count = count +1\n",
    "            if log.hopcount >= minHop and log.hopcount <= maxHop:\n",
    "                draw(log,count,img_area,protocol,text)\n",
    "        plt.imshow(img_area)\n",
    "    else:\n",
    "        \n",
    "        for log in sigo_df[sigo_df['source_id'] == sourceId].itertuples():\n",
    "            if count == 1:\n",
    "                draw_source_area(log, img_area)\n",
    "                count = count +1\n",
    "            if log.hopcount >= minHop and log.hopcount <= maxHop:\n",
    "                draw(log,count,img_area,'sigo',text)\n",
    "        for log in lsgo_df[lsgo_df['source_id'] == sourceId].itertuples():\n",
    "            if log.hopcount >= minHop and log.hopcount <= maxHop:\n",
    "                draw(log,count,img_area,'lsgo',text)\n",
    "        plt.imshow(img_area)"
   ]
  },
  {
   "cell_type": "markdown",
   "metadata": {},
   "source": [
    "210 344"
   ]
  },
  {
   "cell_type": "code",
   "execution_count": null,
   "metadata": {},
   "outputs": [],
   "source": []
  },
  {
   "cell_type": "code",
   "execution_count": null,
   "metadata": {},
   "outputs": [],
   "source": []
  }
 ],
 "metadata": {
  "kernelspec": {
   "display_name": "Python 3",
   "language": "python",
   "name": "python3"
  },
  "language_info": {
   "codemirror_mode": {
    "name": "ipython",
    "version": 3
   },
   "file_extension": ".py",
   "mimetype": "text/x-python",
   "name": "python",
   "nbconvert_exporter": "python",
   "pygments_lexer": "ipython3",
   "version": "3.8.5"
  }
 },
 "nbformat": 4,
 "nbformat_minor": 4
}
