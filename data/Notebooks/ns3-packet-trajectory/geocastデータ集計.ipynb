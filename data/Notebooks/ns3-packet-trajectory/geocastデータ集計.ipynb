{
 "cells": [
  {
   "cell_type": "code",
   "execution_count": 1,
   "metadata": {},
   "outputs": [],
   "source": [
    "import pandas as pd\n",
    "import cv2\n",
    "import numpy as np\n",
    "import matplotlib.pyplot as plt\n",
    "#jupyter内で画像を表示\n",
    "%matplotlib inline \n",
    "#別ウィンドウで画像表示\n",
    "# %matplotlib qt \n",
    "import csv\n",
    "import json\n",
    "from ipywidgets import interact, interactive, fixed, RadioButtons\n",
    "import ipywidgets as widgets\n",
    "from IPython.display import display\n",
    "import pathlib\n",
    "import glob\n",
    "import re\n",
    "import copy"
   ]
  },
  {
   "cell_type": "code",
   "execution_count": 2,
   "metadata": {
    "scrolled": true
   },
   "outputs": [],
   "source": [
    "shadow = 'shadow10_2'\n",
    "evaluation_path = \"../../get_data/geocast_output/\" + shadow + \"/\"\n",
    "sigo_files = glob.glob(evaluation_path + \"gsigo/*\")\n",
    "sigo_file_list = []\n",
    "for file in sigo_files:\n",
    "    sigo_file_list.append(file)\n",
    "\n",
    "# print('receive log')\n",
    "# print(sigo_file_list)"
   ]
  },
  {
   "cell_type": "code",
   "execution_count": 3,
   "metadata": {},
   "outputs": [],
   "source": [
    "shadow = 'shadow10_2'\n",
    "evaluation_path = \"../../get_data/geocast_output/\" + shadow + \"/\"\n",
    "lsgo_files = glob.glob(evaluation_path + \"glsgo/*\")\n",
    "lsgo_file_list = []\n",
    "for file in lsgo_files:\n",
    "    lsgo_file_list.append(file)\n",
    "\n",
    "# print('receive log')\n",
    "# print(lsgo_file_list)"
   ]
  },
  {
   "cell_type": "markdown",
   "metadata": {},
   "source": [
    "# seed値リストを登録"
   ]
  },
  {
   "cell_type": "code",
   "execution_count": 4,
   "metadata": {},
   "outputs": [
    {
     "name": "stdout",
     "output_type": "stream",
     "text": [
      "['10001', '10002', '10003', '10004', '10005', '10006', '10007', '10008', '10009', '10010', '10011', '10012', '10013', '10014', '10015', '10016', '10017', '10018', '10019', '10020', '10021', '10022', '10023', '10024', '10025', '10026', '10027', '10028', '10029', '10030', '10031', '10032', '10033', '10034', '10035', '10036', '10037', '10038', '10039', '10040', '10041', '10042', '10043', '10044', '10045', '10046', '10047', '10048', '10049', '10050', '10051', '10052', '10053', '10054', '10055', '10056', '10057', '10058', '10059', '10060', '10061', '10062', '10063', '10064', '10065', '10066', '10067', '10068', '10069', '10070', '10071', '10072', '10073', '10074', '10075', '10076', '10077', '10078', '10079', '10080', '10081', '10082', '10083', '10084', '10085', '10086', '10087', '10088', '10089', '10090', '10091', '10092', '10093', '10094', '10095', '10096', '10097', '10098', '10099']\n",
      "simulation 試行回数 99\n"
     ]
    }
   ],
   "source": [
    "seed_index = 2\n",
    "node_index = 3\n",
    "seed_list = []\n",
    "nodenum_list = ['200', '300', '400'] ###############nodenumの形式を変更したらここはベタ打ちで変更を加える\n",
    "regex = re.compile('\\d+')\n",
    "\n",
    "for path in sigo_file_list:\n",
    "    for line in path.splitlines():\n",
    "        match = regex.findall(line)\n",
    "        if match[seed_index] not in seed_list:\n",
    "            seed_list.append(match[seed_index])\n",
    "            \n",
    "print(seed_list)\n",
    "print('simulation 試行回数',len(seed_list))"
   ]
  },
  {
   "cell_type": "code",
   "execution_count": 5,
   "metadata": {
    "scrolled": true
   },
   "outputs": [
    {
     "name": "stdout",
     "output_type": "stream",
     "text": [
      "{'10001': {'200': '../../get_data/geocast_output/shadow10_2/gsigo\\\\gsigo-seed_10001nodenum_200.csv', '300': '../../get_data/geocast_output/shadow10_2/gsigo\\\\gsigo-seed_10001nodenum_300.csv', '400': '../../get_data/geocast_output/shadow10_2/gsigo\\\\gsigo-seed_10001nodenum_400.csv'}, '10002': {'200': '../../get_data/geocast_output/shadow10_2/gsigo\\\\gsigo-seed_10002nodenum_200.csv', '300': '../../get_data/geocast_output/shadow10_2/gsigo\\\\gsigo-seed_10002nodenum_300.csv', '400': '../../get_data/geocast_output/shadow10_2/gsigo\\\\gsigo-seed_10002nodenum_400.csv'}, '10003': {'200': '../../get_data/geocast_output/shadow10_2/gsigo\\\\gsigo-seed_10003nodenum_200.csv', '300': '../../get_data/geocast_output/shadow10_2/gsigo\\\\gsigo-seed_10003nodenum_300.csv', '400': '../../get_data/geocast_output/shadow10_2/gsigo\\\\gsigo-seed_10003nodenum_400.csv'}, '10004': {'200': '../../get_data/geocast_output/shadow10_2/gsigo\\\\gsigo-seed_10004nodenum_200.csv', '300': '../../get_data/geocast_output/shadow10_2/gsigo\\\\gsigo-seed_10004nodenum_300.csv', '400': '../../get_data/geocast_output/shadow10_2/gsigo\\\\gsigo-seed_10004nodenum_400.csv'}, '10005': {'200': '../../get_data/geocast_output/shadow10_2/gsigo\\\\gsigo-seed_10005nodenum_200.csv', '300': '../../get_data/geocast_output/shadow10_2/gsigo\\\\gsigo-seed_10005nodenum_300.csv', '400': '../../get_data/geocast_output/shadow10_2/gsigo\\\\gsigo-seed_10005nodenum_400.csv'}, '10006': {'200': '../../get_data/geocast_output/shadow10_2/gsigo\\\\gsigo-seed_10006nodenum_200.csv', '300': '../../get_data/geocast_output/shadow10_2/gsigo\\\\gsigo-seed_10006nodenum_300.csv', '400': '../../get_data/geocast_output/shadow10_2/gsigo\\\\gsigo-seed_10006nodenum_400.csv'}, '10007': {'200': '../../get_data/geocast_output/shadow10_2/gsigo\\\\gsigo-seed_10007nodenum_200.csv', '300': '../../get_data/geocast_output/shadow10_2/gsigo\\\\gsigo-seed_10007nodenum_300.csv', '400': '../../get_data/geocast_output/shadow10_2/gsigo\\\\gsigo-seed_10007nodenum_400.csv'}, '10008': {'200': '../../get_data/geocast_output/shadow10_2/gsigo\\\\gsigo-seed_10008nodenum_200.csv', '300': '../../get_data/geocast_output/shadow10_2/gsigo\\\\gsigo-seed_10008nodenum_300.csv', '400': '../../get_data/geocast_output/shadow10_2/gsigo\\\\gsigo-seed_10008nodenum_400.csv'}, '10009': {'200': '../../get_data/geocast_output/shadow10_2/gsigo\\\\gsigo-seed_10009nodenum_200.csv', '300': '../../get_data/geocast_output/shadow10_2/gsigo\\\\gsigo-seed_10009nodenum_300.csv', '400': '../../get_data/geocast_output/shadow10_2/gsigo\\\\gsigo-seed_10009nodenum_400.csv'}, '10010': {'200': '../../get_data/geocast_output/shadow10_2/gsigo\\\\gsigo-seed_10010nodenum_200.csv', '300': '../../get_data/geocast_output/shadow10_2/gsigo\\\\gsigo-seed_10010nodenum_300.csv', '400': '../../get_data/geocast_output/shadow10_2/gsigo\\\\gsigo-seed_10010nodenum_400.csv'}, '10011': {'200': '../../get_data/geocast_output/shadow10_2/gsigo\\\\gsigo-seed_10011nodenum_200.csv', '300': '../../get_data/geocast_output/shadow10_2/gsigo\\\\gsigo-seed_10011nodenum_300.csv', '400': '../../get_data/geocast_output/shadow10_2/gsigo\\\\gsigo-seed_10011nodenum_400.csv'}, '10012': {'200': '../../get_data/geocast_output/shadow10_2/gsigo\\\\gsigo-seed_10012nodenum_200.csv', '300': '../../get_data/geocast_output/shadow10_2/gsigo\\\\gsigo-seed_10012nodenum_300.csv', '400': '../../get_data/geocast_output/shadow10_2/gsigo\\\\gsigo-seed_10012nodenum_400.csv'}, '10013': {'200': '../../get_data/geocast_output/shadow10_2/gsigo\\\\gsigo-seed_10013nodenum_200.csv', '300': '../../get_data/geocast_output/shadow10_2/gsigo\\\\gsigo-seed_10013nodenum_300.csv', '400': '../../get_data/geocast_output/shadow10_2/gsigo\\\\gsigo-seed_10013nodenum_400.csv'}, '10014': {'200': '../../get_data/geocast_output/shadow10_2/gsigo\\\\gsigo-seed_10014nodenum_200.csv', '300': '../../get_data/geocast_output/shadow10_2/gsigo\\\\gsigo-seed_10014nodenum_300.csv', '400': '../../get_data/geocast_output/shadow10_2/gsigo\\\\gsigo-seed_10014nodenum_400.csv'}, '10015': {'200': '../../get_data/geocast_output/shadow10_2/gsigo\\\\gsigo-seed_10015nodenum_200.csv', '300': '../../get_data/geocast_output/shadow10_2/gsigo\\\\gsigo-seed_10015nodenum_300.csv', '400': '../../get_data/geocast_output/shadow10_2/gsigo\\\\gsigo-seed_10015nodenum_400.csv'}, '10016': {'200': '../../get_data/geocast_output/shadow10_2/gsigo\\\\gsigo-seed_10016nodenum_200.csv', '300': '../../get_data/geocast_output/shadow10_2/gsigo\\\\gsigo-seed_10016nodenum_300.csv', '400': '../../get_data/geocast_output/shadow10_2/gsigo\\\\gsigo-seed_10016nodenum_400.csv'}, '10017': {'200': '../../get_data/geocast_output/shadow10_2/gsigo\\\\gsigo-seed_10017nodenum_200.csv', '300': '../../get_data/geocast_output/shadow10_2/gsigo\\\\gsigo-seed_10017nodenum_300.csv', '400': '../../get_data/geocast_output/shadow10_2/gsigo\\\\gsigo-seed_10017nodenum_400.csv'}, '10018': {'200': '../../get_data/geocast_output/shadow10_2/gsigo\\\\gsigo-seed_10018nodenum_200.csv', '300': '../../get_data/geocast_output/shadow10_2/gsigo\\\\gsigo-seed_10018nodenum_300.csv', '400': '../../get_data/geocast_output/shadow10_2/gsigo\\\\gsigo-seed_10018nodenum_400.csv'}, '10019': {'200': '../../get_data/geocast_output/shadow10_2/gsigo\\\\gsigo-seed_10019nodenum_200.csv', '300': '../../get_data/geocast_output/shadow10_2/gsigo\\\\gsigo-seed_10019nodenum_300.csv', '400': '../../get_data/geocast_output/shadow10_2/gsigo\\\\gsigo-seed_10019nodenum_400.csv'}, '10020': {'200': '../../get_data/geocast_output/shadow10_2/gsigo\\\\gsigo-seed_10020nodenum_200.csv', '300': '../../get_data/geocast_output/shadow10_2/gsigo\\\\gsigo-seed_10020nodenum_300.csv', '400': '../../get_data/geocast_output/shadow10_2/gsigo\\\\gsigo-seed_10020nodenum_400.csv'}, '10021': {'200': '../../get_data/geocast_output/shadow10_2/gsigo\\\\gsigo-seed_10021nodenum_200.csv', '300': '../../get_data/geocast_output/shadow10_2/gsigo\\\\gsigo-seed_10021nodenum_300.csv', '400': '../../get_data/geocast_output/shadow10_2/gsigo\\\\gsigo-seed_10021nodenum_400.csv'}, '10022': {'200': '../../get_data/geocast_output/shadow10_2/gsigo\\\\gsigo-seed_10022nodenum_200.csv', '300': '../../get_data/geocast_output/shadow10_2/gsigo\\\\gsigo-seed_10022nodenum_300.csv', '400': '../../get_data/geocast_output/shadow10_2/gsigo\\\\gsigo-seed_10022nodenum_400.csv'}, '10023': {'200': '../../get_data/geocast_output/shadow10_2/gsigo\\\\gsigo-seed_10023nodenum_200.csv', '300': '../../get_data/geocast_output/shadow10_2/gsigo\\\\gsigo-seed_10023nodenum_300.csv', '400': '../../get_data/geocast_output/shadow10_2/gsigo\\\\gsigo-seed_10023nodenum_400.csv'}, '10024': {'200': '../../get_data/geocast_output/shadow10_2/gsigo\\\\gsigo-seed_10024nodenum_200.csv', '300': '../../get_data/geocast_output/shadow10_2/gsigo\\\\gsigo-seed_10024nodenum_300.csv', '400': '../../get_data/geocast_output/shadow10_2/gsigo\\\\gsigo-seed_10024nodenum_400.csv'}, '10025': {'200': '../../get_data/geocast_output/shadow10_2/gsigo\\\\gsigo-seed_10025nodenum_200.csv', '300': '../../get_data/geocast_output/shadow10_2/gsigo\\\\gsigo-seed_10025nodenum_300.csv', '400': '../../get_data/geocast_output/shadow10_2/gsigo\\\\gsigo-seed_10025nodenum_400.csv'}, '10026': {'200': '../../get_data/geocast_output/shadow10_2/gsigo\\\\gsigo-seed_10026nodenum_200.csv', '300': '../../get_data/geocast_output/shadow10_2/gsigo\\\\gsigo-seed_10026nodenum_300.csv', '400': '../../get_data/geocast_output/shadow10_2/gsigo\\\\gsigo-seed_10026nodenum_400.csv'}, '10027': {'200': '../../get_data/geocast_output/shadow10_2/gsigo\\\\gsigo-seed_10027nodenum_200.csv', '300': '../../get_data/geocast_output/shadow10_2/gsigo\\\\gsigo-seed_10027nodenum_300.csv', '400': '../../get_data/geocast_output/shadow10_2/gsigo\\\\gsigo-seed_10027nodenum_400.csv'}, '10028': {'200': '../../get_data/geocast_output/shadow10_2/gsigo\\\\gsigo-seed_10028nodenum_200.csv', '300': '../../get_data/geocast_output/shadow10_2/gsigo\\\\gsigo-seed_10028nodenum_300.csv', '400': '../../get_data/geocast_output/shadow10_2/gsigo\\\\gsigo-seed_10028nodenum_400.csv'}, '10029': {'200': '../../get_data/geocast_output/shadow10_2/gsigo\\\\gsigo-seed_10029nodenum_200.csv', '300': '../../get_data/geocast_output/shadow10_2/gsigo\\\\gsigo-seed_10029nodenum_300.csv', '400': '../../get_data/geocast_output/shadow10_2/gsigo\\\\gsigo-seed_10029nodenum_400.csv'}, '10030': {'200': '../../get_data/geocast_output/shadow10_2/gsigo\\\\gsigo-seed_10030nodenum_200.csv', '300': '../../get_data/geocast_output/shadow10_2/gsigo\\\\gsigo-seed_10030nodenum_300.csv', '400': '../../get_data/geocast_output/shadow10_2/gsigo\\\\gsigo-seed_10030nodenum_400.csv'}, '10031': {'200': '../../get_data/geocast_output/shadow10_2/gsigo\\\\gsigo-seed_10031nodenum_200.csv', '300': '../../get_data/geocast_output/shadow10_2/gsigo\\\\gsigo-seed_10031nodenum_300.csv', '400': '../../get_data/geocast_output/shadow10_2/gsigo\\\\gsigo-seed_10031nodenum_400.csv'}, '10032': {'200': '../../get_data/geocast_output/shadow10_2/gsigo\\\\gsigo-seed_10032nodenum_200.csv', '300': '../../get_data/geocast_output/shadow10_2/gsigo\\\\gsigo-seed_10032nodenum_300.csv', '400': '../../get_data/geocast_output/shadow10_2/gsigo\\\\gsigo-seed_10032nodenum_400.csv'}, '10033': {'200': '../../get_data/geocast_output/shadow10_2/gsigo\\\\gsigo-seed_10033nodenum_200.csv', '300': '../../get_data/geocast_output/shadow10_2/gsigo\\\\gsigo-seed_10033nodenum_300.csv', '400': '../../get_data/geocast_output/shadow10_2/gsigo\\\\gsigo-seed_10033nodenum_400.csv'}, '10034': {'200': '../../get_data/geocast_output/shadow10_2/gsigo\\\\gsigo-seed_10034nodenum_200.csv', '300': '../../get_data/geocast_output/shadow10_2/gsigo\\\\gsigo-seed_10034nodenum_300.csv', '400': '../../get_data/geocast_output/shadow10_2/gsigo\\\\gsigo-seed_10034nodenum_400.csv'}, '10035': {'200': '../../get_data/geocast_output/shadow10_2/gsigo\\\\gsigo-seed_10035nodenum_200.csv', '300': '../../get_data/geocast_output/shadow10_2/gsigo\\\\gsigo-seed_10035nodenum_300.csv', '400': '../../get_data/geocast_output/shadow10_2/gsigo\\\\gsigo-seed_10035nodenum_400.csv'}, '10036': {'200': '../../get_data/geocast_output/shadow10_2/gsigo\\\\gsigo-seed_10036nodenum_200.csv', '300': '../../get_data/geocast_output/shadow10_2/gsigo\\\\gsigo-seed_10036nodenum_300.csv', '400': '../../get_data/geocast_output/shadow10_2/gsigo\\\\gsigo-seed_10036nodenum_400.csv'}, '10037': {'200': '../../get_data/geocast_output/shadow10_2/gsigo\\\\gsigo-seed_10037nodenum_200.csv', '300': '../../get_data/geocast_output/shadow10_2/gsigo\\\\gsigo-seed_10037nodenum_300.csv', '400': '../../get_data/geocast_output/shadow10_2/gsigo\\\\gsigo-seed_10037nodenum_400.csv'}, '10038': {'200': '../../get_data/geocast_output/shadow10_2/gsigo\\\\gsigo-seed_10038nodenum_200.csv', '300': '../../get_data/geocast_output/shadow10_2/gsigo\\\\gsigo-seed_10038nodenum_300.csv', '400': '../../get_data/geocast_output/shadow10_2/gsigo\\\\gsigo-seed_10038nodenum_400.csv'}, '10039': {'200': '../../get_data/geocast_output/shadow10_2/gsigo\\\\gsigo-seed_10039nodenum_200.csv', '300': '../../get_data/geocast_output/shadow10_2/gsigo\\\\gsigo-seed_10039nodenum_300.csv', '400': '../../get_data/geocast_output/shadow10_2/gsigo\\\\gsigo-seed_10039nodenum_400.csv'}, '10040': {'200': '../../get_data/geocast_output/shadow10_2/gsigo\\\\gsigo-seed_10040nodenum_200.csv', '300': '../../get_data/geocast_output/shadow10_2/gsigo\\\\gsigo-seed_10040nodenum_300.csv', '400': '../../get_data/geocast_output/shadow10_2/gsigo\\\\gsigo-seed_10040nodenum_400.csv'}, '10041': {'200': '../../get_data/geocast_output/shadow10_2/gsigo\\\\gsigo-seed_10041nodenum_200.csv', '300': '../../get_data/geocast_output/shadow10_2/gsigo\\\\gsigo-seed_10041nodenum_300.csv', '400': '../../get_data/geocast_output/shadow10_2/gsigo\\\\gsigo-seed_10041nodenum_400.csv'}, '10042': {'200': '../../get_data/geocast_output/shadow10_2/gsigo\\\\gsigo-seed_10042nodenum_200.csv', '300': '../../get_data/geocast_output/shadow10_2/gsigo\\\\gsigo-seed_10042nodenum_300.csv', '400': '../../get_data/geocast_output/shadow10_2/gsigo\\\\gsigo-seed_10042nodenum_400.csv'}, '10043': {'200': '../../get_data/geocast_output/shadow10_2/gsigo\\\\gsigo-seed_10043nodenum_200.csv', '300': '../../get_data/geocast_output/shadow10_2/gsigo\\\\gsigo-seed_10043nodenum_300.csv', '400': '../../get_data/geocast_output/shadow10_2/gsigo\\\\gsigo-seed_10043nodenum_400.csv'}, '10044': {'200': '../../get_data/geocast_output/shadow10_2/gsigo\\\\gsigo-seed_10044nodenum_200.csv', '300': '../../get_data/geocast_output/shadow10_2/gsigo\\\\gsigo-seed_10044nodenum_300.csv', '400': '../../get_data/geocast_output/shadow10_2/gsigo\\\\gsigo-seed_10044nodenum_400.csv'}, '10045': {'200': '../../get_data/geocast_output/shadow10_2/gsigo\\\\gsigo-seed_10045nodenum_200.csv', '300': '../../get_data/geocast_output/shadow10_2/gsigo\\\\gsigo-seed_10045nodenum_300.csv', '400': '../../get_data/geocast_output/shadow10_2/gsigo\\\\gsigo-seed_10045nodenum_400.csv'}, '10046': {'200': '../../get_data/geocast_output/shadow10_2/gsigo\\\\gsigo-seed_10046nodenum_200.csv', '300': '../../get_data/geocast_output/shadow10_2/gsigo\\\\gsigo-seed_10046nodenum_300.csv', '400': '../../get_data/geocast_output/shadow10_2/gsigo\\\\gsigo-seed_10046nodenum_400.csv'}, '10047': {'200': '../../get_data/geocast_output/shadow10_2/gsigo\\\\gsigo-seed_10047nodenum_200.csv', '300': '../../get_data/geocast_output/shadow10_2/gsigo\\\\gsigo-seed_10047nodenum_300.csv', '400': '../../get_data/geocast_output/shadow10_2/gsigo\\\\gsigo-seed_10047nodenum_400.csv'}, '10048': {'200': '../../get_data/geocast_output/shadow10_2/gsigo\\\\gsigo-seed_10048nodenum_200.csv', '300': '../../get_data/geocast_output/shadow10_2/gsigo\\\\gsigo-seed_10048nodenum_300.csv', '400': '../../get_data/geocast_output/shadow10_2/gsigo\\\\gsigo-seed_10048nodenum_400.csv'}, '10049': {'200': '../../get_data/geocast_output/shadow10_2/gsigo\\\\gsigo-seed_10049nodenum_200.csv', '300': '../../get_data/geocast_output/shadow10_2/gsigo\\\\gsigo-seed_10049nodenum_300.csv', '400': '../../get_data/geocast_output/shadow10_2/gsigo\\\\gsigo-seed_10049nodenum_400.csv'}, '10050': {'200': '../../get_data/geocast_output/shadow10_2/gsigo\\\\gsigo-seed_10050nodenum_200.csv', '300': '../../get_data/geocast_output/shadow10_2/gsigo\\\\gsigo-seed_10050nodenum_300.csv', '400': '../../get_data/geocast_output/shadow10_2/gsigo\\\\gsigo-seed_10050nodenum_400.csv'}, '10051': {'200': '../../get_data/geocast_output/shadow10_2/gsigo\\\\gsigo-seed_10051nodenum_200.csv', '300': '../../get_data/geocast_output/shadow10_2/gsigo\\\\gsigo-seed_10051nodenum_300.csv', '400': '../../get_data/geocast_output/shadow10_2/gsigo\\\\gsigo-seed_10051nodenum_400.csv'}, '10052': {'200': '../../get_data/geocast_output/shadow10_2/gsigo\\\\gsigo-seed_10052nodenum_200.csv', '300': '../../get_data/geocast_output/shadow10_2/gsigo\\\\gsigo-seed_10052nodenum_300.csv', '400': '../../get_data/geocast_output/shadow10_2/gsigo\\\\gsigo-seed_10052nodenum_400.csv'}, '10053': {'200': '../../get_data/geocast_output/shadow10_2/gsigo\\\\gsigo-seed_10053nodenum_200.csv', '300': '../../get_data/geocast_output/shadow10_2/gsigo\\\\gsigo-seed_10053nodenum_300.csv', '400': '../../get_data/geocast_output/shadow10_2/gsigo\\\\gsigo-seed_10053nodenum_400.csv'}, '10054': {'200': '../../get_data/geocast_output/shadow10_2/gsigo\\\\gsigo-seed_10054nodenum_200.csv', '300': '../../get_data/geocast_output/shadow10_2/gsigo\\\\gsigo-seed_10054nodenum_300.csv', '400': '../../get_data/geocast_output/shadow10_2/gsigo\\\\gsigo-seed_10054nodenum_400.csv'}, '10055': {'200': '../../get_data/geocast_output/shadow10_2/gsigo\\\\gsigo-seed_10055nodenum_200.csv', '300': '../../get_data/geocast_output/shadow10_2/gsigo\\\\gsigo-seed_10055nodenum_300.csv', '400': '../../get_data/geocast_output/shadow10_2/gsigo\\\\gsigo-seed_10055nodenum_400.csv'}, '10056': {'200': '../../get_data/geocast_output/shadow10_2/gsigo\\\\gsigo-seed_10056nodenum_200.csv', '300': '../../get_data/geocast_output/shadow10_2/gsigo\\\\gsigo-seed_10056nodenum_300.csv', '400': '../../get_data/geocast_output/shadow10_2/gsigo\\\\gsigo-seed_10056nodenum_400.csv'}, '10057': {'200': '../../get_data/geocast_output/shadow10_2/gsigo\\\\gsigo-seed_10057nodenum_200.csv', '300': '../../get_data/geocast_output/shadow10_2/gsigo\\\\gsigo-seed_10057nodenum_300.csv', '400': '../../get_data/geocast_output/shadow10_2/gsigo\\\\gsigo-seed_10057nodenum_400.csv'}, '10058': {'200': '../../get_data/geocast_output/shadow10_2/gsigo\\\\gsigo-seed_10058nodenum_200.csv', '300': '../../get_data/geocast_output/shadow10_2/gsigo\\\\gsigo-seed_10058nodenum_300.csv', '400': '../../get_data/geocast_output/shadow10_2/gsigo\\\\gsigo-seed_10058nodenum_400.csv'}, '10059': {'200': '../../get_data/geocast_output/shadow10_2/gsigo\\\\gsigo-seed_10059nodenum_200.csv', '300': '../../get_data/geocast_output/shadow10_2/gsigo\\\\gsigo-seed_10059nodenum_300.csv', '400': '../../get_data/geocast_output/shadow10_2/gsigo\\\\gsigo-seed_10059nodenum_400.csv'}, '10060': {'200': '../../get_data/geocast_output/shadow10_2/gsigo\\\\gsigo-seed_10060nodenum_200.csv', '300': '../../get_data/geocast_output/shadow10_2/gsigo\\\\gsigo-seed_10060nodenum_300.csv', '400': '../../get_data/geocast_output/shadow10_2/gsigo\\\\gsigo-seed_10060nodenum_400.csv'}, '10061': {'200': '../../get_data/geocast_output/shadow10_2/gsigo\\\\gsigo-seed_10061nodenum_200.csv', '300': '../../get_data/geocast_output/shadow10_2/gsigo\\\\gsigo-seed_10061nodenum_300.csv', '400': '../../get_data/geocast_output/shadow10_2/gsigo\\\\gsigo-seed_10061nodenum_400.csv'}, '10062': {'200': '../../get_data/geocast_output/shadow10_2/gsigo\\\\gsigo-seed_10062nodenum_200.csv', '300': '../../get_data/geocast_output/shadow10_2/gsigo\\\\gsigo-seed_10062nodenum_300.csv', '400': '../../get_data/geocast_output/shadow10_2/gsigo\\\\gsigo-seed_10062nodenum_400.csv'}, '10063': {'200': '../../get_data/geocast_output/shadow10_2/gsigo\\\\gsigo-seed_10063nodenum_200.csv', '300': '../../get_data/geocast_output/shadow10_2/gsigo\\\\gsigo-seed_10063nodenum_300.csv', '400': '../../get_data/geocast_output/shadow10_2/gsigo\\\\gsigo-seed_10063nodenum_400.csv'}, '10064': {'200': '../../get_data/geocast_output/shadow10_2/gsigo\\\\gsigo-seed_10064nodenum_200.csv', '300': '../../get_data/geocast_output/shadow10_2/gsigo\\\\gsigo-seed_10064nodenum_300.csv', '400': '../../get_data/geocast_output/shadow10_2/gsigo\\\\gsigo-seed_10064nodenum_400.csv'}, '10065': {'200': '../../get_data/geocast_output/shadow10_2/gsigo\\\\gsigo-seed_10065nodenum_200.csv', '300': '../../get_data/geocast_output/shadow10_2/gsigo\\\\gsigo-seed_10065nodenum_300.csv', '400': '../../get_data/geocast_output/shadow10_2/gsigo\\\\gsigo-seed_10065nodenum_400.csv'}, '10066': {'200': '../../get_data/geocast_output/shadow10_2/gsigo\\\\gsigo-seed_10066nodenum_200.csv', '300': '../../get_data/geocast_output/shadow10_2/gsigo\\\\gsigo-seed_10066nodenum_300.csv', '400': '../../get_data/geocast_output/shadow10_2/gsigo\\\\gsigo-seed_10066nodenum_400.csv'}, '10067': {'200': '../../get_data/geocast_output/shadow10_2/gsigo\\\\gsigo-seed_10067nodenum_200.csv', '300': '../../get_data/geocast_output/shadow10_2/gsigo\\\\gsigo-seed_10067nodenum_300.csv', '400': '../../get_data/geocast_output/shadow10_2/gsigo\\\\gsigo-seed_10067nodenum_400.csv'}, '10068': {'200': '../../get_data/geocast_output/shadow10_2/gsigo\\\\gsigo-seed_10068nodenum_200.csv', '300': '../../get_data/geocast_output/shadow10_2/gsigo\\\\gsigo-seed_10068nodenum_300.csv', '400': '../../get_data/geocast_output/shadow10_2/gsigo\\\\gsigo-seed_10068nodenum_400.csv'}, '10069': {'200': '../../get_data/geocast_output/shadow10_2/gsigo\\\\gsigo-seed_10069nodenum_200.csv', '300': '../../get_data/geocast_output/shadow10_2/gsigo\\\\gsigo-seed_10069nodenum_300.csv', '400': '../../get_data/geocast_output/shadow10_2/gsigo\\\\gsigo-seed_10069nodenum_400.csv'}, '10070': {'200': '../../get_data/geocast_output/shadow10_2/gsigo\\\\gsigo-seed_10070nodenum_200.csv', '300': '../../get_data/geocast_output/shadow10_2/gsigo\\\\gsigo-seed_10070nodenum_300.csv', '400': '../../get_data/geocast_output/shadow10_2/gsigo\\\\gsigo-seed_10070nodenum_400.csv'}, '10071': {'200': '../../get_data/geocast_output/shadow10_2/gsigo\\\\gsigo-seed_10071nodenum_200.csv', '300': '../../get_data/geocast_output/shadow10_2/gsigo\\\\gsigo-seed_10071nodenum_300.csv', '400': '../../get_data/geocast_output/shadow10_2/gsigo\\\\gsigo-seed_10071nodenum_400.csv'}, '10072': {'200': '../../get_data/geocast_output/shadow10_2/gsigo\\\\gsigo-seed_10072nodenum_200.csv', '300': '../../get_data/geocast_output/shadow10_2/gsigo\\\\gsigo-seed_10072nodenum_300.csv', '400': '../../get_data/geocast_output/shadow10_2/gsigo\\\\gsigo-seed_10072nodenum_400.csv'}, '10073': {'200': '../../get_data/geocast_output/shadow10_2/gsigo\\\\gsigo-seed_10073nodenum_200.csv', '300': '../../get_data/geocast_output/shadow10_2/gsigo\\\\gsigo-seed_10073nodenum_300.csv', '400': '../../get_data/geocast_output/shadow10_2/gsigo\\\\gsigo-seed_10073nodenum_400.csv'}, '10074': {'200': '../../get_data/geocast_output/shadow10_2/gsigo\\\\gsigo-seed_10074nodenum_200.csv', '300': '../../get_data/geocast_output/shadow10_2/gsigo\\\\gsigo-seed_10074nodenum_300.csv', '400': '../../get_data/geocast_output/shadow10_2/gsigo\\\\gsigo-seed_10074nodenum_400.csv'}, '10075': {'200': '../../get_data/geocast_output/shadow10_2/gsigo\\\\gsigo-seed_10075nodenum_200.csv', '300': '../../get_data/geocast_output/shadow10_2/gsigo\\\\gsigo-seed_10075nodenum_300.csv', '400': '../../get_data/geocast_output/shadow10_2/gsigo\\\\gsigo-seed_10075nodenum_400.csv'}, '10076': {'200': '../../get_data/geocast_output/shadow10_2/gsigo\\\\gsigo-seed_10076nodenum_200.csv', '300': '../../get_data/geocast_output/shadow10_2/gsigo\\\\gsigo-seed_10076nodenum_300.csv', '400': '../../get_data/geocast_output/shadow10_2/gsigo\\\\gsigo-seed_10076nodenum_400.csv'}, '10077': {'200': '../../get_data/geocast_output/shadow10_2/gsigo\\\\gsigo-seed_10077nodenum_200.csv', '300': '../../get_data/geocast_output/shadow10_2/gsigo\\\\gsigo-seed_10077nodenum_300.csv', '400': '../../get_data/geocast_output/shadow10_2/gsigo\\\\gsigo-seed_10077nodenum_400.csv'}, '10078': {'200': '../../get_data/geocast_output/shadow10_2/gsigo\\\\gsigo-seed_10078nodenum_200.csv', '300': '../../get_data/geocast_output/shadow10_2/gsigo\\\\gsigo-seed_10078nodenum_300.csv', '400': '../../get_data/geocast_output/shadow10_2/gsigo\\\\gsigo-seed_10078nodenum_400.csv'}, '10079': {'200': '../../get_data/geocast_output/shadow10_2/gsigo\\\\gsigo-seed_10079nodenum_200.csv', '300': '../../get_data/geocast_output/shadow10_2/gsigo\\\\gsigo-seed_10079nodenum_300.csv', '400': '../../get_data/geocast_output/shadow10_2/gsigo\\\\gsigo-seed_10079nodenum_400.csv'}, '10080': {'200': '../../get_data/geocast_output/shadow10_2/gsigo\\\\gsigo-seed_10080nodenum_200.csv', '300': '../../get_data/geocast_output/shadow10_2/gsigo\\\\gsigo-seed_10080nodenum_300.csv', '400': '../../get_data/geocast_output/shadow10_2/gsigo\\\\gsigo-seed_10080nodenum_400.csv'}, '10081': {'200': '../../get_data/geocast_output/shadow10_2/gsigo\\\\gsigo-seed_10081nodenum_200.csv', '300': '../../get_data/geocast_output/shadow10_2/gsigo\\\\gsigo-seed_10081nodenum_300.csv', '400': '../../get_data/geocast_output/shadow10_2/gsigo\\\\gsigo-seed_10081nodenum_400.csv'}, '10082': {'200': '../../get_data/geocast_output/shadow10_2/gsigo\\\\gsigo-seed_10082nodenum_200.csv', '300': '../../get_data/geocast_output/shadow10_2/gsigo\\\\gsigo-seed_10082nodenum_300.csv', '400': '../../get_data/geocast_output/shadow10_2/gsigo\\\\gsigo-seed_10082nodenum_400.csv'}, '10083': {'200': '../../get_data/geocast_output/shadow10_2/gsigo\\\\gsigo-seed_10083nodenum_200.csv', '300': '../../get_data/geocast_output/shadow10_2/gsigo\\\\gsigo-seed_10083nodenum_300.csv', '400': '../../get_data/geocast_output/shadow10_2/gsigo\\\\gsigo-seed_10083nodenum_400.csv'}, '10084': {'200': '../../get_data/geocast_output/shadow10_2/gsigo\\\\gsigo-seed_10084nodenum_200.csv', '300': '../../get_data/geocast_output/shadow10_2/gsigo\\\\gsigo-seed_10084nodenum_300.csv', '400': '../../get_data/geocast_output/shadow10_2/gsigo\\\\gsigo-seed_10084nodenum_400.csv'}, '10085': {'200': '../../get_data/geocast_output/shadow10_2/gsigo\\\\gsigo-seed_10085nodenum_200.csv', '300': '../../get_data/geocast_output/shadow10_2/gsigo\\\\gsigo-seed_10085nodenum_300.csv', '400': '../../get_data/geocast_output/shadow10_2/gsigo\\\\gsigo-seed_10085nodenum_400.csv'}, '10086': {'200': '../../get_data/geocast_output/shadow10_2/gsigo\\\\gsigo-seed_10086nodenum_200.csv', '300': '../../get_data/geocast_output/shadow10_2/gsigo\\\\gsigo-seed_10086nodenum_300.csv', '400': '../../get_data/geocast_output/shadow10_2/gsigo\\\\gsigo-seed_10086nodenum_400.csv'}, '10087': {'200': '../../get_data/geocast_output/shadow10_2/gsigo\\\\gsigo-seed_10087nodenum_200.csv', '300': '../../get_data/geocast_output/shadow10_2/gsigo\\\\gsigo-seed_10087nodenum_300.csv', '400': '../../get_data/geocast_output/shadow10_2/gsigo\\\\gsigo-seed_10087nodenum_400.csv'}, '10088': {'200': '../../get_data/geocast_output/shadow10_2/gsigo\\\\gsigo-seed_10088nodenum_200.csv', '300': '../../get_data/geocast_output/shadow10_2/gsigo\\\\gsigo-seed_10088nodenum_300.csv', '400': '../../get_data/geocast_output/shadow10_2/gsigo\\\\gsigo-seed_10088nodenum_400.csv'}, '10089': {'200': '../../get_data/geocast_output/shadow10_2/gsigo\\\\gsigo-seed_10089nodenum_200.csv', '300': '../../get_data/geocast_output/shadow10_2/gsigo\\\\gsigo-seed_10089nodenum_300.csv', '400': '../../get_data/geocast_output/shadow10_2/gsigo\\\\gsigo-seed_10089nodenum_400.csv'}, '10090': {'200': '../../get_data/geocast_output/shadow10_2/gsigo\\\\gsigo-seed_10090nodenum_200.csv', '300': '../../get_data/geocast_output/shadow10_2/gsigo\\\\gsigo-seed_10090nodenum_300.csv', '400': '../../get_data/geocast_output/shadow10_2/gsigo\\\\gsigo-seed_10090nodenum_400.csv'}, '10091': {'200': '../../get_data/geocast_output/shadow10_2/gsigo\\\\gsigo-seed_10091nodenum_200.csv', '300': '../../get_data/geocast_output/shadow10_2/gsigo\\\\gsigo-seed_10091nodenum_300.csv', '400': '../../get_data/geocast_output/shadow10_2/gsigo\\\\gsigo-seed_10091nodenum_400.csv'}, '10092': {'200': '../../get_data/geocast_output/shadow10_2/gsigo\\\\gsigo-seed_10092nodenum_200.csv', '300': '../../get_data/geocast_output/shadow10_2/gsigo\\\\gsigo-seed_10092nodenum_300.csv', '400': '../../get_data/geocast_output/shadow10_2/gsigo\\\\gsigo-seed_10092nodenum_400.csv'}, '10093': {'200': '../../get_data/geocast_output/shadow10_2/gsigo\\\\gsigo-seed_10093nodenum_200.csv', '300': '../../get_data/geocast_output/shadow10_2/gsigo\\\\gsigo-seed_10093nodenum_300.csv', '400': '../../get_data/geocast_output/shadow10_2/gsigo\\\\gsigo-seed_10093nodenum_400.csv'}, '10094': {'200': '../../get_data/geocast_output/shadow10_2/gsigo\\\\gsigo-seed_10094nodenum_200.csv', '300': '../../get_data/geocast_output/shadow10_2/gsigo\\\\gsigo-seed_10094nodenum_300.csv', '400': '../../get_data/geocast_output/shadow10_2/gsigo\\\\gsigo-seed_10094nodenum_400.csv'}, '10095': {'200': '../../get_data/geocast_output/shadow10_2/gsigo\\\\gsigo-seed_10095nodenum_200.csv', '300': '../../get_data/geocast_output/shadow10_2/gsigo\\\\gsigo-seed_10095nodenum_300.csv', '400': '../../get_data/geocast_output/shadow10_2/gsigo\\\\gsigo-seed_10095nodenum_400.csv'}, '10096': {'200': '../../get_data/geocast_output/shadow10_2/gsigo\\\\gsigo-seed_10096nodenum_200.csv', '300': '../../get_data/geocast_output/shadow10_2/gsigo\\\\gsigo-seed_10096nodenum_300.csv', '400': '../../get_data/geocast_output/shadow10_2/gsigo\\\\gsigo-seed_10096nodenum_400.csv'}, '10097': {'200': '../../get_data/geocast_output/shadow10_2/gsigo\\\\gsigo-seed_10097nodenum_200.csv', '300': '../../get_data/geocast_output/shadow10_2/gsigo\\\\gsigo-seed_10097nodenum_300.csv', '400': '../../get_data/geocast_output/shadow10_2/gsigo\\\\gsigo-seed_10097nodenum_400.csv'}, '10098': {'200': '../../get_data/geocast_output/shadow10_2/gsigo\\\\gsigo-seed_10098nodenum_200.csv', '300': '../../get_data/geocast_output/shadow10_2/gsigo\\\\gsigo-seed_10098nodenum_300.csv', '400': '../../get_data/geocast_output/shadow10_2/gsigo\\\\gsigo-seed_10098nodenum_400.csv'}, '10099': {'200': '../../get_data/geocast_output/shadow10_2/gsigo\\\\gsigo-seed_10099nodenum_200.csv', '300': '../../get_data/geocast_output/shadow10_2/gsigo\\\\gsigo-seed_10099nodenum_300.csv', '400': '../../get_data/geocast_output/shadow10_2/gsigo\\\\gsigo-seed_10099nodenum_400.csv'}}\n"
     ]
    }
   ],
   "source": [
    "sigo_dict = {}\n",
    "check_seed = seed_list[0]\n",
    "sigo_dict[check_seed] = {}\n",
    "for path in sigo_file_list:\n",
    "    for line in path.splitlines():\n",
    "      match = regex.findall(line) # match[2] = seed ,match[3] = nudenum\n",
    "     \n",
    "    if match[seed_index] == check_seed:\n",
    "        sigo_dict[match[seed_index]][match[node_index]] = path\n",
    "    else:#ロープ中seed値が変わるとき\n",
    "        sigo_dict[match[seed_index]] = {}\n",
    "        sigo_dict[match[seed_index]][match[node_index]] = path\n",
    "        check_seed = match[seed_index] #seed値の更新\n",
    "\n",
    "print(sigo_dict)"
   ]
  },
  {
   "cell_type": "code",
   "execution_count": 6,
   "metadata": {
    "scrolled": true
   },
   "outputs": [
    {
     "name": "stdout",
     "output_type": "stream",
     "text": [
      "{'10001': {'200': '../../get_data/geocast_output/shadow10_2/glsgo\\\\glsgo-seed_10001nodenum_200.csv', '300': '../../get_data/geocast_output/shadow10_2/glsgo\\\\glsgo-seed_10001nodenum_300.csv', '400': '../../get_data/geocast_output/shadow10_2/glsgo\\\\glsgo-seed_10001nodenum_400.csv'}, '10002': {'200': '../../get_data/geocast_output/shadow10_2/glsgo\\\\glsgo-seed_10002nodenum_200.csv', '300': '../../get_data/geocast_output/shadow10_2/glsgo\\\\glsgo-seed_10002nodenum_300.csv', '400': '../../get_data/geocast_output/shadow10_2/glsgo\\\\glsgo-seed_10002nodenum_400.csv'}, '10003': {'200': '../../get_data/geocast_output/shadow10_2/glsgo\\\\glsgo-seed_10003nodenum_200.csv', '300': '../../get_data/geocast_output/shadow10_2/glsgo\\\\glsgo-seed_10003nodenum_300.csv', '400': '../../get_data/geocast_output/shadow10_2/glsgo\\\\glsgo-seed_10003nodenum_400.csv'}, '10004': {'200': '../../get_data/geocast_output/shadow10_2/glsgo\\\\glsgo-seed_10004nodenum_200.csv', '300': '../../get_data/geocast_output/shadow10_2/glsgo\\\\glsgo-seed_10004nodenum_300.csv', '400': '../../get_data/geocast_output/shadow10_2/glsgo\\\\glsgo-seed_10004nodenum_400.csv'}, '10005': {'200': '../../get_data/geocast_output/shadow10_2/glsgo\\\\glsgo-seed_10005nodenum_200.csv', '300': '../../get_data/geocast_output/shadow10_2/glsgo\\\\glsgo-seed_10005nodenum_300.csv', '400': '../../get_data/geocast_output/shadow10_2/glsgo\\\\glsgo-seed_10005nodenum_400.csv'}, '10006': {'200': '../../get_data/geocast_output/shadow10_2/glsgo\\\\glsgo-seed_10006nodenum_200.csv', '300': '../../get_data/geocast_output/shadow10_2/glsgo\\\\glsgo-seed_10006nodenum_300.csv', '400': '../../get_data/geocast_output/shadow10_2/glsgo\\\\glsgo-seed_10006nodenum_400.csv'}, '10007': {'200': '../../get_data/geocast_output/shadow10_2/glsgo\\\\glsgo-seed_10007nodenum_200.csv', '300': '../../get_data/geocast_output/shadow10_2/glsgo\\\\glsgo-seed_10007nodenum_300.csv', '400': '../../get_data/geocast_output/shadow10_2/glsgo\\\\glsgo-seed_10007nodenum_400.csv'}, '10008': {'200': '../../get_data/geocast_output/shadow10_2/glsgo\\\\glsgo-seed_10008nodenum_200.csv', '300': '../../get_data/geocast_output/shadow10_2/glsgo\\\\glsgo-seed_10008nodenum_300.csv', '400': '../../get_data/geocast_output/shadow10_2/glsgo\\\\glsgo-seed_10008nodenum_400.csv'}, '10009': {'200': '../../get_data/geocast_output/shadow10_2/glsgo\\\\glsgo-seed_10009nodenum_200.csv', '300': '../../get_data/geocast_output/shadow10_2/glsgo\\\\glsgo-seed_10009nodenum_300.csv', '400': '../../get_data/geocast_output/shadow10_2/glsgo\\\\glsgo-seed_10009nodenum_400.csv'}, '10010': {'200': '../../get_data/geocast_output/shadow10_2/glsgo\\\\glsgo-seed_10010nodenum_200.csv', '300': '../../get_data/geocast_output/shadow10_2/glsgo\\\\glsgo-seed_10010nodenum_300.csv', '400': '../../get_data/geocast_output/shadow10_2/glsgo\\\\glsgo-seed_10010nodenum_400.csv'}, '10011': {'200': '../../get_data/geocast_output/shadow10_2/glsgo\\\\glsgo-seed_10011nodenum_200.csv', '300': '../../get_data/geocast_output/shadow10_2/glsgo\\\\glsgo-seed_10011nodenum_300.csv', '400': '../../get_data/geocast_output/shadow10_2/glsgo\\\\glsgo-seed_10011nodenum_400.csv'}, '10012': {'200': '../../get_data/geocast_output/shadow10_2/glsgo\\\\glsgo-seed_10012nodenum_200.csv', '300': '../../get_data/geocast_output/shadow10_2/glsgo\\\\glsgo-seed_10012nodenum_300.csv', '400': '../../get_data/geocast_output/shadow10_2/glsgo\\\\glsgo-seed_10012nodenum_400.csv'}, '10013': {'200': '../../get_data/geocast_output/shadow10_2/glsgo\\\\glsgo-seed_10013nodenum_200.csv', '300': '../../get_data/geocast_output/shadow10_2/glsgo\\\\glsgo-seed_10013nodenum_300.csv', '400': '../../get_data/geocast_output/shadow10_2/glsgo\\\\glsgo-seed_10013nodenum_400.csv'}, '10014': {'200': '../../get_data/geocast_output/shadow10_2/glsgo\\\\glsgo-seed_10014nodenum_200.csv', '300': '../../get_data/geocast_output/shadow10_2/glsgo\\\\glsgo-seed_10014nodenum_300.csv', '400': '../../get_data/geocast_output/shadow10_2/glsgo\\\\glsgo-seed_10014nodenum_400.csv'}, '10015': {'200': '../../get_data/geocast_output/shadow10_2/glsgo\\\\glsgo-seed_10015nodenum_200.csv', '300': '../../get_data/geocast_output/shadow10_2/glsgo\\\\glsgo-seed_10015nodenum_300.csv', '400': '../../get_data/geocast_output/shadow10_2/glsgo\\\\glsgo-seed_10015nodenum_400.csv'}, '10016': {'200': '../../get_data/geocast_output/shadow10_2/glsgo\\\\glsgo-seed_10016nodenum_200.csv', '300': '../../get_data/geocast_output/shadow10_2/glsgo\\\\glsgo-seed_10016nodenum_300.csv', '400': '../../get_data/geocast_output/shadow10_2/glsgo\\\\glsgo-seed_10016nodenum_400.csv'}, '10017': {'200': '../../get_data/geocast_output/shadow10_2/glsgo\\\\glsgo-seed_10017nodenum_200.csv', '300': '../../get_data/geocast_output/shadow10_2/glsgo\\\\glsgo-seed_10017nodenum_300.csv', '400': '../../get_data/geocast_output/shadow10_2/glsgo\\\\glsgo-seed_10017nodenum_400.csv'}, '10018': {'200': '../../get_data/geocast_output/shadow10_2/glsgo\\\\glsgo-seed_10018nodenum_200.csv', '300': '../../get_data/geocast_output/shadow10_2/glsgo\\\\glsgo-seed_10018nodenum_300.csv', '400': '../../get_data/geocast_output/shadow10_2/glsgo\\\\glsgo-seed_10018nodenum_400.csv'}, '10019': {'200': '../../get_data/geocast_output/shadow10_2/glsgo\\\\glsgo-seed_10019nodenum_200.csv', '300': '../../get_data/geocast_output/shadow10_2/glsgo\\\\glsgo-seed_10019nodenum_300.csv', '400': '../../get_data/geocast_output/shadow10_2/glsgo\\\\glsgo-seed_10019nodenum_400.csv'}, '10020': {'200': '../../get_data/geocast_output/shadow10_2/glsgo\\\\glsgo-seed_10020nodenum_200.csv', '300': '../../get_data/geocast_output/shadow10_2/glsgo\\\\glsgo-seed_10020nodenum_300.csv', '400': '../../get_data/geocast_output/shadow10_2/glsgo\\\\glsgo-seed_10020nodenum_400.csv'}, '10021': {'200': '../../get_data/geocast_output/shadow10_2/glsgo\\\\glsgo-seed_10021nodenum_200.csv', '300': '../../get_data/geocast_output/shadow10_2/glsgo\\\\glsgo-seed_10021nodenum_300.csv', '400': '../../get_data/geocast_output/shadow10_2/glsgo\\\\glsgo-seed_10021nodenum_400.csv'}, '10022': {'200': '../../get_data/geocast_output/shadow10_2/glsgo\\\\glsgo-seed_10022nodenum_200.csv', '300': '../../get_data/geocast_output/shadow10_2/glsgo\\\\glsgo-seed_10022nodenum_300.csv', '400': '../../get_data/geocast_output/shadow10_2/glsgo\\\\glsgo-seed_10022nodenum_400.csv'}, '10023': {'200': '../../get_data/geocast_output/shadow10_2/glsgo\\\\glsgo-seed_10023nodenum_200.csv', '300': '../../get_data/geocast_output/shadow10_2/glsgo\\\\glsgo-seed_10023nodenum_300.csv', '400': '../../get_data/geocast_output/shadow10_2/glsgo\\\\glsgo-seed_10023nodenum_400.csv'}, '10024': {'200': '../../get_data/geocast_output/shadow10_2/glsgo\\\\glsgo-seed_10024nodenum_200.csv', '300': '../../get_data/geocast_output/shadow10_2/glsgo\\\\glsgo-seed_10024nodenum_300.csv', '400': '../../get_data/geocast_output/shadow10_2/glsgo\\\\glsgo-seed_10024nodenum_400.csv'}, '10025': {'200': '../../get_data/geocast_output/shadow10_2/glsgo\\\\glsgo-seed_10025nodenum_200.csv', '300': '../../get_data/geocast_output/shadow10_2/glsgo\\\\glsgo-seed_10025nodenum_300.csv', '400': '../../get_data/geocast_output/shadow10_2/glsgo\\\\glsgo-seed_10025nodenum_400.csv'}, '10026': {'200': '../../get_data/geocast_output/shadow10_2/glsgo\\\\glsgo-seed_10026nodenum_200.csv', '300': '../../get_data/geocast_output/shadow10_2/glsgo\\\\glsgo-seed_10026nodenum_300.csv', '400': '../../get_data/geocast_output/shadow10_2/glsgo\\\\glsgo-seed_10026nodenum_400.csv'}, '10027': {'200': '../../get_data/geocast_output/shadow10_2/glsgo\\\\glsgo-seed_10027nodenum_200.csv', '300': '../../get_data/geocast_output/shadow10_2/glsgo\\\\glsgo-seed_10027nodenum_300.csv', '400': '../../get_data/geocast_output/shadow10_2/glsgo\\\\glsgo-seed_10027nodenum_400.csv'}, '10028': {'200': '../../get_data/geocast_output/shadow10_2/glsgo\\\\glsgo-seed_10028nodenum_200.csv', '300': '../../get_data/geocast_output/shadow10_2/glsgo\\\\glsgo-seed_10028nodenum_300.csv', '400': '../../get_data/geocast_output/shadow10_2/glsgo\\\\glsgo-seed_10028nodenum_400.csv'}, '10029': {'200': '../../get_data/geocast_output/shadow10_2/glsgo\\\\glsgo-seed_10029nodenum_200.csv', '300': '../../get_data/geocast_output/shadow10_2/glsgo\\\\glsgo-seed_10029nodenum_300.csv', '400': '../../get_data/geocast_output/shadow10_2/glsgo\\\\glsgo-seed_10029nodenum_400.csv'}, '10030': {'200': '../../get_data/geocast_output/shadow10_2/glsgo\\\\glsgo-seed_10030nodenum_200.csv', '300': '../../get_data/geocast_output/shadow10_2/glsgo\\\\glsgo-seed_10030nodenum_300.csv', '400': '../../get_data/geocast_output/shadow10_2/glsgo\\\\glsgo-seed_10030nodenum_400.csv'}, '10031': {'200': '../../get_data/geocast_output/shadow10_2/glsgo\\\\glsgo-seed_10031nodenum_200.csv', '300': '../../get_data/geocast_output/shadow10_2/glsgo\\\\glsgo-seed_10031nodenum_300.csv', '400': '../../get_data/geocast_output/shadow10_2/glsgo\\\\glsgo-seed_10031nodenum_400.csv'}, '10032': {'200': '../../get_data/geocast_output/shadow10_2/glsgo\\\\glsgo-seed_10032nodenum_200.csv', '300': '../../get_data/geocast_output/shadow10_2/glsgo\\\\glsgo-seed_10032nodenum_300.csv', '400': '../../get_data/geocast_output/shadow10_2/glsgo\\\\glsgo-seed_10032nodenum_400.csv'}, '10033': {'200': '../../get_data/geocast_output/shadow10_2/glsgo\\\\glsgo-seed_10033nodenum_200.csv', '300': '../../get_data/geocast_output/shadow10_2/glsgo\\\\glsgo-seed_10033nodenum_300.csv', '400': '../../get_data/geocast_output/shadow10_2/glsgo\\\\glsgo-seed_10033nodenum_400.csv'}, '10034': {'200': '../../get_data/geocast_output/shadow10_2/glsgo\\\\glsgo-seed_10034nodenum_200.csv', '300': '../../get_data/geocast_output/shadow10_2/glsgo\\\\glsgo-seed_10034nodenum_300.csv', '400': '../../get_data/geocast_output/shadow10_2/glsgo\\\\glsgo-seed_10034nodenum_400.csv'}, '10035': {'200': '../../get_data/geocast_output/shadow10_2/glsgo\\\\glsgo-seed_10035nodenum_200.csv', '300': '../../get_data/geocast_output/shadow10_2/glsgo\\\\glsgo-seed_10035nodenum_300.csv', '400': '../../get_data/geocast_output/shadow10_2/glsgo\\\\glsgo-seed_10035nodenum_400.csv'}, '10036': {'200': '../../get_data/geocast_output/shadow10_2/glsgo\\\\glsgo-seed_10036nodenum_200.csv', '300': '../../get_data/geocast_output/shadow10_2/glsgo\\\\glsgo-seed_10036nodenum_300.csv', '400': '../../get_data/geocast_output/shadow10_2/glsgo\\\\glsgo-seed_10036nodenum_400.csv'}, '10037': {'200': '../../get_data/geocast_output/shadow10_2/glsgo\\\\glsgo-seed_10037nodenum_200.csv', '300': '../../get_data/geocast_output/shadow10_2/glsgo\\\\glsgo-seed_10037nodenum_300.csv', '400': '../../get_data/geocast_output/shadow10_2/glsgo\\\\glsgo-seed_10037nodenum_400.csv'}, '10038': {'200': '../../get_data/geocast_output/shadow10_2/glsgo\\\\glsgo-seed_10038nodenum_200.csv', '300': '../../get_data/geocast_output/shadow10_2/glsgo\\\\glsgo-seed_10038nodenum_300.csv', '400': '../../get_data/geocast_output/shadow10_2/glsgo\\\\glsgo-seed_10038nodenum_400.csv'}, '10039': {'200': '../../get_data/geocast_output/shadow10_2/glsgo\\\\glsgo-seed_10039nodenum_200.csv', '300': '../../get_data/geocast_output/shadow10_2/glsgo\\\\glsgo-seed_10039nodenum_300.csv', '400': '../../get_data/geocast_output/shadow10_2/glsgo\\\\glsgo-seed_10039nodenum_400.csv'}, '10040': {'200': '../../get_data/geocast_output/shadow10_2/glsgo\\\\glsgo-seed_10040nodenum_200.csv', '300': '../../get_data/geocast_output/shadow10_2/glsgo\\\\glsgo-seed_10040nodenum_300.csv', '400': '../../get_data/geocast_output/shadow10_2/glsgo\\\\glsgo-seed_10040nodenum_400.csv'}, '10041': {'200': '../../get_data/geocast_output/shadow10_2/glsgo\\\\glsgo-seed_10041nodenum_200.csv', '300': '../../get_data/geocast_output/shadow10_2/glsgo\\\\glsgo-seed_10041nodenum_300.csv', '400': '../../get_data/geocast_output/shadow10_2/glsgo\\\\glsgo-seed_10041nodenum_400.csv'}, '10042': {'200': '../../get_data/geocast_output/shadow10_2/glsgo\\\\glsgo-seed_10042nodenum_200.csv', '300': '../../get_data/geocast_output/shadow10_2/glsgo\\\\glsgo-seed_10042nodenum_300.csv', '400': '../../get_data/geocast_output/shadow10_2/glsgo\\\\glsgo-seed_10042nodenum_400.csv'}, '10043': {'200': '../../get_data/geocast_output/shadow10_2/glsgo\\\\glsgo-seed_10043nodenum_200.csv', '300': '../../get_data/geocast_output/shadow10_2/glsgo\\\\glsgo-seed_10043nodenum_300.csv', '400': '../../get_data/geocast_output/shadow10_2/glsgo\\\\glsgo-seed_10043nodenum_400.csv'}, '10044': {'200': '../../get_data/geocast_output/shadow10_2/glsgo\\\\glsgo-seed_10044nodenum_200.csv', '300': '../../get_data/geocast_output/shadow10_2/glsgo\\\\glsgo-seed_10044nodenum_300.csv', '400': '../../get_data/geocast_output/shadow10_2/glsgo\\\\glsgo-seed_10044nodenum_400.csv'}, '10045': {'200': '../../get_data/geocast_output/shadow10_2/glsgo\\\\glsgo-seed_10045nodenum_200.csv', '300': '../../get_data/geocast_output/shadow10_2/glsgo\\\\glsgo-seed_10045nodenum_300.csv', '400': '../../get_data/geocast_output/shadow10_2/glsgo\\\\glsgo-seed_10045nodenum_400.csv'}, '10046': {'200': '../../get_data/geocast_output/shadow10_2/glsgo\\\\glsgo-seed_10046nodenum_200.csv', '300': '../../get_data/geocast_output/shadow10_2/glsgo\\\\glsgo-seed_10046nodenum_300.csv', '400': '../../get_data/geocast_output/shadow10_2/glsgo\\\\glsgo-seed_10046nodenum_400.csv'}, '10047': {'200': '../../get_data/geocast_output/shadow10_2/glsgo\\\\glsgo-seed_10047nodenum_200.csv', '300': '../../get_data/geocast_output/shadow10_2/glsgo\\\\glsgo-seed_10047nodenum_300.csv', '400': '../../get_data/geocast_output/shadow10_2/glsgo\\\\glsgo-seed_10047nodenum_400.csv'}, '10048': {'200': '../../get_data/geocast_output/shadow10_2/glsgo\\\\glsgo-seed_10048nodenum_200.csv', '300': '../../get_data/geocast_output/shadow10_2/glsgo\\\\glsgo-seed_10048nodenum_300.csv', '400': '../../get_data/geocast_output/shadow10_2/glsgo\\\\glsgo-seed_10048nodenum_400.csv'}, '10049': {'200': '../../get_data/geocast_output/shadow10_2/glsgo\\\\glsgo-seed_10049nodenum_200.csv', '300': '../../get_data/geocast_output/shadow10_2/glsgo\\\\glsgo-seed_10049nodenum_300.csv', '400': '../../get_data/geocast_output/shadow10_2/glsgo\\\\glsgo-seed_10049nodenum_400.csv'}, '10050': {'200': '../../get_data/geocast_output/shadow10_2/glsgo\\\\glsgo-seed_10050nodenum_200.csv', '300': '../../get_data/geocast_output/shadow10_2/glsgo\\\\glsgo-seed_10050nodenum_300.csv', '400': '../../get_data/geocast_output/shadow10_2/glsgo\\\\glsgo-seed_10050nodenum_400.csv'}, '10051': {'200': '../../get_data/geocast_output/shadow10_2/glsgo\\\\glsgo-seed_10051nodenum_200.csv', '300': '../../get_data/geocast_output/shadow10_2/glsgo\\\\glsgo-seed_10051nodenum_300.csv', '400': '../../get_data/geocast_output/shadow10_2/glsgo\\\\glsgo-seed_10051nodenum_400.csv'}, '10052': {'200': '../../get_data/geocast_output/shadow10_2/glsgo\\\\glsgo-seed_10052nodenum_200.csv', '300': '../../get_data/geocast_output/shadow10_2/glsgo\\\\glsgo-seed_10052nodenum_300.csv', '400': '../../get_data/geocast_output/shadow10_2/glsgo\\\\glsgo-seed_10052nodenum_400.csv'}, '10053': {'200': '../../get_data/geocast_output/shadow10_2/glsgo\\\\glsgo-seed_10053nodenum_200.csv', '300': '../../get_data/geocast_output/shadow10_2/glsgo\\\\glsgo-seed_10053nodenum_300.csv', '400': '../../get_data/geocast_output/shadow10_2/glsgo\\\\glsgo-seed_10053nodenum_400.csv'}, '10054': {'200': '../../get_data/geocast_output/shadow10_2/glsgo\\\\glsgo-seed_10054nodenum_200.csv', '300': '../../get_data/geocast_output/shadow10_2/glsgo\\\\glsgo-seed_10054nodenum_300.csv', '400': '../../get_data/geocast_output/shadow10_2/glsgo\\\\glsgo-seed_10054nodenum_400.csv'}, '10055': {'200': '../../get_data/geocast_output/shadow10_2/glsgo\\\\glsgo-seed_10055nodenum_200.csv', '300': '../../get_data/geocast_output/shadow10_2/glsgo\\\\glsgo-seed_10055nodenum_300.csv', '400': '../../get_data/geocast_output/shadow10_2/glsgo\\\\glsgo-seed_10055nodenum_400.csv'}, '10056': {'200': '../../get_data/geocast_output/shadow10_2/glsgo\\\\glsgo-seed_10056nodenum_200.csv', '300': '../../get_data/geocast_output/shadow10_2/glsgo\\\\glsgo-seed_10056nodenum_300.csv', '400': '../../get_data/geocast_output/shadow10_2/glsgo\\\\glsgo-seed_10056nodenum_400.csv'}, '10057': {'200': '../../get_data/geocast_output/shadow10_2/glsgo\\\\glsgo-seed_10057nodenum_200.csv', '300': '../../get_data/geocast_output/shadow10_2/glsgo\\\\glsgo-seed_10057nodenum_300.csv', '400': '../../get_data/geocast_output/shadow10_2/glsgo\\\\glsgo-seed_10057nodenum_400.csv'}, '10058': {'200': '../../get_data/geocast_output/shadow10_2/glsgo\\\\glsgo-seed_10058nodenum_200.csv', '300': '../../get_data/geocast_output/shadow10_2/glsgo\\\\glsgo-seed_10058nodenum_300.csv', '400': '../../get_data/geocast_output/shadow10_2/glsgo\\\\glsgo-seed_10058nodenum_400.csv'}, '10059': {'200': '../../get_data/geocast_output/shadow10_2/glsgo\\\\glsgo-seed_10059nodenum_200.csv', '300': '../../get_data/geocast_output/shadow10_2/glsgo\\\\glsgo-seed_10059nodenum_300.csv', '400': '../../get_data/geocast_output/shadow10_2/glsgo\\\\glsgo-seed_10059nodenum_400.csv'}, '10060': {'200': '../../get_data/geocast_output/shadow10_2/glsgo\\\\glsgo-seed_10060nodenum_200.csv', '300': '../../get_data/geocast_output/shadow10_2/glsgo\\\\glsgo-seed_10060nodenum_300.csv', '400': '../../get_data/geocast_output/shadow10_2/glsgo\\\\glsgo-seed_10060nodenum_400.csv'}, '10061': {'200': '../../get_data/geocast_output/shadow10_2/glsgo\\\\glsgo-seed_10061nodenum_200.csv', '300': '../../get_data/geocast_output/shadow10_2/glsgo\\\\glsgo-seed_10061nodenum_300.csv', '400': '../../get_data/geocast_output/shadow10_2/glsgo\\\\glsgo-seed_10061nodenum_400.csv'}, '10062': {'200': '../../get_data/geocast_output/shadow10_2/glsgo\\\\glsgo-seed_10062nodenum_200.csv', '300': '../../get_data/geocast_output/shadow10_2/glsgo\\\\glsgo-seed_10062nodenum_300.csv', '400': '../../get_data/geocast_output/shadow10_2/glsgo\\\\glsgo-seed_10062nodenum_400.csv'}, '10063': {'200': '../../get_data/geocast_output/shadow10_2/glsgo\\\\glsgo-seed_10063nodenum_200.csv', '300': '../../get_data/geocast_output/shadow10_2/glsgo\\\\glsgo-seed_10063nodenum_300.csv', '400': '../../get_data/geocast_output/shadow10_2/glsgo\\\\glsgo-seed_10063nodenum_400.csv'}, '10064': {'200': '../../get_data/geocast_output/shadow10_2/glsgo\\\\glsgo-seed_10064nodenum_200.csv', '300': '../../get_data/geocast_output/shadow10_2/glsgo\\\\glsgo-seed_10064nodenum_300.csv', '400': '../../get_data/geocast_output/shadow10_2/glsgo\\\\glsgo-seed_10064nodenum_400.csv'}, '10065': {'200': '../../get_data/geocast_output/shadow10_2/glsgo\\\\glsgo-seed_10065nodenum_200.csv', '300': '../../get_data/geocast_output/shadow10_2/glsgo\\\\glsgo-seed_10065nodenum_300.csv', '400': '../../get_data/geocast_output/shadow10_2/glsgo\\\\glsgo-seed_10065nodenum_400.csv'}, '10066': {'200': '../../get_data/geocast_output/shadow10_2/glsgo\\\\glsgo-seed_10066nodenum_200.csv', '300': '../../get_data/geocast_output/shadow10_2/glsgo\\\\glsgo-seed_10066nodenum_300.csv', '400': '../../get_data/geocast_output/shadow10_2/glsgo\\\\glsgo-seed_10066nodenum_400.csv'}, '10067': {'200': '../../get_data/geocast_output/shadow10_2/glsgo\\\\glsgo-seed_10067nodenum_200.csv', '300': '../../get_data/geocast_output/shadow10_2/glsgo\\\\glsgo-seed_10067nodenum_300.csv', '400': '../../get_data/geocast_output/shadow10_2/glsgo\\\\glsgo-seed_10067nodenum_400.csv'}, '10068': {'200': '../../get_data/geocast_output/shadow10_2/glsgo\\\\glsgo-seed_10068nodenum_200.csv', '300': '../../get_data/geocast_output/shadow10_2/glsgo\\\\glsgo-seed_10068nodenum_300.csv', '400': '../../get_data/geocast_output/shadow10_2/glsgo\\\\glsgo-seed_10068nodenum_400.csv'}, '10069': {'200': '../../get_data/geocast_output/shadow10_2/glsgo\\\\glsgo-seed_10069nodenum_200.csv', '300': '../../get_data/geocast_output/shadow10_2/glsgo\\\\glsgo-seed_10069nodenum_300.csv', '400': '../../get_data/geocast_output/shadow10_2/glsgo\\\\glsgo-seed_10069nodenum_400.csv'}, '10070': {'200': '../../get_data/geocast_output/shadow10_2/glsgo\\\\glsgo-seed_10070nodenum_200.csv', '300': '../../get_data/geocast_output/shadow10_2/glsgo\\\\glsgo-seed_10070nodenum_300.csv', '400': '../../get_data/geocast_output/shadow10_2/glsgo\\\\glsgo-seed_10070nodenum_400.csv'}, '10071': {'200': '../../get_data/geocast_output/shadow10_2/glsgo\\\\glsgo-seed_10071nodenum_200.csv', '300': '../../get_data/geocast_output/shadow10_2/glsgo\\\\glsgo-seed_10071nodenum_300.csv', '400': '../../get_data/geocast_output/shadow10_2/glsgo\\\\glsgo-seed_10071nodenum_400.csv'}, '10072': {'200': '../../get_data/geocast_output/shadow10_2/glsgo\\\\glsgo-seed_10072nodenum_200.csv', '300': '../../get_data/geocast_output/shadow10_2/glsgo\\\\glsgo-seed_10072nodenum_300.csv', '400': '../../get_data/geocast_output/shadow10_2/glsgo\\\\glsgo-seed_10072nodenum_400.csv'}, '10073': {'200': '../../get_data/geocast_output/shadow10_2/glsgo\\\\glsgo-seed_10073nodenum_200.csv', '300': '../../get_data/geocast_output/shadow10_2/glsgo\\\\glsgo-seed_10073nodenum_300.csv', '400': '../../get_data/geocast_output/shadow10_2/glsgo\\\\glsgo-seed_10073nodenum_400.csv'}, '10074': {'200': '../../get_data/geocast_output/shadow10_2/glsgo\\\\glsgo-seed_10074nodenum_200.csv', '300': '../../get_data/geocast_output/shadow10_2/glsgo\\\\glsgo-seed_10074nodenum_300.csv', '400': '../../get_data/geocast_output/shadow10_2/glsgo\\\\glsgo-seed_10074nodenum_400.csv'}, '10075': {'200': '../../get_data/geocast_output/shadow10_2/glsgo\\\\glsgo-seed_10075nodenum_200.csv', '300': '../../get_data/geocast_output/shadow10_2/glsgo\\\\glsgo-seed_10075nodenum_300.csv', '400': '../../get_data/geocast_output/shadow10_2/glsgo\\\\glsgo-seed_10075nodenum_400.csv'}, '10076': {'200': '../../get_data/geocast_output/shadow10_2/glsgo\\\\glsgo-seed_10076nodenum_200.csv', '300': '../../get_data/geocast_output/shadow10_2/glsgo\\\\glsgo-seed_10076nodenum_300.csv', '400': '../../get_data/geocast_output/shadow10_2/glsgo\\\\glsgo-seed_10076nodenum_400.csv'}, '10077': {'200': '../../get_data/geocast_output/shadow10_2/glsgo\\\\glsgo-seed_10077nodenum_200.csv', '300': '../../get_data/geocast_output/shadow10_2/glsgo\\\\glsgo-seed_10077nodenum_300.csv', '400': '../../get_data/geocast_output/shadow10_2/glsgo\\\\glsgo-seed_10077nodenum_400.csv'}, '10078': {'200': '../../get_data/geocast_output/shadow10_2/glsgo\\\\glsgo-seed_10078nodenum_200.csv', '300': '../../get_data/geocast_output/shadow10_2/glsgo\\\\glsgo-seed_10078nodenum_300.csv', '400': '../../get_data/geocast_output/shadow10_2/glsgo\\\\glsgo-seed_10078nodenum_400.csv'}, '10079': {'200': '../../get_data/geocast_output/shadow10_2/glsgo\\\\glsgo-seed_10079nodenum_200.csv', '300': '../../get_data/geocast_output/shadow10_2/glsgo\\\\glsgo-seed_10079nodenum_300.csv', '400': '../../get_data/geocast_output/shadow10_2/glsgo\\\\glsgo-seed_10079nodenum_400.csv'}, '10080': {'200': '../../get_data/geocast_output/shadow10_2/glsgo\\\\glsgo-seed_10080nodenum_200.csv', '300': '../../get_data/geocast_output/shadow10_2/glsgo\\\\glsgo-seed_10080nodenum_300.csv', '400': '../../get_data/geocast_output/shadow10_2/glsgo\\\\glsgo-seed_10080nodenum_400.csv'}, '10081': {'200': '../../get_data/geocast_output/shadow10_2/glsgo\\\\glsgo-seed_10081nodenum_200.csv', '300': '../../get_data/geocast_output/shadow10_2/glsgo\\\\glsgo-seed_10081nodenum_300.csv', '400': '../../get_data/geocast_output/shadow10_2/glsgo\\\\glsgo-seed_10081nodenum_400.csv'}, '10082': {'200': '../../get_data/geocast_output/shadow10_2/glsgo\\\\glsgo-seed_10082nodenum_200.csv', '300': '../../get_data/geocast_output/shadow10_2/glsgo\\\\glsgo-seed_10082nodenum_300.csv', '400': '../../get_data/geocast_output/shadow10_2/glsgo\\\\glsgo-seed_10082nodenum_400.csv'}, '10083': {'200': '../../get_data/geocast_output/shadow10_2/glsgo\\\\glsgo-seed_10083nodenum_200.csv', '300': '../../get_data/geocast_output/shadow10_2/glsgo\\\\glsgo-seed_10083nodenum_300.csv', '400': '../../get_data/geocast_output/shadow10_2/glsgo\\\\glsgo-seed_10083nodenum_400.csv'}, '10084': {'200': '../../get_data/geocast_output/shadow10_2/glsgo\\\\glsgo-seed_10084nodenum_200.csv', '300': '../../get_data/geocast_output/shadow10_2/glsgo\\\\glsgo-seed_10084nodenum_300.csv', '400': '../../get_data/geocast_output/shadow10_2/glsgo\\\\glsgo-seed_10084nodenum_400.csv'}, '10085': {'200': '../../get_data/geocast_output/shadow10_2/glsgo\\\\glsgo-seed_10085nodenum_200.csv', '300': '../../get_data/geocast_output/shadow10_2/glsgo\\\\glsgo-seed_10085nodenum_300.csv', '400': '../../get_data/geocast_output/shadow10_2/glsgo\\\\glsgo-seed_10085nodenum_400.csv'}, '10086': {'200': '../../get_data/geocast_output/shadow10_2/glsgo\\\\glsgo-seed_10086nodenum_200.csv', '300': '../../get_data/geocast_output/shadow10_2/glsgo\\\\glsgo-seed_10086nodenum_300.csv', '400': '../../get_data/geocast_output/shadow10_2/glsgo\\\\glsgo-seed_10086nodenum_400.csv'}, '10087': {'200': '../../get_data/geocast_output/shadow10_2/glsgo\\\\glsgo-seed_10087nodenum_200.csv', '300': '../../get_data/geocast_output/shadow10_2/glsgo\\\\glsgo-seed_10087nodenum_300.csv', '400': '../../get_data/geocast_output/shadow10_2/glsgo\\\\glsgo-seed_10087nodenum_400.csv'}, '10088': {'200': '../../get_data/geocast_output/shadow10_2/glsgo\\\\glsgo-seed_10088nodenum_200.csv', '300': '../../get_data/geocast_output/shadow10_2/glsgo\\\\glsgo-seed_10088nodenum_300.csv', '400': '../../get_data/geocast_output/shadow10_2/glsgo\\\\glsgo-seed_10088nodenum_400.csv'}, '10089': {'200': '../../get_data/geocast_output/shadow10_2/glsgo\\\\glsgo-seed_10089nodenum_200.csv', '300': '../../get_data/geocast_output/shadow10_2/glsgo\\\\glsgo-seed_10089nodenum_300.csv', '400': '../../get_data/geocast_output/shadow10_2/glsgo\\\\glsgo-seed_10089nodenum_400.csv'}, '10090': {'200': '../../get_data/geocast_output/shadow10_2/glsgo\\\\glsgo-seed_10090nodenum_200.csv', '300': '../../get_data/geocast_output/shadow10_2/glsgo\\\\glsgo-seed_10090nodenum_300.csv', '400': '../../get_data/geocast_output/shadow10_2/glsgo\\\\glsgo-seed_10090nodenum_400.csv'}, '10091': {'200': '../../get_data/geocast_output/shadow10_2/glsgo\\\\glsgo-seed_10091nodenum_200.csv', '300': '../../get_data/geocast_output/shadow10_2/glsgo\\\\glsgo-seed_10091nodenum_300.csv', '400': '../../get_data/geocast_output/shadow10_2/glsgo\\\\glsgo-seed_10091nodenum_400.csv'}, '10092': {'200': '../../get_data/geocast_output/shadow10_2/glsgo\\\\glsgo-seed_10092nodenum_200.csv', '300': '../../get_data/geocast_output/shadow10_2/glsgo\\\\glsgo-seed_10092nodenum_300.csv', '400': '../../get_data/geocast_output/shadow10_2/glsgo\\\\glsgo-seed_10092nodenum_400.csv'}, '10093': {'200': '../../get_data/geocast_output/shadow10_2/glsgo\\\\glsgo-seed_10093nodenum_200.csv', '300': '../../get_data/geocast_output/shadow10_2/glsgo\\\\glsgo-seed_10093nodenum_300.csv', '400': '../../get_data/geocast_output/shadow10_2/glsgo\\\\glsgo-seed_10093nodenum_400.csv'}, '10094': {'200': '../../get_data/geocast_output/shadow10_2/glsgo\\\\glsgo-seed_10094nodenum_200.csv', '300': '../../get_data/geocast_output/shadow10_2/glsgo\\\\glsgo-seed_10094nodenum_300.csv', '400': '../../get_data/geocast_output/shadow10_2/glsgo\\\\glsgo-seed_10094nodenum_400.csv'}, '10095': {'200': '../../get_data/geocast_output/shadow10_2/glsgo\\\\glsgo-seed_10095nodenum_200.csv', '300': '../../get_data/geocast_output/shadow10_2/glsgo\\\\glsgo-seed_10095nodenum_300.csv', '400': '../../get_data/geocast_output/shadow10_2/glsgo\\\\glsgo-seed_10095nodenum_400.csv'}, '10096': {'200': '../../get_data/geocast_output/shadow10_2/glsgo\\\\glsgo-seed_10096nodenum_200.csv', '300': '../../get_data/geocast_output/shadow10_2/glsgo\\\\glsgo-seed_10096nodenum_300.csv', '400': '../../get_data/geocast_output/shadow10_2/glsgo\\\\glsgo-seed_10096nodenum_400.csv'}, '10097': {'200': '../../get_data/geocast_output/shadow10_2/glsgo\\\\glsgo-seed_10097nodenum_200.csv', '300': '../../get_data/geocast_output/shadow10_2/glsgo\\\\glsgo-seed_10097nodenum_300.csv', '400': '../../get_data/geocast_output/shadow10_2/glsgo\\\\glsgo-seed_10097nodenum_400.csv'}, '10098': {'200': '../../get_data/geocast_output/shadow10_2/glsgo\\\\glsgo-seed_10098nodenum_200.csv', '300': '../../get_data/geocast_output/shadow10_2/glsgo\\\\glsgo-seed_10098nodenum_300.csv', '400': '../../get_data/geocast_output/shadow10_2/glsgo\\\\glsgo-seed_10098nodenum_400.csv'}, '10099': {'200': '../../get_data/geocast_output/shadow10_2/glsgo\\\\glsgo-seed_10099nodenum_200.csv', '300': '../../get_data/geocast_output/shadow10_2/glsgo\\\\glsgo-seed_10099nodenum_300.csv', '400': '../../get_data/geocast_output/shadow10_2/glsgo\\\\glsgo-seed_10099nodenum_400.csv'}}\n"
     ]
    }
   ],
   "source": [
    "lsgo_dict = {}\n",
    "check_seed = seed_list[0]\n",
    "lsgo_dict[check_seed] = {}\n",
    "for path in lsgo_file_list:\n",
    "    for line in path.splitlines():\n",
    "      match = regex.findall(line) # match[2] = seed ,match[3] = nudenum\n",
    "     \n",
    "    if match[seed_index] == check_seed:\n",
    "        lsgo_dict[match[seed_index]][match[node_index]] = path\n",
    "    else:#ロープ中seed値が変わるとき\n",
    "        lsgo_dict[match[seed_index]] = {}\n",
    "        lsgo_dict[match[seed_index]][match[node_index]] = path\n",
    "        check_seed = match[seed_index] #seed値の更新\n",
    "        \n",
    "print(lsgo_dict)"
   ]
  },
  {
   "cell_type": "code",
   "execution_count": 7,
   "metadata": {},
   "outputs": [],
   "source": [
    "# 列ごとの平均を返す関数\n",
    "def col_average(seeds):\n",
    "    new_list = []\n",
    "    for seed in seeds:\n",
    "        del seed[len(nodenum_list)] #1列ずつ平均を算出するうえで邪魔なseed値を消していく seedの個数 \n",
    "        new_list.append(seed)\n",
    "#     np.set_printoptions(precision=3, suppress=True)\n",
    "    np_new_list = np.array(new_list)\n",
    "    return np.mean(np_new_list, axis=0)"
   ]
  },
  {
   "cell_type": "code",
   "execution_count": 8,
   "metadata": {},
   "outputs": [],
   "source": [
    "# 列ごとの平均を返す関数\n",
    "def col_average_zero_delete(seeds):\n",
    "    new_list = []\n",
    "    for seed in seeds:\n",
    "        del seed[len(nodenum_list)] #1列ずつ平均を算出するうえで邪魔なseed値を消していく seedの個数 \n",
    "        new_list.append(seed)\n",
    "    np_new_list = np.array(new_list)\n",
    "    return np.mean(np_new_list, axis=0)"
   ]
  },
  {
   "cell_type": "code",
   "execution_count": 9,
   "metadata": {},
   "outputs": [
    {
     "name": "stdout",
     "output_type": "stream",
     "text": [
      "[0.36939126 0.49690968 0.80855221]\n"
     ]
    }
   ],
   "source": [
    "# packet delivery rationの平均を計算 SIGO Geocast\n",
    "total_pdr_list = []\n",
    "for seed in seed_list:\n",
    "    pdr_list = []   # index 0: 200nodes  index 1: 300nodes index:2 400nodes\n",
    "    for node in nodenum_list:\n",
    "        path = sigo_dict[seed][node]\n",
    "        sigo_df = pd.read_csv(path)\n",
    "        pdr = sigo_df['PDR'].mean()\n",
    "        pdr_list.append(pdr)\n",
    "    pdr_list.append(seed)\n",
    "    total_pdr_list.append(pdr_list)\n",
    "\n",
    "# print(total_pdr_list)\n",
    "print(col_average(total_pdr_list))"
   ]
  },
  {
   "cell_type": "code",
   "execution_count": 11,
   "metadata": {},
   "outputs": [
    {
     "name": "stdout",
     "output_type": "stream",
     "text": [
      "[0.33474371 0.42503952 0.70467172]\n"
     ]
    }
   ],
   "source": [
    "# packet delivery rationの平均を計算 LSGO Geocast\n",
    "total_pdr_list = []\n",
    "for seed in seed_list:\n",
    "    pdr_list = []   # index 0: 200nodes  index 1: 300nodes index:2 400nodes\n",
    "    for node in nodenum_list:\n",
    "        path = lsgo_dict[seed][node]\n",
    "        lsgo_df = pd.read_csv(path)\n",
    "        pdr = lsgo_df['PDR'].mean()\n",
    "        pdr_list.append(pdr)\n",
    "    pdr_list.append(seed)\n",
    "    total_pdr_list.append(pdr_list)\n",
    "\n",
    "# print(total_pdr_list)\n",
    "print(col_average(total_pdr_list))"
   ]
  },
  {
   "cell_type": "code",
   "execution_count": 16,
   "metadata": {},
   "outputs": [
    {
     "name": "stdout",
     "output_type": "stream",
     "text": [
      "[3.3515318  2.53876687 2.37051879]\n"
     ]
    }
   ],
   "source": [
    "# Overheadの平均を計算 SIGO Geocast\n",
    "total_overhead_list = []\n",
    "for seed in seed_list:\n",
    "    overhead_list = []   # index 0: 200nodes  index 1: 300nodes index:2 400nodes\n",
    "    for node in nodenum_list:\n",
    "        path = sigo_dict[seed][node]\n",
    "        sigo_df = pd.read_csv(path)\n",
    "        mr_recvs = sigo_df['mr_recvs'].sum() #mr内の受信ノード数\n",
    "        sequence_count = sigo_df[(sigo_df['PDR'] != 0)]['mr_recvs'].count()\n",
    "        geocast_packets = sigo_df[(sigo_df['PDR'] != 0)]['geocast_packets'].sum()\n",
    "        flooding_packets = sigo_df[(sigo_df['PDR'] != 0)]['flooding_packets'].sum()\n",
    "        packet_count = geocast_packets + flooding_packets\n",
    "        if mr_recvs == 0:\n",
    "            overhead = 0 #いったん仮置き\n",
    "            print('seed', seed, 'num', node, 'mr_recvs = 0')\n",
    "        else:\n",
    "            overhead = packet_count / mr_recvs\n",
    "        overhead_list.append(overhead)\n",
    "    overhead_list.append(seed)\n",
    "    if 0 not in overhead_list:\n",
    "        total_overhead_list.append(overhead_list)\n",
    "    else:\n",
    "        print('seed', seed, 'list', overhead_list)\n",
    "print(col_average(total_overhead_list))"
   ]
  },
  {
   "cell_type": "code",
   "execution_count": 17,
   "metadata": {},
   "outputs": [
    {
     "name": "stdout",
     "output_type": "stream",
     "text": [
      "[3.19361924 2.51472214 2.36219866]\n"
     ]
    }
   ],
   "source": [
    "# Overheadの平均を計算 LSGO Geocast\n",
    "total_overhead_list = []\n",
    "for seed in seed_list:\n",
    "    overhead_list = []   # index 0: 200nodes  index 1: 300nodes index:2 400nodes\n",
    "    for node in nodenum_list:\n",
    "        path = lsgo_dict[seed][node]\n",
    "        lsgo_df = pd.read_csv(path)\n",
    "        mr_recvs = lsgo_df['mr_recvs'].sum() #mr内の受信ノード数\n",
    "        sequence_count = lsgo_df[(lsgo_df['PDR'] != 0)]['mr_recvs'].count()\n",
    "        geocast_packets = lsgo_df[(lsgo_df['PDR'] != 0)]['geocast_packets'].sum()\n",
    "        flooding_packets = lsgo_df[(lsgo_df['PDR'] != 0)]['flooding_packets'].sum()\n",
    "        packet_count = geocast_packets + flooding_packets\n",
    "        if mr_recvs == 0:\n",
    "            overhead = 0 #いったん仮置き\n",
    "            print('seed', seed, 'num', node, 'mr_recvs = 0')\n",
    "        else:\n",
    "            overhead = packet_count / mr_recvs\n",
    "        overhead_list.append(overhead)\n",
    "    overhead_list.append(seed)\n",
    "    if 0 not in overhead_list:\n",
    "        total_overhead_list.append(overhead_list)\n",
    "    else:\n",
    "        print('seed', seed, 'list', overhead_list)\n",
    "print(col_average(total_overhead_list))"
   ]
  },
  {
   "cell_type": "code",
   "execution_count": 15,
   "metadata": {},
   "outputs": [
    {
     "name": "stdout",
     "output_type": "stream",
     "text": [
      "[244.38383838 390.66666667 788.71717172]\n"
     ]
    }
   ],
   "source": [
    "# packet数の平均を計算 SIGO Geocast\n",
    "total_packet_list = []\n",
    "for seed in seed_list:\n",
    "    packet_list = []   # index 0: 200nodes  index 1: 300nodes index:2 400nodes\n",
    "    for node in nodenum_list:\n",
    "        path = sigo_dict[seed][node]\n",
    "        sigo_df = pd.read_csv(path)\n",
    "        geocast_packets = sigo_df[(sigo_df['PDR'] != 0)]['geocast_packets'].sum()\n",
    "        flooding_packets = sigo_df[(sigo_df['PDR'] != 0)]['flooding_packets'].sum()\n",
    "        packet_count = geocast_packets + flooding_packets\n",
    "        packet_list.append(packet_count)\n",
    "    packet_list.append(seed)\n",
    "#     print(packet_list)\n",
    "    total_packet_list.append(packet_list)\n",
    "print(col_average(total_packet_list))"
   ]
  },
  {
   "cell_type": "code",
   "execution_count": 42,
   "metadata": {},
   "outputs": [
    {
     "name": "stdout",
     "output_type": "stream",
     "text": [
      "[163.88888889 262.74747475 546.80808081]\n"
     ]
    }
   ],
   "source": [
    "# packet数の平均を計算 LSGO Geocast\n",
    "total_packet_list = []\n",
    "for seed in seed_list:\n",
    "    packet_list = []   # index 0: 200nodes  index 1: 300nodes index:2 400nodes\n",
    "    for node in nodenum_list:\n",
    "        path = lsgo_dict[seed][node]\n",
    "        lsgo_df = pd.read_csv(path)\n",
    "        geocast_packets = lsgo_df[(lsgo_df['PDR'] != 0)]['geocast_packets'].sum()\n",
    "        flooding_packets = lsgo_df[(lsgo_df['PDR'] != 0)]['flooding_packets'].sum()\n",
    "        packet_count = geocast_packets + flooding_packets\n",
    "        packet_list.append(packet_count)\n",
    "    packet_list.append(seed)\n",
    "#     print(packet_list)\n",
    "    total_packet_list.append(packet_list)\n",
    "print(col_average(total_packet_list))"
   ]
  },
  {
   "cell_type": "code",
   "execution_count": 26,
   "metadata": {},
   "outputs": [
    {
     "name": "stdout",
     "output_type": "stream",
     "text": [
      "sigo geocast packet average [108.86868687  80.63636364 152.72727273]\n"
     ]
    }
   ],
   "source": [
    "# geocast パケット数\n",
    "total_packet_list = []\n",
    "for seed in seed_list:\n",
    "    packet_list = []   # index 0: 200nodes  index 1: 300nodes index:2 400nodes\n",
    "    for node in nodenum_list:\n",
    "        path = sigo_dict[seed][node]\n",
    "        sigo_df = pd.read_csv(path)\n",
    "        geocast_packets = sigo_df[(sigo_df['PDR'] != 0)]['geocast_packets'].sum()\n",
    "#         flooding_packets = sigo_df[(sigo_df['PDR'] != 0)]['flooding_packets'].sum()\n",
    "#         packet_count = geocast_packets + flooding_packets\n",
    "        packet_list.append(geocast_packets)\n",
    "    packet_list.append(seed)\n",
    "    total_packet_list.append(packet_list)\n",
    "print('sigo geocast packet average' , col_average(total_packet_list))"
   ]
  },
  {
   "cell_type": "code",
   "execution_count": 28,
   "metadata": {},
   "outputs": [
    {
     "name": "stdout",
     "output_type": "stream",
     "text": [
      "sigo geocast packet average [ 82.53535354  75.98989899 134.08080808]\n"
     ]
    }
   ],
   "source": [
    "# geocast パケット数\n",
    "total_packet_list = []\n",
    "for seed in seed_list:\n",
    "    packet_list = []   # index 0: 200nodes  index 1: 300nodes index:2 400nodes\n",
    "    for node in nodenum_list:\n",
    "        path = lsgo_dict[seed][node]\n",
    "        lsgo_df = pd.read_csv(path)\n",
    "        geocast_packets = lsgo_df[(lsgo_df['PDR'] != 0)]['geocast_packets'].sum()\n",
    "#         flooding_packets = lsgo_df[(sigo_df['PDR'] != 0)]['flooding_packets'].sum()\n",
    "#         packet_count = geocast_packets + flooding_packets\n",
    "        packet_list.append(geocast_packets)\n",
    "    packet_list.append(seed)\n",
    "    total_packet_list.append(packet_list)\n",
    "print('sigo geocast packet average' , col_average(total_packet_list))"
   ]
  },
  {
   "cell_type": "code",
   "execution_count": 116,
   "metadata": {},
   "outputs": [
    {
     "name": "stdout",
     "output_type": "stream",
     "text": [
      "94\n",
      "94\n",
      "6\n"
     ]
    }
   ],
   "source": [
    "test_path = sigo_dict['10001']['200']\n",
    "test_df = pd.read_csv(test_path)\n",
    "print(test_df['mr_recvs'].sum()) #mr_recvsの合計\n",
    "\n",
    "#pdr が 0ではないmr_recvの合計\n",
    "print(test_df[(test_df['PDR'] != 0)]['mr_recvs'].sum()) \n",
    "\n",
    "#pdrが0ではない　もの(packet)だけをカウント\n",
    "print(test_df[(test_df['PDR'] != 0)]['mr_recvs'].count())"
   ]
  },
  {
   "cell_type": "code",
   "execution_count": null,
   "metadata": {},
   "outputs": [],
   "source": []
  }
 ],
 "metadata": {
  "kernelspec": {
   "display_name": "Python 3",
   "language": "python",
   "name": "python3"
  },
  "language_info": {
   "codemirror_mode": {
    "name": "ipython",
    "version": 3
   },
   "file_extension": ".py",
   "mimetype": "text/x-python",
   "name": "python",
   "nbconvert_exporter": "python",
   "pygments_lexer": "ipython3",
   "version": "3.8.5"
  }
 },
 "nbformat": 4,
 "nbformat_minor": 4
}
