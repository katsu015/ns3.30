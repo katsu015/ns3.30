{
 "cells": [
  {
   "cell_type": "code",
   "execution_count": 102,
   "metadata": {},
   "outputs": [],
   "source": [
    "import pandas as pd\n",
    "import cv2\n",
    "import numpy as np\n",
    "import matplotlib.pyplot as plt\n",
    "#jupyter内で画像を表示\n",
    "%matplotlib inline \n",
    "#別ウィンドウで画像表示\n",
    "# %matplotlib qt \n",
    "import csv\n",
    "import json\n",
    "from ipywidgets import interact, interactive, fixed, RadioButtons\n",
    "import ipywidgets as widgets\n",
    "from IPython.display import display\n",
    "import pathlib\n",
    "import glob\n",
    "import re\n",
    "import copy"
   ]
  },
  {
   "cell_type": "code",
   "execution_count": 130,
   "metadata": {
    "scrolled": true
   },
   "outputs": [],
   "source": [
    "shadow = 'shadow30_2'\n",
    "evaluation_path = \"../../get_data/geocast_output/\" + shadow + \"/\"\n",
    "sigo_files = glob.glob(evaluation_path + \"gsigo/*\")\n",
    "sigo_file_list = []\n",
    "for file in sigo_files:\n",
    "    sigo_file_list.append(file)\n",
    "\n",
    "# print('receive log')\n",
    "# print(sigo_file_list)"
   ]
  },
  {
   "cell_type": "code",
   "execution_count": 131,
   "metadata": {},
   "outputs": [],
   "source": [
    "shadow = 'shadow30_2'\n",
    "evaluation_path = \"../../get_data/geocast_output/\" + shadow + \"/\"\n",
    "lsgo_files = glob.glob(evaluation_path + \"glsgo/*\")\n",
    "lsgo_file_list = []\n",
    "for file in lsgo_files:\n",
    "    lsgo_file_list.append(file)\n",
    "\n",
    "# print('receive log')\n",
    "# print(lsgo_file_list)"
   ]
  },
  {
   "cell_type": "markdown",
   "metadata": {},
   "source": [
    "# seed値リストを登録"
   ]
  },
  {
   "cell_type": "code",
   "execution_count": 132,
   "metadata": {},
   "outputs": [
    {
     "name": "stdout",
     "output_type": "stream",
     "text": [
      "['10001', '10002', '10003', '10004', '10005', '10006', '10007', '10008', '10009', '10010', '10011', '10012', '10013', '10014', '10015', '10016', '10017', '10018', '10019', '10020', '10021', '10022', '10023', '10024', '10025', '10026', '10027', '10028', '10029', '10030', '10031', '10032', '10033', '10034', '10035', '10036', '10037', '10038', '10039', '10040', '10041', '10042', '10043', '10044', '10045', '10046', '10047', '10048', '10049']\n",
      "simulation 試行回数 49\n"
     ]
    }
   ],
   "source": [
    "seed_index = 2\n",
    "node_index = 3\n",
    "seed_list = []\n",
    "nodenum_list = ['200', '300', '400'] ###############nodenumの形式を変更したらここはベタ打ちで変更を加える\n",
    "regex = re.compile('\\d+')\n",
    "\n",
    "for path in sigo_file_list:\n",
    "    for line in path.splitlines():\n",
    "        match = regex.findall(line)\n",
    "        if match[seed_index] not in seed_list:\n",
    "            seed_list.append(match[seed_index])\n",
    "            \n",
    "print(seed_list)\n",
    "print('simulation 試行回数',len(seed_list))"
   ]
  },
  {
   "cell_type": "code",
   "execution_count": 133,
   "metadata": {
    "scrolled": true
   },
   "outputs": [
    {
     "name": "stdout",
     "output_type": "stream",
     "text": [
      "{'10001': {'200': '../../get_data/geocast_output/shadow30_2/gsigo\\\\gsigo-seed_10001nodenum_200.csv', '300': '../../get_data/geocast_output/shadow30_2/gsigo\\\\gsigo-seed_10001nodenum_300.csv', '400': '../../get_data/geocast_output/shadow30_2/gsigo\\\\gsigo-seed_10001nodenum_400.csv'}, '10002': {'200': '../../get_data/geocast_output/shadow30_2/gsigo\\\\gsigo-seed_10002nodenum_200.csv', '300': '../../get_data/geocast_output/shadow30_2/gsigo\\\\gsigo-seed_10002nodenum_300.csv', '400': '../../get_data/geocast_output/shadow30_2/gsigo\\\\gsigo-seed_10002nodenum_400.csv'}, '10003': {'200': '../../get_data/geocast_output/shadow30_2/gsigo\\\\gsigo-seed_10003nodenum_200.csv', '300': '../../get_data/geocast_output/shadow30_2/gsigo\\\\gsigo-seed_10003nodenum_300.csv', '400': '../../get_data/geocast_output/shadow30_2/gsigo\\\\gsigo-seed_10003nodenum_400.csv'}, '10004': {'200': '../../get_data/geocast_output/shadow30_2/gsigo\\\\gsigo-seed_10004nodenum_200.csv', '300': '../../get_data/geocast_output/shadow30_2/gsigo\\\\gsigo-seed_10004nodenum_300.csv', '400': '../../get_data/geocast_output/shadow30_2/gsigo\\\\gsigo-seed_10004nodenum_400.csv'}, '10005': {'200': '../../get_data/geocast_output/shadow30_2/gsigo\\\\gsigo-seed_10005nodenum_200.csv', '300': '../../get_data/geocast_output/shadow30_2/gsigo\\\\gsigo-seed_10005nodenum_300.csv', '400': '../../get_data/geocast_output/shadow30_2/gsigo\\\\gsigo-seed_10005nodenum_400.csv'}, '10006': {'200': '../../get_data/geocast_output/shadow30_2/gsigo\\\\gsigo-seed_10006nodenum_200.csv', '300': '../../get_data/geocast_output/shadow30_2/gsigo\\\\gsigo-seed_10006nodenum_300.csv', '400': '../../get_data/geocast_output/shadow30_2/gsigo\\\\gsigo-seed_10006nodenum_400.csv'}, '10007': {'200': '../../get_data/geocast_output/shadow30_2/gsigo\\\\gsigo-seed_10007nodenum_200.csv', '300': '../../get_data/geocast_output/shadow30_2/gsigo\\\\gsigo-seed_10007nodenum_300.csv', '400': '../../get_data/geocast_output/shadow30_2/gsigo\\\\gsigo-seed_10007nodenum_400.csv'}, '10008': {'200': '../../get_data/geocast_output/shadow30_2/gsigo\\\\gsigo-seed_10008nodenum_200.csv', '300': '../../get_data/geocast_output/shadow30_2/gsigo\\\\gsigo-seed_10008nodenum_300.csv', '400': '../../get_data/geocast_output/shadow30_2/gsigo\\\\gsigo-seed_10008nodenum_400.csv'}, '10009': {'200': '../../get_data/geocast_output/shadow30_2/gsigo\\\\gsigo-seed_10009nodenum_200.csv', '300': '../../get_data/geocast_output/shadow30_2/gsigo\\\\gsigo-seed_10009nodenum_300.csv', '400': '../../get_data/geocast_output/shadow30_2/gsigo\\\\gsigo-seed_10009nodenum_400.csv'}, '10010': {'200': '../../get_data/geocast_output/shadow30_2/gsigo\\\\gsigo-seed_10010nodenum_200.csv', '300': '../../get_data/geocast_output/shadow30_2/gsigo\\\\gsigo-seed_10010nodenum_300.csv', '400': '../../get_data/geocast_output/shadow30_2/gsigo\\\\gsigo-seed_10010nodenum_400.csv'}, '10011': {'200': '../../get_data/geocast_output/shadow30_2/gsigo\\\\gsigo-seed_10011nodenum_200.csv', '300': '../../get_data/geocast_output/shadow30_2/gsigo\\\\gsigo-seed_10011nodenum_300.csv', '400': '../../get_data/geocast_output/shadow30_2/gsigo\\\\gsigo-seed_10011nodenum_400.csv'}, '10012': {'200': '../../get_data/geocast_output/shadow30_2/gsigo\\\\gsigo-seed_10012nodenum_200.csv', '300': '../../get_data/geocast_output/shadow30_2/gsigo\\\\gsigo-seed_10012nodenum_300.csv', '400': '../../get_data/geocast_output/shadow30_2/gsigo\\\\gsigo-seed_10012nodenum_400.csv'}, '10013': {'200': '../../get_data/geocast_output/shadow30_2/gsigo\\\\gsigo-seed_10013nodenum_200.csv', '300': '../../get_data/geocast_output/shadow30_2/gsigo\\\\gsigo-seed_10013nodenum_300.csv', '400': '../../get_data/geocast_output/shadow30_2/gsigo\\\\gsigo-seed_10013nodenum_400.csv'}, '10014': {'200': '../../get_data/geocast_output/shadow30_2/gsigo\\\\gsigo-seed_10014nodenum_200.csv', '300': '../../get_data/geocast_output/shadow30_2/gsigo\\\\gsigo-seed_10014nodenum_300.csv', '400': '../../get_data/geocast_output/shadow30_2/gsigo\\\\gsigo-seed_10014nodenum_400.csv'}, '10015': {'200': '../../get_data/geocast_output/shadow30_2/gsigo\\\\gsigo-seed_10015nodenum_200.csv', '300': '../../get_data/geocast_output/shadow30_2/gsigo\\\\gsigo-seed_10015nodenum_300.csv', '400': '../../get_data/geocast_output/shadow30_2/gsigo\\\\gsigo-seed_10015nodenum_400.csv'}, '10016': {'200': '../../get_data/geocast_output/shadow30_2/gsigo\\\\gsigo-seed_10016nodenum_200.csv', '300': '../../get_data/geocast_output/shadow30_2/gsigo\\\\gsigo-seed_10016nodenum_300.csv', '400': '../../get_data/geocast_output/shadow30_2/gsigo\\\\gsigo-seed_10016nodenum_400.csv'}, '10017': {'200': '../../get_data/geocast_output/shadow30_2/gsigo\\\\gsigo-seed_10017nodenum_200.csv', '300': '../../get_data/geocast_output/shadow30_2/gsigo\\\\gsigo-seed_10017nodenum_300.csv', '400': '../../get_data/geocast_output/shadow30_2/gsigo\\\\gsigo-seed_10017nodenum_400.csv'}, '10018': {'200': '../../get_data/geocast_output/shadow30_2/gsigo\\\\gsigo-seed_10018nodenum_200.csv', '300': '../../get_data/geocast_output/shadow30_2/gsigo\\\\gsigo-seed_10018nodenum_300.csv', '400': '../../get_data/geocast_output/shadow30_2/gsigo\\\\gsigo-seed_10018nodenum_400.csv'}, '10019': {'200': '../../get_data/geocast_output/shadow30_2/gsigo\\\\gsigo-seed_10019nodenum_200.csv', '300': '../../get_data/geocast_output/shadow30_2/gsigo\\\\gsigo-seed_10019nodenum_300.csv', '400': '../../get_data/geocast_output/shadow30_2/gsigo\\\\gsigo-seed_10019nodenum_400.csv'}, '10020': {'200': '../../get_data/geocast_output/shadow30_2/gsigo\\\\gsigo-seed_10020nodenum_200.csv', '300': '../../get_data/geocast_output/shadow30_2/gsigo\\\\gsigo-seed_10020nodenum_300.csv', '400': '../../get_data/geocast_output/shadow30_2/gsigo\\\\gsigo-seed_10020nodenum_400.csv'}, '10021': {'200': '../../get_data/geocast_output/shadow30_2/gsigo\\\\gsigo-seed_10021nodenum_200.csv', '300': '../../get_data/geocast_output/shadow30_2/gsigo\\\\gsigo-seed_10021nodenum_300.csv', '400': '../../get_data/geocast_output/shadow30_2/gsigo\\\\gsigo-seed_10021nodenum_400.csv'}, '10022': {'200': '../../get_data/geocast_output/shadow30_2/gsigo\\\\gsigo-seed_10022nodenum_200.csv', '300': '../../get_data/geocast_output/shadow30_2/gsigo\\\\gsigo-seed_10022nodenum_300.csv', '400': '../../get_data/geocast_output/shadow30_2/gsigo\\\\gsigo-seed_10022nodenum_400.csv'}, '10023': {'200': '../../get_data/geocast_output/shadow30_2/gsigo\\\\gsigo-seed_10023nodenum_200.csv', '300': '../../get_data/geocast_output/shadow30_2/gsigo\\\\gsigo-seed_10023nodenum_300.csv', '400': '../../get_data/geocast_output/shadow30_2/gsigo\\\\gsigo-seed_10023nodenum_400.csv'}, '10024': {'200': '../../get_data/geocast_output/shadow30_2/gsigo\\\\gsigo-seed_10024nodenum_200.csv', '300': '../../get_data/geocast_output/shadow30_2/gsigo\\\\gsigo-seed_10024nodenum_300.csv', '400': '../../get_data/geocast_output/shadow30_2/gsigo\\\\gsigo-seed_10024nodenum_400.csv'}, '10025': {'200': '../../get_data/geocast_output/shadow30_2/gsigo\\\\gsigo-seed_10025nodenum_200.csv', '300': '../../get_data/geocast_output/shadow30_2/gsigo\\\\gsigo-seed_10025nodenum_300.csv', '400': '../../get_data/geocast_output/shadow30_2/gsigo\\\\gsigo-seed_10025nodenum_400.csv'}, '10026': {'200': '../../get_data/geocast_output/shadow30_2/gsigo\\\\gsigo-seed_10026nodenum_200.csv', '300': '../../get_data/geocast_output/shadow30_2/gsigo\\\\gsigo-seed_10026nodenum_300.csv', '400': '../../get_data/geocast_output/shadow30_2/gsigo\\\\gsigo-seed_10026nodenum_400.csv'}, '10027': {'200': '../../get_data/geocast_output/shadow30_2/gsigo\\\\gsigo-seed_10027nodenum_200.csv', '300': '../../get_data/geocast_output/shadow30_2/gsigo\\\\gsigo-seed_10027nodenum_300.csv', '400': '../../get_data/geocast_output/shadow30_2/gsigo\\\\gsigo-seed_10027nodenum_400.csv'}, '10028': {'200': '../../get_data/geocast_output/shadow30_2/gsigo\\\\gsigo-seed_10028nodenum_200.csv', '300': '../../get_data/geocast_output/shadow30_2/gsigo\\\\gsigo-seed_10028nodenum_300.csv', '400': '../../get_data/geocast_output/shadow30_2/gsigo\\\\gsigo-seed_10028nodenum_400.csv'}, '10029': {'200': '../../get_data/geocast_output/shadow30_2/gsigo\\\\gsigo-seed_10029nodenum_200.csv', '300': '../../get_data/geocast_output/shadow30_2/gsigo\\\\gsigo-seed_10029nodenum_300.csv', '400': '../../get_data/geocast_output/shadow30_2/gsigo\\\\gsigo-seed_10029nodenum_400.csv'}, '10030': {'200': '../../get_data/geocast_output/shadow30_2/gsigo\\\\gsigo-seed_10030nodenum_200.csv', '300': '../../get_data/geocast_output/shadow30_2/gsigo\\\\gsigo-seed_10030nodenum_300.csv', '400': '../../get_data/geocast_output/shadow30_2/gsigo\\\\gsigo-seed_10030nodenum_400.csv'}, '10031': {'200': '../../get_data/geocast_output/shadow30_2/gsigo\\\\gsigo-seed_10031nodenum_200.csv', '300': '../../get_data/geocast_output/shadow30_2/gsigo\\\\gsigo-seed_10031nodenum_300.csv', '400': '../../get_data/geocast_output/shadow30_2/gsigo\\\\gsigo-seed_10031nodenum_400.csv'}, '10032': {'200': '../../get_data/geocast_output/shadow30_2/gsigo\\\\gsigo-seed_10032nodenum_200.csv', '300': '../../get_data/geocast_output/shadow30_2/gsigo\\\\gsigo-seed_10032nodenum_300.csv', '400': '../../get_data/geocast_output/shadow30_2/gsigo\\\\gsigo-seed_10032nodenum_400.csv'}, '10033': {'200': '../../get_data/geocast_output/shadow30_2/gsigo\\\\gsigo-seed_10033nodenum_200.csv', '300': '../../get_data/geocast_output/shadow30_2/gsigo\\\\gsigo-seed_10033nodenum_300.csv', '400': '../../get_data/geocast_output/shadow30_2/gsigo\\\\gsigo-seed_10033nodenum_400.csv'}, '10034': {'200': '../../get_data/geocast_output/shadow30_2/gsigo\\\\gsigo-seed_10034nodenum_200.csv', '300': '../../get_data/geocast_output/shadow30_2/gsigo\\\\gsigo-seed_10034nodenum_300.csv', '400': '../../get_data/geocast_output/shadow30_2/gsigo\\\\gsigo-seed_10034nodenum_400.csv'}, '10035': {'200': '../../get_data/geocast_output/shadow30_2/gsigo\\\\gsigo-seed_10035nodenum_200.csv', '300': '../../get_data/geocast_output/shadow30_2/gsigo\\\\gsigo-seed_10035nodenum_300.csv', '400': '../../get_data/geocast_output/shadow30_2/gsigo\\\\gsigo-seed_10035nodenum_400.csv'}, '10036': {'200': '../../get_data/geocast_output/shadow30_2/gsigo\\\\gsigo-seed_10036nodenum_200.csv', '300': '../../get_data/geocast_output/shadow30_2/gsigo\\\\gsigo-seed_10036nodenum_300.csv', '400': '../../get_data/geocast_output/shadow30_2/gsigo\\\\gsigo-seed_10036nodenum_400.csv'}, '10037': {'200': '../../get_data/geocast_output/shadow30_2/gsigo\\\\gsigo-seed_10037nodenum_200.csv', '300': '../../get_data/geocast_output/shadow30_2/gsigo\\\\gsigo-seed_10037nodenum_300.csv', '400': '../../get_data/geocast_output/shadow30_2/gsigo\\\\gsigo-seed_10037nodenum_400.csv'}, '10038': {'200': '../../get_data/geocast_output/shadow30_2/gsigo\\\\gsigo-seed_10038nodenum_200.csv', '300': '../../get_data/geocast_output/shadow30_2/gsigo\\\\gsigo-seed_10038nodenum_300.csv', '400': '../../get_data/geocast_output/shadow30_2/gsigo\\\\gsigo-seed_10038nodenum_400.csv'}, '10039': {'200': '../../get_data/geocast_output/shadow30_2/gsigo\\\\gsigo-seed_10039nodenum_200.csv', '300': '../../get_data/geocast_output/shadow30_2/gsigo\\\\gsigo-seed_10039nodenum_300.csv', '400': '../../get_data/geocast_output/shadow30_2/gsigo\\\\gsigo-seed_10039nodenum_400.csv'}, '10040': {'200': '../../get_data/geocast_output/shadow30_2/gsigo\\\\gsigo-seed_10040nodenum_200.csv', '300': '../../get_data/geocast_output/shadow30_2/gsigo\\\\gsigo-seed_10040nodenum_300.csv', '400': '../../get_data/geocast_output/shadow30_2/gsigo\\\\gsigo-seed_10040nodenum_400.csv'}, '10041': {'200': '../../get_data/geocast_output/shadow30_2/gsigo\\\\gsigo-seed_10041nodenum_200.csv', '300': '../../get_data/geocast_output/shadow30_2/gsigo\\\\gsigo-seed_10041nodenum_300.csv', '400': '../../get_data/geocast_output/shadow30_2/gsigo\\\\gsigo-seed_10041nodenum_400.csv'}, '10042': {'200': '../../get_data/geocast_output/shadow30_2/gsigo\\\\gsigo-seed_10042nodenum_200.csv', '300': '../../get_data/geocast_output/shadow30_2/gsigo\\\\gsigo-seed_10042nodenum_300.csv', '400': '../../get_data/geocast_output/shadow30_2/gsigo\\\\gsigo-seed_10042nodenum_400.csv'}, '10043': {'200': '../../get_data/geocast_output/shadow30_2/gsigo\\\\gsigo-seed_10043nodenum_200.csv', '300': '../../get_data/geocast_output/shadow30_2/gsigo\\\\gsigo-seed_10043nodenum_300.csv', '400': '../../get_data/geocast_output/shadow30_2/gsigo\\\\gsigo-seed_10043nodenum_400.csv'}, '10044': {'200': '../../get_data/geocast_output/shadow30_2/gsigo\\\\gsigo-seed_10044nodenum_200.csv', '300': '../../get_data/geocast_output/shadow30_2/gsigo\\\\gsigo-seed_10044nodenum_300.csv', '400': '../../get_data/geocast_output/shadow30_2/gsigo\\\\gsigo-seed_10044nodenum_400.csv'}, '10045': {'200': '../../get_data/geocast_output/shadow30_2/gsigo\\\\gsigo-seed_10045nodenum_200.csv', '300': '../../get_data/geocast_output/shadow30_2/gsigo\\\\gsigo-seed_10045nodenum_300.csv', '400': '../../get_data/geocast_output/shadow30_2/gsigo\\\\gsigo-seed_10045nodenum_400.csv'}, '10046': {'200': '../../get_data/geocast_output/shadow30_2/gsigo\\\\gsigo-seed_10046nodenum_200.csv', '300': '../../get_data/geocast_output/shadow30_2/gsigo\\\\gsigo-seed_10046nodenum_300.csv', '400': '../../get_data/geocast_output/shadow30_2/gsigo\\\\gsigo-seed_10046nodenum_400.csv'}, '10047': {'200': '../../get_data/geocast_output/shadow30_2/gsigo\\\\gsigo-seed_10047nodenum_200.csv', '300': '../../get_data/geocast_output/shadow30_2/gsigo\\\\gsigo-seed_10047nodenum_300.csv', '400': '../../get_data/geocast_output/shadow30_2/gsigo\\\\gsigo-seed_10047nodenum_400.csv'}, '10048': {'200': '../../get_data/geocast_output/shadow30_2/gsigo\\\\gsigo-seed_10048nodenum_200.csv', '300': '../../get_data/geocast_output/shadow30_2/gsigo\\\\gsigo-seed_10048nodenum_300.csv', '400': '../../get_data/geocast_output/shadow30_2/gsigo\\\\gsigo-seed_10048nodenum_400.csv'}, '10049': {'200': '../../get_data/geocast_output/shadow30_2/gsigo\\\\gsigo-seed_10049nodenum_200.csv', '300': '../../get_data/geocast_output/shadow30_2/gsigo\\\\gsigo-seed_10049nodenum_300.csv', '400': '../../get_data/geocast_output/shadow30_2/gsigo\\\\gsigo-seed_10049nodenum_400.csv'}}\n"
     ]
    }
   ],
   "source": [
    "sigo_dict = {}\n",
    "check_seed = seed_list[0]\n",
    "sigo_dict[check_seed] = {}\n",
    "for path in sigo_file_list:\n",
    "    for line in path.splitlines():\n",
    "      match = regex.findall(line) # match[2] = seed ,match[3] = nudenum\n",
    "     \n",
    "    if match[seed_index] == check_seed:\n",
    "        sigo_dict[match[seed_index]][match[node_index]] = path\n",
    "    else:#ロープ中seed値が変わるとき\n",
    "        sigo_dict[match[seed_index]] = {}\n",
    "        sigo_dict[match[seed_index]][match[node_index]] = path\n",
    "        check_seed = match[seed_index] #seed値の更新\n",
    "\n",
    "print(sigo_dict)"
   ]
  },
  {
   "cell_type": "code",
   "execution_count": 134,
   "metadata": {
    "scrolled": true
   },
   "outputs": [
    {
     "name": "stdout",
     "output_type": "stream",
     "text": [
      "{'10001': {'200': '../../get_data/geocast_output/shadow30_2/glsgo\\\\glsgo-seed_10001nodenum_200.csv', '300': '../../get_data/geocast_output/shadow30_2/glsgo\\\\glsgo-seed_10001nodenum_300.csv', '400': '../../get_data/geocast_output/shadow30_2/glsgo\\\\glsgo-seed_10001nodenum_400.csv'}, '10002': {'200': '../../get_data/geocast_output/shadow30_2/glsgo\\\\glsgo-seed_10002nodenum_200.csv', '300': '../../get_data/geocast_output/shadow30_2/glsgo\\\\glsgo-seed_10002nodenum_300.csv', '400': '../../get_data/geocast_output/shadow30_2/glsgo\\\\glsgo-seed_10002nodenum_400.csv'}, '10003': {'200': '../../get_data/geocast_output/shadow30_2/glsgo\\\\glsgo-seed_10003nodenum_200.csv', '300': '../../get_data/geocast_output/shadow30_2/glsgo\\\\glsgo-seed_10003nodenum_300.csv', '400': '../../get_data/geocast_output/shadow30_2/glsgo\\\\glsgo-seed_10003nodenum_400.csv'}, '10004': {'200': '../../get_data/geocast_output/shadow30_2/glsgo\\\\glsgo-seed_10004nodenum_200.csv', '300': '../../get_data/geocast_output/shadow30_2/glsgo\\\\glsgo-seed_10004nodenum_300.csv', '400': '../../get_data/geocast_output/shadow30_2/glsgo\\\\glsgo-seed_10004nodenum_400.csv'}, '10005': {'200': '../../get_data/geocast_output/shadow30_2/glsgo\\\\glsgo-seed_10005nodenum_200.csv', '300': '../../get_data/geocast_output/shadow30_2/glsgo\\\\glsgo-seed_10005nodenum_300.csv', '400': '../../get_data/geocast_output/shadow30_2/glsgo\\\\glsgo-seed_10005nodenum_400.csv'}, '10006': {'200': '../../get_data/geocast_output/shadow30_2/glsgo\\\\glsgo-seed_10006nodenum_200.csv', '300': '../../get_data/geocast_output/shadow30_2/glsgo\\\\glsgo-seed_10006nodenum_300.csv', '400': '../../get_data/geocast_output/shadow30_2/glsgo\\\\glsgo-seed_10006nodenum_400.csv'}, '10007': {'200': '../../get_data/geocast_output/shadow30_2/glsgo\\\\glsgo-seed_10007nodenum_200.csv', '300': '../../get_data/geocast_output/shadow30_2/glsgo\\\\glsgo-seed_10007nodenum_300.csv', '400': '../../get_data/geocast_output/shadow30_2/glsgo\\\\glsgo-seed_10007nodenum_400.csv'}, '10008': {'200': '../../get_data/geocast_output/shadow30_2/glsgo\\\\glsgo-seed_10008nodenum_200.csv', '300': '../../get_data/geocast_output/shadow30_2/glsgo\\\\glsgo-seed_10008nodenum_300.csv', '400': '../../get_data/geocast_output/shadow30_2/glsgo\\\\glsgo-seed_10008nodenum_400.csv'}, '10009': {'200': '../../get_data/geocast_output/shadow30_2/glsgo\\\\glsgo-seed_10009nodenum_200.csv', '300': '../../get_data/geocast_output/shadow30_2/glsgo\\\\glsgo-seed_10009nodenum_300.csv', '400': '../../get_data/geocast_output/shadow30_2/glsgo\\\\glsgo-seed_10009nodenum_400.csv'}, '10010': {'200': '../../get_data/geocast_output/shadow30_2/glsgo\\\\glsgo-seed_10010nodenum_200.csv', '300': '../../get_data/geocast_output/shadow30_2/glsgo\\\\glsgo-seed_10010nodenum_300.csv', '400': '../../get_data/geocast_output/shadow30_2/glsgo\\\\glsgo-seed_10010nodenum_400.csv'}, '10011': {'200': '../../get_data/geocast_output/shadow30_2/glsgo\\\\glsgo-seed_10011nodenum_200.csv', '300': '../../get_data/geocast_output/shadow30_2/glsgo\\\\glsgo-seed_10011nodenum_300.csv', '400': '../../get_data/geocast_output/shadow30_2/glsgo\\\\glsgo-seed_10011nodenum_400.csv'}, '10012': {'200': '../../get_data/geocast_output/shadow30_2/glsgo\\\\glsgo-seed_10012nodenum_200.csv', '300': '../../get_data/geocast_output/shadow30_2/glsgo\\\\glsgo-seed_10012nodenum_300.csv', '400': '../../get_data/geocast_output/shadow30_2/glsgo\\\\glsgo-seed_10012nodenum_400.csv'}, '10013': {'200': '../../get_data/geocast_output/shadow30_2/glsgo\\\\glsgo-seed_10013nodenum_200.csv', '300': '../../get_data/geocast_output/shadow30_2/glsgo\\\\glsgo-seed_10013nodenum_300.csv', '400': '../../get_data/geocast_output/shadow30_2/glsgo\\\\glsgo-seed_10013nodenum_400.csv'}, '10014': {'200': '../../get_data/geocast_output/shadow30_2/glsgo\\\\glsgo-seed_10014nodenum_200.csv', '300': '../../get_data/geocast_output/shadow30_2/glsgo\\\\glsgo-seed_10014nodenum_300.csv', '400': '../../get_data/geocast_output/shadow30_2/glsgo\\\\glsgo-seed_10014nodenum_400.csv'}, '10015': {'200': '../../get_data/geocast_output/shadow30_2/glsgo\\\\glsgo-seed_10015nodenum_200.csv', '300': '../../get_data/geocast_output/shadow30_2/glsgo\\\\glsgo-seed_10015nodenum_300.csv', '400': '../../get_data/geocast_output/shadow30_2/glsgo\\\\glsgo-seed_10015nodenum_400.csv'}, '10016': {'200': '../../get_data/geocast_output/shadow30_2/glsgo\\\\glsgo-seed_10016nodenum_200.csv', '300': '../../get_data/geocast_output/shadow30_2/glsgo\\\\glsgo-seed_10016nodenum_300.csv', '400': '../../get_data/geocast_output/shadow30_2/glsgo\\\\glsgo-seed_10016nodenum_400.csv'}, '10017': {'200': '../../get_data/geocast_output/shadow30_2/glsgo\\\\glsgo-seed_10017nodenum_200.csv', '300': '../../get_data/geocast_output/shadow30_2/glsgo\\\\glsgo-seed_10017nodenum_300.csv', '400': '../../get_data/geocast_output/shadow30_2/glsgo\\\\glsgo-seed_10017nodenum_400.csv'}, '10018': {'200': '../../get_data/geocast_output/shadow30_2/glsgo\\\\glsgo-seed_10018nodenum_200.csv', '300': '../../get_data/geocast_output/shadow30_2/glsgo\\\\glsgo-seed_10018nodenum_300.csv', '400': '../../get_data/geocast_output/shadow30_2/glsgo\\\\glsgo-seed_10018nodenum_400.csv'}, '10019': {'200': '../../get_data/geocast_output/shadow30_2/glsgo\\\\glsgo-seed_10019nodenum_200.csv', '300': '../../get_data/geocast_output/shadow30_2/glsgo\\\\glsgo-seed_10019nodenum_300.csv', '400': '../../get_data/geocast_output/shadow30_2/glsgo\\\\glsgo-seed_10019nodenum_400.csv'}, '10020': {'200': '../../get_data/geocast_output/shadow30_2/glsgo\\\\glsgo-seed_10020nodenum_200.csv', '300': '../../get_data/geocast_output/shadow30_2/glsgo\\\\glsgo-seed_10020nodenum_300.csv', '400': '../../get_data/geocast_output/shadow30_2/glsgo\\\\glsgo-seed_10020nodenum_400.csv'}, '10021': {'200': '../../get_data/geocast_output/shadow30_2/glsgo\\\\glsgo-seed_10021nodenum_200.csv', '300': '../../get_data/geocast_output/shadow30_2/glsgo\\\\glsgo-seed_10021nodenum_300.csv', '400': '../../get_data/geocast_output/shadow30_2/glsgo\\\\glsgo-seed_10021nodenum_400.csv'}, '10022': {'200': '../../get_data/geocast_output/shadow30_2/glsgo\\\\glsgo-seed_10022nodenum_200.csv', '300': '../../get_data/geocast_output/shadow30_2/glsgo\\\\glsgo-seed_10022nodenum_300.csv', '400': '../../get_data/geocast_output/shadow30_2/glsgo\\\\glsgo-seed_10022nodenum_400.csv'}, '10023': {'200': '../../get_data/geocast_output/shadow30_2/glsgo\\\\glsgo-seed_10023nodenum_200.csv', '300': '../../get_data/geocast_output/shadow30_2/glsgo\\\\glsgo-seed_10023nodenum_300.csv', '400': '../../get_data/geocast_output/shadow30_2/glsgo\\\\glsgo-seed_10023nodenum_400.csv'}, '10024': {'200': '../../get_data/geocast_output/shadow30_2/glsgo\\\\glsgo-seed_10024nodenum_200.csv', '300': '../../get_data/geocast_output/shadow30_2/glsgo\\\\glsgo-seed_10024nodenum_300.csv', '400': '../../get_data/geocast_output/shadow30_2/glsgo\\\\glsgo-seed_10024nodenum_400.csv'}, '10025': {'200': '../../get_data/geocast_output/shadow30_2/glsgo\\\\glsgo-seed_10025nodenum_200.csv', '300': '../../get_data/geocast_output/shadow30_2/glsgo\\\\glsgo-seed_10025nodenum_300.csv', '400': '../../get_data/geocast_output/shadow30_2/glsgo\\\\glsgo-seed_10025nodenum_400.csv'}, '10026': {'200': '../../get_data/geocast_output/shadow30_2/glsgo\\\\glsgo-seed_10026nodenum_200.csv', '300': '../../get_data/geocast_output/shadow30_2/glsgo\\\\glsgo-seed_10026nodenum_300.csv', '400': '../../get_data/geocast_output/shadow30_2/glsgo\\\\glsgo-seed_10026nodenum_400.csv'}, '10027': {'200': '../../get_data/geocast_output/shadow30_2/glsgo\\\\glsgo-seed_10027nodenum_200.csv', '300': '../../get_data/geocast_output/shadow30_2/glsgo\\\\glsgo-seed_10027nodenum_300.csv', '400': '../../get_data/geocast_output/shadow30_2/glsgo\\\\glsgo-seed_10027nodenum_400.csv'}, '10028': {'200': '../../get_data/geocast_output/shadow30_2/glsgo\\\\glsgo-seed_10028nodenum_200.csv', '300': '../../get_data/geocast_output/shadow30_2/glsgo\\\\glsgo-seed_10028nodenum_300.csv', '400': '../../get_data/geocast_output/shadow30_2/glsgo\\\\glsgo-seed_10028nodenum_400.csv'}, '10029': {'200': '../../get_data/geocast_output/shadow30_2/glsgo\\\\glsgo-seed_10029nodenum_200.csv', '300': '../../get_data/geocast_output/shadow30_2/glsgo\\\\glsgo-seed_10029nodenum_300.csv', '400': '../../get_data/geocast_output/shadow30_2/glsgo\\\\glsgo-seed_10029nodenum_400.csv'}, '10030': {'200': '../../get_data/geocast_output/shadow30_2/glsgo\\\\glsgo-seed_10030nodenum_200.csv', '300': '../../get_data/geocast_output/shadow30_2/glsgo\\\\glsgo-seed_10030nodenum_300.csv', '400': '../../get_data/geocast_output/shadow30_2/glsgo\\\\glsgo-seed_10030nodenum_400.csv'}, '10031': {'200': '../../get_data/geocast_output/shadow30_2/glsgo\\\\glsgo-seed_10031nodenum_200.csv', '300': '../../get_data/geocast_output/shadow30_2/glsgo\\\\glsgo-seed_10031nodenum_300.csv', '400': '../../get_data/geocast_output/shadow30_2/glsgo\\\\glsgo-seed_10031nodenum_400.csv'}, '10032': {'200': '../../get_data/geocast_output/shadow30_2/glsgo\\\\glsgo-seed_10032nodenum_200.csv', '300': '../../get_data/geocast_output/shadow30_2/glsgo\\\\glsgo-seed_10032nodenum_300.csv', '400': '../../get_data/geocast_output/shadow30_2/glsgo\\\\glsgo-seed_10032nodenum_400.csv'}, '10033': {'200': '../../get_data/geocast_output/shadow30_2/glsgo\\\\glsgo-seed_10033nodenum_200.csv', '300': '../../get_data/geocast_output/shadow30_2/glsgo\\\\glsgo-seed_10033nodenum_300.csv', '400': '../../get_data/geocast_output/shadow30_2/glsgo\\\\glsgo-seed_10033nodenum_400.csv'}, '10034': {'200': '../../get_data/geocast_output/shadow30_2/glsgo\\\\glsgo-seed_10034nodenum_200.csv', '300': '../../get_data/geocast_output/shadow30_2/glsgo\\\\glsgo-seed_10034nodenum_300.csv', '400': '../../get_data/geocast_output/shadow30_2/glsgo\\\\glsgo-seed_10034nodenum_400.csv'}, '10035': {'200': '../../get_data/geocast_output/shadow30_2/glsgo\\\\glsgo-seed_10035nodenum_200.csv', '300': '../../get_data/geocast_output/shadow30_2/glsgo\\\\glsgo-seed_10035nodenum_300.csv', '400': '../../get_data/geocast_output/shadow30_2/glsgo\\\\glsgo-seed_10035nodenum_400.csv'}, '10036': {'200': '../../get_data/geocast_output/shadow30_2/glsgo\\\\glsgo-seed_10036nodenum_200.csv', '300': '../../get_data/geocast_output/shadow30_2/glsgo\\\\glsgo-seed_10036nodenum_300.csv', '400': '../../get_data/geocast_output/shadow30_2/glsgo\\\\glsgo-seed_10036nodenum_400.csv'}, '10037': {'200': '../../get_data/geocast_output/shadow30_2/glsgo\\\\glsgo-seed_10037nodenum_200.csv', '300': '../../get_data/geocast_output/shadow30_2/glsgo\\\\glsgo-seed_10037nodenum_300.csv', '400': '../../get_data/geocast_output/shadow30_2/glsgo\\\\glsgo-seed_10037nodenum_400.csv'}, '10038': {'200': '../../get_data/geocast_output/shadow30_2/glsgo\\\\glsgo-seed_10038nodenum_200.csv', '300': '../../get_data/geocast_output/shadow30_2/glsgo\\\\glsgo-seed_10038nodenum_300.csv', '400': '../../get_data/geocast_output/shadow30_2/glsgo\\\\glsgo-seed_10038nodenum_400.csv'}, '10039': {'200': '../../get_data/geocast_output/shadow30_2/glsgo\\\\glsgo-seed_10039nodenum_200.csv', '300': '../../get_data/geocast_output/shadow30_2/glsgo\\\\glsgo-seed_10039nodenum_300.csv', '400': '../../get_data/geocast_output/shadow30_2/glsgo\\\\glsgo-seed_10039nodenum_400.csv'}, '10040': {'200': '../../get_data/geocast_output/shadow30_2/glsgo\\\\glsgo-seed_10040nodenum_200.csv', '300': '../../get_data/geocast_output/shadow30_2/glsgo\\\\glsgo-seed_10040nodenum_300.csv', '400': '../../get_data/geocast_output/shadow30_2/glsgo\\\\glsgo-seed_10040nodenum_400.csv'}, '10041': {'200': '../../get_data/geocast_output/shadow30_2/glsgo\\\\glsgo-seed_10041nodenum_200.csv', '300': '../../get_data/geocast_output/shadow30_2/glsgo\\\\glsgo-seed_10041nodenum_300.csv', '400': '../../get_data/geocast_output/shadow30_2/glsgo\\\\glsgo-seed_10041nodenum_400.csv'}, '10042': {'200': '../../get_data/geocast_output/shadow30_2/glsgo\\\\glsgo-seed_10042nodenum_200.csv', '300': '../../get_data/geocast_output/shadow30_2/glsgo\\\\glsgo-seed_10042nodenum_300.csv', '400': '../../get_data/geocast_output/shadow30_2/glsgo\\\\glsgo-seed_10042nodenum_400.csv'}, '10043': {'200': '../../get_data/geocast_output/shadow30_2/glsgo\\\\glsgo-seed_10043nodenum_200.csv', '300': '../../get_data/geocast_output/shadow30_2/glsgo\\\\glsgo-seed_10043nodenum_300.csv', '400': '../../get_data/geocast_output/shadow30_2/glsgo\\\\glsgo-seed_10043nodenum_400.csv'}, '10044': {'200': '../../get_data/geocast_output/shadow30_2/glsgo\\\\glsgo-seed_10044nodenum_200.csv', '300': '../../get_data/geocast_output/shadow30_2/glsgo\\\\glsgo-seed_10044nodenum_300.csv', '400': '../../get_data/geocast_output/shadow30_2/glsgo\\\\glsgo-seed_10044nodenum_400.csv'}, '10045': {'200': '../../get_data/geocast_output/shadow30_2/glsgo\\\\glsgo-seed_10045nodenum_200.csv', '300': '../../get_data/geocast_output/shadow30_2/glsgo\\\\glsgo-seed_10045nodenum_300.csv', '400': '../../get_data/geocast_output/shadow30_2/glsgo\\\\glsgo-seed_10045nodenum_400.csv'}, '10046': {'200': '../../get_data/geocast_output/shadow30_2/glsgo\\\\glsgo-seed_10046nodenum_200.csv', '300': '../../get_data/geocast_output/shadow30_2/glsgo\\\\glsgo-seed_10046nodenum_300.csv', '400': '../../get_data/geocast_output/shadow30_2/glsgo\\\\glsgo-seed_10046nodenum_400.csv'}, '10047': {'200': '../../get_data/geocast_output/shadow30_2/glsgo\\\\glsgo-seed_10047nodenum_200.csv', '300': '../../get_data/geocast_output/shadow30_2/glsgo\\\\glsgo-seed_10047nodenum_300.csv', '400': '../../get_data/geocast_output/shadow30_2/glsgo\\\\glsgo-seed_10047nodenum_400.csv'}, '10048': {'200': '../../get_data/geocast_output/shadow30_2/glsgo\\\\glsgo-seed_10048nodenum_200.csv', '300': '../../get_data/geocast_output/shadow30_2/glsgo\\\\glsgo-seed_10048nodenum_300.csv', '400': '../../get_data/geocast_output/shadow30_2/glsgo\\\\glsgo-seed_10048nodenum_400.csv'}, '10049': {'200': '../../get_data/geocast_output/shadow30_2/glsgo\\\\glsgo-seed_10049nodenum_200.csv', '300': '../../get_data/geocast_output/shadow30_2/glsgo\\\\glsgo-seed_10049nodenum_300.csv', '400': '../../get_data/geocast_output/shadow30_2/glsgo\\\\glsgo-seed_10049nodenum_400.csv'}}\n"
     ]
    }
   ],
   "source": [
    "lsgo_dict = {}\n",
    "check_seed = seed_list[0]\n",
    "lsgo_dict[check_seed] = {}\n",
    "for path in lsgo_file_list:\n",
    "    for line in path.splitlines():\n",
    "      match = regex.findall(line) # match[2] = seed ,match[3] = nudenum\n",
    "     \n",
    "    if match[seed_index] == check_seed:\n",
    "        lsgo_dict[match[seed_index]][match[node_index]] = path\n",
    "    else:#ロープ中seed値が変わるとき\n",
    "        lsgo_dict[match[seed_index]] = {}\n",
    "        lsgo_dict[match[seed_index]][match[node_index]] = path\n",
    "        check_seed = match[seed_index] #seed値の更新\n",
    "        \n",
    "print(lsgo_dict)"
   ]
  },
  {
   "cell_type": "code",
   "execution_count": 135,
   "metadata": {},
   "outputs": [],
   "source": [
    "# 列ごとの平均を返す関数\n",
    "def col_average(seeds):\n",
    "    new_list = []\n",
    "    for seed in seeds:\n",
    "        del seed[len(nodenum_list)] #1列ずつ平均を算出するうえで邪魔なseed値を消していく seedの個数 \n",
    "        new_list.append(seed)\n",
    "#     np.set_printoptions(precision=3, suppress=True)\n",
    "    np_new_list = np.array(new_list)\n",
    "    return np.mean(np_new_list, axis=0)"
   ]
  },
  {
   "cell_type": "code",
   "execution_count": 136,
   "metadata": {},
   "outputs": [],
   "source": [
    "# 列ごとの平均を返す関数\n",
    "def col_average_zero_delete(seeds):\n",
    "    new_list = []\n",
    "    for seed in seeds:\n",
    "        del seed[len(nodenum_list)] #1列ずつ平均を算出するうえで邪魔なseed値を消していく seedの個数 \n",
    "        new_list.append(seed)\n",
    "    np_new_list = np.array(new_list)\n",
    "    return np.mean(np_new_list, axis=0)"
   ]
  },
  {
   "cell_type": "code",
   "execution_count": 137,
   "metadata": {},
   "outputs": [
    {
     "name": "stdout",
     "output_type": "stream",
     "text": [
      "[[0.1529412, 0.5, 0.6, '10001'], [0.3674867, 0.5448276, 0.5025016, '10002'], [0.36, 0.4, 0.7, '10003'], [0.3545455, 0.48076919999999995, 0.6575, '10004'], [0.1545455, 0.3, 0.705, '10005'], [0.2, 0.3, 0.6038514, '10006'], [0.35294119999999995, 0.4, 0.605, '10007'], [0.4029412, 0.3, 0.6, '10008'], [0.5074867000000001, 0.4, 0.5, '10009'], [0.45454550000000005, 0.4, 0.5525, '10010'], [0.1, 0.48, 0.6, '10011'], [0.3074867, 0.2, 0.5475, '10012'], [0.2545455, 0.4, 0.7012805, '10013'], [0.2529412, 0.24482759999999998, 0.7575, '10014'], [0.16, 0.4, 0.6, '10015'], [0.2, 0.2, 0.7575, '10016'], [0.2, 0.4, 0.6550709, '10017'], [0.3545455, 0.48, 0.7, '10018'], [0.25, 0.3, 0.6, '10019'], [0.4, 0.5, 0.6512195000000001, '10020'], [0.2, 0.4, 0.7526316, '10021'], [0.3545455, 0.3031724, 0.6575, '10022'], [0.3, 0.4, 0.6012805, '10023'], [0.3545455, 0.2, 0.4, '10024'], [0.209091, 0.3, 0.7, '10025'], [0.3545455, 0.4, 0.5525, '10026'], [0.3, 0.48076919999999995, 0.8512820999999999, '10027'], [0.1, 0.3551724, 0.605, '10028'], [0.2, 0.3, 0.5012805, '10029'], [0.45454550000000005, 0.4, 0.5539121, '10030'], [0.2529412, 0.4, 0.5982143, '10031'], [0.3074867, 0.3, 0.5987195, '10032'], [0.2529412, 0.1, 0.705, '10033'], [0.2129412, 0.1, 0.7, '10034'], [0.1, 0.48076919999999995, 0.6525000000000001, '10035'], [0.1, 0.2, 0.705, '10036'], [0.3, 0.4, 0.6525000000000001, '10037'], [0.2, 0.24482759999999998, 0.6037195000000001, '10038'], [0.16, 0.6, 0.7, '10039'], [0.35, 0.3807692, 0.5475, '10040'], [0.3, 0.3, 0.6001318999999999, '10041'], [0.1, 0.38, 0.4525, '10042'], [0.2545455, 0.5, 0.6982143, '10043'], [0.2, 0.5, 0.4, '10044'], [0.3545455, 0.4448276, 0.5475, '10045'], [0.2129412, 0.3, 0.7067857, '10046'], [0.21000000000000002, 0.3, 0.6475, '10047'], [0.1, 0.5, 0.8, '10048'], [0.31454550000000003, 0.3807692, 0.7512821, '10049']]\n",
      "[0.2632064  0.36696941 0.62936486]\n"
     ]
    }
   ],
   "source": [
    "# packet delivery rationの平均を計算 SIGO Geocast\n",
    "total_pdr_list = []\n",
    "for seed in seed_list:\n",
    "    pdr_list = []   # index 0: 200nodes  index 1: 300nodes index:2 400nodes\n",
    "    for node in nodenum_list:\n",
    "        path = sigo_dict[seed][node]\n",
    "        sigo_df = pd.read_csv(path)\n",
    "        pdr = sigo_df['PDR'].mean()\n",
    "        pdr_list.append(pdr)\n",
    "    pdr_list.append(seed)\n",
    "    total_pdr_list.append(pdr_list)\n",
    "\n",
    "print(total_pdr_list)\n",
    "print(col_average(total_pdr_list))"
   ]
  },
  {
   "cell_type": "code",
   "execution_count": 138,
   "metadata": {},
   "outputs": [
    {
     "name": "stdout",
     "output_type": "stream",
     "text": [
      "[[0.2545455, 0.45517240000000003, 0.6525000000000001, '10001'], [0.2, 0.2551724, 0.3, '10002'], [0.26, 0.3, 0.7, '10003'], [0.2545455, 0.42559679999999994, 0.6, '10004'], [0.3545455, 0.2, 0.5, '10005'], [0.2, 0.4, 0.4525, '10006'], [0.4058824, 0.2, 0.705, '10007'], [0.3545455, 0.3, 0.6, '10008'], [0.1545455, 0.3, 0.6, '10009'], [0.3, 0.3, 0.4525, '10010'], [0.4, 0.38, 0.6475, '10011'], [0.3674867, 0.24482759999999998, 0.6525000000000001, '10012'], [0.2545455, 0.2, 0.4525, '10013'], [0.3058824, 0.3448276, 0.4, '10014'], [0.3129412, 0.4, 0.6, '10015'], [0.2, 0.2359416, 0.505, '10016'], [0.1545455, 0.4448276, 0.7025709, '10017'], [0.31454550000000003, 0.2, 0.40678570000000003, '10018'], [0.31454550000000003, 0.3, 0.605, '10019'], [0.3, 0.4448276, 0.6, '10020'], [0.2, 0.2, 0.5051316, '10021'], [0.45454550000000005, 0.5, 0.5525, '10022'], [0.0, 0.3, 0.4, '10023'], [0.054545500000000004, 0.2, 0.5067857, '10024'], [0.1, 0.24482759999999998, 0.8542856999999999, '10025'], [0.2545455, 0.24482759999999998, 0.6525000000000001, '10026'], [0.2, 0.3807692, 0.6, '10027'], [0.2, 0.4448276, 0.4982143, '10028'], [0.2529412, 0.48076919999999995, 0.6487805, '10029'], [0.36042785, 0.2, 0.5525, '10030'], [0.16, 0.4255968, 0.4525, '10031'], [0.0529412, 0.4, 0.5513513999999999, '10032'], [0.3074867, 0.3, 0.8, '10033'], [0.2, 0.2, 0.4, '10034'], [0.2529412, 0.3807692, 0.6525000000000001, '10035'], [0.2, 0.3, 0.7525000000000001, '10036'], [0.2, 0.2, 0.4, '10037'], [0.2, 0.5551724, 0.44878049999999997, '10038'], [0.054545500000000004, 0.3807692, 0.6, '10039'], [0.2, 0.3807692, 0.4, '10040'], [0.16, 0.3448276, 0.7001318999999999, '10041'], [0.2, 0.3, 0.6525000000000001, '10042'], [0.2, 0.4448276, 0.5, '10043'], [0.3, 0.3448276, 0.4, '10044'], [0.3545455, 0.2, 0.40128050000000004, '10045'], [0.2129412, 0.1448276, 0.5, '10046'], [0.1545455, 0.5807692, 0.44749999999999995, '10047'], [0.3, 0.2, 0.8, '10048'], [0.2145455, 0.3, 0.5, '10049']]\n",
      "[0.23805306 0.32470145 0.55641018]\n"
     ]
    }
   ],
   "source": [
    "# packet delivery rationの平均を計算 LSGO Geocast\n",
    "total_pdr_list = []\n",
    "for seed in seed_list:\n",
    "    pdr_list = []   # index 0: 200nodes  index 1: 300nodes index:2 400nodes\n",
    "    for node in nodenum_list:\n",
    "        path = lsgo_dict[seed][node]\n",
    "        lsgo_df = pd.read_csv(path)\n",
    "        pdr = lsgo_df['PDR'].mean()\n",
    "        pdr_list.append(pdr)\n",
    "    pdr_list.append(seed)\n",
    "    total_pdr_list.append(pdr_list)\n",
    "\n",
    "print(total_pdr_list)\n",
    "print(col_average(total_pdr_list))"
   ]
  },
  {
   "cell_type": "code",
   "execution_count": 139,
   "metadata": {},
   "outputs": [
    {
     "name": "stdout",
     "output_type": "stream",
     "text": [
      "[1.66513945 1.77041266 1.82778324]\n"
     ]
    }
   ],
   "source": [
    "# Overheadの平均を計算 SIGO Geocast\n",
    "total_overhead_list = []\n",
    "for seed in seed_list:\n",
    "    overhead_list = []   # index 0: 200nodes  index 1: 300nodes index:2 400nodes\n",
    "    for node in nodenum_list:\n",
    "        path = sigo_dict[seed][node]\n",
    "        sigo_df = pd.read_csv(path)\n",
    "        mr_recvs = sigo_df['mr_recvs'].sum() #mr内の受信ノード数\n",
    "        sequence_count = sigo_df[(sigo_df['PDR'] != 0)]['mr_recvs'].count()\n",
    "        geocast_packets = sigo_df[(sigo_df['PDR'] != 0)]['geocast_packets'].sum()\n",
    "        flooding_packets = sigo_df[(sigo_df['PDR'] != 0)]['flooding_packets'].sum()\n",
    "        packet_count = geocast_packets + flooding_packets\n",
    "        if mr_recvs == 0:\n",
    "            overhead = 0 #いったん仮置き\n",
    "        else:\n",
    "            overhead = packet_count / mr_recvs\n",
    "        overhead_list.append(overhead)\n",
    "    overhead_list.append(seed)\n",
    "    if 0 not in overhead_list:\n",
    "        total_overhead_list.append(overhead_list)\n",
    "    else:\n",
    "        print('seed', seed, 'list', overhead_list)\n",
    "print(col_average(total_overhead_list))"
   ]
  },
  {
   "cell_type": "code",
   "execution_count": 140,
   "metadata": {},
   "outputs": [
    {
     "name": "stdout",
     "output_type": "stream",
     "text": [
      "seed 10023 list [0, 2.2688172043010755, 2.069364161849711, '10023']\n",
      "[3.27698037 2.48952306 2.38258675]\n"
     ]
    }
   ],
   "source": [
    "# Overheadの平均を計算 LSGO Geocast\n",
    "total_overhead_list = []\n",
    "for seed in seed_list:\n",
    "    overhead_list = []   # index 0: 200nodes  index 1: 300nodes index:2 400nodes\n",
    "    for node in nodenum_list:\n",
    "        path = lsgo_dict[seed][node]\n",
    "        lsgo_df = pd.read_csv(path)\n",
    "        mr_recvs = lsgo_df['mr_recvs'].sum() #mr内の受信ノード数\n",
    "        sequence_count = lsgo_df[(lsgo_df['PDR'] != 0)]['mr_recvs'].count()\n",
    "        geocast_packets = lsgo_df[(lsgo_df['PDR'] != 0)]['geocast_packets'].sum()\n",
    "        flooding_packets = lsgo_df[(lsgo_df['PDR'] != 0)]['flooding_packets'].sum()\n",
    "        packet_count = geocast_packets + flooding_packets\n",
    "        if mr_recvs == 0:\n",
    "            overhead = 0 #いったん仮置き\n",
    "        else:\n",
    "            overhead = packet_count / mr_recvs\n",
    "        overhead_list.append(overhead)\n",
    "    overhead_list.append(seed)\n",
    "    if 0 not in overhead_list:\n",
    "        total_overhead_list.append(overhead_list)\n",
    "    else:\n",
    "        print('seed', seed, 'list', overhead_list)\n",
    "print(col_average(total_overhead_list))"
   ]
  },
  {
   "cell_type": "code",
   "execution_count": 141,
   "metadata": {},
   "outputs": [
    {
     "name": "stdout",
     "output_type": "stream",
     "text": [
      "[ 89.3877551  204.63265306 478.26530612]\n"
     ]
    }
   ],
   "source": [
    "# packet数の平均を計算 SIGO Geocast\n",
    "total_packet_list = []\n",
    "for seed in seed_list:\n",
    "    packet_list = []   # index 0: 200nodes  index 1: 300nodes index:2 400nodes\n",
    "    for node in nodenum_list:\n",
    "        path = sigo_dict[seed][node]\n",
    "        sigo_df = pd.read_csv(path)\n",
    "        geocast_packets = sigo_df[(sigo_df['PDR'] != 0)]['geocast_packets'].sum()\n",
    "        flooding_packets = sigo_df[(sigo_df['PDR'] != 0)]['flooding_packets'].sum()\n",
    "        packet_count = geocast_packets + flooding_packets\n",
    "        packet_list.append(packet_count)\n",
    "    packet_list.append(seed)\n",
    "#     print(packet_list)\n",
    "    total_packet_list.append(packet_list)\n",
    "print(col_average(total_packet_list))"
   ]
  },
  {
   "cell_type": "code",
   "execution_count": 142,
   "metadata": {},
   "outputs": [
    {
     "name": "stdout",
     "output_type": "stream",
     "text": [
      "[159.59183673 251.3877551  553.65306122]\n"
     ]
    }
   ],
   "source": [
    "# packet数の平均を計算 LSGO Geocast\n",
    "total_packet_list = []\n",
    "for seed in seed_list:\n",
    "    packet_list = []   # index 0: 200nodes  index 1: 300nodes index:2 400nodes\n",
    "    for node in nodenum_list:\n",
    "        path = lsgo_dict[seed][node]\n",
    "        lsgo_df = pd.read_csv(path)\n",
    "        geocast_packets = lsgo_df[(lsgo_df['PDR'] != 0)]['geocast_packets'].sum()\n",
    "        flooding_packets = lsgo_df[(lsgo_df['PDR'] != 0)]['flooding_packets'].sum()\n",
    "        packet_count = geocast_packets + flooding_packets\n",
    "        packet_list.append(packet_count)\n",
    "    packet_list.append(seed)\n",
    "#     print(packet_list)\n",
    "    total_packet_list.append(packet_list)\n",
    "print(col_average(total_packet_list))"
   ]
  },
  {
   "cell_type": "code",
   "execution_count": 145,
   "metadata": {},
   "outputs": [
    {
     "name": "stdout",
     "output_type": "stream",
     "text": [
      "sigo geocast packet average [3.02040816 3.7755102  7.06122449]\n"
     ]
    }
   ],
   "source": [
    "# geocast パケット数\n",
    "total_packet_list = []\n",
    "for seed in seed_list:\n",
    "    packet_list = []   # index 0: 200nodes  index 1: 300nodes index:2 400nodes\n",
    "    for node in nodenum_list:\n",
    "        path = sigo_dict[seed][node]\n",
    "        sigo_df = pd.read_csv(path)\n",
    "        geocast_packets = sigo_df[(sigo_df['PDR'] != 0)]['geocast_packets'].sum()\n",
    "        flooding_packets = sigo_df[(sigo_df['PDR'] != 0)]['flooding_packets'].sum()\n",
    "        packet_count = geocast_packets + flooding_packets\n",
    "        packet_list.append(geocast_packets)\n",
    "    packet_list.append(seed)\n",
    "    total_packet_list.append(packet_list)\n",
    "print('sigo geocast packet average' , col_average(total_packet_list))"
   ]
  },
  {
   "cell_type": "code",
   "execution_count": 146,
   "metadata": {},
   "outputs": [
    {
     "name": "stdout",
     "output_type": "stream",
     "text": [
      "lsgo geocast packet average [ 81.42857143  75.40816327 135.        ]\n"
     ]
    }
   ],
   "source": [
    "total_packet_list = []\n",
    "for seed in seed_list:\n",
    "    packet_list = []   # index 0: 200nodes  index 1: 300nodes index:2 400nodes\n",
    "    for node in nodenum_list:\n",
    "        path = lsgo_dict[seed][node]\n",
    "        lsgo_df = pd.read_csv(path)\n",
    "        geocast_packets = lsgo_df[(lsgo_df['PDR'] != 0)]['geocast_packets'].sum()\n",
    "        flooding_packets = lsgo_df[(lsgo_df['PDR'] != 0)]['flooding_packets'].sum()\n",
    "        packet_count = geocast_packets + flooding_packets\n",
    "        packet_list.append(geocast_packets)\n",
    "    packet_list.append(seed)\n",
    "    total_packet_list.append(packet_list)\n",
    "print('lsgo geocast packet average' , col_average(total_packet_list))"
   ]
  },
  {
   "cell_type": "code",
   "execution_count": 116,
   "metadata": {},
   "outputs": [
    {
     "name": "stdout",
     "output_type": "stream",
     "text": [
      "94\n",
      "94\n",
      "6\n"
     ]
    }
   ],
   "source": [
    "test_path = sigo_dict['10001']['200']\n",
    "test_df = pd.read_csv(test_path)\n",
    "print(test_df['mr_recvs'].sum()) #mr_recvsの合計\n",
    "\n",
    "#pdr が 0ではないmr_recvの合計\n",
    "print(test_df[(test_df['PDR'] != 0)]['mr_recvs'].sum()) \n",
    "\n",
    "#pdrが0ではない　もの(packet)だけをカウント\n",
    "print(test_df[(test_df['PDR'] != 0)]['mr_recvs'].count())"
   ]
  },
  {
   "cell_type": "code",
   "execution_count": null,
   "metadata": {},
   "outputs": [],
   "source": []
  }
 ],
 "metadata": {
  "kernelspec": {
   "display_name": "Python 3",
   "language": "python",
   "name": "python3"
  },
  "language_info": {
   "codemirror_mode": {
    "name": "ipython",
    "version": 3
   },
   "file_extension": ".py",
   "mimetype": "text/x-python",
   "name": "python",
   "nbconvert_exporter": "python",
   "pygments_lexer": "ipython3",
   "version": "3.8.5"
  }
 },
 "nbformat": 4,
 "nbformat_minor": 4
}
