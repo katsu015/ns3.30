{
 "cells": [
  {
   "cell_type": "code",
   "execution_count": 3,
   "metadata": {},
   "outputs": [],
   "source": [
    "import pandas as pd\n",
    "import cv2\n",
    "import numpy as np\n",
    "import matplotlib.pyplot as plt\n",
    "#jupyter内で画像を表示\n",
    "%matplotlib inline \n",
    "#別ウィンドウで画像表示\n",
    "# %matplotlib qt \n",
    "import csv\n",
    "import json\n",
    "from ipywidgets import interact, interactive, fixed, RadioButtons\n",
    "import ipywidgets as widgets\n",
    "from IPython.display import display\n",
    "import pathlib\n",
    "import re\n",
    "import sys, math\n",
    "from IPython.core.interactiveshell import InteractiveShell\n",
    "InteractiveShell.ast_node_interactivity = \"all\"\n",
    "pd.set_option('display.max_columns', 100)"
   ]
  },
  {
   "cell_type": "markdown",
   "metadata": {},
   "source": [
    "# モビリティとノード数の登録"
   ]
  },
  {
   "cell_type": "code",
   "execution_count": 4,
   "metadata": {},
   "outputs": [],
   "source": [
    "row_no = 0\n",
    "fileobj = open(\"no_signal_500.tcl\", \"r\", encoding=\"utf_8\")\n",
    "# time = 14\n",
    "# id_list = ['50', '100', '300', '289', '190', '898'] #ノードの位置を表示させたいIDを初期化\n",
    "node_num = 500\n",
    "first_x = [0] * node_num\n",
    "first_y = [0] * node_num\n",
    "\n",
    "# 最初のポジションをリストに保存\n",
    "while True:\n",
    "    line = fileobj.readline()\n",
    "    line_split = line.split()\n",
    "    if(len(line_split) == 4):\n",
    "#         print(line_split)\n",
    "        node_id = re.sub(r\"\\D\", \"\", line_split[0])\n",
    "        if(line_split[2] == 'X_'):\n",
    "            x_pos = line_split[3]\n",
    "            first_x[int(node_id)] = int(x_pos[:-2])\n",
    "#             print('node id', node_id, 'x', first_x[int(node_id)])\n",
    "        if(line_split[2] == 'Y_'):\n",
    "            y_pos = line_split[3]\n",
    "            first_y[int(node_id)] = int(y_pos[:-2])\n",
    "#             print('node id', node_id, 'y', first_y[int(node_id)])\n",
    "    if(first_x[node_num - 1] != 0):\n",
    "        break"
   ]
  },
  {
   "cell_type": "code",
   "execution_count": 8,
   "metadata": {},
   "outputs": [
    {
     "data": {
      "text/plain": [
       "44"
      ]
     },
     "execution_count": 8,
     "metadata": {},
     "output_type": "execute_result"
    }
   ],
   "source": [
    "44\n",
    "send_sigo_path = pathlib.Path('../../ns3.30/data/send_sigo/sigo-seed_20000nodenum_300.csv')\n",
    "send_lsgo_path = pathlib.Path('../../ns3.30/data/send_lsgo/lsgo-seed_20000nodenum_300.csv')"
   ]
  },
  {
   "cell_type": "code",
   "execution_count": 9,
   "metadata": {},
   "outputs": [],
   "source": [
    "send_sigo_df = pd.read_csv(send_sigo_path)\n",
    "send_lsgo_df = pd.read_csv(send_lsgo_path)"
   ]
  },
  {
   "cell_type": "code",
   "execution_count": 10,
   "metadata": {},
   "outputs": [],
   "source": [
    "# print('aaaaaaaaaa')\n",
    "# send_lsgo_df[(send_lsgo_df['hop'] < 3) & (send_lsgo_df['time']>= 14000000) & (send_lsgo_df['time'] < 15000000)]"
   ]
  },
  {
   "cell_type": "code",
   "execution_count": 11,
   "metadata": {},
   "outputs": [
    {
     "data": {
      "text/plain": [
       "{0: 525, 1: 153}"
      ]
     },
     "execution_count": 11,
     "metadata": {},
     "output_type": "execute_result"
    }
   ],
   "source": [
    "send_sigo_df['des_id'].value_counts().to_dict()"
   ]
  },
  {
   "cell_type": "code",
   "execution_count": 12,
   "metadata": {},
   "outputs": [
    {
     "data": {
      "text/plain": [
       "{0: 459, 1: 139}"
      ]
     },
     "execution_count": 12,
     "metadata": {},
     "output_type": "execute_result"
    }
   ],
   "source": [
    "send_lsgo_df['des_id'].value_counts().to_dict()"
   ]
  },
  {
   "cell_type": "code",
   "execution_count": 13,
   "metadata": {},
   "outputs": [
    {
     "data": {
      "text/plain": [
       "2"
      ]
     },
     "execution_count": 13,
     "metadata": {},
     "output_type": "execute_result"
    }
   ],
   "source": [
    "dest_list =send_lsgo_df['des_id'].value_counts().index.tolist()\n",
    "dest_list.sort()\n",
    "len(dest_list)"
   ]
  },
  {
   "cell_type": "code",
   "execution_count": 14,
   "metadata": {},
   "outputs": [],
   "source": [
    "def output_df(hopcount, des_id):\n",
    "    # send_lsgo_df[(send_lsgo_df['hop'] < 3) & (send_lsgo_df['time']>= 14000000) & (send_lsgo_df['time'] < 15000000)]\n",
    "    print('lsgo')\n",
    "    display(send_lsgo_df[(send_lsgo_df['hop'] == hopcount) & (send_lsgo_df['des_id'] == des_id)])\n",
    "    print('sigo')\n",
    "    display(send_sigo_df[(send_sigo_df['hop'] == hopcount) & (send_sigo_df['des_id'] == des_id)])\n",
    "    "
   ]
  },
  {
   "cell_type": "code",
   "execution_count": 17,
   "metadata": {
    "scrolled": false
   },
   "outputs": [
    {
     "data": {
      "application/vnd.jupyter.widget-view+json": {
       "model_id": "c5e48b6fade74bf1958bc29472763156",
       "version_major": 2,
       "version_minor": 0
      },
      "text/plain": [
       "interactive(children=(IntSlider(value=11, description='hopcount', max=21, min=1), Dropdown(description='des_id…"
      ]
     },
     "metadata": {},
     "output_type": "display_data"
    }
   ],
   "source": [
    "@interact(hopcount=(1,21,1), des_id = dest_list, time=(1,17,1))\n",
    "def df_run(hopcount, des_id, time):\n",
    "    output_df(hopcount, des_id)\n",
    "    #topologyが欲しいノードをリストで渡す\n",
    "    color_list = [27,267, 153, 226, 71] #色付けたいIDを初期化\n",
    "    source_id = 123\n",
    "    node_num = 300\n",
    "    vis_topology(time, color_list, des_id, source_id, node_num)"
   ]
  },
  {
   "cell_type": "markdown",
   "metadata": {},
   "source": [
    "# トポロジーの確認"
   ]
  },
  {
   "cell_type": "code",
   "execution_count": 16,
   "metadata": {},
   "outputs": [],
   "source": [
    "def vis_topology(time, id_list, des_id, source_id, node_num):\n",
    "    fileobj2 = open(\"test.tcl\", \"r\", encoding=\"utf_8\")\n",
    "    row_no = 0\n",
    "    x_list = []\n",
    "    y_list = []\n",
    "    while True:\n",
    "        line = fileobj2.readline()\n",
    "        line_split = line.split()\n",
    "        if(len(line_split) == 8):\n",
    "            split_time = line_split[2]\n",
    "            split_time = split_time[:-2]\n",
    "            if((int(split_time) >= time) & (int(split_time) < time + 1)):\n",
    "                split_id = re.sub(r\"\\D\", \"\", line_split[3])\n",
    "                split_x = line_split[5]\n",
    "                split_y = line_split[6]\n",
    "#                 if(split_id in id_list):\n",
    "                first_x[int(split_id)] = split_x\n",
    "                first_y[int(split_id)] = split_y\n",
    "        if line:\n",
    "            row_no += 1\n",
    "            if(row_no > 87575):\n",
    "                break\n",
    "        else:\n",
    "            break\n",
    "    img_area = np.zeros(shape=(1050,1050, 3), dtype=np.int16)\n",
    "    plt.figure(figsize=(10, 10))\n",
    "    source_color = (255,241,0)\n",
    "    source_radius = 10\n",
    "    des_color = (30,144,255)\n",
    "    des_radius = 10\n",
    "    normal_color = (0, 255, 0)\n",
    "    normal_radius = 4\n",
    "    target_color = (255, 0, 0)\n",
    "    target_radius = 6\n",
    "    for node_id in range(0, node_num):\n",
    "        write_color = normal_color\n",
    "        write_radius = normal_radius\n",
    "        \n",
    "        x = float(first_x[int(node_id)])\n",
    "        y = float(first_y[int(node_id)])\n",
    "        if node_id == source_id:\n",
    "            write_color = source_color\n",
    "            write_radius = source_radius\n",
    "        if node_id in id_list:\n",
    "            write_color = target_color\n",
    "            write_radius = target_radius\n",
    "        if node_id == des_id:\n",
    "            write_color = des_color\n",
    "            write_radius = des_radius\n",
    "        cv2.circle(img=img_area, center=(int(x),\n",
    "                           int(y)), radius=write_radius, color=write_color, thickness=-1)\n",
    "    plt.grid(color='w', linestyle='dotted', linewidth=1.0)\n",
    "    plt.xticks([1000,800,600,400,200, 0]) \n",
    "    plt.xlim([0, 1000])\n",
    "    plt.yticks([1000,800,600,400,200, 0])\n",
    "    plt.ylim([0, 1000])\n",
    "    plt.imshow(img_area)"
   ]
  },
  {
   "cell_type": "code",
   "execution_count": null,
   "metadata": {},
   "outputs": [],
   "source": []
  }
 ],
 "metadata": {
  "kernelspec": {
   "display_name": "Python 3",
   "language": "python",
   "name": "python3"
  },
  "language_info": {
   "codemirror_mode": {
    "name": "ipython",
    "version": 3
   },
   "file_extension": ".py",
   "mimetype": "text/x-python",
   "name": "python",
   "nbconvert_exporter": "python",
   "pygments_lexer": "ipython3",
   "version": "3.8.5"
  }
 },
 "nbformat": 4,
 "nbformat_minor": 4
}
