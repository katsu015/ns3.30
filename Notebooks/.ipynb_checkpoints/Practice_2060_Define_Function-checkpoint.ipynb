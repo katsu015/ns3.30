{
 "cells": [
  {
   "cell_type": "markdown",
   "metadata": {},
   "source": [
    "## 6. 関数の自作\n",
    "これまで関数と言えば事前に定義されている組み込み関数しか使っていませんでしたが，自分で関数を定義して使うこともできます．関数の提供形態によって次のように分類することができます．\n",
    "\n",
    "- 組み込み関数・・・関数名を指定するだけで直ぐ使える関数\n",
    "- パッケージで提供される外部関数・・・import文によって取り込んで使う関数\n",
    "- パッケージに含まれない外部関数・・・インストールが必要な関数，一旦インストールしたらimport文で使用可能\n",
    "- 自作の関数・・・プログラムの中で自分で定義する関数\n",
    "\n",
    "ここでは関数の自作について学習します．"
   ]
  },
  {
   "cell_type": "markdown",
   "metadata": {},
   "source": [
    "*****\n",
    "### def文\n",
    "関数を自分で作る場合は，def文によって関数名と処理の中身を記述します．def文は次の構文となります．\n",
    "```Python\n",
    "def myFunctionName(parameters):\n",
    "    process-1\n",
    "    process-2\n",
    "    ...\n",
    "    return result\n",
    "```\n",
    "\n",
    "ここで，myFunctionNameは自作関数の名前です．関数名も変数名と同じでプログラム内で競合しないように名付けましょう．\n",
    "parametersは関数に渡す引数ですが，引数の個数は複数個でも無しでも構いません．引数が複数の場合は，カンマで区切って記載します．\n",
    "関数が戻り値を返す場合はreturn文を使用します．returen文は関数の定義ブロック内のどこに記載しても構いません．制御がretern文に渡ると関数の呼出しもとに戻ります．\n",
    "\n"
   ]
  },
  {
   "cell_type": "markdown",
   "metadata": {},
   "source": [
    "#### ピタゴラスの定理\n",
    "有名なピタゴラスの定理を用いた関数を作ってみましょう．\n",
    "ピタゴラスの定理を文章で書くと「直角三角形の直角を挟む2辺の夫々の長さを2乗した和は斜辺の長さの2乗に等しい」となります．\n",
    "各辺の長さを2乗しているので三平方の定理とも言います．\n",
    "\n",
    "![ピタゴラスの定理](./PythagoreanTheorem.jpg)\n",
    "\n",
    "この図のような直角三角形に対して，次式が成り立ちます．\n",
    "\n",
    "> $a^2 + b^2 = c^2$\n",
    "\n",
    "この式を変形すると，$c = \\sqrt{a^2+b^2}$となります．そこで2つの数値を与えたときにピタゴラスの定理から斜辺の長さを求める関数を定義します．\n",
    "```Python\n",
    "def pythagorean(side1,side2):\n",
    "    if (isinstance(side1,int) or isinstance(side1,float)) and (isinstance(side2,int) or isinstance(side2,float)):\n",
    "        oblique = (side1**2 + side2**2)**(1/2)\n",
    "        return oblique\n",
    "    else:\n",
    "        return None\n",
    "```\n",
    "\n",
    "最初に受け取った引数が数値であるかをisinstance()関数と論理演算を活用して確認しています．\n",
    "引数が数値でない場合は返り値として<font color=green>None</font>を返します．"
   ]
  },
  {
   "cell_type": "code",
   "execution_count": 1,
   "metadata": {},
   "outputs": [],
   "source": [
    "def pythagorean(side1,side2):\n",
    "    if (isinstance(side1,int) or isinstance(side1,float)) and (isinstance(side2,int) or isinstance(side2,float)):\n",
    "        oblique = (side1**2 + side2**2)**(1/2)\n",
    "        return oblique\n",
    "    else:\n",
    "        return None"
   ]
  },
  {
   "cell_type": "markdown",
   "metadata": {},
   "source": [
    "ここで作成したpythagorean()関数を使って，幾つか計算してみます．\n",
    "```Python\n",
    "pythagorean(1,1)\n",
    "pythagorean(3,4)\n",
    "pythagorean(5,12)\n",
    "None == pythagorean(1,'1')\n",
    "```"
   ]
  },
  {
   "cell_type": "code",
   "execution_count": 2,
   "metadata": {},
   "outputs": [
    {
     "data": {
      "text/plain": [
       "1.4142135623730951"
      ]
     },
     "execution_count": 2,
     "metadata": {},
     "output_type": "execute_result"
    }
   ],
   "source": [
    "pythagorean(1,1)"
   ]
  },
  {
   "cell_type": "code",
   "execution_count": null,
   "metadata": {},
   "outputs": [],
   "source": []
  },
  {
   "cell_type": "code",
   "execution_count": null,
   "metadata": {},
   "outputs": [],
   "source": []
  },
  {
   "cell_type": "code",
   "execution_count": 4,
   "metadata": {},
   "outputs": [
    {
     "data": {
      "text/plain": [
       "True"
      ]
     },
     "execution_count": 4,
     "metadata": {},
     "output_type": "execute_result"
    }
   ],
   "source": [
    "None == pythagorean('a', 'a')"
   ]
  },
  {
   "cell_type": "markdown",
   "metadata": {},
   "source": [
    "ちなみに，ピタゴラスの定理を満たす3つの数値が全て自然数になる場合，その組み合わせをピタゴラス数といいます．ここで計算した(3,4,5)および(5,12,13)はピタゴラス数です．"
   ]
  },
  {
   "cell_type": "markdown",
   "metadata": {},
   "source": [
    "*****\n",
    "### 引数と戻り値の渡し方\n",
    "旧来のプログラミング言語を知っている人はご存知でしょうが，引数と戻り値の渡し方にオブジェクト渡しとアドレス渡しがあります．\n",
    "オブジェクト渡しだと，その度に新しい変数が生成されます．アドレス渡しだと元のデータに対して直接操作します．\n",
    "\n",
    "この違いを理解するために，リストを引数として，その逆順のリストを返すプログラムを作ってみましょう.\n",
    "```Python\n",
    "def reverseItself(inList):\n",
    "    if isinstance(inList,list):\n",
    "        inList.reverse()\n",
    "        return inList\n",
    "    else:\n",
    "        print('Parameter is not a list!')\n",
    "```"
   ]
  },
  {
   "cell_type": "code",
   "execution_count": 5,
   "metadata": {},
   "outputs": [],
   "source": [
    "def reverseItself(inList):\n",
    "    if isinstance(inList,list):\n",
    "        inList.reverse()\n",
    "        return inList\n",
    "    else:\n",
    "        print('Parameter is not a list!')"
   ]
  },
  {
   "cell_type": "markdown",
   "metadata": {},
   "source": [
    "この関数では，引数も戻り値もアドレス渡しになっています．reverseItself()関数の使用例を見てみましょう．\n",
    "```Python\n",
    "indata = [1,2,3,4,5]\n",
    "print('indata before reversing:',indata)\n",
    "outdata = reverseItself(indata)\n",
    "print('indata:',indata)\n",
    "print('outdata:',outdata)\n",
    "```"
   ]
  },
  {
   "cell_type": "code",
   "execution_count": 7,
   "metadata": {},
   "outputs": [
    {
     "name": "stdout",
     "output_type": "stream",
     "text": [
      "indata before reversing: [1, 2, 3, 4, 5]\n",
      "indata: [5, 4, 3, 2, 1]\n",
      "outdata: [5, 4, 3, 2, 1]\n"
     ]
    }
   ],
   "source": [
    "indata = [1,2,3,4,5]\n",
    "print('indata before reversing:',indata)\n",
    "outdata = reverseItself(indata)\n",
    "print('indata:',indata)\n",
    "print('outdata:',outdata)"
   ]
  },
  {
   "cell_type": "markdown",
   "metadata": {},
   "source": [
    "このように，引数として渡したリストそのものの順序が逆順になっています．元データを保持したい場合は要注意です．<br>\n",
    "この結果に対して変数outdataに変更を加えてみて，どのように作用するか確認しましょう．\n",
    "```Python\n",
    "outdata.append(0)\n",
    "print('indata:',indata)\n",
    "print('outdata:',outdata)\n",
    "```"
   ]
  },
  {
   "cell_type": "code",
   "execution_count": 8,
   "metadata": {},
   "outputs": [
    {
     "name": "stdout",
     "output_type": "stream",
     "text": [
      "indata: [5, 4, 3, 2, 1, 0]\n",
      "outdata: [5, 4, 3, 2, 1, 0]\n"
     ]
    }
   ],
   "source": [
    "outdata.append(0)\n",
    "print('indata:',indata)\n",
    "print('outdata:',outdata)"
   ]
  },
  {
   "cell_type": "markdown",
   "metadata": {},
   "source": [
    "このように，変数indataの中身も変更されています．すなわち，indataとoutdataは同じオブジェクトを指していることが分かります．\n",
    "\n",
    "それでは，このような副作用を及ぼさない方法について見てみましょう．\n",
    "引数で渡されたリストの複製を作り，そのリストに対してreverse()メソッドで順序を反転します．これにより，元のリストに影響を及ぼすことが無くなります．\n",
    "```Python\n",
    "def reverseResult(inList):\n",
    "    if isinstance(inList,list):\n",
    "        myList = inList[:]\n",
    "        myList.reverse()\n",
    "        return myList\n",
    "    else:\n",
    "        print('Parameter is not a list!')\n",
    "```"
   ]
  },
  {
   "cell_type": "code",
   "execution_count": 9,
   "metadata": {},
   "outputs": [],
   "source": [
    "def reverseResult(inList):\n",
    "    if isinstance(inList,list):\n",
    "        myList = inList[:]\n",
    "        myList.reverse()\n",
    "        return myList\n",
    "    else:\n",
    "        print('Parameter is not a list!')"
   ]
  },
  {
   "cell_type": "markdown",
   "metadata": {},
   "source": [
    "この関数について，先ほどと同様に引数と戻り値について確認してみましょう．\n",
    "```Python\n",
    "indata = [1,2,3,4,5]\n",
    "print('indata before reversing:',indata)\n",
    "outdata = reverseResult(indata)\n",
    "print('indata:',indata)\n",
    "print('outdata:',outdata)\n",
    "```"
   ]
  },
  {
   "cell_type": "code",
   "execution_count": 10,
   "metadata": {},
   "outputs": [
    {
     "name": "stdout",
     "output_type": "stream",
     "text": [
      "indata before reversing: [1, 2, 3, 4, 5]\n",
      "indata: [1, 2, 3, 4, 5]\n",
      "outdata: [5, 4, 3, 2, 1]\n"
     ]
    }
   ],
   "source": [
    "indata = [1,2,3,4,5]\n",
    "print('indata before reversing:',indata)\n",
    "outdata = reverseResult(indata)\n",
    "print('indata:',indata)\n",
    "print('outdata:',outdata)"
   ]
  },
  {
   "cell_type": "markdown",
   "metadata": {},
   "source": [
    "実際に確認すると，先ほどとは異なり入力リストには影響を与えていないことが分かります．"
   ]
  },
  {
   "cell_type": "markdown",
   "metadata": {
    "collapsed": true
   },
   "source": [
    "*****\n",
    "### lambda関数\n",
    "def文による関数の定義とは別の要求として，Pythonの式の中で動的に関数を定義して使いたい場合があります．\n",
    "そのような場合は，lambda関数を使います．lambda関数の構文は次のようになっています．\n",
    "```Python\n",
    "lambda x:y\n",
    "```\n",
    "ここでxは入力となる引数でyは出力となる返り値です．\n",
    "簡単な例として$y = x^2 - 9x + 10$をlambda関数で定義してみます．\n",
    "この定義は次のようになります．\n",
    "```Python\n",
    "y = lambda x:x**2-9*x+10\n",
    "```"
   ]
  },
  {
   "cell_type": "code",
   "execution_count": 11,
   "metadata": {},
   "outputs": [],
   "source": [
    "y = lambda x:x**2-9*x+10"
   ]
  },
  {
   "cell_type": "markdown",
   "metadata": {},
   "source": [
    "この式について，xを0から10までの整数として動かしたときのyの値を求めてみましょう．\n",
    "```Python\n",
    "for x in range(0,11):\n",
    "    print([x,y(x)])\n",
    "```"
   ]
  },
  {
   "cell_type": "code",
   "execution_count": null,
   "metadata": {
    "scrolled": true
   },
   "outputs": [],
   "source": []
  },
  {
   "cell_type": "markdown",
   "metadata": {},
   "source": [
    "このような利用法ならば，関数の定義をdef文で行っても同じです．この例ではlambda関数の必要性は分かりません．\n",
    "そこでlambda関数の利点が発揮される例を見てみましょう．\n",
    "\n",
    "辞書配列をキーでソートすることは容易いですが，値でのソートにはlambda関数の助けを借ります．<br>\n",
    "今，身長を測定した結果を辞書配列heightsに格納しました．\n",
    "```Python\n",
    "heights = {'Ishii':167,'Yamada':173,'Katoh':170,'Suzuki':160}\n",
    "heights\n",
    "```"
   ]
  },
  {
   "cell_type": "code",
   "execution_count": null,
   "metadata": {},
   "outputs": [],
   "source": []
  },
  {
   "cell_type": "markdown",
   "metadata": {},
   "source": [
    "まず名前の昇順にソートしてみたいのですが，辞書配列は要素の順序が無く，sort()メソッドも存在しません．\n",
    "そこで，for文とsorted()関数によってソートを実現します．例によってfor文との組み合わせで辞書配列のitems()メソッドを活用します．\n",
    "```Python\n",
    "sortByKey = []\n",
    "for key,value in sorted(heights.items()):\n",
    "    sortByKey.append((key,value))\n",
    "sortByKey\n",
    "```"
   ]
  },
  {
   "cell_type": "code",
   "execution_count": null,
   "metadata": {},
   "outputs": [],
   "source": []
  },
  {
   "cell_type": "markdown",
   "metadata": {},
   "source": [
    "sortByKeyというリスト配列にキーでソートした結果を保有します．どのような仕組みになっているか，for文について解釈しましょう．\n",
    "```Python\n",
    "for key,value in sorted(heights.items()):\n",
    "```\n",
    "この文の中でキーと値のペアはitems()メソッドによって取り出されていますが，取り出したペアの全体についてsorted()関数でソートしています．\n",
    "sorted()関数の第2引数が指定されていないので，キーと値のペアを頭から比較します．キーに重複が無いので，キーの比較で順序が決まります．\n",
    "よって，キーの昇順で取り出したキーと値のペアについて，forループ内の処理が実施されます．\n",
    "\n",
    "このプログラムを元に<font color=blue>辞書配列の値でソート</font>するプログラムを考えます．\n",
    "sorted()関数は第2引数で何でソートするか指定できます．第2引数の記載方法は「key=XXXX」となります．このXXXXにlambda関数を使います．\n",
    "辞書配列の値でソートするためのfor文は次のようになります．\n",
    "```Python\n",
    "for key,value in sorted(heights.items(),key=lambda x:x[1]):\n",
    "```\n",
    "ここで記載されている<font color=blue>**lambda関数「lambda x:x[1]」**の入力となる引数がxで，xを配列と見なして添え字に1を指定することにより，出力となる返り値として（キー，値）のペアの2番目である値を返します</font>．その結果として，値でソートした結果のペアについてforループ内の処理が実施されます．\n",
    "```Python\n",
    "sortByValue = []\n",
    "for key,value in sorted(heights.items(),key=lambda x:x[1]):\n",
    "    sortByValue.append((key,value))\n",
    "sortByValue\n",
    "```"
   ]
  },
  {
   "cell_type": "code",
   "execution_count": null,
   "metadata": {},
   "outputs": [],
   "source": []
  },
  {
   "cell_type": "markdown",
   "metadata": {
    "collapsed": true
   },
   "source": [
    "辞書配列をlambda関数を使って値でソートする方法は定番の手法ですので，ぜひ覚えてください．\n",
    "*****"
   ]
  }
 ],
 "metadata": {
  "kernelspec": {
   "display_name": "Python 3",
   "language": "python",
   "name": "python3"
  },
  "language_info": {
   "codemirror_mode": {
    "name": "ipython",
    "version": 3
   },
   "file_extension": ".py",
   "mimetype": "text/x-python",
   "name": "python",
   "nbconvert_exporter": "python",
   "pygments_lexer": "ipython3",
   "version": "3.8.5"
  }
 },
 "nbformat": 4,
 "nbformat_minor": 2
}
