{
 "cells": [
  {
   "cell_type": "code",
   "execution_count": 95,
   "metadata": {},
   "outputs": [],
   "source": [
    "from sklearn.datasets import load_iris\n",
    "import pandas as pd\n",
    "import seaborn as sns\n",
    "from sklearn.model_selection import train_test_split\n",
    "from sklearn import metrics\n",
    "import matplotlib.pyplot as plt\n",
    "from sklearn.neighbors import KNeighborsClassifier\n",
    "import cv2 \n",
    "from PIL import Image\n",
    "import glob\n",
    "from skimage import feature\n",
    "import numpy as np\n",
    "import matplotlib.pyplot as plt\n",
    "from sklearn.preprocessing import LabelEncoder\n",
    "import pickle\n",
    "import pywt\n",
    "import re\n",
    "import copy\n",
    "import random\n",
    "import time\n",
    "\n",
    "\n",
    "import warnings\n",
    "warnings.filterwarnings('ignore')"
   ]
  },
  {
   "cell_type": "code",
   "execution_count": 46,
   "metadata": {},
   "outputs": [],
   "source": [
    "def detect_contour(image):\n",
    "    obj_dict = {}\n",
    "    retval, bw = cv2.threshold(image, 50, 255, cv2.THRESH_BINARY | cv2.THRESH_OTSU)\n",
    "    contours, hierarchy = cv2.findContours(bw, cv2.RETR_LIST, cv2.CHAIN_APPROX_NONE)\n",
    "    detect_count = 0\n",
    "\n",
    "    for i in range(0, len(contours)):\n",
    "        area = cv2.contourArea(contours[i])\n",
    "        \n",
    "        if area < 1e2 or 1e5 < area:\n",
    "            continue\n",
    "            \n",
    "        if len(contours[i]) > 0:\n",
    "            rect = contours[i]\n",
    "            x, y, w, h = cv2.boundingRect(rect)\n",
    "            \n",
    "            angle_data = cv2.minAreaRect(contours[i])\n",
    "            angle = angle_data[2]\n",
    "            point = [y, y+h, x, x+w, angle]\n",
    "            w_h = w + h\n",
    "            obj_dict[w_h] = point \n",
    "    return obj_dict[max(obj_dict)]"
   ]
  },
  {
   "cell_type": "code",
   "execution_count": 96,
   "metadata": {},
   "outputs": [],
   "source": [
    "def burst_feature_point(color_paths, depth_paths, mode):\n",
    "    mode_list = ['train', 'test']\n",
    "    if mode not in mode_list:\n",
    "        raise Exception('Error!')\n",
    "    train_feature = []\n",
    "    hog_list = []\n",
    "    name_list = []\n",
    "    X_train = []\n",
    "    \n",
    "    for color_path, depth_path in zip(color_paths, depth_paths):\n",
    "        depth_image = cv2.imread(depth_path, 0)\n",
    "        color_image = cv2.imread(color_path, 0)\n",
    "        \n",
    "        # y_trainの作成\n",
    "        slash_index = color_path[13:].find('/')\n",
    "        name_list.append(color_path[13:13+slash_index])\n",
    "        \n",
    "        image_list = []\n",
    "        depth_copy = copy.deepcopy(depth_image)\n",
    "        color_copy = copy.deepcopy(color_image)\n",
    "\n",
    "        for col in depth_image:\n",
    "            for one in col:\n",
    "                if one > 1000:\n",
    "                    image_list.append(0)\n",
    "                else:\n",
    "                    image_list.append(one)\n",
    "\n",
    "        for y, col in enumerate(depth_image):\n",
    "            for x, pixel in enumerate(col):\n",
    "                if pixel > 0 and pixel < 390: \n",
    "                    depth_image[y][x] = 255\n",
    "                else:\n",
    "                    depth_image[y][x] = 0\n",
    "        image = np.array(depth_image, dtype=np.uint8)\n",
    "\n",
    "        y1, y2, x1, x2, angle = detect_contour(image)\n",
    "        img = color_image[y1:y2, x1:x2]\n",
    "        depth_cut = depth_copy[y1:y2, x1:x2]\n",
    "        \n",
    "        # 特徴点の場所をカット\n",
    "        # 特徴量を作成\n",
    "        width, height = img.shape\n",
    "        q2_x = int(width/2)\n",
    "        q2_y = int(height/2)\n",
    "        q1_x = int(q2_x/2)\n",
    "        q1_y = int(q2_y/2)\n",
    "        q3_x = int(q2_x+q1_x)\n",
    "        q3_y = int(q2_y+q1_y)\n",
    "        b_x = 16\n",
    "        b_y = 16\n",
    "\n",
    "        x_axis = [q1_x, q1_x, q3_x]\n",
    "        y_axis = [q1_y, q2_y, q3_y]\n",
    "\n",
    "        cut_img_list = []\n",
    "        features_list = []\n",
    "        hog_img_list = []\n",
    "        for x_q in x_axis:\n",
    "            for y_q in y_axis:\n",
    "                cut_img = img[x_q-b_x:x_q+b_x, y_q-b_y:y_q+b_y]\n",
    "                features, hog_img = feature.hog(cut_img, orientations=8, pixels_per_cell=(8, 8),\n",
    "                                                cells_per_block=(1, 1), visualize=True, multichannel=False)\n",
    "                features_list.append(features)\n",
    "                hog_img_list.append(hog_img)\n",
    "\n",
    "# バウンディングボックスの場所の可視化\n",
    "#         for x_q in x_axis:\n",
    "#             for y_q in y_axis: \n",
    "#                 x1 = x_q-16\n",
    "#                 x2 = x_q+16\n",
    "#                 y1 = y_q-16\n",
    "#                 y2 = y_q+16\n",
    "#                 cv2.rectangle(img, (y1, x1), (y2, x2), color=(0, 255, 0), thickness=2)\n",
    "#         save_path = 'boundingbox' + path[path.find('/'):]\n",
    "#         cv2.imwrite(save_path, img)\n",
    "        \n",
    "        train_feature.append(features_list)\n",
    "        hog_list.append(hog_img_list)\n",
    "        \n",
    "# 入力毎に特徴量を1次元に格納\n",
    "    for col_feature in train_feature:\n",
    "        data = np.array([])\n",
    "        data = np.append(data, col_feature)\n",
    "        X_train.append(data)\n",
    "    X_train = np.array(X_train)    \n",
    "    \n",
    "    if mode == 'train':\n",
    "        y_dict = {}\n",
    "        le = LabelEncoder()\n",
    "        y_train = le.fit_transform(name_list)\n",
    "        decoded = le.inverse_transform(y_train)\n",
    "\n",
    "        for name, name_id in zip(decoded, y_train):\n",
    "            y_dict[name_id] = name\n",
    "        return X_train, y_train, y_dict\n",
    "    else:\n",
    "        return X_train"
   ]
  },
  {
   "cell_type": "code",
   "execution_count": 92,
   "metadata": {},
   "outputs": [],
   "source": [
    "train_path = glob.glob('image_folder/*zoom*')\n",
    "test_path = glob.glob('test_image/*')"
   ]
  },
  {
   "cell_type": "code",
   "execution_count": 93,
   "metadata": {},
   "outputs": [],
   "source": [
    "color_path = glob.glob('image_folder/*/*color*')\n",
    "depth_path = []\n",
    "\n",
    "random.seed(0)\n",
    "random.shuffle(color_path)\n",
    "for path in color_path:\n",
    "    new_path = path.replace('color', 'depth')\n",
    "    depth_path.append(new_path)\n",
    "    \n",
    "train_color = color_path[:70]\n",
    "train_depth = depth_path[:70]\n",
    "\n",
    "test_color = color_path[70:]\n",
    "test_depth = depth_path[70:]"
   ]
  },
  {
   "cell_type": "code",
   "execution_count": 94,
   "metadata": {},
   "outputs": [
    {
     "name": "stdout",
     "output_type": "stream",
     "text": [
      "start\n",
      "start\n",
      "start\n",
      "start\n",
      "start\n",
      "start\n",
      "start\n",
      "start\n",
      "start\n",
      "start\n",
      "start\n",
      "start\n",
      "start\n",
      "start\n",
      "start\n"
     ]
    },
    {
     "ename": "KeyboardInterrupt",
     "evalue": "",
     "output_type": "error",
     "traceback": [
      "\u001b[0;31m---------------------------------------------------------------------------\u001b[0m",
      "\u001b[0;31mKeyboardInterrupt\u001b[0m                         Traceback (most recent call last)",
      "\u001b[0;32m<ipython-input-94-04d692deb312>\u001b[0m in \u001b[0;36m<module>\u001b[0;34m\u001b[0m\n\u001b[0;32m----> 1\u001b[0;31m \u001b[0mX_train\u001b[0m\u001b[0;34m,\u001b[0m \u001b[0my_train\u001b[0m\u001b[0;34m,\u001b[0m \u001b[0my_dict\u001b[0m \u001b[0;34m=\u001b[0m \u001b[0mburst_feature_point\u001b[0m\u001b[0;34m(\u001b[0m\u001b[0mtrain_color\u001b[0m\u001b[0;34m,\u001b[0m \u001b[0mtrain_depth\u001b[0m\u001b[0;34m,\u001b[0m \u001b[0;34m'train'\u001b[0m\u001b[0;34m)\u001b[0m\u001b[0;34m\u001b[0m\u001b[0;34m\u001b[0m\u001b[0m\n\u001b[0m\u001b[1;32m      2\u001b[0m \u001b[0mX_test\u001b[0m \u001b[0;34m=\u001b[0m \u001b[0mburst_feature_point\u001b[0m\u001b[0;34m(\u001b[0m\u001b[0mtest_color\u001b[0m\u001b[0;34m,\u001b[0m \u001b[0mtest_depth\u001b[0m\u001b[0;34m,\u001b[0m \u001b[0;34m'test'\u001b[0m\u001b[0;34m)\u001b[0m\u001b[0;34m\u001b[0m\u001b[0;34m\u001b[0m\u001b[0m\n",
      "\u001b[0;32m<ipython-input-91-16d1d615282d>\u001b[0m in \u001b[0;36mburst_feature_point\u001b[0;34m(color_paths, depth_paths, mode)\u001b[0m\n\u001b[1;32m     23\u001b[0m         \u001b[0;32mfor\u001b[0m \u001b[0mcol\u001b[0m \u001b[0;32min\u001b[0m \u001b[0mdepth_image\u001b[0m\u001b[0;34m:\u001b[0m\u001b[0;34m\u001b[0m\u001b[0;34m\u001b[0m\u001b[0m\n\u001b[1;32m     24\u001b[0m             \u001b[0;32mfor\u001b[0m \u001b[0mone\u001b[0m \u001b[0;32min\u001b[0m \u001b[0mcol\u001b[0m\u001b[0;34m:\u001b[0m\u001b[0;34m\u001b[0m\u001b[0;34m\u001b[0m\u001b[0m\n\u001b[0;32m---> 25\u001b[0;31m                 \u001b[0;32mif\u001b[0m \u001b[0mone\u001b[0m \u001b[0;34m>\u001b[0m \u001b[0;36m1000\u001b[0m\u001b[0;34m:\u001b[0m\u001b[0;34m\u001b[0m\u001b[0;34m\u001b[0m\u001b[0m\n\u001b[0m\u001b[1;32m     26\u001b[0m                     \u001b[0mimage_list\u001b[0m\u001b[0;34m.\u001b[0m\u001b[0mappend\u001b[0m\u001b[0;34m(\u001b[0m\u001b[0;36m0\u001b[0m\u001b[0;34m)\u001b[0m\u001b[0;34m\u001b[0m\u001b[0;34m\u001b[0m\u001b[0m\n\u001b[1;32m     27\u001b[0m                 \u001b[0;32melse\u001b[0m\u001b[0;34m:\u001b[0m\u001b[0;34m\u001b[0m\u001b[0;34m\u001b[0m\u001b[0m\n",
      "\u001b[0;31mKeyboardInterrupt\u001b[0m: "
     ]
    }
   ],
   "source": [
    "X_train, y_train, y_dict = burst_feature_point(train_color, train_depth, 'train')\n",
    "X_test = burst_feature_point(test_color, test_depth, 'test')"
   ]
  },
  {
   "cell_type": "code",
   "execution_count": 87,
   "metadata": {},
   "outputs": [
    {
     "data": {
      "text/plain": [
       "(70, 1152)"
      ]
     },
     "execution_count": 87,
     "metadata": {},
     "output_type": "execute_result"
    }
   ],
   "source": [
    "X_train.shape"
   ]
  },
  {
   "cell_type": "code",
   "execution_count": 88,
   "metadata": {},
   "outputs": [
    {
     "data": {
      "text/plain": [
       "KNeighborsClassifier(algorithm='auto', leaf_size=30, metric='minkowski',\n",
       "                     metric_params=None, n_jobs=None, n_neighbors=1, p=2,\n",
       "                     weights='uniform')"
      ]
     },
     "execution_count": 88,
     "metadata": {},
     "output_type": "execute_result"
    }
   ],
   "source": [
    "knn = KNeighborsClassifier(n_neighbors=1)\n",
    "knn.fit(X_train, y_train)"
   ]
  },
  {
   "cell_type": "code",
   "execution_count": 89,
   "metadata": {},
   "outputs": [
    {
     "name": "stdout",
     "output_type": "stream",
     "text": [
      "iris\n",
      "curry\n",
      "curry\n",
      "curry\n",
      "curry\n"
     ]
    }
   ],
   "source": [
    "y_pred = knn.predict(X_test)\n",
    "for index in y_pred:\n",
    "    print(y_dict[index])"
   ]
  },
  {
   "cell_type": "code",
   "execution_count": 90,
   "metadata": {},
   "outputs": [
    {
     "data": {
      "text/plain": [
       "['image_folder/iris/iris_color_1.jpg',\n",
       " 'image_folder/apple/apple_color_0_221.jpg',\n",
       " 'image_folder/curry/curry_color_0_868.jpg',\n",
       " 'image_folder/kurumiA/kurumiA_color_0.jpg',\n",
       " 'image_folder/kurumiA/kurumiA_color_0_346.jpg']"
      ]
     },
     "execution_count": 90,
     "metadata": {},
     "output_type": "execute_result"
    }
   ],
   "source": [
    "test_color"
   ]
  },
  {
   "cell_type": "code",
   "execution_count": null,
   "metadata": {},
   "outputs": [],
   "source": []
  }
 ],
 "metadata": {
  "kernelspec": {
   "display_name": "Python 3",
   "language": "python",
   "name": "python3"
  },
  "language_info": {
   "codemirror_mode": {
    "name": "ipython",
    "version": 3
   },
   "file_extension": ".py",
   "mimetype": "text/x-python",
   "name": "python",
   "nbconvert_exporter": "python",
   "pygments_lexer": "ipython3",
   "version": "3.6.8"
  }
 },
 "nbformat": 4,
 "nbformat_minor": 2
}
