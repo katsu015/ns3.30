{
 "cells": [
  {
   "cell_type": "code",
   "execution_count": 5,
   "metadata": {},
   "outputs": [],
   "source": [
    "import os\n",
    "import pyrealsense2 as rs\n",
    "import cv2\n",
    "import numpy as np\n",
    "import matplotlib.pyplot as plt\n",
    "from PIL import Image\n",
    "import pyocr\n",
    "import pyocr.builders\n",
    "import glob"
   ]
  },
  {
   "cell_type": "code",
   "execution_count": 108,
   "metadata": {},
   "outputs": [],
   "source": [
    "def cv2pil(image):\n",
    "    new_image = image.copy()\n",
    "    if new_image.ndim == 2:  # モノクロ\n",
    "        pass\n",
    "    elif new_image.shape[2] == 3:  # カラー\n",
    "        new_image = new_image[:, :, ::-1]\n",
    "    elif new_image.shape[2] == 4:  # 透過\n",
    "        new_image = new_image[:, :, [2, 1, 0, 3]]\n",
    "    new_image = Image.fromarray(new_image)\n",
    "    return new_image\n",
    "\n",
    "def pil2cv(image):\n",
    "    ''' PIL型 -> OpenCV型 '''\n",
    "    new_image = np.array(image, dtype=np.uint8)\n",
    "    if new_image.ndim == 2:  # モノクロ\n",
    "        pass\n",
    "    elif new_image.shape[2] == 3:  # カラー\n",
    "        new_image = new_image[:, :, ::-1]\n",
    "    elif new_image.shape[2] == 4:  # 透過\n",
    "        new_image = new_image[:, :, [2, 1, 0, 3]]\n",
    "    return new_image"
   ]
  },
  {
   "cell_type": "code",
   "execution_count": 10,
   "metadata": {},
   "outputs": [],
   "source": [
    "config = rs.config()\n",
    "\n",
    "config.enable_stream(rs.stream.color, 1280, 720, rs.format.bgr8, 30)\n",
    "config.enable_stream(rs.stream.depth, 1280, 720, rs.format.z16, 30)"
   ]
  },
  {
   "cell_type": "code",
   "execution_count": 11,
   "metadata": {},
   "outputs": [],
   "source": [
    "tools = pyocr.get_available_tools()\n",
    "tool = tools[0]"
   ]
  },
  {
   "cell_type": "code",
   "execution_count": 135,
   "metadata": {},
   "outputs": [],
   "source": [
    "# OCRをしたい画像のファイルパスを書く\n",
    "img = Image.open('../../realsense_0727/image_folder/1595910350_color.jpg')"
   ]
  },
  {
   "cell_type": "code",
   "execution_count": 170,
   "metadata": {},
   "outputs": [
    {
     "data": {
      "text/plain": [
       "True"
      ]
     },
     "execution_count": 170,
     "metadata": {},
     "output_type": "execute_result"
    }
   ],
   "source": [
    "# wordboxがついた画像を出力\n",
    "builder = pyocr.builders.WordBoxBuilder(tesseract_layout=6)\n",
    "result = tool.image_to_string(img, lang='jpn', builder=builder)\n",
    "\n",
    "out = cv2.imread('../../realsense_0727/image_folder/1595910477_color.jpg')\n",
    "for d in result:\n",
    "    cv2.rectangle(out, d.position[0], d.position[1], (0, 0, 255), 2)\n",
    "    \n",
    "cv2.imwrite('ツナマヨ.jpg', out)"
   ]
  },
  {
   "cell_type": "code",
   "execution_count": 179,
   "metadata": {},
   "outputs": [
    {
     "name": "stdout",
     "output_type": "stream",
     "text": [
      "H\n",
      "uu\n",
      "HELL ha\n",
      ". pa, 10a 0 0\n",
      "i EE\n",
      "1 』 。\n",
      "|\n"
     ]
    }
   ],
   "source": [
    "# OCRの結果を出力\n",
    "img = Image.open('../../realsense_0727/image_folder/1595910477_color.jpg')\n",
    "img = img.resize((img.width*2, img.height*2))\n",
    "#img = img.rotate(-7)\n",
    "img = pil2cv(img)\n",
    "gray = cv2.cvtColor(img, cv2.COLOR_RGB2GRAY)\n",
    "#ret3, th3 = cv2.threshold(gray, 0, 255, cv2.THRESH_BINARY+cv2.THRESH_OTSU)\n",
    "threshold = 110\n",
    "ret, img_thresh = cv2.threshold(gray, threshold, 255, cv2.THRESH_BINARY)\n",
    "img = cv2pil(img_thresh)\n",
    "builder = pyocr.builders.TextBuilder(tesseract_layout=6)\n",
    "result = tool.image_to_string(img, lang='jpn+eng', builder=builder)\n",
    "print(result)"
   ]
  },
  {
   "cell_type": "code",
   "execution_count": 180,
   "metadata": {},
   "outputs": [],
   "source": [
    "img.show()"
   ]
  },
  {
   "cell_type": "markdown",
   "metadata": {},
   "source": [
    "<h1>すべてを実行する</h1>"
   ]
  },
  {
   "cell_type": "markdown",
   "metadata": {},
   "source": [
    "<h2>OCRにかける。文字を出力する。</h2>"
   ]
  },
  {
   "cell_type": "code",
   "execution_count": 78,
   "metadata": {},
   "outputs": [
    {
     "name": "stdout",
     "output_type": "stream",
     "text": [
      "m で で 回 記\n",
      "時 中 か は は 各\n",
      "上 導\n",
      "抗菌 イメ の\n",
      "\n",
      "Ne\n",
      "\n",
      "@@⑳\n"
     ]
    }
   ],
   "source": [
    "pipeline = rs.pipeline()\n",
    "profile = pipeline.start(config)\n",
    "align = align = rs.align(rs.stream.color)\n",
    "count = 0\n",
    "try:\n",
    "    while True:\n",
    "        frames = pipeline.wait_for_frames()\n",
    "        aligned_frames = align.process(frames)\n",
    "\n",
    "        color_frame = aligned_frames.get_color_frame()\n",
    "        depth_frame = aligned_frames.get_depth_frame()\n",
    "        if not depth_frame or not color_frame:\n",
    "            continue\n",
    "\n",
    "        depth_image = np.asanyarray(depth_frame.get_data())\n",
    "        color_image = np.asanyarray(color_frame.get_data())\n",
    "        color_image = color_image[:, :, [2, 1, 0]]\n",
    "\n",
    "        count += 1\n",
    "        if count == 15:\n",
    "            break                         \n",
    "finally:\n",
    "    pipeline.stop()\n",
    "    \n",
    "gray = cv2.cvtColor(color_image, cv2.COLOR_RGB2GRAY)\n",
    "#th3 = cv2.adaptiveThreshold(gray, 255, cv2.ADAPTIVE_THRESH_GAUSSIAN_C, cv2.THRESH_BINARY, 11, 2)\n",
    "#ret3,th3 = cv2.threshold(gray, 0, 255, cv2.THRESH_BINARY+cv2.THRESH_OTSU)\n",
    "threshold = 80\n",
    "\n",
    "ret, img_thresh = cv2.threshold(gray, threshold, 255, cv2.THRESH_BINARY)\n",
    "img = cv2pil(img_thresh)\n",
    "builder = pyocr.builders.TextBuilder(tesseract_layout=6)\n",
    "result = tool.image_to_string(img, lang='jpn', builder=builder)\n",
    "\n",
    "print(result)"
   ]
  },
  {
   "cell_type": "code",
   "execution_count": 80,
   "metadata": {},
   "outputs": [],
   "source": [
    "img.show()"
   ]
  },
  {
   "cell_type": "markdown",
   "metadata": {},
   "source": [
    "<h2>OCRにかける、バウンディングボックスを出力</h2>"
   ]
  },
  {
   "cell_type": "code",
   "execution_count": 39,
   "metadata": {},
   "outputs": [],
   "source": [
    "pipeline = rs.pipeline()\n",
    "profile = pipeline.start(config)\n",
    "align = align = rs.align(rs.stream.color)\n",
    "count = 0\n",
    "try:\n",
    "    while True:\n",
    "        frames = pipeline.wait_for_frames()\n",
    "        aligned_frames = align.process(frames)\n",
    "\n",
    "        color_frame = aligned_frames.get_color_frame()\n",
    "        depth_frame = aligned_frames.get_depth_frame()\n",
    "        if not depth_frame or not color_frame:\n",
    "            continue\n",
    "\n",
    "        depth_image = np.asanyarray(depth_frame.get_data())\n",
    "        color_image = np.asanyarray(color_frame.get_data())\n",
    "        color_image = color_image[:, :, [2, 1, 0]]\n",
    "\n",
    "        count += 1\n",
    "        if count == 15:\n",
    "            break                         \n",
    "finally:\n",
    "    pipeline.stop()\n",
    "    \n",
    "cv2.imwrite('test.jpg', color_image)\n",
    "gray = cv2.cvtColor(color_image, cv2.COLOR_RGB2GRAY)\n",
    "ret3, th3 = cv2.threshold(gray, 0, 255, cv2.THRESH_BINARY+cv2.THRESH_OTSU)\n",
    "img = cv2pil(th3)\n",
    "builder = pyocr.builders.WordBoxBuilder(tesseract_layout=6)\n",
    "result = tool.image_to_string(img, lang='jpn', builder=builder)\n",
    "\n",
    "img = cv2.imread('test.jpg')\n",
    "for d in result:\n",
    "    cv2.rectangle(img, d.position[0], d.position[1], (0, 0, 255), 2)\n",
    "    \n",
    "pil_out = cv2pil(img)\n",
    "pil_out.show()"
   ]
  },
  {
   "cell_type": "code",
   "execution_count": null,
   "metadata": {},
   "outputs": [],
   "source": []
  }
 ],
 "metadata": {
  "kernelspec": {
   "display_name": "Python 3",
   "language": "python",
   "name": "python3"
  },
  "language_info": {
   "codemirror_mode": {
    "name": "ipython",
    "version": 3
   },
   "file_extension": ".py",
   "mimetype": "text/x-python",
   "name": "python",
   "nbconvert_exporter": "python",
   "pygments_lexer": "ipython3",
   "version": "3.6.8"
  }
 },
 "nbformat": 4,
 "nbformat_minor": 4
}
