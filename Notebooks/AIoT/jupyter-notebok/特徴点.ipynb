{
 "cells": [
  {
   "cell_type": "code",
   "execution_count": 2,
   "metadata": {},
   "outputs": [],
   "source": [
    "import cv2\n",
    "import numpy as np\n",
    "import matplotlib.pyplot as plt\n",
    "from skimage import feature"
   ]
  },
  {
   "cell_type": "code",
   "execution_count": 19,
   "metadata": {},
   "outputs": [
    {
     "name": "stdout",
     "output_type": "stream",
     "text": [
      "(32, 32)\n",
      "(32, 32)\n",
      "(32, 32)\n",
      "(32, 32)\n",
      "(32, 32)\n",
      "(32, 32)\n",
      "(32, 32)\n",
      "(32, 32)\n",
      "(32, 32)\n"
     ]
    },
    {
     "data": {
      "text/plain": [
       "True"
      ]
     },
     "execution_count": 19,
     "metadata": {},
     "output_type": "execute_result"
    }
   ],
   "source": [
    "img = cv2.imread('lenna.png', 0)\n",
    "img = cv2.resize(img, (255, 255))\n",
    "width, height = img.shape\n",
    "q2_x = int(width/2)\n",
    "q2_y = int(height/2)\n",
    "q1_x = int(q2_x/2)\n",
    "q1_y = int(q2_y/2)\n",
    "q3_x = int(q2_x+q1_x)\n",
    "q3_y = int(q2_y+q1_y)\n",
    "\n",
    "x_axis = [q1_x, q2_x, q3_x]\n",
    "y_axis = [q1_y, q2_y, q3_y]\n",
    "\n",
    "cut_img_list = []\n",
    "for x_q in x_axis:\n",
    "    for y_q in y_axis:\n",
    "        cut_img = img[x_q-16:x_q+16, y_q-16:y_q+16]\n",
    "        print(cut_img.shape)\n",
    "        cut_img_list.append(cut_img)\n",
    "        \n",
    "for x_q in x_axis:\n",
    "    for y_q in y_axis: \n",
    "        x1 = x_q-16\n",
    "        x2 = x_q+16\n",
    "        y1 = y_q-16\n",
    "        y2 = y_q+16\n",
    "        cv2.rectangle(img, (y1, x1), (y2, x2), color=(0, 255, 0), thickness=2)\n",
    "save_path = 'boundingbox/' + 'lenna.png'\n",
    "cv2.imwrite(save_path, img)"
   ]
  },
  {
   "cell_type": "code",
   "execution_count": 20,
   "metadata": {},
   "outputs": [
    {
     "data": {
      "text/plain": [
       "<matplotlib.image.AxesImage at 0x7fd014c9f898>"
      ]
     },
     "execution_count": 20,
     "metadata": {},
     "output_type": "execute_result"
    },
    {
     "data": {
      "image/png": "[encoded data removed]",
      "text/plain": [
       "<Figure size 432x288 with 1 Axes>"
      ]
     },
     "metadata": {
      "needs_background": "light"
     },
     "output_type": "display_data"
    }
   ],
   "source": [
    "plt.imshow(cut_img_list[0])"
   ]
  },
  {
   "cell_type": "code",
   "execution_count": 13,
   "metadata": {},
   "outputs": [],
   "source": [
    "features_list = []\n",
    "hog_img_list = []\n",
    "for cut_img in cut_img_list:\n",
    "    features, hog_img = feature.hog(cut_img, orientations=8, pixels_per_cell=(8, 8),\n",
    "                                    cells_per_block=(1, 1), visualize=True, multichannel=False)\n",
    "    features_list.append(features)\n",
    "    hog_img_list.append(hog_img)"
   ]
  },
  {
   "cell_type": "code",
   "execution_count": 14,
   "metadata": {},
   "outputs": [
    {
     "data": {
      "text/plain": [
       "<matplotlib.image.AxesImage at 0x7fd014ecbfd0>"
      ]
     },
     "execution_count": 14,
     "metadata": {},
     "output_type": "execute_result"
    },
    {
     "data": {
      "image/png": "[encoded data removed]",
      "text/plain": [
       "<Figure size 432x288 with 1 Axes>"
      ]
     },
     "metadata": {
      "needs_background": "light"
     },
     "output_type": "display_data"
    }
   ],
   "source": [
    "plt.imshow(hog_img_list[1])"
   ]
  },
  {
   "cell_type": "code",
   "execution_count": 15,
   "metadata": {},
   "outputs": [],
   "source": [
    "x = [i for i in range(len(features))]"
   ]
  },
  {
   "cell_type": "code",
   "execution_count": 17,
   "metadata": {},
   "outputs": [
    {
     "data": {
      "text/plain": [
       "<BarContainer object of 128 artists>"
      ]
     },
     "execution_count": 17,
     "metadata": {},
     "output_type": "execute_result"
    },
    {
     "data": {
      "image/png": "[encoded data removed]",
      "text/plain": [
       "<Figure size 864x504 with 1 Axes>"
      ]
     },
     "metadata": {
      "needs_background": "light"
     },
     "output_type": "display_data"
    }
   ],
   "source": [
    "plt.figure(figsize=(12, 7))\n",
    "plt.bar(x, features)"
   ]
  },
  {
   "cell_type": "code",
   "execution_count": null,
   "metadata": {},
   "outputs": [],
   "source": []
  }
 ],
 "metadata": {
  "kernelspec": {
   "display_name": "Python 3",
   "language": "python",
   "name": "python3"
  },
  "language_info": {
   "codemirror_mode": {
    "name": "ipython",
    "version": 3
   },
   "file_extension": ".py",
   "mimetype": "text/x-python",
   "name": "python",
   "nbconvert_exporter": "python",
   "pygments_lexer": "ipython3",
   "version": "3.6.8"
  }
 },
 "nbformat": 4,
 "nbformat_minor": 4
}
