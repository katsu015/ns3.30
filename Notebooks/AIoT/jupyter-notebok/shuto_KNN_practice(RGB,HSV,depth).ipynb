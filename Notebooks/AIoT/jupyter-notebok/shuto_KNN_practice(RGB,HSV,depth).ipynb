{
 "cells": [
  {
   "cell_type": "code",
   "execution_count": 1,
   "metadata": {},
   "outputs": [],
   "source": [
    "import cv2\n",
    "from matplotlib import pyplot as plt\n",
    "import seaborn as sns\n",
    "import collections\n",
    "import numpy as np\n",
    "import itertools\n",
    "import glob\n",
    "import pandas as pd\n",
    "from sklearn.preprocessing import LabelEncoder\n",
    "from sklearn.neighbors import KNeighborsClassifier\n",
    "# from realsense_detector import detect_contour\n",
    "import copy\n",
    "# from realsense_detector import main2\n",
    "\n",
    "%config InlineBackend.figure_format = 'retina'"
   ]
  },
  {
   "cell_type": "code",
   "execution_count": 3,
   "metadata": {},
   "outputs": [],
   "source": [
    "def count_color(image):\n",
    "    color_list = []\n",
    "    for i in range(3):\n",
    "        color = []\n",
    "        color_dict = collections.Counter(image[:, :, i].ravel())\n",
    "        for num in range(256):\n",
    "            if not num in color_dict:\n",
    "                color_dict[num] = 0\n",
    "        for index in sorted(color_dict.keys()):\n",
    "            color.append(color_dict[index])\n",
    "        color_list.append(color)\n",
    "        #3チャンネルごとの画素数の類型をlistに保存 listの長さ=3\n",
    "    return color_list\n",
    "\n",
    "def count_hsv(image):\n",
    "    hsv_list = []\n",
    "    hsv = cv2.cvtColor(image, cv2.COLOR_BGR2HSV)\n",
    "    h,s,v = cv2.split(hsv)\n",
    "    for i, data in enumerate([h, s, v]):\n",
    "        sort_data = []\n",
    "        end = 256\n",
    "        data_dict = collections.Counter(data.ravel())\n",
    "        if i == 0:\n",
    "            end = 180\n",
    "        for num in range(end):\n",
    "            if not num in data_dict:\n",
    "                data_dict[num] = 0\n",
    "        for index in sorted(data_dict.keys()):\n",
    "            sort_data.append(data_dict[index])\n",
    "        hsv_list.append(sort_data)\n",
    "    return hsv_list\n",
    "\n",
    "def view_color(result_list):\n",
    "    plt.figure(figsize=(12, 5))\n",
    "    plt.plot(result_list[0], color='red', label='Red')\n",
    "    plt.plot(result_list[1], color='green', label='Green')\n",
    "    plt.plot(reslut_list[2], color='blue', label='Blue')\n",
    "    plt.legend()\n",
    "    plt.show()\n",
    "    \n",
    "# 深度情報の特徴量を作成する関数\n",
    "def get_depth_feature(img):\n",
    "    depth_dict = {}\n",
    "    depth_list = []\n",
    "    MAX_DEPTH = 400\n",
    "    for col in img:\n",
    "        for num in col:\n",
    "            if num not in depth_dict:\n",
    "                depth_dict[num] = 1\n",
    "            else:\n",
    "                depth_dict[num] += 1\n",
    "    \n",
    "    for num in range(50, MAX_DEPTH):\n",
    "        if num not in depth_dict:\n",
    "            depth_list.append(0)\n",
    "        else:\n",
    "            depth_list.append(depth_dict[num])\n",
    "    \n",
    "    return depth_list\n",
    "\n",
    "\n",
    "# 色と深度情報を合わせた特徴量のデータフレームを返す関数\n",
    "def color_and_depth(color_img, depth_img, name):\n",
    "    result_dict = {}\n",
    "    RGB = list(itertools.chain.from_iterable(count_color(color_img)))\n",
    "    HSV = list(itertools.chain.from_iterable(count_hsv(color_img)))\n",
    "    Depth = get_depth_feature(depth_img)\n",
    "    features = RGB + HSV + Depth\n",
    "    result_dict[name] = features\n",
    "    df = pd.DataFrame.from_dict(result_dict, orient='index')\n",
    "    return df"
   ]
  },
  {
   "cell_type": "markdown",
   "metadata": {},
   "source": [
    "# 深度情報の特徴量の確認"
   ]
  },
  {
   "cell_type": "code",
   "execution_count": null,
   "metadata": {},
   "outputs": [],
   "source": [
    "depth_img = cv2.imread('data/')"
   ]
  }
 ],
 "metadata": {
  "kernelspec": {
   "display_name": "Python 3",
   "language": "python",
   "name": "python3"
  },
  "language_info": {
   "codemirror_mode": {
    "name": "ipython",
    "version": 3
   },
   "file_extension": ".py",
   "mimetype": "text/x-python",
   "name": "python",
   "nbconvert_exporter": "python",
   "pygments_lexer": "ipython3",
   "version": "3.8.5"
  }
 },
 "nbformat": 4,
 "nbformat_minor": 4
}
