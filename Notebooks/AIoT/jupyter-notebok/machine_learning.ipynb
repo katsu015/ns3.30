{
 "cells": [
  {
   "cell_type": "code",
   "execution_count": 3,
   "metadata": {},
   "outputs": [],
   "source": [
    "import pandas as pd\n",
    "import matplotlib.pyplot as plt\n",
    "import cv2\n",
    "from PIL import Image\n",
    "import keras\n",
    "from sklearn.preprocessing import StandardScaler\n",
    "from sklearn.preprocessing import LabelEncoder\n",
    "from sklearn.model_selection import train_test_split\n",
    "from sklearn.metrics import accuracy_score\n",
    "from sklearn.metrics import precision_score\n",
    "from sklearn.ensemble import RandomForestClassifier\n",
    "from sklearn.linear_model import LogisticRegression\n",
    "from sklearn.metrics import confusion_matrix\n",
    "from pandas.plotting import scatter_matrix\n",
    "from keras.utils import np_utils\n",
    "import numpy as np\n",
    "import re \n",
    "import os\n",
    "import warnings\n",
    "import pickle\n",
    "warnings.filterwarnings('ignore')\n",
    "\n",
    "%config InlineBackend.figure_format = 'retina'"
   ]
  },
  {
   "cell_type": "code",
   "execution_count": 4,
   "metadata": {},
   "outputs": [],
   "source": [
    "df_train = pd.read_csv('train_shape_v2.csv')\n",
    "df_test = pd.read_csv('train_shape_v1.csv')"
   ]
  },
  {
   "cell_type": "code",
   "execution_count": 5,
   "metadata": {},
   "outputs": [],
   "source": [
    "train_y = df_train.y\n",
    "test_y = df_test.y\n",
    "\n",
    "df_train.drop(['y'], axis=1,  inplace=True)\n",
    "df_test.drop(['y'], axis=1, inplace=True)"
   ]
  },
  {
   "cell_type": "code",
   "execution_count": 6,
   "metadata": {},
   "outputs": [],
   "source": [
    "drop_list = ['width', 'height']\n",
    "df_train.drop(drop_list, axis=1, inplace=True)\n",
    "df_test.drop(drop_list, axis=1, inplace=True)"
   ]
  },
  {
   "cell_type": "code",
   "execution_count": 7,
   "metadata": {},
   "outputs": [
    {
     "data": {
      "text/html": [
       "<div>\n",
       "<style scoped>\n",
       "    .dataframe tbody tr th:only-of-type {\n",
       "        vertical-align: middle;\n",
       "    }\n",
       "\n",
       "    .dataframe tbody tr th {\n",
       "        vertical-align: top;\n",
       "    }\n",
       "\n",
       "    .dataframe thead th {\n",
       "        text-align: right;\n",
       "    }\n",
       "</style>\n",
       "<table border=\"1\" class=\"dataframe\">\n",
       "  <thead>\n",
       "    <tr style=\"text-align: right;\">\n",
       "      <th></th>\n",
       "      <th>area</th>\n",
       "      <th>depth_sum</th>\n",
       "      <th>depth_sum/area</th>\n",
       "      <th>length</th>\n",
       "      <th>depth_median</th>\n",
       "      <th>depth_mean</th>\n",
       "      <th>ratio</th>\n",
       "    </tr>\n",
       "  </thead>\n",
       "  <tbody>\n",
       "    <tr>\n",
       "      <th>0</th>\n",
       "      <td>30420.0</td>\n",
       "      <td>9220000</td>\n",
       "      <td>303.090072</td>\n",
       "      <td>349.0</td>\n",
       "      <td>314.0</td>\n",
       "      <td>310.3</td>\n",
       "      <td>1.034884</td>\n",
       "    </tr>\n",
       "    <tr>\n",
       "      <th>1</th>\n",
       "      <td>60984.0</td>\n",
       "      <td>17050937</td>\n",
       "      <td>279.596894</td>\n",
       "      <td>506.0</td>\n",
       "      <td>289.0</td>\n",
       "      <td>279.7</td>\n",
       "      <td>1.579487</td>\n",
       "    </tr>\n",
       "  </tbody>\n",
       "</table>\n",
       "</div>"
      ],
      "text/plain": [
       "      area  depth_sum  depth_sum/area  length  depth_median  depth_mean  \\\n",
       "0  30420.0    9220000      303.090072   349.0         314.0       310.3   \n",
       "1  60984.0   17050937      279.596894   506.0         289.0       279.7   \n",
       "\n",
       "      ratio  \n",
       "0  1.034884  \n",
       "1  1.579487  "
      ]
     },
     "execution_count": 7,
     "metadata": {},
     "output_type": "execute_result"
    }
   ],
   "source": [
    "df_train.head(2)"
   ]
  },
  {
   "cell_type": "code",
   "execution_count": 8,
   "metadata": {},
   "outputs": [],
   "source": [
    "le = LabelEncoder()\n",
    "le = le.fit(train_y)\n",
    "train_y_ = le.transform(train_y)\n",
    "test_y_ = le.transform(test_y)\n",
    "before_list = list(le.classes_)"
   ]
  },
  {
   "cell_type": "code",
   "execution_count": 11,
   "metadata": {},
   "outputs": [],
   "source": [
    "before_dict = {}\n",
    "for i, name in enumerate(before_list):\n",
    "    before_dict[name] = i"
   ]
  },
  {
   "cell_type": "code",
   "execution_count": 13,
   "metadata": {},
   "outputs": [],
   "source": [
    "y_train = np_utils.to_categorical(train_y_)"
   ]
  },
  {
   "cell_type": "code",
   "execution_count": 15,
   "metadata": {},
   "outputs": [
    {
     "data": {
      "text/plain": [
       "{'allegra_x': 0,\n",
       " 'allegra_y': 1,\n",
       " 'allegra_z': 2,\n",
       " 'amazon_x': 3,\n",
       " 'amazon_y': 4,\n",
       " 'amazon_z': 5,\n",
       " 'dog_x': 6,\n",
       " 'dog_y': 7,\n",
       " 'dog_z': 8,\n",
       " 'iris_x': 9,\n",
       " 'iris_y': 10,\n",
       " 'iris_z': 11,\n",
       " 'mintia_x': 12,\n",
       " 'realsense_x': 13,\n",
       " 'realsense_y': 14,\n",
       " 'realsense_z': 15,\n",
       " 'tepra_x': 16,\n",
       " 'tepra_y': 17,\n",
       " 'tepra_z': 18,\n",
       " 'whiteTape_x': 19,\n",
       " 'whiteTape_y': 20,\n",
       " 'whiteTape_z': 21,\n",
       " 'yellowTape_x': 22,\n",
       " 'yellowTape_y': 23,\n",
       " 'yellowTape_z': 24}"
      ]
     },
     "execution_count": 15,
     "metadata": {},
     "output_type": "execute_result"
    }
   ],
   "source": [
    "before_dict"
   ]
  },
  {
   "cell_type": "code",
   "execution_count": 12,
   "metadata": {},
   "outputs": [],
   "source": [
    "X_train = df_train.values"
   ]
  },
  {
   "cell_type": "code",
   "execution_count": 225,
   "metadata": {},
   "outputs": [
    {
     "name": "stdout",
     "output_type": "stream",
     "text": [
      "(500, 7) (500, 25) (1000, 7)\n"
     ]
    }
   ],
   "source": [
    "print(X_train.shape, y_train.shape, X_test.shape)"
   ]
  },
  {
   "cell_type": "code",
   "execution_count": 226,
   "metadata": {},
   "outputs": [
    {
     "data": {
      "text/plain": [
       "RandomForestClassifier(bootstrap=True, class_weight=None, criterion='gini',\n",
       "                       max_depth=None, max_features='auto', max_leaf_nodes=None,\n",
       "                       min_impurity_decrease=0.0, min_impurity_split=None,\n",
       "                       min_samples_leaf=1, min_samples_split=2,\n",
       "                       min_weight_fraction_leaf=0.0, n_estimators=10,\n",
       "                       n_jobs=None, oob_score=False, random_state=None,\n",
       "                       verbose=0, warm_start=False)"
      ]
     },
     "execution_count": 226,
     "metadata": {},
     "output_type": "execute_result"
    }
   ],
   "source": [
    "random_forest = RandomForestClassifier()\n",
    "random_forest.fit(X_train, y_train)\n",
    "\n",
    "# lr = LogisticRegression() \n",
    "# lr.fit(X_train, y_train) "
   ]
  },
  {
   "cell_type": "code",
   "execution_count": 227,
   "metadata": {},
   "outputs": [
    {
     "name": "stdout",
     "output_type": "stream",
     "text": [
      "TrainAccuracy: 1.0\n"
     ]
    }
   ],
   "source": [
    "# 予測値算出\n",
    "y_pred = random_forest.predict(X_test)\n",
    "\n",
    "#モデルを作成する段階でのモデルの識別精度\n",
    "trainaccuracy_random_forest = random_forest.score(X_train, y_train)\n",
    "print('TrainAccuracy: {}'.format(trainaccuracy_random_forest))\n",
    "\n",
    "#作成したモデルに学習に使用していない評価用のデータセットを入力し精度を確認\n",
    "# accuracy_random_forest = accuracy_score(y_test, y_pred)\n",
    "# print('Accuracy: {}'.format(accuracy_random_forest))"
   ]
  },
  {
   "cell_type": "code",
   "execution_count": 228,
   "metadata": {},
   "outputs": [],
   "source": [
    "#filename = 'random_forest_model_v8.sav'\n",
    "#pickle.dump(random_forest, open(filename, 'wb'))"
   ]
  },
  {
   "cell_type": "code",
   "execution_count": 229,
   "metadata": {},
   "outputs": [],
   "source": [
    "importance = pd.DataFrame({ '変数' :df_train.columns, '重要度' :random_forest.feature_importances_})"
   ]
  },
  {
   "cell_type": "code",
   "execution_count": 230,
   "metadata": {},
   "outputs": [
    {
     "data": {
      "image/png": "[encoded data removed]",
      "text/plain": [
       "<Figure size 864x360 with 1 Axes>"
      ]
     },
     "metadata": {
      "image/png": {
       "height": 286,
       "width": 325
      }
     },
     "output_type": "display_data"
    }
   ],
   "source": [
    "plt.figure(figsize=(12, 5))\n",
    "plt.pie(x=importance['重要度'], labels=importance['変数'])\n",
    "plt.show()"
   ]
  },
  {
   "cell_type": "code",
   "execution_count": null,
   "metadata": {},
   "outputs": [],
   "source": []
  },
  {
   "cell_type": "code",
   "execution_count": null,
   "metadata": {},
   "outputs": [],
   "source": []
  },
  {
   "cell_type": "code",
   "execution_count": 231,
   "metadata": {},
   "outputs": [],
   "source": [
    "import keras\n",
    "from keras.models import Sequential\n",
    "from keras.layers import Dense, Activation, Dropout\n",
    "from keras.optimizers import Adam\n",
    "\n",
    "from sklearn.preprocessing import StandardScaler\n",
    "sc = StandardScaler()"
   ]
  },
  {
   "cell_type": "code",
   "execution_count": 232,
   "metadata": {},
   "outputs": [
    {
     "name": "stdout",
     "output_type": "stream",
     "text": [
      "(500, 7) (1000, 7) (500, 25)\n"
     ]
    }
   ],
   "source": [
    "X_train = sc.fit_transform(X_train)\n",
    "X_test = sc.fit_transform(X_test)\n",
    "\n",
    "print(X_train.shape, X_test.shape, y_train.shape)"
   ]
  },
  {
   "cell_type": "code",
   "execution_count": 233,
   "metadata": {},
   "outputs": [
    {
     "name": "stdout",
     "output_type": "stream",
     "text": [
      "_________________________________________________________________\n",
      "Layer (type)                 Output Shape              Param #   \n",
      "=================================================================\n",
      "dense_25 (Dense)             (None, 140)               1120      \n",
      "_________________________________________________________________\n",
      "dropout_12 (Dropout)         (None, 140)               0         \n",
      "_________________________________________________________________\n",
      "dense_26 (Dense)             (None, 25)                3525      \n",
      "=================================================================\n",
      "Total params: 4,645\n",
      "Trainable params: 4,645\n",
      "Non-trainable params: 0\n",
      "_________________________________________________________________\n"
     ]
    }
   ],
   "source": [
    "model = Sequential()\n",
    "model.add(Dense(7*20, activation='relu', input_dim=7))\n",
    "model.add(Dropout(0.5))\n",
    "#model.add(Dense(7*100, activation='relu'))\n",
    "model.add(Dense(25, activation='sigmoid'))\n",
    "model.summary()"
   ]
  },
  {
   "cell_type": "code",
   "execution_count": 234,
   "metadata": {},
   "outputs": [
    {
     "name": "stdout",
     "output_type": "stream",
     "text": [
      "Train on 400 samples, validate on 100 samples\n",
      "Epoch 1/50\n",
      "400/400 [==============================] - 0s 1ms/step - loss: 3.2220 - acc: 0.0550 - val_loss: 3.1536 - val_acc: 0.1500\n",
      "Epoch 2/50\n",
      "400/400 [==============================] - 0s 25us/step - loss: 3.1329 - acc: 0.0875 - val_loss: 3.0711 - val_acc: 0.3100\n",
      "Epoch 3/50\n",
      "400/400 [==============================] - 0s 25us/step - loss: 3.0434 - acc: 0.1875 - val_loss: 2.9918 - val_acc: 0.3700\n",
      "Epoch 4/50\n",
      "400/400 [==============================] - 0s 44us/step - loss: 2.9655 - acc: 0.2550 - val_loss: 2.9148 - val_acc: 0.3900\n",
      "Epoch 5/50\n",
      "400/400 [==============================] - 0s 42us/step - loss: 2.8714 - acc: 0.3250 - val_loss: 2.8363 - val_acc: 0.4000\n",
      "Epoch 6/50\n",
      "400/400 [==============================] - 0s 62us/step - loss: 2.7966 - acc: 0.3050 - val_loss: 2.7524 - val_acc: 0.4200\n",
      "Epoch 7/50\n",
      "400/400 [==============================] - 0s 66us/step - loss: 2.7048 - acc: 0.4275 - val_loss: 2.6644 - val_acc: 0.4100\n",
      "Epoch 8/50\n",
      "400/400 [==============================] - 0s 51us/step - loss: 2.6184 - acc: 0.3675 - val_loss: 2.5722 - val_acc: 0.4100\n",
      "Epoch 9/50\n",
      "400/400 [==============================] - 0s 50us/step - loss: 2.5297 - acc: 0.3650 - val_loss: 2.4782 - val_acc: 0.4100\n",
      "Epoch 10/50\n",
      "400/400 [==============================] - 0s 66us/step - loss: 2.4404 - acc: 0.3975 - val_loss: 2.3836 - val_acc: 0.4500\n",
      "Epoch 11/50\n",
      "400/400 [==============================] - 0s 53us/step - loss: 2.3483 - acc: 0.4075 - val_loss: 2.2900 - val_acc: 0.4800\n",
      "Epoch 12/50\n",
      "400/400 [==============================] - 0s 49us/step - loss: 2.2343 - acc: 0.4425 - val_loss: 2.1987 - val_acc: 0.4800\n",
      "Epoch 13/50\n",
      "400/400 [==============================] - 0s 53us/step - loss: 2.1565 - acc: 0.4475 - val_loss: 2.1111 - val_acc: 0.4800\n",
      "Epoch 14/50\n",
      "400/400 [==============================] - 0s 63us/step - loss: 2.0578 - acc: 0.4625 - val_loss: 2.0258 - val_acc: 0.4800\n",
      "Epoch 15/50\n",
      "400/400 [==============================] - 0s 55us/step - loss: 1.9905 - acc: 0.4675 - val_loss: 1.9407 - val_acc: 0.5000\n",
      "Epoch 16/50\n",
      "400/400 [==============================] - 0s 53us/step - loss: 1.9103 - acc: 0.5000 - val_loss: 1.8591 - val_acc: 0.5000\n",
      "Epoch 17/50\n",
      "400/400 [==============================] - 0s 56us/step - loss: 1.8339 - acc: 0.4900 - val_loss: 1.7793 - val_acc: 0.4900\n",
      "Epoch 18/50\n",
      "400/400 [==============================] - 0s 62us/step - loss: 1.7420 - acc: 0.5100 - val_loss: 1.7049 - val_acc: 0.5900\n",
      "Epoch 19/50\n",
      "400/400 [==============================] - 0s 53us/step - loss: 1.6624 - acc: 0.5075 - val_loss: 1.6340 - val_acc: 0.6100\n",
      "Epoch 20/50\n",
      "400/400 [==============================] - 0s 49us/step - loss: 1.6040 - acc: 0.5300 - val_loss: 1.5620 - val_acc: 0.6500\n",
      "Epoch 21/50\n",
      "400/400 [==============================] - 0s 39us/step - loss: 1.5579 - acc: 0.5350 - val_loss: 1.4985 - val_acc: 0.6600\n",
      "Epoch 22/50\n",
      "400/400 [==============================] - 0s 33us/step - loss: 1.4922 - acc: 0.5475 - val_loss: 1.4354 - val_acc: 0.6700\n",
      "Epoch 23/50\n",
      "400/400 [==============================] - 0s 26us/step - loss: 1.4105 - acc: 0.5800 - val_loss: 1.3713 - val_acc: 0.6900\n",
      "Epoch 24/50\n",
      "400/400 [==============================] - 0s 25us/step - loss: 1.3578 - acc: 0.5975 - val_loss: 1.3116 - val_acc: 0.7000\n",
      "Epoch 25/50\n",
      "400/400 [==============================] - 0s 24us/step - loss: 1.3325 - acc: 0.5950 - val_loss: 1.2580 - val_acc: 0.7400\n",
      "Epoch 26/50\n",
      "400/400 [==============================] - 0s 25us/step - loss: 1.2785 - acc: 0.6125 - val_loss: 1.2085 - val_acc: 0.7700\n",
      "Epoch 27/50\n",
      "400/400 [==============================] - 0s 24us/step - loss: 1.2450 - acc: 0.6300 - val_loss: 1.1589 - val_acc: 0.8100\n",
      "Epoch 28/50\n",
      "400/400 [==============================] - 0s 25us/step - loss: 1.1684 - acc: 0.6400 - val_loss: 1.1132 - val_acc: 0.7900\n",
      "Epoch 29/50\n",
      "400/400 [==============================] - 0s 24us/step - loss: 1.1508 - acc: 0.6700 - val_loss: 1.0679 - val_acc: 0.8400\n",
      "Epoch 30/50\n",
      "400/400 [==============================] - 0s 25us/step - loss: 1.0864 - acc: 0.6675 - val_loss: 1.0269 - val_acc: 0.8600\n",
      "Epoch 31/50\n",
      "400/400 [==============================] - 0s 26us/step - loss: 1.0905 - acc: 0.6650 - val_loss: 0.9870 - val_acc: 0.8400\n",
      "Epoch 32/50\n",
      "400/400 [==============================] - 0s 31us/step - loss: 1.0558 - acc: 0.6850 - val_loss: 0.9568 - val_acc: 0.8600\n",
      "Epoch 33/50\n",
      "400/400 [==============================] - 0s 25us/step - loss: 1.0214 - acc: 0.7075 - val_loss: 0.9196 - val_acc: 0.8500\n",
      "Epoch 34/50\n",
      "400/400 [==============================] - 0s 29us/step - loss: 1.0021 - acc: 0.6925 - val_loss: 0.8873 - val_acc: 0.8700\n",
      "Epoch 35/50\n",
      "400/400 [==============================] - 0s 25us/step - loss: 0.9574 - acc: 0.7300 - val_loss: 0.8604 - val_acc: 0.8700\n",
      "Epoch 36/50\n",
      "400/400 [==============================] - 0s 26us/step - loss: 0.9514 - acc: 0.6850 - val_loss: 0.8316 - val_acc: 0.8700\n",
      "Epoch 37/50\n",
      "400/400 [==============================] - 0s 26us/step - loss: 0.8936 - acc: 0.7425 - val_loss: 0.8059 - val_acc: 0.8800\n",
      "Epoch 38/50\n",
      "400/400 [==============================] - 0s 24us/step - loss: 0.8769 - acc: 0.7650 - val_loss: 0.7802 - val_acc: 0.8900\n",
      "Epoch 39/50\n",
      "400/400 [==============================] - 0s 24us/step - loss: 0.8622 - acc: 0.7650 - val_loss: 0.7550 - val_acc: 0.8900\n",
      "Epoch 40/50\n",
      "400/400 [==============================] - 0s 24us/step - loss: 0.8376 - acc: 0.7525 - val_loss: 0.7305 - val_acc: 0.9100\n",
      "Epoch 41/50\n",
      "400/400 [==============================] - 0s 24us/step - loss: 0.8015 - acc: 0.7950 - val_loss: 0.7113 - val_acc: 0.9100\n",
      "Epoch 42/50\n",
      "400/400 [==============================] - 0s 24us/step - loss: 0.8314 - acc: 0.7550 - val_loss: 0.6878 - val_acc: 0.9200\n",
      "Epoch 43/50\n",
      "400/400 [==============================] - 0s 26us/step - loss: 0.7987 - acc: 0.7675 - val_loss: 0.6684 - val_acc: 0.9300\n",
      "Epoch 44/50\n",
      "400/400 [==============================] - 0s 25us/step - loss: 0.7515 - acc: 0.8100 - val_loss: 0.6471 - val_acc: 0.9200\n",
      "Epoch 45/50\n",
      "400/400 [==============================] - 0s 28us/step - loss: 0.7437 - acc: 0.7900 - val_loss: 0.6260 - val_acc: 0.9200\n",
      "Epoch 46/50\n",
      "400/400 [==============================] - 0s 25us/step - loss: 0.7173 - acc: 0.8150 - val_loss: 0.6111 - val_acc: 0.9100\n",
      "Epoch 47/50\n",
      "400/400 [==============================] - 0s 25us/step - loss: 0.6966 - acc: 0.8250 - val_loss: 0.5973 - val_acc: 0.9100\n",
      "Epoch 48/50\n",
      "400/400 [==============================] - 0s 25us/step - loss: 0.6820 - acc: 0.8350 - val_loss: 0.5789 - val_acc: 0.9200\n",
      "Epoch 49/50\n",
      "400/400 [==============================] - 0s 24us/step - loss: 0.6596 - acc: 0.8400 - val_loss: 0.5598 - val_acc: 0.9300\n",
      "Epoch 50/50\n",
      "400/400 [==============================] - 0s 24us/step - loss: 0.6583 - acc: 0.8350 - val_loss: 0.5435 - val_acc: 0.9400\n",
      "500/500 [==============================] - 0s 15us/step\n",
      "acc: 95.59999883174896\n"
     ]
    }
   ],
   "source": [
    "model.compile(optimizer=Adam(), loss='categorical_crossentropy', metrics=['accuracy'])\n",
    "es_cb = keras.callbacks.EarlyStopping(monitor='val_loss', patience=0, verbose=0, mode='auto')\n",
    "history = model.fit(X_train, y_train, batch_size=50, epochs=50, validation_split=0.2, verbose=1, callbacks=[es_cb])\n",
    "score = model.evaluate(X_train, y_train, batch_size=30)\n",
    "print('{}: {}'.format(model.metrics_names[1], score[1]*100))"
   ]
  },
  {
   "cell_type": "code",
   "execution_count": 122,
   "metadata": {},
   "outputs": [],
   "source": [
    "pre = model.predict(X_test)\n",
    "np.set_printoptions(suppress=True)"
   ]
  },
  {
   "cell_type": "code",
   "execution_count": 123,
   "metadata": {},
   "outputs": [],
   "source": [
    "pre = pre*100\n",
    "pre = np.round(pre, decimals=3)"
   ]
  },
  {
   "cell_type": "code",
   "execution_count": 235,
   "metadata": {},
   "outputs": [],
   "source": [
    "model.save('neuralnet_model_v4.h5')"
   ]
  },
  {
   "cell_type": "code",
   "execution_count": null,
   "metadata": {},
   "outputs": [],
   "source": []
  }
 ],
 "metadata": {
  "kernelspec": {
   "display_name": "Python 3",
   "language": "python",
   "name": "python3"
  },
  "language_info": {
   "codemirror_mode": {
    "name": "ipython",
    "version": 3
   },
   "file_extension": ".py",
   "mimetype": "text/x-python",
   "name": "python",
   "nbconvert_exporter": "python",
   "pygments_lexer": "ipython3",
   "version": "3.8.5"
  }
 },
 "nbformat": 4,
 "nbformat_minor": 2
}
