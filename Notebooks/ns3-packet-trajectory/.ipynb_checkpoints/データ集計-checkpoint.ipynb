{
 "cells": [
  {
   "cell_type": "code",
   "execution_count": 3,
   "metadata": {},
   "outputs": [],
   "source": [
    "import pandas as pd\n",
    "import cv2\n",
    "import numpy as np\n",
    "import matplotlib.pyplot as plt\n",
    "#jupyter内で画像を表示\n",
    "%matplotlib inline \n",
    "#別ウィンドウで画像表示\n",
    "# %matplotlib qt \n",
    "import csv\n",
    "import json\n",
    "from ipywidgets import interact, interactive, fixed, RadioButtons\n",
    "import ipywidgets as widgets\n",
    "from IPython.display import display\n",
    "import pathlib\n",
    "import glob"
   ]
  },
  {
   "cell_type": "code",
   "execution_count": 4,
   "metadata": {},
   "outputs": [
    {
     "name": "stdout",
     "output_type": "stream",
     "text": [
      "../../ns3.30/data\\lsgo-nodenum_600_seed_34567.csv\n",
      "../../ns3.30/data\\lsgo-nodenum_800_seed_11111.csv\n",
      "../../ns3.30/data\\lsgo-nodenum_900_seed_43222.csv\n",
      "../../ns3.30/data\\shutoushu-nodenum_600_seed_34567.csv\n",
      "../../ns3.30/data\\shutoushu-nodenum_800_seed_11111.csv\n",
      "../../ns3.30/data\\shutoushu-nodenum_900_seed_43222.csv\n",
      "../../ns3.30/data\\test\n"
     ]
    }
   ],
   "source": [
    "files = glob.glob(\"../../ns3.30/data/*\")\n",
    "for file in files:\n",
    "    print(file)"
   ]
  },
  {
   "cell_type": "code",
   "execution_count": null,
   "metadata": {},
   "outputs": [],
   "source": [
    "for file in files:\n",
    "    print(file)"
   ]
  }
 ],
 "metadata": {
  "kernelspec": {
   "display_name": "Python 3",
   "language": "python",
   "name": "python3"
  },
  "language_info": {
   "codemirror_mode": {
    "name": "ipython",
    "version": 3
   },
   "file_extension": ".py",
   "mimetype": "text/x-python",
   "name": "python",
   "nbconvert_exporter": "python",
   "pygments_lexer": "ipython3",
   "version": "3.8.5"
  }
 },
 "nbformat": 4,
 "nbformat_minor": 4
}
