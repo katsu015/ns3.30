{
 "cells": [
  {
   "cell_type": "code",
   "execution_count": 3,
   "metadata": {},
   "outputs": [],
   "source": [
    "import pandas as pd\n",
    "import cv2\n",
    "import numpy as np\n",
    "import matplotlib.pyplot as plt\n",
    "#jupyter内で画像を表示\n",
    "%matplotlib inline \n",
    "#別ウィンドウで画像表示\n",
    "# %matplotlib qt \n",
    "import csv\n",
    "import json\n",
    "from ipywidgets import interact, interactive, fixed, RadioButtons\n",
    "import ipywidgets as widgets\n",
    "from IPython.display import display\n",
    "import pathlib\n",
    "import glob"
   ]
  },
  {
   "cell_type": "code",
   "execution_count": 21,
   "metadata": {},
   "outputs": [
    {
     "name": "stdout",
     "output_type": "stream",
     "text": [
      "['../../ns3.30/data/sigo\\\\shutoushu-nodenum_1000_seed_43222.csv', '../../ns3.30/data/sigo\\\\shutoushu-nodenum_600_seed_34567.csv', '../../ns3.30/data/sigo\\\\shutoushu-nodenum_700_seed_34567.csv', '../../ns3.30/data/sigo\\\\shutoushu-nodenum_800_seed_11111.csv', '../../ns3.30/data/sigo\\\\shutoushu-nodenum_900_seed_12000.csv', '../../ns3.30/data/sigo\\\\shutoushu-nodenum_900_seed_43222.csv', '../../ns3.30/data/sigo\\\\shutoushu-nodenum_900_seed_54321.csv']\n"
     ]
    }
   ],
   "source": [
    "sigo_file_list = []\n",
    "sigo_files = glob.glob(\"../../ns3.30/data/sigo/*\")\n",
    "for file in sigo_files:\n",
    "    sigo_file_list.append(file)\n",
    "print(sigo_file_list)"
   ]
  },
  {
   "cell_type": "code",
   "execution_count": 22,
   "metadata": {},
   "outputs": [
    {
     "name": "stdout",
     "output_type": "stream",
     "text": [
      "['../../ns3.30/data/lsgo\\\\lsgo-nodenum_1000_seed_43222.csv', '../../ns3.30/data/lsgo\\\\lsgo-nodenum_600_seed_34567.csv', '../../ns3.30/data/lsgo\\\\lsgo-nodenum_700_seed_34567.csv', '../../ns3.30/data/lsgo\\\\lsgo-nodenum_800_seed_11111.csv', '../../ns3.30/data/lsgo\\\\lsgo-nodenum_900_seed_12000.csv', '../../ns3.30/data/lsgo\\\\lsgo-nodenum_900_seed_43222.csv', '../../ns3.30/data/lsgo\\\\lsgo-nodenum_900_seed_54321.csv']\n"
     ]
    }
   ],
   "source": [
    "lsgo_file_list = []\n",
    "lsgo_files = glob.glob(\"../../ns3.30/data/lsgo/*\")\n",
    "for file in lsgo_files:\n",
    "    lsgo_file_list.append(file)\n",
    "print(lsgo_file_list)"
   ]
  },
  {
   "cell_type": "code",
   "execution_count": null,
   "metadata": {},
   "outputs": [],
   "source": []
  }
 ],
 "metadata": {
  "kernelspec": {
   "display_name": "Python 3",
   "language": "python",
   "name": "python3"
  },
  "language_info": {
   "codemirror_mode": {
    "name": "ipython",
    "version": 3
   },
   "file_extension": ".py",
   "mimetype": "text/x-python",
   "name": "python",
   "nbconvert_exporter": "python",
   "pygments_lexer": "ipython3",
   "version": "3.8.5"
  }
 },
 "nbformat": 4,
 "nbformat_minor": 4
}
