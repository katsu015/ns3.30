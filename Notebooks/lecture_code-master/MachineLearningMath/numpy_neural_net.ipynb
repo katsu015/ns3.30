{
 "cells": [
  {
   "cell_type": "markdown",
   "metadata": {},
   "source": [
    "# 多層ニューラルネットのnumpyによる実装\n",
    "\n",
    "多層ニューラルネットをnumpyで実装する．\n",
    "ここでは3層ネットワーク\n",
    "$\\boldsymbol{y} = f_3(W_3 f_2(W_2 f_1(W_1 \\boldsymbol{x})))$\n",
    "を考える．\n",
    "ただし学習機能はまったくない．\n",
    "単に，入力$x$と重み行列$W_1, W_2, W_3$の値をランダムに初期化して実行するだけである．\n",
    "\n",
    "まずnumpyをインポートする．"
   ]
  },
  {
   "cell_type": "code",
   "execution_count": 1,
   "metadata": {},
   "outputs": [],
   "source": [
    "import numpy as np"
   ]
  },
  {
   "cell_type": "markdown",
   "metadata": {},
   "source": [
    "次に入力ベクトル$x \\in R^{20}$をランダムに生成する．"
   ]
  },
  {
   "cell_type": "code",
   "execution_count": 2,
   "metadata": {},
   "outputs": [],
   "source": [
    "x = np.random.randn(20)"
   ]
  },
  {
   "cell_type": "markdown",
   "metadata": {},
   "source": [
    "次に1層目，2層目，3層目の重み行列\n",
    "$\n",
    "W_1 \\in R^{100 \\times 20},\n",
    "W_2 \\in R^{50 \\times 100},\n",
    "W_3 \\in R^{10 \\times 50}\n",
    "$をランダムに生成する．"
   ]
  },
  {
   "cell_type": "code",
   "execution_count": 3,
   "metadata": {},
   "outputs": [],
   "source": [
    "W1 = np.random.randn(100, 20)\n",
    "W2 = np.random.randn(50, 100)\n",
    "W3 = np.random.randn(10, 50)"
   ]
  },
  {
   "cell_type": "markdown",
   "metadata": {},
   "source": [
    "各層での非線形関数$f_1, f_2, f_3$を設定する．$f_1, f_2$はReLU，$f_3$は恒等関数とする．"
   ]
  },
  {
   "cell_type": "code",
   "execution_count": 4,
   "metadata": {},
   "outputs": [],
   "source": [
    "def ReLU(h):\n",
    "    return np.maximum(h, 0)\n",
    "\n",
    "def Identity(h):\n",
    "    return h\n",
    "\n",
    "f1 = ReLU\n",
    "f2 = ReLU\n",
    "f3 = Identity"
   ]
  },
  {
   "cell_type": "markdown",
   "metadata": {},
   "source": [
    "以上の3層ネットワーク\n",
    "$f_3(W_3 f_2(W_2 f_1(W_1 x)))$\n",
    "を関数として定義する．"
   ]
  },
  {
   "cell_type": "code",
   "execution_count": 5,
   "metadata": {},
   "outputs": [],
   "source": [
    "def mynet(x): # 以下はどれでも同じ\n",
    "    z1 = f1(W1 @ x)\n",
    "    z2 = f2(W2 @ z1)\n",
    "    z3 = f3(W3 @ z2)\n",
    "    return z3"
   ]
  },
  {
   "cell_type": "markdown",
   "metadata": {},
   "source": [
    "まず入力を表示する．"
   ]
  },
  {
   "cell_type": "code",
   "execution_count": 6,
   "metadata": {},
   "outputs": [
    {
     "data": {
      "text/plain": [
       "array([ 0.3428174 ,  0.338266  ,  1.63539073, -0.23592107,  1.08803826,\n",
       "        1.2471647 ,  0.99142576, -0.69414746,  0.7576932 , -2.31028657,\n",
       "       -1.44128023,  0.65955978,  1.18305951, -0.77972463,  0.42310185,\n",
       "       -0.37011006, -0.00504175, -1.74734321, -1.41002626,  1.11031969])"
      ]
     },
     "execution_count": 6,
     "metadata": {},
     "output_type": "execute_result"
    }
   ],
   "source": [
    "x"
   ]
  },
  {
   "cell_type": "markdown",
   "metadata": {},
   "source": [
    "次に出力を表示する．"
   ]
  },
  {
   "cell_type": "code",
   "execution_count": 7,
   "metadata": {},
   "outputs": [
    {
     "data": {
      "text/plain": [
       "array([ -62.3623654 , -265.50806251,  236.45395936,  -24.66752604,\n",
       "        -78.81482376,   60.20045959, -134.89219366,  201.93676675,\n",
       "       -135.75121309,   33.68653377])"
      ]
     },
     "execution_count": 7,
     "metadata": {},
     "output_type": "execute_result"
    }
   ],
   "source": [
    "y = mynet(x)\n",
    "y"
   ]
  },
  {
   "cell_type": "markdown",
   "metadata": {},
   "source": [
    "# Task\n",
    "\n",
    "- 上記のネットワークにはバイアス項が含まれていない．バイアスを含むネットワークに修正せよ．\n",
    "\n",
    "つまり，第1層は$z_1 = f_1(W_1 \\boldsymbol{x})$であり，$\\boldsymbol{x}$には行列$W_1$がかけられている．\n",
    "これを$z_1 = f_1(W_1 \\boldsymbol{x} + \\boldsymbol{d}_1)$のように，活性化関数$f_1$に適用する前に，定数ベクトル$d_1$（つまりバイアス項）を足す．これを第2層，第3層にも行う．定数ベクトルは，層ごとに別のものをランダムに生成する．"
   ]
  }
 ],
 "metadata": {
  "kernelspec": {
   "display_name": "Python 3",
   "language": "python",
   "name": "python3"
  },
  "language_info": {
   "codemirror_mode": {
    "name": "ipython",
    "version": 3
   },
   "file_extension": ".py",
   "mimetype": "text/x-python",
   "name": "python",
   "nbconvert_exporter": "python",
   "pygments_lexer": "ipython3",
   "version": "3.7.7"
  },
  "toc": {
   "base_numbering": 1,
   "nav_menu": {},
   "number_sections": true,
   "sideBar": false,
   "skip_h1_title": false,
   "title_cell": "Table of Contents",
   "title_sidebar": "Contents",
   "toc_cell": false,
   "toc_position": {},
   "toc_section_display": true,
   "toc_window_display": false
  }
 },
 "nbformat": 4,
 "nbformat_minor": 2
}
