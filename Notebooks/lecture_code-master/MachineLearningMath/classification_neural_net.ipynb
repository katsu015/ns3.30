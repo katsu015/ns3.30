{
 "cells": [
  {
   "cell_type": "markdown",
   "metadata": {},
   "source": [
    "# 確率勾配法を用いた2層ネットワークの実装\n",
    "\n",
    "2次元データの2クラス分類問題を解く2層ネットワークを実装する．\n",
    "ここではサンプルを1つづつ用いる確率勾配法を実装する．\n",
    "\n",
    "# 準備"
   ]
  },
  {
   "cell_type": "code",
   "execution_count": 1,
   "metadata": {},
   "outputs": [
    {
     "name": "stdout",
     "output_type": "stream",
     "text": [
      "Requirement already satisfied: autograd in /Users/tamaki/opt/anaconda3/lib/python3.7/site-packages (1.3)\r\n",
      "Requirement already satisfied: future>=0.15.2 in /Users/tamaki/opt/anaconda3/lib/python3.7/site-packages (from autograd) (0.18.2)\r\n",
      "Requirement already satisfied: numpy>=1.12 in /Users/tamaki/opt/anaconda3/lib/python3.7/site-packages (from autograd) (1.18.1)\r\n"
     ]
    },
    {
     "data": {
      "text/plain": [
       "<Figure size 432x288 with 0 Axes>"
      ]
     },
     "metadata": {},
     "output_type": "display_data"
    }
   ],
   "source": [
    "# load modules\n",
    "\n",
    "import numpy as np\n",
    "\n",
    "import matplotlib\n",
    "import matplotlib.pyplot as plt\n",
    "from matplotlib.pyplot import imshow\n",
    "%matplotlib inline\n",
    "# plt.gray();\n",
    "plt.set_cmap(plt.cm.Paired);\n",
    "\n",
    "import sklearn\n",
    "from sklearn.datasets import make_blobs\n",
    "\n",
    "from ipywidgets import interact, interactive, fixed, RadioButtons\n",
    "import ipywidgets as widgets\n",
    "from IPython.display import display\n",
    "\n",
    "!pip install autograd\n",
    "import autograd.numpy as anp # autogradのnumpyの別名をanpにする\n",
    "from autograd import grad\n",
    "from autograd import jacobian, hessian"
   ]
  },
  {
   "cell_type": "code",
   "execution_count": 2,
   "metadata": {},
   "outputs": [
    {
     "name": "stdout",
     "output_type": "stream",
     "text": [
      "sklearn version : 0.22.1  >= 0.18.0\n",
      "numpy version : 1.18.1  >= 0.12.0\n",
      "matplotlib version: 3.1.3 >= 2.0.0\n"
     ]
    }
   ],
   "source": [
    "# check versions\n",
    "\n",
    "print(\"sklearn version :\", sklearn.__version__, \" >= 0.18.0\")\n",
    "# print(\"skimage version :\", skimage.__version__, \" >= 0.12.0\")\n",
    "print(\"numpy version :\", np.__version__, \" >= 0.12.0\")\n",
    "print(\"matplotlib version:\", matplotlib.__version__, \">= 2.0.0\")"
   ]
  },
  {
   "cell_type": "markdown",
   "metadata": {},
   "source": [
    "# データセットの準備\n",
    "\n",
    "sklearnのmake_blobで2次元データを準備する．\n",
    "返り値は，データXとラベルyである．ただし2クラスの場合，ラベルyは0,1で返ってくるため，-1と+1に変更しておく．"
   ]
  },
  {
   "cell_type": "code",
   "execution_count": 3,
   "metadata": {},
   "outputs": [
    {
     "data": {
      "image/png": "[encoded data removed]",
      "text/plain": [
       "<Figure size 432x288 with 1 Axes>"
      ]
     },
     "metadata": {
      "needs_background": "light"
     },
     "output_type": "display_data"
    }
   ],
   "source": [
    "X, y = make_blobs(n_samples=20, # 20個生成\n",
    "                  n_features=2, # 2次元\n",
    "                  centers=2,    # クラスタ中心2個\n",
    "                  cluster_std = 2 # クラスタの大きさ（標準偏差）\n",
    "                 )\n",
    "y = (2*y - 1).astype(float) # 0,1 -> -1.0,+1.0\n",
    "\n",
    "X = np.hstack((X, np.ones((X.shape[0], 1)))) # 同次座標\n",
    "\n",
    "plt.scatter(X[:, 0], X[:, 1], c=y, s=50, edgecolors='k');\n",
    "plt.gca().set_aspect('equal');"
   ]
  },
  {
   "cell_type": "markdown",
   "metadata": {},
   "source": [
    "識別境界を直線で描くヘルパー関数の準備．"
   ]
  },
  {
   "cell_type": "code",
   "execution_count": 4,
   "metadata": {},
   "outputs": [],
   "source": [
    "# 境界線を引く関数の定義\n",
    "\n",
    "def plotBoundary(X, net, w, mesh=True, boundary=True, n_neighbors=1):\n",
    "\n",
    "    # plot range\n",
    "    x_min = min(X[:,0])\n",
    "    x_max = max(X[:,0])\n",
    "    y_min = min(X[:,1])\n",
    "    y_max = max(X[:,1])\n",
    "\n",
    "    # visualizing decision function\n",
    "    XX, YY = np.mgrid[x_min:x_max:200j, y_min:y_max:200j] # make a grid\n",
    "    Z = np.zeros(XX.size)\n",
    "    for i,xi in enumerate(np.c_[XX.ravel(), YY.ravel(), np.ones(XX.size)]):\n",
    "        Z[i] = net(w, xi)\n",
    "\n",
    "    \n",
    "    Z = Z.reshape(XX.shape) # just reshape\n",
    "    Z = np.sign(Z) # -1 or +1\n",
    "\n",
    "    if mesh:\n",
    "        plt.pcolormesh(XX, YY, Z, zorder=-10) # paint in 2 colors, if Z > 0 or not\n",
    "\n",
    "    if boundary:\n",
    "        if Z.min() < 0.5 < Z.max():\n",
    "            plt.contour(XX, YY, Z, alpha=0.5,\n",
    "                        colors='k', linestyles='-', levels=[0])\n",
    "\n",
    "    plt.xlim(x_min, x_max)\n",
    "    plt.ylim(y_min, y_max)"
   ]
  },
  {
   "cell_type": "markdown",
   "metadata": {},
   "source": [
    "# 2層ネットワークの実装\n",
    "\n",
    "以下は，1層ネットワークとして，ヒンジ損失を用いるパーセプトロンと，ロジスティック損失を用いるロジスティック回帰の実装例である．"
   ]
  },
  {
   "cell_type": "code",
   "execution_count": 5,
   "metadata": {},
   "outputs": [],
   "source": [
    "# 1層ネットワーク\n",
    "w = np.random.rand(3) - 0.5 # 次元＋1：同次座標\n",
    "\n",
    "def mynet(w, xi):\n",
    "    return anp.dot(xi, w)\n",
    "\n",
    "def loss(w, xi, yi):\n",
    "    h = yi * mynet(w, xi)\n",
    "#     return anp.maximum(-h, 0) # ヒンジ損失（パーセプトロン）\n",
    "    return anp.log(1 + anp.exp(-h)) # ロジスティック損失\n",
    "\n",
    "g_mynet = grad(loss) # wについての勾配"
   ]
  },
  {
   "cell_type": "markdown",
   "metadata": {},
   "source": [
    "以下の2層ネットワークは，活性化関数をReLUやsigmoidなどにした例である． 第1層では入力の3次元を線形変換で6次元の中間層にして活性化関数を適用する．その後に，第2層では6次元を1次元にする．"
   ]
  },
  {
   "cell_type": "code",
   "execution_count": 6,
   "metadata": {},
   "outputs": [],
   "source": [
    "# 2層ネットワーク\n",
    "w1 = anp.random.rand(3,6).flatten() - 0.5\n",
    "w2 = anp.random.rand(6,1).flatten() - 0.5\n",
    "w = np.concatenate((w1, w2))\n",
    "\n",
    "def sig(a):\n",
    "    return 1 / (1 + anp.exp(-a))\n",
    "def ReLU(a):\n",
    "    return anp.maximum(a, 0)\n",
    "\n",
    "def mynet(w, xi):\n",
    "    return anp.dot(ReLU(anp.dot(xi, w[:18].reshape(3,6))), w[18:].reshape(6,1))\n",
    "\n",
    "def loss(w, xi, yi):\n",
    "    h = yi * mynet(w, xi)\n",
    "    return anp.log(1 + anp.exp(-h)) # ロジスティック損失\n",
    "\n",
    "g_mynet = grad(loss) # wについての勾配"
   ]
  },
  {
   "cell_type": "markdown",
   "metadata": {},
   "source": [
    "ネットワークの出力と勾配の出力を確かめる（デバッグ）．"
   ]
  },
  {
   "cell_type": "code",
   "execution_count": 7,
   "metadata": {},
   "outputs": [
    {
     "name": "stdout",
     "output_type": "stream",
     "text": [
      "[0.18651072]\n",
      "[ 0.          0.         -0.01358295  0.          0.          0.09758247\n",
      "  0.          0.          0.22366821  0.          0.         -1.60687482\n",
      "  0.          0.         -0.02213473  0.          0.          0.1590201\n",
      "  0.          0.          0.11652601  0.          0.          0.36650431]\n"
     ]
    }
   ],
   "source": [
    "xi = X[0]\n",
    "yi = y[0]\n",
    "print(mynet(w, xi))\n",
    "print(g_mynet(w, xi, yi))"
   ]
  },
  {
   "cell_type": "markdown",
   "metadata": {},
   "source": [
    "以下では，サンプルを先頭から順番に一つずつ用いて，SGDの更新則を適用する．\n",
    "サンプルは青と茶色のクラスに分かれている．識別境界を引いた後に，同じ色の領域に入っていれば正答，違う色の領域に入ってしまっていれば誤答である．"
   ]
  },
  {
   "cell_type": "code",
   "execution_count": 8,
   "metadata": {},
   "outputs": [
    {
     "data": {
      "application/vnd.jupyter.widget-view+json": {
       "model_id": "05924755b8954e2fb61932c31e9de391",
       "version_major": 2,
       "version_minor": 0
      },
      "text/plain": [
       "interactive(children=(IntSlider(value=0, description='sample', max=19), Output()), _dom_classes=('widget-inter…"
      ]
     },
     "metadata": {},
     "output_type": "display_data"
    }
   ],
   "source": [
    "val_start = 0 # スライドバーの最小値\n",
    "val_end   = len(y)-1 # スライドバーの最大値\n",
    "val_step  = 1 # スライドバーはこの値ずつ増える\n",
    "val_default = 0 # スライドバーの初期値\n",
    "\n",
    "\n",
    "@interact(sample=(val_start, val_end, val_step)) # この行が関数の直前に必要\n",
    "def g(sample=val_default): # この関数を毎回呼び出す    \n",
    "    \n",
    "    global w\n",
    "    \n",
    "    if sample > len(y)-1:\n",
    "        return\n",
    "\n",
    "    plt.scatter(X[:, 0], X[:, 1], marker='o', s=50, c=y, edgecolors='k')\n",
    "    plt.scatter(X[sample, 0], X[sample, 1], marker='o', s=90, facecolors='none',  edgecolors='k')\n",
    "   \n",
    "    plotBoundary(X, mynet, w)\n",
    "    \n",
    "    xi = X[sample]\n",
    "    yi = y[sample]\n",
    "\n",
    "   \n",
    "    plt.gca().set_aspect('equal');\n",
    "    plt.show()\n",
    "\n",
    "    # 更新則\n",
    "    alpha = 0.01\n",
    "    w = w - alpha * g_mynet(w, xi, yi)\n",
    "\n",
    "    "
   ]
  },
  {
   "cell_type": "markdown",
   "metadata": {},
   "source": [
    "# Task\n",
    "\n",
    "- 上記の2層ネットワークを改変して，3層ネットワークを実装せよ．\n",
    "- 中間層の次元を変えて，収束を議論せよ．"
   ]
  },
  {
   "cell_type": "code",
   "execution_count": null,
   "metadata": {},
   "outputs": [],
   "source": []
  },
  {
   "cell_type": "markdown",
   "metadata": {},
   "source": [
    "# 損失関数の可視化と学習率の変更"
   ]
  },
  {
   "cell_type": "code",
   "execution_count": 9,
   "metadata": {
    "scrolled": false
   },
   "outputs": [
    {
     "data": {
      "application/vnd.jupyter.widget-view+json": {
       "model_id": "6f8ccf1226f3408197ddef2db6ddc868",
       "version_major": 2,
       "version_minor": 0
      },
      "text/plain": [
       "interactive(children=(IntSlider(value=0, description='sample', max=19), Dropdown(description='alpha', index=2,…"
      ]
     },
     "metadata": {},
     "output_type": "display_data"
    }
   ],
   "source": [
    "val_start = 0 # スライドバーの最小値\n",
    "val_end   = len(y)-1 # スライドバーの最大値\n",
    "val_step  = 1 # スライドバーはこの値ずつ増える\n",
    "val_default = 0 # スライドバーの初期値\n",
    "\n",
    "loss_val = []\n",
    "\n",
    "@interact(sample=(val_start, val_end, val_step), alpha=[1.0, 0.1, 0.01, 0.001]) # この行が関数の直前に必要\n",
    "def g(sample=val_default, alpha=0.01): # この関数を毎回呼び出す    \n",
    "  \n",
    "    global w\n",
    "    \n",
    "    if sample > len(y)-1:\n",
    "        return\n",
    "\n",
    "    plt.scatter(X[:, 0], X[:, 1], marker='o', s=50, c=y, edgecolors='k')\n",
    "    plt.scatter(X[sample, 0], X[sample, 1], marker='o', s=90, facecolors='none',  edgecolors='k')\n",
    "   \n",
    "    plotBoundary(X, mynet, w)\n",
    "    \n",
    "    xi = X[sample]\n",
    "    yi = y[sample]\n",
    "\n",
    "   \n",
    "    plt.gca().set_aspect('equal');\n",
    "    plt.show()\n",
    "\n",
    "    loss_val.append(sum([loss(w, xi, yi) for xi,yi in zip(X,y)])) # loss for all samples\n",
    "    plt.plot(loss_val)\n",
    "    plt.ylabel('loss')\n",
    "    plt.xlabel('iterations')\n",
    "    plt.show()\n",
    "\n",
    "    # 更新則\n",
    "    w = w - alpha * g_mynet(w, xi, yi)\n",
    "\n",
    "    "
   ]
  },
  {
   "cell_type": "code",
   "execution_count": null,
   "metadata": {},
   "outputs": [],
   "source": []
  },
  {
   "cell_type": "code",
   "execution_count": null,
   "metadata": {},
   "outputs": [],
   "source": []
  },
  {
   "cell_type": "code",
   "execution_count": null,
   "metadata": {},
   "outputs": [],
   "source": []
  },
  {
   "cell_type": "code",
   "execution_count": null,
   "metadata": {},
   "outputs": [],
   "source": []
  },
  {
   "cell_type": "code",
   "execution_count": null,
   "metadata": {},
   "outputs": [],
   "source": []
  }
 ],
 "metadata": {
  "kernelspec": {
   "display_name": "Python 3",
   "language": "python",
   "name": "python3"
  },
  "language_info": {
   "codemirror_mode": {
    "name": "ipython",
    "version": 3
   },
   "file_extension": ".py",
   "mimetype": "text/x-python",
   "name": "python",
   "nbconvert_exporter": "python",
   "pygments_lexer": "ipython3",
   "version": "3.7.7"
  },
  "toc": {
   "base_numbering": 1,
   "nav_menu": {},
   "number_sections": true,
   "sideBar": false,
   "skip_h1_title": false,
   "title_cell": "Table of Contents",
   "title_sidebar": "Contents",
   "toc_cell": false,
   "toc_position": {},
   "toc_section_display": true,
   "toc_window_display": false
  }
 },
 "nbformat": 4,
 "nbformat_minor": 2
}
