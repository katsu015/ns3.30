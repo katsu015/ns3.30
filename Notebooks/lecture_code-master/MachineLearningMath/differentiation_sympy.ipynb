{
 "cells": [
  {
   "cell_type": "markdown",
   "metadata": {},
   "source": [
    "# 数式微分のPython実装：sympy\n",
    "\n",
    "数式自分を行うpythonモジュールにsympyがある．\n",
    "これを使って数式微分を行う．"
   ]
  },
  {
   "cell_type": "code",
   "execution_count": 1,
   "metadata": {
    "ExecuteTime": {
     "end_time": "2017-04-27T00:09:15.435493Z",
     "start_time": "2017-04-27T00:09:14.868788Z"
    }
   },
   "outputs": [],
   "source": [
    "# sympyのインポート\n",
    "import sympy as sp\n",
    "sp.init_printing() # LaTeX形式で表示する\n",
    "\n",
    "from sympy import diff, integrate, Derivative"
   ]
  },
  {
   "cell_type": "markdown",
   "metadata": {},
   "source": [
    "## sympyでの変数・関数と表示"
   ]
  },
  {
   "cell_type": "code",
   "execution_count": 2,
   "metadata": {
    "ExecuteTime": {
     "end_time": "2017-04-27T00:09:15.438901Z",
     "start_time": "2017-04-27T00:09:15.436704Z"
    }
   },
   "outputs": [],
   "source": [
    "# sympyで用いる変数をsymbols()で宣言する\n",
    "x, m, sigma = sp.symbols('x m sigma')"
   ]
  },
  {
   "cell_type": "code",
   "execution_count": 3,
   "metadata": {
    "ExecuteTime": {
     "end_time": "2017-04-27T00:09:15.466671Z",
     "start_time": "2017-04-27T00:09:15.440135Z"
    }
   },
   "outputs": [
    {
     "name": "stdout",
     "output_type": "stream",
     "text": [
      "sqrt(2)*exp(-(-m + x)**2/(2*sigma**2))/(2*sqrt(pi)*sqrt(sigma**2))\n",
      "<class 'sympy.core.mul.Mul'>\n"
     ]
    }
   ],
   "source": [
    "# 宣言した変数で数式を作る\n",
    "gauss = 1 / sp.sqrt(2 * sp.pi * sigma**2) * sp.exp( -(x - m)**2 / (2 * sigma**2))\n",
    "print(gauss)\n",
    "print(type(gauss))"
   ]
  },
  {
   "cell_type": "code",
   "execution_count": 4,
   "metadata": {
    "ExecuteTime": {
     "end_time": "2017-04-27T00:09:15.814076Z",
     "start_time": "2017-04-27T00:09:15.467628Z"
    }
   },
   "outputs": [
    {
     "data": {
      "image/png": "[encoded data removed]",
      "text/latex": [
       "$\\displaystyle \\frac{\\sqrt{2} e^{- \\frac{\\left(- m + x\\right)^{2}}{2 \\sigma^{2}}}}{2 \\sqrt{\\pi} \\sqrt{\\sigma^{2}}}$"
      ],
      "text/plain": [
       "             2 \n",
       "    -(-m + x)  \n",
       "    ───────────\n",
       "           2   \n",
       "        2⋅σ    \n",
       "√2⋅ℯ           \n",
       "───────────────\n",
       "          ____ \n",
       "         ╱  2  \n",
       "  2⋅√π⋅╲╱  σ   "
      ]
     },
     "execution_count": 4,
     "metadata": {},
     "output_type": "execute_result"
    }
   ],
   "source": [
    "gauss # そのまま評価すると，init_printing()のあとならLaTeX形式で表示される"
   ]
  },
  {
   "cell_type": "code",
   "execution_count": 5,
   "metadata": {
    "ExecuteTime": {
     "end_time": "2017-04-27T00:09:16.133301Z",
     "start_time": "2017-04-27T00:09:15.815329Z"
    }
   },
   "outputs": [
    {
     "name": "stdout",
     "output_type": "stream",
     "text": [
      "sympy:  <class 'sympy.core.function.FunctionClass'>\n",
      "exp(x)\n",
      "numpy:  <class 'numpy.ufunc'>\n",
      "builtin:  <class 'builtin_function_or_method'>\n"
     ]
    }
   ],
   "source": [
    "# 注意：すべての関数・変数はsympyのオブジェクトでなければならない\n",
    "\n",
    "print(\"sympy: \", type(sp.exp)) # ok, sympy version\n",
    "print(sp.exp(x)) # ok\n",
    "\n",
    "import numpy as np\n",
    "print(\"numpy: \", type(np.exp)) # no, this is numpy version\n",
    "# print(np.exp(x)) # doesn't work !\n",
    "\n",
    "import math\n",
    "print(\"builtin: \", type(math.exp)) # no, this is built-in\n",
    "# print(math.exp(x)) # doesn't work !"
   ]
  },
  {
   "cell_type": "code",
   "execution_count": 6,
   "metadata": {
    "ExecuteTime": {
     "end_time": "2017-04-27T00:09:16.141946Z",
     "start_time": "2017-04-27T00:09:16.134614Z"
    }
   },
   "outputs": [
    {
     "name": "stdout",
     "output_type": "stream",
     "text": [
      "$\\frac{\\sqrt{2} e^{- \\frac{\\left(- m + x\\right)^{2}}{2 \\sigma^{2}}}}{2 \\sqrt{\\pi} \\sqrt{\\sigma^{2}}}$\n"
     ]
    },
    {
     "data": {
      "text/latex": [
       "$\\frac{\\sqrt{2} e^{- \\frac{\\left(- m + x\\right)^{2}}{2 \\sigma^{2}}}}{2 \\sqrt{\\pi} \\sqrt{\\sigma^{2}}}$"
      ],
      "text/plain": [
       "<IPython.core.display.Latex object>"
      ]
     },
     "execution_count": 6,
     "metadata": {},
     "output_type": "execute_result"
    }
   ],
   "source": [
    "# 補足：init_printing()を使わずにLaTeX形式で出力する方法\n",
    "\n",
    "from sympy import latex\n",
    "\n",
    "# let's make the latex string\n",
    "gauss_str = latex(gauss, mode='inline')\n",
    "print(gauss_str)\n",
    "\n",
    "# use this Latex() for displaying the latex string\n",
    "from IPython.display import Latex\n",
    "Latex(gauss_str)"
   ]
  },
  {
   "cell_type": "markdown",
   "metadata": {},
   "source": [
    "# 数式の微積分\n",
    "\n",
    "以下は数式の微分と積分を計算する簡単な例である．\n",
    "\n",
    "## 微分\n",
    "\n",
    "微分はsympyオブジェクトの関数のメソッド`diff`を用いる．\n",
    "微分したい変数を引数に与える．\n",
    "\n",
    "### 2次関数"
   ]
  },
  {
   "cell_type": "code",
   "execution_count": 7,
   "metadata": {},
   "outputs": [],
   "source": [
    "x, y, a, b, c, d, e = sp.symbols('x y a b c d e')"
   ]
  },
  {
   "cell_type": "code",
   "execution_count": 8,
   "metadata": {},
   "outputs": [],
   "source": [
    "f = a * x**2 + b * x + c"
   ]
  },
  {
   "cell_type": "code",
   "execution_count": 9,
   "metadata": {},
   "outputs": [
    {
     "data": {
      "image/png": "[encoded data removed]",
      "text/latex": [
       "$\\displaystyle a x^{2} + b x + c$"
      ],
      "text/plain": [
       "   2          \n",
       "a⋅x  + b⋅x + c"
      ]
     },
     "execution_count": 9,
     "metadata": {},
     "output_type": "execute_result"
    }
   ],
   "source": [
    "f"
   ]
  },
  {
   "cell_type": "code",
   "execution_count": 10,
   "metadata": {},
   "outputs": [
    {
     "data": {
      "image/png": "[encoded data removed]",
      "text/latex": [
       "$\\displaystyle 2 a x + b$"
      ],
      "text/plain": [
       "2⋅a⋅x + b"
      ]
     },
     "execution_count": 10,
     "metadata": {},
     "output_type": "execute_result"
    }
   ],
   "source": [
    "f.diff(x) # 1階微分"
   ]
  },
  {
   "cell_type": "code",
   "execution_count": 11,
   "metadata": {},
   "outputs": [
    {
     "data": {
      "image/png": "[encoded data removed]",
      "text/latex": [
       "$\\displaystyle 2 a$"
      ],
      "text/plain": [
       "2⋅a"
      ]
     },
     "execution_count": 11,
     "metadata": {},
     "output_type": "execute_result"
    }
   ],
   "source": [
    "f.diff(x).diff(x) # 2階微分"
   ]
  },
  {
   "cell_type": "code",
   "execution_count": 12,
   "metadata": {},
   "outputs": [],
   "source": [
    "g = a * x**2 + b * x * y + c * x + d * y + e"
   ]
  },
  {
   "cell_type": "code",
   "execution_count": 13,
   "metadata": {},
   "outputs": [
    {
     "data": {
      "image/png": "[encoded data removed]",
      "text/latex": [
       "$\\displaystyle a x^{2} + b x y + c x + d y + e$"
      ],
      "text/plain": [
       "   2                        \n",
       "a⋅x  + b⋅x⋅y + c⋅x + d⋅y + e"
      ]
     },
     "execution_count": 13,
     "metadata": {},
     "output_type": "execute_result"
    }
   ],
   "source": [
    "g"
   ]
  },
  {
   "cell_type": "code",
   "execution_count": 14,
   "metadata": {},
   "outputs": [
    {
     "data": {
      "image/png": "[encoded data removed]",
      "text/latex": [
       "$\\displaystyle 2 a x + b y + c$"
      ],
      "text/plain": [
       "2⋅a⋅x + b⋅y + c"
      ]
     },
     "execution_count": 14,
     "metadata": {},
     "output_type": "execute_result"
    }
   ],
   "source": [
    "g.diff(x) # 1階微分"
   ]
  },
  {
   "cell_type": "code",
   "execution_count": 15,
   "metadata": {},
   "outputs": [
    {
     "data": {
      "image/png": "[encoded data removed]",
      "text/latex": [
       "$\\displaystyle b$"
      ],
      "text/plain": [
       "b"
      ]
     },
     "execution_count": 15,
     "metadata": {},
     "output_type": "execute_result"
    }
   ],
   "source": [
    "g.diff(x).diff(y) # 2階微分"
   ]
  },
  {
   "cell_type": "markdown",
   "metadata": {},
   "source": [
    "### ガウス関数"
   ]
  },
  {
   "cell_type": "code",
   "execution_count": 16,
   "metadata": {},
   "outputs": [],
   "source": [
    "x, m, sigma = sp.symbols('x m sigma')"
   ]
  },
  {
   "cell_type": "code",
   "execution_count": 17,
   "metadata": {
    "ExecuteTime": {
     "end_time": "2017-04-27T00:09:16.411996Z",
     "start_time": "2017-04-27T00:09:16.146792Z"
    }
   },
   "outputs": [
    {
     "data": {
      "image/png": "[encoded data removed]",
      "text/latex": [
       "$\\displaystyle - \\frac{\\sqrt{2} \\left(- 2 m + 2 x\\right) e^{- \\frac{\\left(- m + x\\right)^{2}}{2 \\sigma^{2}}}}{4 \\sqrt{\\pi} \\sigma^{2} \\sqrt{\\sigma^{2}}}$"
      ],
      "text/plain": [
       "                           2  \n",
       "                  -(-m + x)   \n",
       "                  ─────────── \n",
       "                         2    \n",
       "                      2⋅σ     \n",
       "-√2⋅(-2⋅m + 2⋅x)⋅ℯ            \n",
       "──────────────────────────────\n",
       "                  ____        \n",
       "             2   ╱  2         \n",
       "       4⋅√π⋅σ ⋅╲╱  σ          "
      ]
     },
     "execution_count": 17,
     "metadata": {},
     "output_type": "execute_result"
    }
   ],
   "source": [
    "# gauss関数をxで微分する\n",
    "gauss.diff(x)"
   ]
  },
  {
   "cell_type": "code",
   "execution_count": 18,
   "metadata": {
    "ExecuteTime": {
     "end_time": "2017-04-27T00:09:16.710642Z",
     "start_time": "2017-04-27T00:09:16.413607Z"
    }
   },
   "outputs": [
    {
     "data": {
      "image/png": "[encoded data removed]",
      "text/latex": [
       "$\\displaystyle - \\frac{\\sqrt{2} e^{- \\frac{\\left(- m + x\\right)^{2}}{2 \\sigma^{2}}}}{2 \\sqrt{\\pi} \\sigma^{2} \\sqrt{\\sigma^{2}}} + \\frac{\\sqrt{2} \\left(- 2 m + 2 x\\right)^{2} e^{- \\frac{\\left(- m + x\\right)^{2}}{2 \\sigma^{2}}}}{8 \\sqrt{\\pi} \\sigma^{4} \\sqrt{\\sigma^{2}}}$"
      ],
      "text/plain": [
       "               2                               2 \n",
       "      -(-m + x)                       -(-m + x)  \n",
       "      ───────────                     ───────────\n",
       "             2                               2   \n",
       "          2⋅σ                      2      2⋅σ    \n",
       "  √2⋅ℯ              √2⋅(-2⋅m + 2⋅x) ⋅ℯ           \n",
       "- ─────────────── + ─────────────────────────────\n",
       "             ____                     ____       \n",
       "        2   ╱  2                 4   ╱  2        \n",
       "  2⋅√π⋅σ ⋅╲╱  σ            8⋅√π⋅σ ⋅╲╱  σ         "
      ]
     },
     "execution_count": 18,
     "metadata": {},
     "output_type": "execute_result"
    }
   ],
   "source": [
    "# 再度xで微分する（2階微分）\n",
    "gauss.diff(x).diff(x)"
   ]
  },
  {
   "cell_type": "code",
   "execution_count": 19,
   "metadata": {
    "ExecuteTime": {
     "end_time": "2017-04-27T00:09:16.994572Z",
     "start_time": "2017-04-27T00:09:16.712225Z"
    }
   },
   "outputs": [
    {
     "data": {
      "image/png": "[encoded data removed]",
      "text/latex": [
       "$\\displaystyle - \\frac{\\sqrt{2} e^{- \\frac{\\left(- m + x\\right)^{2}}{2 \\sigma^{2}}}}{2 \\sqrt{\\pi} \\sigma \\sqrt{\\sigma^{2}}} + \\frac{\\sqrt{2} \\left(- m + x\\right)^{2} e^{- \\frac{\\left(- m + x\\right)^{2}}{2 \\sigma^{2}}}}{2 \\sqrt{\\pi} \\sigma^{3} \\sqrt{\\sigma^{2}}}$"
      ],
      "text/plain": [
       "               2                           2 \n",
       "      -(-m + x)                   -(-m + x)  \n",
       "      ───────────                 ───────────\n",
       "             2                           2   \n",
       "          2⋅σ                  2      2⋅σ    \n",
       "  √2⋅ℯ              √2⋅(-m + x) ⋅ℯ           \n",
       "- ─────────────── + ─────────────────────────\n",
       "             ____                   ____     \n",
       "            ╱  2               3   ╱  2      \n",
       "   2⋅√π⋅σ⋅╲╱  σ          2⋅√π⋅σ ⋅╲╱  σ       "
      ]
     },
     "execution_count": 19,
     "metadata": {},
     "output_type": "execute_result"
    }
   ],
   "source": [
    "# sigmaで微分することも可能\n",
    "gauss.diff(sigma)"
   ]
  },
  {
   "cell_type": "markdown",
   "metadata": {},
   "source": [
    "## 積分"
   ]
  },
  {
   "cell_type": "markdown",
   "metadata": {},
   "source": [
    "### 2次関数の積分"
   ]
  },
  {
   "cell_type": "code",
   "execution_count": 20,
   "metadata": {},
   "outputs": [],
   "source": [
    "x, y, a, b, c, d, e = sp.symbols('x y a b c d e')"
   ]
  },
  {
   "cell_type": "code",
   "execution_count": 21,
   "metadata": {},
   "outputs": [],
   "source": [
    "f = a * x**2 + b * x + c"
   ]
  },
  {
   "cell_type": "code",
   "execution_count": 22,
   "metadata": {},
   "outputs": [
    {
     "data": {
      "image/png": "[encoded data removed]",
      "text/latex": [
       "$\\displaystyle \\left( a x^{2} + b x + c, \\  \\frac{a x^{3}}{3} + \\frac{b x^{2}}{2} + c x, \\  \\frac{a x^{4}}{12} + \\frac{b x^{3}}{6} + \\frac{c x^{2}}{2}\\right)$"
      ],
      "text/plain": [
       "⎛                   3      2           4      3      2⎞\n",
       "⎜   2            a⋅x    b⋅x         a⋅x    b⋅x    c⋅x ⎟\n",
       "⎜a⋅x  + b⋅x + c, ──── + ──── + c⋅x, ──── + ──── + ────⎟\n",
       "⎝                 3      2           12     6      2  ⎠"
      ]
     },
     "execution_count": 22,
     "metadata": {},
     "output_type": "execute_result"
    }
   ],
   "source": [
    "f, f.integrate(x), f.integrate(x).integrate(x)"
   ]
  },
  {
   "cell_type": "code",
   "execution_count": 23,
   "metadata": {},
   "outputs": [],
   "source": [
    "g = a * x**2 + b * x * y + c * x + d * y + e"
   ]
  },
  {
   "cell_type": "code",
   "execution_count": 24,
   "metadata": {},
   "outputs": [
    {
     "data": {
      "image/png": "[encoded data removed]",
      "text/latex": [
       "$\\displaystyle \\left( a x^{2} + b x y + c x + d y + e, \\  \\frac{a x^{3}}{3} + x^{2} \\left(\\frac{b y}{2} + \\frac{c}{2}\\right) + x \\left(d y + e\\right), \\  y^{2} \\left(\\frac{b x^{2}}{4} + \\frac{d x}{2}\\right) + y \\left(\\frac{a x^{3}}{3} + \\frac{c x^{2}}{2} + e x\\right)\\right)$"
      ],
      "text/plain": [
       "⎛                                 3                                  ⎛   2    \n",
       "⎜   2                          a⋅x     2 ⎛b⋅y   c⎞                 2 ⎜b⋅x    d\n",
       "⎜a⋅x  + b⋅x⋅y + c⋅x + d⋅y + e, ──── + x ⋅⎜─── + ─⎟ + x⋅(d⋅y + e), y ⋅⎜──── + ─\n",
       "⎝                               3        ⎝ 2    2⎠                   ⎝ 4      \n",
       "\n",
       "  ⎞     ⎛   3      2      ⎞⎞\n",
       "⋅x⎟     ⎜a⋅x    c⋅x       ⎟⎟\n",
       "──⎟ + y⋅⎜──── + ──── + e⋅x⎟⎟\n",
       "2 ⎠     ⎝ 3      2        ⎠⎠"
      ]
     },
     "execution_count": 24,
     "metadata": {},
     "output_type": "execute_result"
    }
   ],
   "source": [
    "g, g.integrate(x), g.integrate(x).integrate(y)"
   ]
  },
  {
   "cell_type": "markdown",
   "metadata": {},
   "source": [
    "### ガウス関数の積分"
   ]
  },
  {
   "cell_type": "code",
   "execution_count": 25,
   "metadata": {},
   "outputs": [],
   "source": [
    "x, m, sigma = sp.symbols('x m sigma')"
   ]
  },
  {
   "cell_type": "code",
   "execution_count": 26,
   "metadata": {
    "ExecuteTime": {
     "end_time": "2017-04-27T00:09:20.294031Z",
     "start_time": "2017-04-27T00:09:16.996125Z"
    }
   },
   "outputs": [
    {
     "data": {
      "image/png": "[encoded data removed]",
      "text/latex": [
       "$\\displaystyle \\frac{\\sigma \\operatorname{erf}{\\left(\\frac{\\sqrt{2} \\left(- m + x\\right)}{2 \\sigma} \\right)}}{2 \\sqrt{\\sigma^{2}}}$"
      ],
      "text/plain": [
       "     ⎛√2⋅(-m + x)⎞\n",
       "σ⋅erf⎜───────────⎟\n",
       "     ⎝    2⋅σ    ⎠\n",
       "──────────────────\n",
       "         ____     \n",
       "        ╱  2      \n",
       "    2⋅╲╱  σ       "
      ]
     },
     "execution_count": 26,
     "metadata": {},
     "output_type": "execute_result"
    }
   ],
   "source": [
    "# gaussのxによる不定積分\n",
    "integrate(gauss, x)"
   ]
  },
  {
   "cell_type": "code",
   "execution_count": 27,
   "metadata": {
    "ExecuteTime": {
     "end_time": "2017-04-27T00:09:23.081352Z",
     "start_time": "2017-04-27T00:09:20.295259Z"
    }
   },
   "outputs": [
    {
     "data": {
      "image/png": "[encoded data removed]",
      "text/latex": [
       "$\\displaystyle - \\frac{\\sigma \\operatorname{erf}{\\left(\\frac{\\sqrt{2} \\left(a - m\\right)}{2 \\sigma} \\right)}}{2 \\sqrt{\\sigma^{2}}} + \\frac{\\sigma \\operatorname{erf}{\\left(\\frac{\\sqrt{2} \\left(b - m\\right)}{2 \\sigma} \\right)}}{2 \\sqrt{\\sigma^{2}}}$"
      ],
      "text/plain": [
       "       ⎛√2⋅(a - m)⎞        ⎛√2⋅(b - m)⎞\n",
       "  σ⋅erf⎜──────────⎟   σ⋅erf⎜──────────⎟\n",
       "       ⎝   2⋅σ    ⎠        ⎝   2⋅σ    ⎠\n",
       "- ───────────────── + ─────────────────\n",
       "           ____                ____    \n",
       "          ╱  2                ╱  2     \n",
       "      2⋅╲╱  σ             2⋅╲╱  σ      "
      ]
     },
     "execution_count": 27,
     "metadata": {},
     "output_type": "execute_result"
    }
   ],
   "source": [
    "# aからｂまでの定積分\n",
    "a, b = sp.symbols('a b')\n",
    "gauss.integrate((x, a, b))"
   ]
  },
  {
   "cell_type": "markdown",
   "metadata": {},
   "source": [
    "# 行列計算"
   ]
  },
  {
   "cell_type": "markdown",
   "metadata": {},
   "source": [
    "## 固有値計算の例"
   ]
  },
  {
   "cell_type": "code",
   "execution_count": 28,
   "metadata": {
    "ExecuteTime": {
     "end_time": "2017-04-27T00:09:23.089059Z",
     "start_time": "2017-04-27T00:09:23.08262Z"
    }
   },
   "outputs": [
    {
     "data": {
      "text/plain": [
       "array([[1, 4],\n",
       "       [8, 8]])"
      ]
     },
     "execution_count": 28,
     "metadata": {},
     "output_type": "execute_result"
    }
   ],
   "source": [
    "# ランダムな整数行列を生成\n",
    "a = np.random.randint(1, 10, size=(2,2))\n",
    "a # numpyオブジェクト"
   ]
  },
  {
   "cell_type": "code",
   "execution_count": 29,
   "metadata": {
    "ExecuteTime": {
     "end_time": "2017-04-27T00:09:23.144015Z",
     "start_time": "2017-04-27T00:09:23.09027Z"
    }
   },
   "outputs": [
    {
     "data": {
      "text/plain": [
       "array([-2.15206735, 11.15206735])"
      ]
     },
     "execution_count": 29,
     "metadata": {},
     "output_type": "execute_result"
    }
   ],
   "source": [
    "# numpyを用いて数値的に固有値を計算\n",
    "np.linalg.eigvals(a)"
   ]
  },
  {
   "cell_type": "code",
   "execution_count": 30,
   "metadata": {
    "ExecuteTime": {
     "end_time": "2017-04-27T00:09:23.381914Z",
     "start_time": "2017-04-27T00:09:23.145034Z"
    }
   },
   "outputs": [
    {
     "data": {
      "image/png": "[encoded data removed]",
      "text/latex": [
       "$\\displaystyle \\left[\\begin{matrix}1 & 4\\\\8 & 8\\end{matrix}\\right]$"
      ],
      "text/plain": [
       "⎡1  4⎤\n",
       "⎢    ⎥\n",
       "⎣8  8⎦"
      ]
     },
     "execution_count": 30,
     "metadata": {},
     "output_type": "execute_result"
    }
   ],
   "source": [
    "# いちどlistにしてからsympyのMatrixオブジェクトへ変換する\n",
    "a = sp.Matrix(a.tolist())\n",
    "a # sympyオブジェクト"
   ]
  },
  {
   "cell_type": "code",
   "execution_count": 31,
   "metadata": {
    "ExecuteTime": {
     "end_time": "2017-04-27T00:09:23.628165Z",
     "start_time": "2017-04-27T00:09:23.383673Z"
    }
   },
   "outputs": [
    {
     "data": {
      "image/png": "[encoded data removed]",
      "text/latex": [
       "$\\displaystyle \\left\\{ \\frac{9}{2} - \\frac{\\sqrt{177}}{2} : 1, \\  \\frac{9}{2} + \\frac{\\sqrt{177}}{2} : 1\\right\\}$"
      ],
      "text/plain": [
       "⎧9   √177     9   √177   ⎫\n",
       "⎨─ - ────: 1, ─ + ────: 1⎬\n",
       "⎩2    2       2    2     ⎭"
      ]
     },
     "execution_count": 31,
     "metadata": {},
     "output_type": "execute_result"
    }
   ],
   "source": [
    "# sympyを用いて解析的に固有値を計算\n",
    "a.eigenvals()"
   ]
  },
  {
   "cell_type": "code",
   "execution_count": 32,
   "metadata": {},
   "outputs": [
    {
     "data": {
      "image/png": "[encoded data removed]",
      "text/latex": [
       "$\\displaystyle \\left\\{ - \\frac{147093395186623}{100000000000000} - \\frac{13 \\sqrt{195221904759678402278561734} i}{100000000000000} : 1, \\  - \\frac{147093395186623}{100000000000000} + \\frac{13 \\sqrt{195221904759678402278561734} i}{100000000000000} : 1\\right\\}$"
      ],
      "text/plain": [
       "⎧  147093395186623   13⋅√195221904759678402278561734⋅ⅈ       147093395186623  \n",
       "⎨- ─────────────── - ─────────────────────────────────: 1, - ─────────────── +\n",
       "⎩  100000000000000            100000000000000                100000000000000  \n",
       "\n",
       " 13⋅√195221904759678402278561734⋅ⅈ   ⎫\n",
       " ─────────────────────────────────: 1⎬\n",
       "          100000000000000            ⎭"
      ]
     },
     "execution_count": 32,
     "metadata": {},
     "output_type": "execute_result"
    }
   ],
   "source": [
    "# 実数値行列でもできないことはない\n",
    "b = sp.Matrix(np.random.randn(2,2))\n",
    "b.eigenvals() "
   ]
  },
  {
   "cell_type": "markdown",
   "metadata": {},
   "source": [
    "## 行列演算"
   ]
  },
  {
   "cell_type": "code",
   "execution_count": 33,
   "metadata": {},
   "outputs": [
    {
     "data": {
      "image/png": "[encoded data removed]",
      "text/latex": [
       "$\\displaystyle \\left[\\begin{matrix}2 & 8\\\\16 & 16\\end{matrix}\\right]$"
      ],
      "text/plain": [
       "⎡2   8 ⎤\n",
       "⎢      ⎥\n",
       "⎣16  16⎦"
      ]
     },
     "execution_count": 33,
     "metadata": {},
     "output_type": "execute_result"
    }
   ],
   "source": [
    "a + a # 行列の和は+でよい"
   ]
  },
  {
   "cell_type": "code",
   "execution_count": 34,
   "metadata": {},
   "outputs": [
    {
     "data": {
      "image/png": "[encoded data removed]",
      "text/latex": [
       "$\\displaystyle \\left[\\begin{matrix}33 & 36\\\\72 & 96\\end{matrix}\\right]$"
      ],
      "text/plain": [
       "⎡33  36⎤\n",
       "⎢      ⎥\n",
       "⎣72  96⎦"
      ]
     },
     "execution_count": 34,
     "metadata": {},
     "output_type": "execute_result"
    }
   ],
   "source": [
    "a * a # 行列の積は*でよい（要素ごとの積ではない）"
   ]
  },
  {
   "cell_type": "code",
   "execution_count": 35,
   "metadata": {},
   "outputs": [
    {
     "data": {
      "image/png": "[encoded data removed]",
      "text/latex": [
       "$\\displaystyle \\left( \\left[\\begin{matrix}1 & 4\\\\8 & 8\\end{matrix}\\right], \\  \\left[\\begin{matrix}1 & 8\\\\4 & 8\\end{matrix}\\right]\\right)$"
      ],
      "text/plain": [
       "⎛⎡1  4⎤  ⎡1  8⎤⎞\n",
       "⎜⎢    ⎥, ⎢    ⎥⎟\n",
       "⎝⎣8  8⎦  ⎣4  8⎦⎠"
      ]
     },
     "execution_count": 35,
     "metadata": {},
     "output_type": "execute_result"
    }
   ],
   "source": [
    "a, a.transpose()"
   ]
  },
  {
   "cell_type": "markdown",
   "metadata": {},
   "source": [
    "## ヤコビ行列"
   ]
  },
  {
   "cell_type": "markdown",
   "metadata": {},
   "source": [
    "$\\boldsymbol{f} = R(\\theta_1) R(\\theta_2) \\boldsymbol{x}$を考える．\n",
    "\n",
    "ここで\n",
    "$R(\\theta) = \\begin{pmatrix}\n",
    "\t\\sin\\theta & \\cos\\theta \\\\\n",
    "\t-\\cos\\theta & \\sin\\theta\n",
    "\t\\end{pmatrix}\n",
    "$"
   ]
  },
  {
   "cell_type": "code",
   "execution_count": 36,
   "metadata": {},
   "outputs": [],
   "source": [
    "theta1, theta2, x1, x2 = sp.symbols('theta1 theta2 x1 x2')\n",
    "\n",
    "R1 = sp.Matrix([[ sp.sin(theta1), sp.cos(theta1)],\n",
    "                 [-sp.cos(theta1), sp.sin(theta1)]])\n",
    "R2 = sp.Matrix([[ sp.sin(theta2), sp.cos(theta2)],\n",
    "                 [-sp.cos(theta2), sp.sin(theta2)]])\n",
    "\n",
    "f = R1 * R2 * sp.Matrix([[x1], [x2]])"
   ]
  },
  {
   "cell_type": "code",
   "execution_count": 37,
   "metadata": {},
   "outputs": [
    {
     "data": {
      "image/png": "[encoded data removed]",
      "text/latex": [
       "$\\displaystyle \\left[\\begin{matrix}x_{1} \\left(\\sin{\\left(\\theta_{1} \\right)} \\sin{\\left(\\theta_{2} \\right)} - \\cos{\\left(\\theta_{1} \\right)} \\cos{\\left(\\theta_{2} \\right)}\\right) + x_{2} \\left(\\sin{\\left(\\theta_{1} \\right)} \\cos{\\left(\\theta_{2} \\right)} + \\sin{\\left(\\theta_{2} \\right)} \\cos{\\left(\\theta_{1} \\right)}\\right)\\\\x_{1} \\left(- \\sin{\\left(\\theta_{1} \\right)} \\cos{\\left(\\theta_{2} \\right)} - \\sin{\\left(\\theta_{2} \\right)} \\cos{\\left(\\theta_{1} \\right)}\\right) + x_{2} \\left(\\sin{\\left(\\theta_{1} \\right)} \\sin{\\left(\\theta_{2} \\right)} - \\cos{\\left(\\theta_{1} \\right)} \\cos{\\left(\\theta_{2} \\right)}\\right)\\end{matrix}\\right]$"
      ],
      "text/plain": [
       "⎡x₁⋅(sin(θ₁)⋅sin(θ₂) - cos(θ₁)⋅cos(θ₂)) + x₂⋅(sin(θ₁)⋅cos(θ₂) + sin(θ₂)⋅cos(θ₁\n",
       "⎢                                                                             \n",
       "⎣x₁⋅(-sin(θ₁)⋅cos(θ₂) - sin(θ₂)⋅cos(θ₁)) + x₂⋅(sin(θ₁)⋅sin(θ₂) - cos(θ₁)⋅cos(θ\n",
       "\n",
       ")) ⎤\n",
       "   ⎥\n",
       "₂))⎦"
      ]
     },
     "execution_count": 37,
     "metadata": {},
     "output_type": "execute_result"
    }
   ],
   "source": [
    "f # 関数fの評価"
   ]
  },
  {
   "cell_type": "code",
   "execution_count": 38,
   "metadata": {},
   "outputs": [
    {
     "data": {
      "image/png": "[encoded data removed]",
      "text/latex": [
       "$\\displaystyle \\left[\\begin{matrix}x_{1} \\left(\\sin{\\left(\\theta_{1} \\right)} \\cos{\\left(\\theta_{2} \\right)} + \\sin{\\left(\\theta_{2} \\right)} \\cos{\\left(\\theta_{1} \\right)}\\right) + x_{2} \\left(- \\sin{\\left(\\theta_{1} \\right)} \\sin{\\left(\\theta_{2} \\right)} + \\cos{\\left(\\theta_{1} \\right)} \\cos{\\left(\\theta_{2} \\right)}\\right)\\\\x_{1} \\left(\\sin{\\left(\\theta_{1} \\right)} \\sin{\\left(\\theta_{2} \\right)} - \\cos{\\left(\\theta_{1} \\right)} \\cos{\\left(\\theta_{2} \\right)}\\right) + x_{2} \\left(\\sin{\\left(\\theta_{1} \\right)} \\cos{\\left(\\theta_{2} \\right)} + \\sin{\\left(\\theta_{2} \\right)} \\cos{\\left(\\theta_{1} \\right)}\\right)\\end{matrix}\\right]$"
      ],
      "text/plain": [
       "⎡x₁⋅(sin(θ₁)⋅cos(θ₂) + sin(θ₂)⋅cos(θ₁)) + x₂⋅(-sin(θ₁)⋅sin(θ₂) + cos(θ₁)⋅cos(θ\n",
       "⎢                                                                             \n",
       "⎣x₁⋅(sin(θ₁)⋅sin(θ₂) - cos(θ₁)⋅cos(θ₂)) + x₂⋅(sin(θ₁)⋅cos(θ₂) + sin(θ₂)⋅cos(θ₁\n",
       "\n",
       "₂))⎤\n",
       "   ⎥\n",
       ")) ⎦"
      ]
     },
     "execution_count": 38,
     "metadata": {},
     "output_type": "execute_result"
    }
   ],
   "source": [
    "f.diff(theta1) # theta1による偏微分"
   ]
  },
  {
   "cell_type": "code",
   "execution_count": 39,
   "metadata": {},
   "outputs": [
    {
     "data": {
      "image/png": "[encoded data removed]",
      "text/latex": [
       "$\\displaystyle \\left[\\begin{matrix}x_{1} \\left(\\sin{\\left(\\theta_{1} \\right)} \\cos{\\left(\\theta_{2} \\right)} + \\sin{\\left(\\theta_{2} \\right)} \\cos{\\left(\\theta_{1} \\right)}\\right) + x_{2} \\left(- \\sin{\\left(\\theta_{1} \\right)} \\sin{\\left(\\theta_{2} \\right)} + \\cos{\\left(\\theta_{1} \\right)} \\cos{\\left(\\theta_{2} \\right)}\\right)\\\\x_{1} \\left(\\sin{\\left(\\theta_{1} \\right)} \\sin{\\left(\\theta_{2} \\right)} - \\cos{\\left(\\theta_{1} \\right)} \\cos{\\left(\\theta_{2} \\right)}\\right) + x_{2} \\left(\\sin{\\left(\\theta_{1} \\right)} \\cos{\\left(\\theta_{2} \\right)} + \\sin{\\left(\\theta_{2} \\right)} \\cos{\\left(\\theta_{1} \\right)}\\right)\\end{matrix}\\right]$"
      ],
      "text/plain": [
       "⎡x₁⋅(sin(θ₁)⋅cos(θ₂) + sin(θ₂)⋅cos(θ₁)) + x₂⋅(-sin(θ₁)⋅sin(θ₂) + cos(θ₁)⋅cos(θ\n",
       "⎢                                                                             \n",
       "⎣x₁⋅(sin(θ₁)⋅sin(θ₂) - cos(θ₁)⋅cos(θ₂)) + x₂⋅(sin(θ₁)⋅cos(θ₂) + sin(θ₂)⋅cos(θ₁\n",
       "\n",
       "₂))⎤\n",
       "   ⎥\n",
       ")) ⎦"
      ]
     },
     "execution_count": 39,
     "metadata": {},
     "output_type": "execute_result"
    }
   ],
   "source": [
    "f.diff(theta2) # theta2による偏微分"
   ]
  },
  {
   "cell_type": "markdown",
   "metadata": {},
   "source": [
    "ヤコビ行列を計算するには，ベクトル値関数`f`のメソッド`jacobian`に，\n",
    "微分する変数のリストを与える．"
   ]
  },
  {
   "cell_type": "code",
   "execution_count": 40,
   "metadata": {},
   "outputs": [
    {
     "data": {
      "image/png": "[encoded data removed]",
      "text/latex": [
       "$\\displaystyle \\left[\\begin{matrix}x_{1} \\left(\\sin{\\left(\\theta_{1} \\right)} \\cos{\\left(\\theta_{2} \\right)} + \\sin{\\left(\\theta_{2} \\right)} \\cos{\\left(\\theta_{1} \\right)}\\right) + x_{2} \\left(- \\sin{\\left(\\theta_{1} \\right)} \\sin{\\left(\\theta_{2} \\right)} + \\cos{\\left(\\theta_{1} \\right)} \\cos{\\left(\\theta_{2} \\right)}\\right) & x_{1} \\left(\\sin{\\left(\\theta_{1} \\right)} \\cos{\\left(\\theta_{2} \\right)} + \\sin{\\left(\\theta_{2} \\right)} \\cos{\\left(\\theta_{1} \\right)}\\right) + x_{2} \\left(- \\sin{\\left(\\theta_{1} \\right)} \\sin{\\left(\\theta_{2} \\right)} + \\cos{\\left(\\theta_{1} \\right)} \\cos{\\left(\\theta_{2} \\right)}\\right)\\\\x_{1} \\left(\\sin{\\left(\\theta_{1} \\right)} \\sin{\\left(\\theta_{2} \\right)} - \\cos{\\left(\\theta_{1} \\right)} \\cos{\\left(\\theta_{2} \\right)}\\right) + x_{2} \\left(\\sin{\\left(\\theta_{1} \\right)} \\cos{\\left(\\theta_{2} \\right)} + \\sin{\\left(\\theta_{2} \\right)} \\cos{\\left(\\theta_{1} \\right)}\\right) & x_{1} \\left(\\sin{\\left(\\theta_{1} \\right)} \\sin{\\left(\\theta_{2} \\right)} - \\cos{\\left(\\theta_{1} \\right)} \\cos{\\left(\\theta_{2} \\right)}\\right) + x_{2} \\left(\\sin{\\left(\\theta_{1} \\right)} \\cos{\\left(\\theta_{2} \\right)} + \\sin{\\left(\\theta_{2} \\right)} \\cos{\\left(\\theta_{1} \\right)}\\right)\\end{matrix}\\right]$"
      ],
      "text/plain": [
       "⎡x₁⋅(sin(θ₁)⋅cos(θ₂) + sin(θ₂)⋅cos(θ₁)) + x₂⋅(-sin(θ₁)⋅sin(θ₂) + cos(θ₁)⋅cos(θ\n",
       "⎢                                                                             \n",
       "⎣x₁⋅(sin(θ₁)⋅sin(θ₂) - cos(θ₁)⋅cos(θ₂)) + x₂⋅(sin(θ₁)⋅cos(θ₂) + sin(θ₂)⋅cos(θ₁\n",
       "\n",
       "₂))  x₁⋅(sin(θ₁)⋅cos(θ₂) + sin(θ₂)⋅cos(θ₁)) + x₂⋅(-sin(θ₁)⋅sin(θ₂) + cos(θ₁)⋅c\n",
       "                                                                              \n",
       "))   x₁⋅(sin(θ₁)⋅sin(θ₂) - cos(θ₁)⋅cos(θ₂)) + x₂⋅(sin(θ₁)⋅cos(θ₂) + sin(θ₂)⋅co\n",
       "\n",
       "os(θ₂))⎤\n",
       "       ⎥\n",
       "s(θ₁)) ⎦"
      ]
     },
     "execution_count": 40,
     "metadata": {},
     "output_type": "execute_result"
    }
   ],
   "source": [
    "f.jacobian([theta1, theta2])"
   ]
  },
  {
   "cell_type": "markdown",
   "metadata": {},
   "source": [
    "# Task\n",
    "\n",
    "## 座標変換のヤコビ行列\n",
    "\n",
    "\n",
    "ある座標系における点$\\boldsymbol{x}$を\n",
    "$\n",
    "\\boldsymbol{y} = R_1 \\boldsymbol{x} + \\boldsymbol{t}_1\n",
    "$\n",
    "と座標変換し，点$\\boldsymbol{y}$とする．\n",
    "これをさらに\n",
    "$\n",
    "\\boldsymbol{z} = R_2 \\boldsymbol{y} + \\boldsymbol{t}_2\n",
    "$\n",
    "と座標変換して点$\\boldsymbol{z}$とする．\n",
    "ここで$R_i$は回転行列\n",
    "$$\n",
    "R_i = \\begin{pmatrix}\n",
    "\\sin\\theta_i & \\cos\\theta_i \\\\\n",
    "-\\cos\\theta_i & \\sin\\theta_i\n",
    "\\end{pmatrix}\n",
    "$$\n",
    "である．\n",
    "\n",
    "sympyでヤコビ行列\n",
    "$\\dfrac{\\partial \\boldsymbol{z}}{\\partial \\boldsymbol{\\theta}}$\n",
    "を求めよ．\n",
    "\n",
    "\n",
    "## 交差エントロピーの微分\n",
    "\n",
    "$N=5$とする．\n",
    "`a1, ..., a5`と`y1, ..., y5`\n",
    "をsympy変数として定義する．\n",
    "以下の関数を定義する．\n",
    "\n",
    "$f(\\boldsymbol{a}) = -\\sum_{i=1}^{N} y_i \\log f_i(\\boldsymbol{a})$\n",
    "\n",
    "ただし\n",
    "\n",
    "$f_i(\\boldsymbol{a}) = \\operatorname{softmax}_i(\\boldsymbol{a}) = \\dfrac{e^{a_i}}{\\sum_{j=1}^N e^{a_j}}$\n",
    "\n",
    "\n",
    "sympyで勾配ベクトル\n",
    "$\\dfrac{\\partial f}{\\partial \\boldsymbol{a}}$\n",
    "を求めよ．"
   ]
  },
  {
   "cell_type": "code",
   "execution_count": null,
   "metadata": {},
   "outputs": [],
   "source": [
    "  "
   ]
  }
 ],
 "metadata": {
  "kernelspec": {
   "display_name": "Python 3",
   "language": "python",
   "name": "python3"
  },
  "language_info": {
   "codemirror_mode": {
    "name": "ipython",
    "version": 3
   },
   "file_extension": ".py",
   "mimetype": "text/x-python",
   "name": "python",
   "nbconvert_exporter": "python",
   "pygments_lexer": "ipython3",
   "version": "3.7.7"
  },
  "toc": {
   "base_numbering": 1,
   "nav_menu": {
    "height": "84px",
    "width": "252px"
   },
   "number_sections": true,
   "sideBar": true,
   "skip_h1_title": false,
   "title_cell": "Table of Contents",
   "title_sidebar": "Contents",
   "toc_cell": false,
   "toc_position": {},
   "toc_section_display": "block",
   "toc_window_display": false
  }
 },
 "nbformat": 4,
 "nbformat_minor": 2
}
