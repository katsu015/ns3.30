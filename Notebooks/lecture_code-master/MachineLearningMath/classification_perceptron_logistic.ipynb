{
 "cells": [
  {
   "cell_type": "markdown",
   "metadata": {},
   "source": [
    "# 確率勾配法によるパーセプトロンとロジスティック回帰の実装\n",
    "\n",
    "2次元データの2クラス分類問題を解くパーセプトロンとロジスティック回帰を実装する．\n",
    "ロジスティック回帰は通常はバッチ処理で行うが，ここではサンプルを1つづつ用いる確率勾配法を実装する．\n",
    "\n",
    "# 準備"
   ]
  },
  {
   "cell_type": "code",
   "execution_count": 1,
   "metadata": {},
   "outputs": [
    {
     "data": {
      "text/plain": [
       "<Figure size 432x288 with 0 Axes>"
      ]
     },
     "metadata": {},
     "output_type": "display_data"
    }
   ],
   "source": [
    "# load modules\n",
    "\n",
    "import numpy as np\n",
    "\n",
    "import matplotlib\n",
    "import matplotlib.pyplot as plt\n",
    "from matplotlib.pyplot import imshow\n",
    "%matplotlib inline\n",
    "# plt.gray();\n",
    "plt.set_cmap(plt.cm.Paired);\n",
    "\n",
    "import sklearn\n",
    "from sklearn.datasets import make_blobs\n",
    "\n",
    "from ipywidgets import interact, interactive, fixed, RadioButtons\n",
    "import ipywidgets as widgets\n",
    "from IPython.display import display"
   ]
  },
  {
   "cell_type": "code",
   "execution_count": 2,
   "metadata": {},
   "outputs": [
    {
     "name": "stdout",
     "output_type": "stream",
     "text": [
      "sklearn version : 0.22.1  >= 0.18.0\n",
      "numpy version : 1.18.1  >= 0.12.0\n",
      "matplotlib version: 3.1.3 >= 2.0.0\n"
     ]
    }
   ],
   "source": [
    "# check versions\n",
    "\n",
    "print(\"sklearn version :\", sklearn.__version__, \" >= 0.18.0\")\n",
    "print(\"numpy version :\", np.__version__, \" >= 0.12.0\")\n",
    "print(\"matplotlib version:\", matplotlib.__version__, \">= 2.0.0\")"
   ]
  },
  {
   "cell_type": "markdown",
   "metadata": {},
   "source": [
    "# データセットの準備\n",
    "\n",
    "sklearnのmake_blobで2次元データを準備する．\n",
    "返り値は，データXとラベルyである．ただし2クラスの場合，ラベルyは0,1で返ってくるため，-1と+1に変更しておく．"
   ]
  },
  {
   "cell_type": "code",
   "execution_count": 3,
   "metadata": {},
   "outputs": [
    {
     "data": {
      "image/png": "[encoded data removed]",
      "text/plain": [
       "<Figure size 432x288 with 1 Axes>"
      ]
     },
     "metadata": {
      "needs_background": "light"
     },
     "output_type": "display_data"
    }
   ],
   "source": [
    "X, y = make_blobs(n_samples=20, # 20個生成\n",
    "                  n_features=2, # 2次元\n",
    "                  centers=2,    # クラスタ中心2個\n",
    "                  cluster_std = 2 # クラスタの大きさ（標準偏差）\n",
    "                 )\n",
    "X = np.hstack((X, np.ones((X.shape[0], 1)))) # 同次座標\n",
    "y = 2*y - 1 # 0,1 -> -1,+1\n",
    "\n",
    "plt.scatter(X[:, 0], X[:, 1], c=y, s=50, edgecolors='k');\n",
    "plt.gca().set_aspect('equal');"
   ]
  },
  {
   "cell_type": "markdown",
   "metadata": {},
   "source": [
    "識別境界を直線で描くヘルパー関数の準備．"
   ]
  },
  {
   "cell_type": "code",
   "execution_count": 4,
   "metadata": {},
   "outputs": [],
   "source": [
    "# 境界線を引く関数の定義\n",
    "\n",
    "def plotBoundary(X, w, mesh=True, boundary=True, n_neighbors=1):\n",
    "\n",
    "    # plot range\n",
    "    x_min = min(X[:,0])\n",
    "    x_max = max(X[:,0])\n",
    "    y_min = min(X[:,1])\n",
    "    y_max = max(X[:,1])\n",
    "\n",
    "    # visualizing decision function\n",
    "    XX, YY = np.mgrid[x_min:x_max:200j, y_min:y_max:200j] # make a grid\n",
    "    Z = np.c_[XX.ravel(), YY.ravel(), np.ones(XX.size)] @ w\n",
    "    \n",
    "    Z = Z.reshape(XX.shape) # just reshape\n",
    "    Z = np.sign(Z) # -1 or +1\n",
    "\n",
    "    if mesh:\n",
    "        plt.pcolormesh(XX, YY, Z, zorder=-10) # paint in 2 colors, if Z > 0 or not\n",
    "\n",
    "    if boundary:\n",
    "        if Z.min() < 0.5 < Z.max():\n",
    "            plt.contour(XX, YY, Z, alpha=0.5,\n",
    "                        colors='k', linestyles='-', levels=[0])\n",
    "\n",
    "    plt.xlim(x_min, x_max)\n",
    "    plt.ylim(y_min, y_max)"
   ]
  },
  {
   "cell_type": "markdown",
   "metadata": {},
   "source": [
    "重みの初期値を作成する．"
   ]
  },
  {
   "cell_type": "code",
   "execution_count": 5,
   "metadata": {},
   "outputs": [],
   "source": [
    "w0 = np.random.rand(3) - 0.5 # 次元＋1：同次座標"
   ]
  },
  {
   "cell_type": "markdown",
   "metadata": {},
   "source": [
    "# パーセプトロンの実装\n",
    "\n",
    "以下では，サンプルを先頭から順番に一つずつ用いて，パーセプトロンの更新則を適用する．\n",
    "サンプルは青と茶色のクラスに分かれている．識別境界を引いた後に，同じ色の領域に入っていれば正答，違う色の領域に入ってしまっていれば誤答である．誤答の場合にのみパーセプトロンの更新則を適用する．"
   ]
  },
  {
   "cell_type": "code",
   "execution_count": 6,
   "metadata": {},
   "outputs": [],
   "source": [
    "w = w0.copy()"
   ]
  },
  {
   "cell_type": "code",
   "execution_count": 11,
   "metadata": {},
   "outputs": [
    {
     "data": {
      "application/vnd.jupyter.widget-view+json": {
       "model_id": "7bfad862b7bc43c1b5680e2816eee9ce",
       "version_major": 2,
       "version_minor": 0
      },
      "text/plain": [
       "interactive(children=(IntSlider(value=0, description='sample', max=19), Output()), _dom_classes=('widget-inter…"
      ]
     },
     "metadata": {},
     "output_type": "display_data"
    }
   ],
   "source": [
    "val_start = 0 # スライドバーの最小値\n",
    "val_end   = len(y)-1 # スライドバーの最大値\n",
    "val_step  = 1 # スライドバーはこの値ずつ増える\n",
    "val_default = 0 # スライドバーの初期値\n",
    "\n",
    "alpha = 0.001\n",
    "\n",
    "@interact(sample=(val_start, val_end, val_step)) # この行が関数の直前に必要\n",
    "def g(sample=val_default): # この関数を毎回呼び出す    \n",
    "    \n",
    "    global w\n",
    "    \n",
    "    if sample > len(y)-1:\n",
    "        return\n",
    "\n",
    "    plt.scatter(X[:, 0], X[:, 1], marker='o', s=50, c=y, edgecolors='k')\n",
    "    plt.scatter(X[sample, 0], X[sample, 1], marker='o', s=90, facecolors='none', edgecolors='k')\n",
    "   \n",
    "    plotBoundary(X[:, :-1], w)\n",
    "    \n",
    "    xi = X[sample]\n",
    "    yi = y[sample]\n",
    "\n",
    "    plt.title(\"y w x = {0:.2f}\".format((xi @ w) * yi))\n",
    "    \n",
    "    plt.gca().set_aspect('equal');\n",
    "    plt.show()\n",
    "\n",
    "    # パーセプトロンの更新則\n",
    "    if (xi @ w) * yi < 0:\n",
    "        w += alpha * yi * xi\n",
    "\n",
    "    "
   ]
  },
  {
   "cell_type": "markdown",
   "metadata": {},
   "source": [
    "# ロジスティック回帰の実装"
   ]
  },
  {
   "cell_type": "code",
   "execution_count": 8,
   "metadata": {},
   "outputs": [],
   "source": [
    "w = w0.copy()"
   ]
  },
  {
   "cell_type": "code",
   "execution_count": 9,
   "metadata": {},
   "outputs": [
    {
     "data": {
      "application/vnd.jupyter.widget-view+json": {
       "model_id": "37395f872a104b86a39596552d0fc04b",
       "version_major": 2,
       "version_minor": 0
      },
      "text/plain": [
       "interactive(children=(IntSlider(value=0, description='sample', max=19), Output()), _dom_classes=('widget-inter…"
      ]
     },
     "metadata": {},
     "output_type": "display_data"
    }
   ],
   "source": [
    "val_start = 0 # スライドバーの最小値\n",
    "val_end   = len(y)-1 # スライドバーの最大値\n",
    "val_step  = 1 # スライドバーはこの値ずつ増える\n",
    "val_default = 0 # スライドバーの初期値\n",
    "\n",
    "\n",
    "def sig(x):\n",
    "    return 1 / (1 + np.exp(x))\n",
    "\n",
    "alpha = 0.001\n",
    "\n",
    "\n",
    "@interact(sample=(val_start, val_end, val_step)) # この行が関数の直前に必要\n",
    "def g(sample=val_default): # この関数を毎回呼び出す    \n",
    "    \n",
    "    global w\n",
    "    \n",
    "    if sample > len(y)-1:\n",
    "        return\n",
    "\n",
    "    plt.scatter(X[:, 0], X[:, 1], marker='o', s=50, c=y, edgecolors='k')\n",
    "    plt.scatter(X[sample, 0], X[sample, 1], marker='o', s=90, facecolors='none',  edgecolors='k')\n",
    "   \n",
    "    plotBoundary(X[:, :-1], w)\n",
    "  \n",
    "    xi = X[sample]\n",
    "    yi = y[sample]\n",
    "\n",
    "    plt.title(\"y w x = {0:.2f}\".format((xi @ w) * yi))\n",
    "    \n",
    "    plt.gca().set_aspect('equal');\n",
    "    plt.show()\n",
    "\n",
    "    # ロジスティック回帰の更新則（確率勾配）\n",
    "    ai = (xi @ w) * yi\n",
    "    w += alpha * (xi * yi * sig(ai))\n",
    "    "
   ]
  },
  {
   "cell_type": "code",
   "execution_count": null,
   "metadata": {},
   "outputs": [],
   "source": []
  },
  {
   "cell_type": "markdown",
   "metadata": {},
   "source": [
    "# Task\n",
    "\n",
    "- パーセプトロンとロジスティック回帰の収束の違いを議論する．\n",
    "- 学習率$\\alpha$は0.01から0.001程度にすると境界線の移動の様子がわかりやすい．学習率を小さくしすぎる，もしくは大きくしすぎるとどうなるかを検討する．"
   ]
  },
  {
   "cell_type": "code",
   "execution_count": null,
   "metadata": {},
   "outputs": [],
   "source": []
  }
 ],
 "metadata": {
  "kernelspec": {
   "display_name": "Python 3",
   "language": "python",
   "name": "python3"
  },
  "language_info": {
   "codemirror_mode": {
    "name": "ipython",
    "version": 3
   },
   "file_extension": ".py",
   "mimetype": "text/x-python",
   "name": "python",
   "nbconvert_exporter": "python",
   "pygments_lexer": "ipython3",
   "version": "3.7.7"
  },
  "toc": {
   "base_numbering": 1,
   "nav_menu": {},
   "number_sections": true,
   "sideBar": false,
   "skip_h1_title": false,
   "title_cell": "Table of Contents",
   "title_sidebar": "Contents",
   "toc_cell": false,
   "toc_position": {},
   "toc_section_display": true,
   "toc_window_display": false
  }
 },
 "nbformat": 4,
 "nbformat_minor": 2
}
