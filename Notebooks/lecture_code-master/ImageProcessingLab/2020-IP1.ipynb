{
 "cells": [
  {
   "cell_type": "markdown",
   "metadata": {},
   "source": [
    "# 情報データ科学演習III第1週：pythonの使い方と画像の読み込み表示\n",
    "\n",
    "\n",
    "第1週では，Pythonの簡単な使い方と，Pythonによる画像の読み込み表示方法を習得する．\n",
    "\n"
   ]
  },
  {
   "cell_type": "markdown",
   "metadata": {},
   "source": [
    "# ===================================\n",
    "\n",
    "\n",
    "# パート1：PythonとJupyter notebookの使い方\n",
    "\n",
    "## Python\n",
    "\n",
    "[Python](https://www.python.jp)とは，科学技術計算から大規模webサービスまで様々な分野で利用されているスクリプト言語です．\n",
    "\n",
    "\n",
    "\n",
    "## Jupyter Notebookとは\n",
    "\n",
    "[Jupyter notebook](http://jupyter.org)とは，IPythonなどの言語をブラウザベースで実行することができる，インタラクティブな実行環境です．\n",
    "計算手順と計算結果を（まさにこのドキュメントのように）そのまま残すことができる，便利なツールです．\n"
   ]
  },
  {
   "cell_type": "markdown",
   "metadata": {},
   "source": [
    "では，この下の灰色の部分（セルと呼びます）にカーソルを移動して，そこでCtrl+Enterを押してください．これでそのセルのコードが実行できます．\n",
    "今後も，コードを実行するには「Ctrl+Enter」ですので，覚えておいてください．"
   ]
  },
  {
   "cell_type": "code",
   "execution_count": null,
   "metadata": {},
   "outputs": [],
   "source": [
    "1 + 1"
   ]
  },
  {
   "cell_type": "markdown",
   "metadata": {},
   "source": [
    "正しい答えが表示されましたか？　OK！　次に行きましょう． \n",
    "- この下のセルに移動して「Ctrl+Enter」でコードを実行してください\n",
    "- もしくは，このセルで「Sift+Enter」を押してください．すると，次のセルに移動します．もう一度「Sift+Enter」を押すと，次のセルが実行できます．\n",
    "（今後はいちいち書きませんよ）．"
   ]
  },
  {
   "cell_type": "code",
   "execution_count": null,
   "metadata": {},
   "outputs": [],
   "source": [
    "# ここはコメントです．\n",
    "\n",
    "f = 150      # 変数fを使う\n",
    "g = 200 + f  # 変数gを使う\n",
    "print(f) # 変数fを表示\n",
    "print(g) # 変数gを表示"
   ]
  },
  {
   "cell_type": "markdown",
   "metadata": {},
   "source": [
    "jupyter notebookではセルが計算の単位です．\n",
    "\n",
    "セルとセルの間に，新しいセルを追加したい場合には，上のメニューから「Insert --> Insert Cell Above/Below」を選んでください．"
   ]
  },
  {
   "cell_type": "markdown",
   "metadata": {},
   "source": [
    "## notebookの注意点\n",
    "\n",
    "\n",
    "### 値の変更\n",
    "上の方のセルで使用した変数`f`と`g`は，ここでも使えます．"
   ]
  },
  {
   "cell_type": "code",
   "execution_count": null,
   "metadata": {},
   "outputs": [],
   "source": [
    "print(f, g)"
   ]
  },
  {
   "cell_type": "markdown",
   "metadata": {},
   "source": [
    "値もそのまま残っていますね．しかし，以下のコードを実行すると，値が書き換わります．"
   ]
  },
  {
   "cell_type": "code",
   "execution_count": null,
   "metadata": {},
   "outputs": [],
   "source": [
    "f = 100\n",
    "g = 80"
   ]
  },
  {
   "cell_type": "markdown",
   "metadata": {},
   "source": [
    "もう一度，fとgの値を表示している上のセルに戻って，実行し直してみてください．表示される値が変わっているはずです．\n",
    "このように，いつ変数が宣言されていつ値が書き換わるのかが，普通のプログラミングとは少し違うので，注意してください．"
   ]
  },
  {
   "cell_type": "code",
   "execution_count": null,
   "metadata": {},
   "outputs": [],
   "source": [
    "print(f, g)"
   ]
  },
  {
   "cell_type": "markdown",
   "metadata": {},
   "source": [
    "### notebookカーネルの再起動\n",
    "\n",
    "上記の変数fとgは，notebookのカーネル（裏で動いている実体）が終了したり再起動したりすると，使えなくなります．"
   ]
  },
  {
   "cell_type": "markdown",
   "metadata": {},
   "source": [
    "### 演習\n",
    "\n",
    "一番上に表示されているメニューの「Kernel」から「Restart（再起動）」を選んでください．\n",
    "これまで実行した結果（宣言した変数や保存されている値）が，すべて消えてなくなります！\n",
    "再起動してから，以下のコードを実行すると，宣言されていない変数f,gを参照した，というエラーが出るはずです．それを確認してください．"
   ]
  },
  {
   "cell_type": "code",
   "execution_count": null,
   "metadata": {},
   "outputs": [],
   "source": [
    "print(f, g)"
   ]
  },
  {
   "cell_type": "markdown",
   "metadata": {},
   "source": [
    "エラーの内容\n",
    "```\n",
    "---------------------------------------------------------------------------\n",
    "NameError                                 Traceback (most recent call last)\n",
    "<ipython-input-1-1fc60b275fa3> in <module>()\n",
    "----> 1 print(f, g)\n",
    "\n",
    "NameError: name 'f' is not defined\n",
    "```\n"
   ]
  },
  {
   "cell_type": "markdown",
   "metadata": {},
   "source": [
    "\n",
    "IPython notebookを終了してまた起動しても，同じことが起こります．\n",
    "Notebookは，インタラクティブに変数の値を書き換えることができる便利なツールですが，\n",
    "再起動のタイミングや，「一旦保存して，明日また起動しよう」ということを\n",
    "した時に，予期しないエラーに遭遇するかもしれませんので，注意してください．"
   ]
  },
  {
   "cell_type": "markdown",
   "metadata": {},
   "source": [
    "## Pythonの簡単な使い方"
   ]
  },
  {
   "cell_type": "markdown",
   "metadata": {},
   "source": [
    "セルでは，最後の行で評価された値が表示されます．"
   ]
  },
  {
   "cell_type": "code",
   "execution_count": null,
   "metadata": {},
   "outputs": [],
   "source": [
    "a = 10\n",
    "20"
   ]
  },
  {
   "cell_type": "code",
   "execution_count": null,
   "metadata": {},
   "outputs": [],
   "source": [
    "a"
   ]
  },
  {
   "cell_type": "code",
   "execution_count": null,
   "metadata": {},
   "outputs": [],
   "source": [
    "print(a)"
   ]
  },
  {
   "cell_type": "markdown",
   "metadata": {},
   "source": [
    "「a」を値を表示したければセルの最後で`a`とするだけでもよいです．しかし複数の値を表示したい場合には`print`を使います．\n",
    "\n",
    "また，式評価とprintの出力が違う場合もあるので注意してください．"
   ]
  },
  {
   "cell_type": "code",
   "execution_count": null,
   "metadata": {},
   "outputs": [],
   "source": [
    "print(10)\n",
    "print(20)\n",
    "print(a)"
   ]
  },
  {
   "cell_type": "markdown",
   "metadata": {},
   "source": [
    "Pythonの四則演算は，通常のプログラミング言語での四則演算記号とほぼ同じです．\n",
    "注意が必要なのは割り算で，除算の場合には`/`，商を求める場合には`//`を使います．"
   ]
  },
  {
   "cell_type": "code",
   "execution_count": null,
   "metadata": {},
   "outputs": [],
   "source": [
    "print(5 + 2, \"is int\") # 加算\n",
    "print(5 - 2, \"is int\") # 減算\n",
    "print(5 * 2, \"is int\") # 積\n",
    "print(5 / 2, \"is float\") # 除算\n",
    "print(5 // 2, \"is int\") # 商\n",
    "print(5 % 2, \"is int\") # 剰余"
   ]
  },
  {
   "cell_type": "markdown",
   "metadata": {},
   "source": [
    "Pythonでは，明示的に型を指定する必要はありません．\n",
    "- 代入する場合には`=`を使います\n",
    "- 変数の型を知りたい場合には`type()`を使います"
   ]
  },
  {
   "cell_type": "code",
   "execution_count": null,
   "metadata": {},
   "outputs": [],
   "source": [
    "a = 10\n",
    "print(a, type(a))"
   ]
  },
  {
   "cell_type": "code",
   "execution_count": null,
   "metadata": {},
   "outputs": [],
   "source": [
    "a = 10.2\n",
    "print(a, type(a))"
   ]
  },
  {
   "cell_type": "code",
   "execution_count": null,
   "metadata": {},
   "outputs": [],
   "source": [
    "a = \"this is a text\"\n",
    "print(a, type(a))"
   ]
  },
  {
   "cell_type": "markdown",
   "metadata": {},
   "source": [
    "## リスト\n",
    "\n",
    "Pythonでもっとも重要な型がリスト（配列）です．要素を並べて`[]`でくくれば出来上がりです．"
   ]
  },
  {
   "cell_type": "code",
   "execution_count": null,
   "metadata": {},
   "outputs": [],
   "source": [
    "a = [0, 1, 2, 3, 4] # 1次元配列\n",
    "print(a, type(a))"
   ]
  },
  {
   "cell_type": "markdown",
   "metadata": {},
   "source": [
    "要素にアクセスするには`[]`でインデックスを指定します"
   ]
  },
  {
   "cell_type": "code",
   "execution_count": null,
   "metadata": {
    "scrolled": true
   },
   "outputs": [],
   "source": [
    "a[3] = 100\n",
    "\n",
    "print(a[0])\n",
    "print(a[1])\n",
    "print(a[2])\n",
    "print(a[3])\n",
    "print(a[4])\n",
    "\n",
    "print(a)"
   ]
  },
  {
   "cell_type": "markdown",
   "metadata": {},
   "source": [
    "リストaの要素の個数を得るには`len(a)`を使います．"
   ]
  },
  {
   "cell_type": "code",
   "execution_count": null,
   "metadata": {},
   "outputs": [],
   "source": [
    "len(a)"
   ]
  },
  {
   "cell_type": "markdown",
   "metadata": {},
   "source": [
    "## 2次元配列：リストのリスト\n",
    "\n",
    "2次元配列は`[]`の中に要素としてリストを指定します．"
   ]
  },
  {
   "cell_type": "code",
   "execution_count": null,
   "metadata": {},
   "outputs": [],
   "source": [
    "a = [ [0,1,2], [3,4,5,6], [7] ]\n",
    "print(a)"
   ]
  },
  {
   "cell_type": "code",
   "execution_count": null,
   "metadata": {},
   "outputs": [],
   "source": [
    "print(a[0]) # aの中の最初のリスト\n",
    "print(a[1]) # aの中の次のリスト"
   ]
  },
  {
   "cell_type": "code",
   "execution_count": null,
   "metadata": {},
   "outputs": [],
   "source": [
    "print(a[0][0]) # aの中の最初のリストa[0]の，最初の要素[0]\n",
    "print(a[1][0]) # aの中の最初のリストa[1]の，最初の要素[0]\n",
    "\n",
    "print(a[0][1]) # aの中の最初のリストa[0]の，２つ目の要素[1]\n",
    "print(a[1][1]) # aの中の最初のリストa[1]の，２つ目の要素[1]"
   ]
  },
  {
   "cell_type": "markdown",
   "metadata": {},
   "source": [
    "## 制御文\n",
    "\n",
    "Pythonの主要な制御文は`if`と`for`です．\n",
    "\n",
    "### `if`"
   ]
  },
  {
   "cell_type": "code",
   "execution_count": null,
   "metadata": {},
   "outputs": [],
   "source": [
    "a = 10\n",
    "\n",
    "if a > 5:\n",
    "\n",
    "    # if中はかならずインデントしてください（インデントとは，左側を空けることです）\n",
    "    print(\"a is larger than 5\")\n",
    "    print(\"a is \", a)\n",
    "\n",
    "else: # elseとifのインデントは同じにしてください\n",
    "\n",
    "    # elseも同様にインデントしてください\n",
    "    print(\"a is smaller than 5\")\n",
    "    print(\"a is \", a)\n",
    "\n",
    "# インデントが正しくないと，エラーになります"
   ]
  },
  {
   "cell_type": "markdown",
   "metadata": {},
   "source": [
    "### 演習\n",
    "\n",
    "以下のコードのエラーを修正して，エラーがなく実行できるように修正してください．"
   ]
  },
  {
   "cell_type": "code",
   "execution_count": null,
   "metadata": {},
   "outputs": [],
   "source": [
    "a = 10\n",
    "\n",
    "if a > 5:\n",
    "    print(\"a is larger than 5\")\n",
    "    print(\"a is \", a)\n",
    " else:\n",
    "   print(\"a is smaller than 5\")\n",
    "  print(\"a is \", a)"
   ]
  },
  {
   "cell_type": "markdown",
   "metadata": {},
   "source": [
    "### `for`\n",
    "\n",
    "forループのループ範囲指定には，リストか`range`を使います．"
   ]
  },
  {
   "cell_type": "code",
   "execution_count": null,
   "metadata": {},
   "outputs": [],
   "source": [
    "for i in [4, 5, 6, 7]: # forループにリストを指定できる\n",
    "    \n",
    "    # for中もインデントしてください\n",
    "    print(\"i is \", i)"
   ]
  },
  {
   "cell_type": "code",
   "execution_count": null,
   "metadata": {
    "scrolled": true
   },
   "outputs": [],
   "source": [
    "for i in range(10): # range(10)は，[0, 1, ..., 9]のリストと同じです\n",
    "    print(\"i is \", i)"
   ]
  },
  {
   "cell_type": "markdown",
   "metadata": {},
   "source": [
    "### 演習\n",
    "\n",
    "以下のコードのエラーを修正してください．"
   ]
  },
  {
   "cell_type": "code",
   "execution_count": null,
   "metadata": {},
   "outputs": [],
   "source": [
    "for i in [4, 5, 6, 7]:\n",
    "print(\"i is \", i)"
   ]
  },
  {
   "cell_type": "markdown",
   "metadata": {},
   "source": [
    "## 論理式\n",
    "\n",
    "一般的な比較演算子(>, <, ==, <=, >=)や論理式(and, or, not)を使うことができます．"
   ]
  },
  {
   "cell_type": "code",
   "execution_count": null,
   "metadata": {},
   "outputs": [],
   "source": [
    "if 10 > 4:\n",
    "    print(\"yes, it is true.\")\n",
    "else:\n",
    "    print(\"this never happens.\")"
   ]
  },
  {
   "cell_type": "code",
   "execution_count": null,
   "metadata": {
    "scrolled": true
   },
   "outputs": [],
   "source": [
    "a = 10\n",
    "b = 20\n",
    "\n",
    "if a == 10:\n",
    "    print(\"ok, a is 10.\")\n",
    "    \n",
    "if a == 10 and b == 10:\n",
    "    print(\"a == b == 10\")\n",
    "elif a == 10 and b == 20:\n",
    "    print(\"a == 10, b == 20\")"
   ]
  },
  {
   "cell_type": "markdown",
   "metadata": {},
   "source": [
    "## array\n",
    "\n",
    "行列計算や画像処理で用いる2次元配列はarrayと呼ばれます．\n",
    "これを使うためには，numpyというモジュールを読み込む必要があります．\n"
   ]
  },
  {
   "cell_type": "code",
   "execution_count": null,
   "metadata": {},
   "outputs": [],
   "source": [
    "# notebookカーネルを起動したときには，毎回この読み込みが必要になります\n",
    "import numpy as np"
   ]
  },
  {
   "cell_type": "markdown",
   "metadata": {},
   "source": [
    "これ以降はnpという識別子を使います．"
   ]
  },
  {
   "cell_type": "code",
   "execution_count": null,
   "metadata": {},
   "outputs": [],
   "source": [
    "a = np.array([10, 20, 30]) # リストから1次元arrayを作る\n",
    "print(a)\n",
    "print(type(a)) # aの型はnumpyのarray（正確にはN次元array: ndarray）"
   ]
  },
  {
   "cell_type": "markdown",
   "metadata": {},
   "source": [
    "Pythonのリストとnumpyのarrayの違いは色々ありますが，リストと異なりarrayは，行列や画像の様に格子状に数値が並んだデータを扱うために特化したものと言えます．"
   ]
  },
  {
   "cell_type": "markdown",
   "metadata": {},
   "source": [
    "np.arrayのデータの型を調べるには.dtypeを使います．"
   ]
  },
  {
   "cell_type": "code",
   "execution_count": null,
   "metadata": {},
   "outputs": [],
   "source": [
    "print(a.dtype) # aのデータの型はint64またはint32（OSや機種に依存）"
   ]
  },
  {
   "cell_type": "markdown",
   "metadata": {},
   "source": [
    "リストと違い，arrayの要素の型はすべて同じでなければなりません．\n",
    "一つでも実数値の要素があると，すべての要素が実数値になります．"
   ]
  },
  {
   "cell_type": "code",
   "execution_count": null,
   "metadata": {},
   "outputs": [],
   "source": [
    "a = np.array([10, 20, 30])\n",
    "print(a, a.dtype)\n",
    "\n",
    "b = np.array([10, 20, 30.0])\n",
    "print(b, b.dtype)"
   ]
  },
  {
   "cell_type": "markdown",
   "metadata": {},
   "source": [
    "2次元arrayも2次元リストと同様に作成できます．"
   ]
  },
  {
   "cell_type": "code",
   "execution_count": null,
   "metadata": {},
   "outputs": [],
   "source": [
    "a = np.array( [ [0, 1, 2], [3, 4, 5] ] ) # 2次元array\n",
    "print(a, a.dtype) # 型はint"
   ]
  },
  {
   "cell_type": "markdown",
   "metadata": {},
   "source": [
    "リストとは違い，arrayの要素の型は数値のみで，すべて同じになります．"
   ]
  },
  {
   "cell_type": "code",
   "execution_count": null,
   "metadata": {},
   "outputs": [],
   "source": [
    "a = np.array( [ [0, 1.5, 2], [3, 4, 5] ] ) # ひとつでも実数があると\n",
    "print(a, a.dtype) # 型はfloat"
   ]
  },
  {
   "cell_type": "markdown",
   "metadata": {},
   "source": [
    "2次元arrayを行列とみなして，行列計算もできます．"
   ]
  },
  {
   "cell_type": "code",
   "execution_count": null,
   "metadata": {},
   "outputs": [],
   "source": [
    "a = np.array( [ [0, 1, 2], [3, 4, 5], [6, 7, 8] ] )\n",
    "a = 0.1 * a # スカラー倍\n",
    "b = a.T # 転置\n",
    "print('a is \\n', a)\n",
    "print('b is \\n', b)"
   ]
  },
  {
   "cell_type": "markdown",
   "metadata": {},
   "source": [
    "行列の和は`+`，行列の積は`@`を使います．"
   ]
  },
  {
   "cell_type": "code",
   "execution_count": null,
   "metadata": {
    "scrolled": true
   },
   "outputs": [],
   "source": [
    "a + b"
   ]
  },
  {
   "cell_type": "code",
   "execution_count": null,
   "metadata": {
    "scrolled": true
   },
   "outputs": [],
   "source": [
    "a @ b"
   ]
  },
  {
   "cell_type": "markdown",
   "metadata": {},
   "source": [
    "通常の積演算子`*`は，要素ごとの積になります．"
   ]
  },
  {
   "cell_type": "code",
   "execution_count": null,
   "metadata": {},
   "outputs": [],
   "source": [
    "a * b"
   ]
  },
  {
   "cell_type": "markdown",
   "metadata": {},
   "source": [
    "numpyの関数`arange()`は，連続する数値のarrayを作る関数です．使い方は`range()`と同じですが，arrayが返ります．"
   ]
  },
  {
   "cell_type": "code",
   "execution_count": null,
   "metadata": {},
   "outputs": [],
   "source": [
    "a = np.arange(10) # 0から9までのarray\n",
    "print(a)"
   ]
  },
  {
   "cell_type": "code",
   "execution_count": null,
   "metadata": {},
   "outputs": [],
   "source": [
    "a = np.arange(-8, 8) # -8から7までのarray\n",
    "print(a)"
   ]
  },
  {
   "cell_type": "code",
   "execution_count": null,
   "metadata": {
    "scrolled": true
   },
   "outputs": [],
   "source": [
    "a = np.arange(-13, 13, 4) # -13から12まで4つ毎のarray\n",
    "print(a)"
   ]
  },
  {
   "cell_type": "markdown",
   "metadata": {},
   "source": [
    "1次元arrayはforループにも使えます．"
   ]
  },
  {
   "cell_type": "code",
   "execution_count": null,
   "metadata": {},
   "outputs": [],
   "source": [
    "my_array = np.arange(-13, 13, 4) # -13から12まで4つ毎のarray\n",
    "for i in my_array:\n",
    "    print(i)"
   ]
  },
  {
   "cell_type": "markdown",
   "metadata": {},
   "source": [
    "配列の縦横サイズ（形，shape）を取得する関数はshape（またはsize）です．"
   ]
  },
  {
   "cell_type": "code",
   "execution_count": null,
   "metadata": {},
   "outputs": [],
   "source": [
    "a = np.array( [ [0, 1, 2], [3, 4, 5] ] ) # 2x3の行列\n",
    "\n",
    "print(a)\n",
    "print('shape', a.shape) # array（行列）のサイズを表示\n",
    "\n",
    "h, w = a.shape # 縦横のサイズを左辺に代入\n",
    "\n",
    "print(\"height\", h)\n",
    "print(\"width\", w)\n",
    "print(\"total number of elements\", a.size) # size = w * h"
   ]
  },
  {
   "cell_type": "markdown",
   "metadata": {},
   "source": [
    "## インデキシング，スライシング\n",
    "\n",
    "pythonでは，array（配列）の操作が重要です．以下の画像処理でも使用します．"
   ]
  },
  {
   "cell_type": "code",
   "execution_count": null,
   "metadata": {},
   "outputs": [],
   "source": [
    "# まずランダムな5x5行列aを作ります\n",
    "a = np.random.randint(50, size=(5, 5))"
   ]
  },
  {
   "cell_type": "code",
   "execution_count": null,
   "metadata": {},
   "outputs": [],
   "source": [
    "a # 中身を確認"
   ]
  },
  {
   "cell_type": "code",
   "execution_count": null,
   "metadata": {},
   "outputs": [],
   "source": [
    "# 値を取り出すには，インデックスで指定する\n",
    "print(a[0,0], a[1,4], a[4,0])"
   ]
  },
  {
   "cell_type": "code",
   "execution_count": null,
   "metadata": {},
   "outputs": [],
   "source": [
    "# 値を代入するにも，インデックスで指定する\n",
    "a[0, 0] = 100\n",
    "a[1, 4] = 200\n",
    "a[4, 0] = 300"
   ]
  },
  {
   "cell_type": "code",
   "execution_count": null,
   "metadata": {},
   "outputs": [],
   "source": [
    "a # 値が変わっていることを確認"
   ]
  },
  {
   "cell_type": "markdown",
   "metadata": {},
   "source": [
    "## arrayの要素毎の処理\n",
    "\n"
   ]
  },
  {
   "cell_type": "markdown",
   "metadata": {},
   "source": [
    "各要素で独立の処理は，pythonでは2重ループを使わず，行列に対する演算を使って次のように1行で書くこともできます（そしてかなり高速です）．"
   ]
  },
  {
   "cell_type": "code",
   "execution_count": null,
   "metadata": {},
   "outputs": [],
   "source": [
    "a = np.random.randint(0, 10, size=(2, 3))\n",
    "print(a)\n",
    "\n",
    "a += 1 # 各要素に1を足す\n",
    "print('a is\\n', a)\n",
    "\n",
    "b = a * 10 # 各要素を10倍する\n",
    "print('b is\\n', b)\n",
    "\n",
    "a[1, :] *= 100 # 行単位での演算も可能\n",
    "print('now a is\\n', a)"
   ]
  },
  {
   "cell_type": "code",
   "execution_count": null,
   "metadata": {},
   "outputs": [],
   "source": []
  },
  {
   "cell_type": "code",
   "execution_count": null,
   "metadata": {},
   "outputs": [],
   "source": []
  },
  {
   "cell_type": "markdown",
   "metadata": {},
   "source": [
    "# ===================================\n",
    "\n",
    "\n",
    "# パート2：画像処理\n",
    "\n",
    "## 画像の読み込み，表示，保存"
   ]
  },
  {
   "cell_type": "markdown",
   "metadata": {},
   "source": [
    "いろいろなモジュールをインポートするために以下のセルを実行する．\n",
    "notebookを起動したときには，これらのモジュールをインポートしなければ，これらのモジュールの関数を使うことはできない．"
   ]
  },
  {
   "cell_type": "code",
   "execution_count": null,
   "metadata": {
    "ExecuteTime": {
     "end_time": "2017-05-08T01:17:22.263696Z",
     "start_time": "2017-05-08T01:17:21.372338Z"
    }
   },
   "outputs": [],
   "source": [
    "import numpy as np\n",
    "\n",
    "import matplotlib.pyplot as plt\n",
    "%matplotlib inline\n",
    "plt.gray();\n",
    "from matplotlib.pyplot import imshow\n",
    "\n",
    "from skimage.io import imread, imsave\n",
    "from skimage.color import rgb2gray\n",
    "\n",
    "import os"
   ]
  },
  {
   "cell_type": "markdown",
   "metadata": {},
   "source": [
    "### 読み込み：imread\n",
    "\n",
    "\n",
    "\n",
    "\n",
    "<p>\n",
    "<center>\n",
    "<img src=\"images/flower.jpg\" width=200><br>\n",
    "図：読み込む画像 flower.jpg (Royalty free / no attribute, <a href=\"http://www.ashinari.com/2016/12/08-394566.php\">皇帝ダリア</a>)\n",
    "</center>\n",
    "</p>\n",
    "\n",
    "\n",
    "Pythonのモジュールscikit-image (skimage)を使って画像を読み込むには，`imread()`を使う．引数には画像ファイルのパスを含むファイル名の文字列を与える．"
   ]
  },
  {
   "cell_type": "code",
   "execution_count": null,
   "metadata": {
    "ExecuteTime": {
     "end_time": "2017-05-08T01:17:22.284411Z",
     "start_time": "2017-05-08T01:17:22.264724Z"
    }
   },
   "outputs": [],
   "source": [
    "filename = os.path.join('images','flower.jpg')\n",
    "print(filename)  # ファイル名の表示\n",
    "im = imread(filename)  # 画像ファイルの読み込み"
   ]
  },
  {
   "cell_type": "markdown",
   "metadata": {},
   "source": [
    "は，現在のディレクトリの下にある`images`というディレクトリの中にある`flower.jpg`という画像ファイルを読み込み，変数`im`に保存する．`imread()`で読み込んだ画像を表す`im`の型はnumpyの`array`である．\n",
    "\n",
    "### 注意\n",
    "ここで`filename`は，windowsであれば`images\\flower.jpg`，\n",
    "macやlinuxであれば`images/flower.jpg`である．ディレクトリを区切る記号がOSによって異なるため，\n",
    "ここでは`os.path.join`を用いる．\n",
    "もし上のセルで\n",
    "```\n",
    "filename = 'images/flower.jpg'\n",
    "```\n",
    "とした場合，macやlinuxでは問題ないが，windowsでは`imread`でエラーになる（そのようなパスは存在しない）．\n",
    "この問題を回避するために，pythonでは`os.path.join`を以下のように利用する．\n",
    "```\n",
    "filename = os.path.join('images','flower.jpg')\n",
    "```\n",
    "これにより`filename`には，パスの区切り文字が`\\`や`¥`であるwindowsなら`images\\flower.jpg`が，区切り文字が`/`であるmacやlinuxでは`images/flower.jpg`が代入され，OSに依存しないコードになる．\n"
   ]
  },
  {
   "cell_type": "markdown",
   "metadata": {},
   "source": [
    "### 表示：imshow\n",
    "\n",
    "画像を表示するには`imshow()`を使う．\n",
    "\n",
    "以下では，imは画像が格納されるarrayオブジェクトである．\n",
    "imshow()に画像のarrayオブジェクトを引数として渡す．"
   ]
  },
  {
   "cell_type": "code",
   "execution_count": null,
   "metadata": {},
   "outputs": [],
   "source": [
    "im = imread(os.path.join('images','flower.jpg'))  # カラー画像の読み込み\n",
    "imshow(im)  # 画像を表示する\n",
    "plt.show()  # 1つだけ表示するならなくてもよい．同一セル内で複数表示するなら必要"
   ]
  },
  {
   "cell_type": "code",
   "execution_count": null,
   "metadata": {
    "ExecuteTime": {
     "end_time": "2017-05-08T01:17:22.610414Z",
     "start_time": "2017-05-08T01:17:22.427023Z"
    },
    "scrolled": true
   },
   "outputs": [],
   "source": [
    "im = imread(os.path.join('images','flower_g.jpg')) # グレースケール画像の読み込み\n",
    "imshow(im)\n",
    "plt.show()"
   ]
  },
  {
   "cell_type": "code",
   "execution_count": null,
   "metadata": {
    "ExecuteTime": {
     "end_time": "2017-05-08T01:17:22.835179Z",
     "start_time": "2017-05-08T01:17:22.611469Z"
    }
   },
   "outputs": [],
   "source": [
    "im = imread(os.path.join('images','flower_g.jpg')) # グレースケール画像の読み込み\n",
    "imshow(im, vmin=0, vmax=255)  # 一番黒を画素値0，一番白を画素値255に設定します（第2週で重要になります）\n",
    "plt.colorbar()  # カラーバー（値と色の対応表）を付けてグレースケール画像を表示する．今後使います．\n",
    "plt.show()"
   ]
  },
  {
   "cell_type": "code",
   "execution_count": null,
   "metadata": {},
   "outputs": [],
   "source": [
    "im = imread(os.path.join('images','flower_g.jpg')) # グレースケール画像の読み込み\n",
    "imshow(im, vmin=0, vmax=255)\n",
    "plt.colorbar()\n",
    "plt.axis('off') # 画像周囲の目盛りを表示しない\n",
    "plt.show()"
   ]
  },
  {
   "cell_type": "markdown",
   "metadata": {},
   "source": [
    "### 保存：imsave\n",
    "\n",
    "画像を保存するにはメソッド`imsave()`を使用する．"
   ]
  },
  {
   "cell_type": "code",
   "execution_count": null,
   "metadata": {
    "ExecuteTime": {
     "end_time": "2017-05-08T01:17:22.865204Z",
     "start_time": "2017-05-08T01:17:22.836441Z"
    }
   },
   "outputs": [],
   "source": [
    "imsave(os.path.join('images','new_flower.png'), im) #画像をpngフォーマットで保存\n",
    "imsave(os.path.join('images','new_flower.jpg'), im) #画像をjpgフォーマットで保存"
   ]
  },
  {
   "cell_type": "markdown",
   "metadata": {},
   "source": [
    "ここで第2引数である`im`は画像が格納されている`array`オブジェクトである．\n",
    "`imsave()`に保存する画像のファイル名（パスを含む）を第1引数に渡す．\n",
    "画像ファイルのフォーマットは，ファイル名の拡張子で決まる．使えるフォーマット（拡張子）は，bmp, jpg / jpeg, png, pbm, pgm, ppm, tif / tiff, pdfなどである．\n",
    "\n",
    "たとえば，上の例の1行目では，元のフォーマットがjpgだった画像`im`をpngフォーマットで，`new_flower.png`というファイル名で保存する．\n"
   ]
  },
  {
   "cell_type": "markdown",
   "metadata": {},
   "source": [
    "\n",
    "### 画像サイズの取得\n",
    "\n",
    "`array`オブジェクトの`shape`メソッドを使って，画像の行数と列数を得ることができる\n",
    "（カラー画像の場合，`shape`タプルの3番目の要素は色数である）．\n",
    "\n",
    "また`dtype`メソッドで型を取得できる．"
   ]
  },
  {
   "cell_type": "code",
   "execution_count": null,
   "metadata": {
    "ExecuteTime": {
     "end_time": "2017-05-08T01:17:22.418622Z",
     "start_time": "2017-05-08T01:17:22.406711Z"
    }
   },
   "outputs": [],
   "source": [
    "im = imread(os.path.join('images','flower.jpg'))\n",
    "print(im.shape)\n",
    "rows, columns, colors = im.shape #カラー画像の場合，高さ・幅・チャンネル数が返される\n",
    "print(\"row: \", rows)\n",
    "print(\"col: \", columns)\n",
    "print(\"chn: \", colors)\n",
    "\n",
    "print('dtype: ', im.dtype)  # 通常は型はuint8，つまり0から255の整数値"
   ]
  },
  {
   "cell_type": "code",
   "execution_count": null,
   "metadata": {
    "ExecuteTime": {
     "end_time": "2017-05-08T01:17:22.426004Z",
     "start_time": "2017-05-08T01:17:22.419656Z"
    }
   },
   "outputs": [],
   "source": [
    "im = imread(os.path.join('images','flower_g.jpg'))\n",
    "rows, columns = im.shape # グレースケール画像の場合，shapeの要素は2つしかない（高さ・幅）\n",
    "print(im.shape)\n",
    "print(\"row: \", rows)\n",
    "print(\"col: \", columns)\n",
    "\n",
    "print('dtype: ', im.dtype)  # 通常は型はuint8，つまり0から255の整数値"
   ]
  },
  {
   "cell_type": "markdown",
   "metadata": {},
   "source": [
    "## 画素へのアクセス\n",
    "\n",
    "\n",
    "ある画像内の特定の画素（ピクセル）あるいは同時に複数の画素をアクセスする方法を次に示す．\n"
   ]
  },
  {
   "cell_type": "code",
   "execution_count": null,
   "metadata": {
    "ExecuteTime": {
     "end_time": "2017-05-08T01:17:23.360753Z",
     "start_time": "2017-05-08T01:17:23.347409Z"
    }
   },
   "outputs": [],
   "source": [
    "i = 10 # y座標とする\n",
    "j = 24 # x座標とする\n",
    "\n",
    "pix = im[i,j]           #座標(i,j)のピクセルの値を，変数pixに代入\n",
    "im[:,j] = 10            #j列のすべての値を10にする\n",
    "im[i,:] = im[j,:]       #j行の値をi行に代入する（行と列の長さが同じ場合）\n",
    "p = im[20:70,30:50]     #20~69行と30~49列の領域をpに代入\n",
    "im[:,-1]                #最後の列\n",
    "im[-2,:]                #最後から２番目の行\n",
    "im[-2]                  #最後から２番目の行\n",
    "im[:50,:70].sum()       #最初の50行と70列の値の和\n",
    "im[i].mean()            #i行の平均\n",
    "im.flatten()            #画像(2次元配列・行列)をベクトルに変換\n",
    "\n",
    "im"
   ]
  },
  {
   "cell_type": "markdown",
   "metadata": {},
   "source": [
    "## レポート課題1\n",
    "\n",
    "グレースケール画像`woman_g.jpg`を読み込み，\n",
    "右目の部分の輝度値だけを0，左目を255にするコードを作成する．\n",
    "\n",
    "<img src=\"images/woman_g.jpg\" width=200>\n",
    "<center>図：woman_g.jpg\n",
    "    (Royalty free / no attribute, <a href=\"http://www.ashinari.com/2009/05/10-019495.php\">微笑む</a>)</center>\n",
    "\n"
   ]
  },
  {
   "cell_type": "code",
   "execution_count": null,
   "metadata": {
    "ExecuteTime": {
     "end_time": "2017-05-08T01:17:23.602761Z",
     "start_time": "2017-05-08T01:17:23.36216Z"
    },
    "scrolled": false
   },
   "outputs": [],
   "source": [
    "im = imread(os.path.join('images','woman_g.jpg'))\n",
    "imshow(im)\n",
    "plt.title('original')\n",
    "plt.show()\n",
    "\n",
    "im[100:150, 100:350] = 0 # 0は黒\n",
    "\n",
    "im[10:50, 100:350] = 255 # 255は白\n",
    "\n",
    "im[200:250, 100:350] = 100  # 0を黒，255を白としたときの，100の灰色\n",
    "\n",
    "imshow(im)\n",
    "plt.title('eyes are masked')\n",
    "plt.show()\n",
    "\n",
    "imsave('IP1-task1.jpg', im)  # 処理画像の保存"
   ]
  },
  {
   "cell_type": "markdown",
   "metadata": {},
   "source": [
    "# RGB色成分\n",
    "\n",
    "RGBカラー画像AからR, G, B成分の画像を取り出すには，以下のように，3次元配列の3つ目の次元を指定する．\n",
    "3つ目の次元の0番目がR，1番目がG，2番目がBである．\n",
    "\n",
    "注目するべきは，R成分を取り出したグレースケール画像では，カラーで赤い部分はR値が大きいため，白く表示されているということである．逆にカラーで赤い部分は，G成分とB成分のグレースケール画像では値が小さいはずであり，黒く表示されているはずである．（日の丸の部分を確認してみよう）"
   ]
  },
  {
   "cell_type": "code",
   "execution_count": null,
   "metadata": {
    "ExecuteTime": {
     "end_time": "2017-05-08T01:17:24.907835Z",
     "start_time": "2017-05-08T01:17:24.127165Z"
    }
   },
   "outputs": [],
   "source": [
    "im = imread(os.path.join('images','flags.jpg'))\n",
    "\n",
    "imshow(im)\n",
    "plt.title(\"color image\")\n",
    "plt.show()\n",
    "\n",
    "\n",
    "imR = im[:, :, 0];  # R成分を取り出す．「:」はすべての範囲という意味のスライシング\n",
    "imshow(imR)       #R成分がグレースケールで表示される\n",
    "plt.title(\"Red\")\n",
    "plt.colorbar()\n",
    "plt.show()\n",
    "\n",
    "imG = im[:, :, 1];  # G成分を取り出す\n",
    "imshow(imG)       # B成分がグレースケールで表示される\n",
    "plt.title(\"Green\")\n",
    "plt.colorbar()\n",
    "plt.show()\n",
    "\n",
    "imB = im[:, :, 2];  # B成分を取り出す\n",
    "imshow(imB)       # B成分がグレースケールで表示される\n",
    "plt.title(\"Blue\")\n",
    "plt.colorbar()\n",
    "plt.show()"
   ]
  },
  {
   "cell_type": "markdown",
   "metadata": {},
   "source": [
    "## カラー画像からグレースケール画像への変換\n",
    "\n",
    "カラー画像をグレースケール画像に変換するための関数は`rgb2gray`である．\n",
    "引数にカラー画像を与えると，グレースケール画像を返す．\n",
    "\n",
    "ただしこの関数を使うと画素値の範囲が0から1までに変換されてしまうため，255をかけておく．\n",
    "\n",
    "\n",
    "<img src=\"images/flags.jpg\" width=200>\n",
    "<center>図：flags.jpg\n",
    "    (Royalty free / no attribute, <a href=\"http://www.ashinari.com/2014/03/08-386757.php\">国旗</a>)</center>\n",
    "\n",
    "\n",
    "\n"
   ]
  },
  {
   "cell_type": "code",
   "execution_count": null,
   "metadata": {
    "ExecuteTime": {
     "end_time": "2017-05-08T01:17:28.20679Z",
     "start_time": "2017-05-08T01:17:27.131516Z"
    }
   },
   "outputs": [],
   "source": [
    "im = imread(os.path.join('images','flags.jpg'))\n",
    "imshow(im)\n",
    "plt.title(\"original RGB image\")\n",
    "plt.show()\n",
    "\n",
    "\n",
    "im_gray1 = rgb2gray(im) * 255\n",
    "imshow(im_gray1)\n",
    "plt.colorbar()\n",
    "plt.title(\"grayscale image\")\n",
    "plt.show()"
   ]
  },
  {
   "cell_type": "markdown",
   "metadata": {},
   "source": [
    "## レポート課題2\n",
    "\n",
    "カラー画像`woman.jpg`を読み込み，\n",
    "右目の部分を赤に（RGBの値を(255,0,0)にする），左目を青に（RGBの値を(0,0,255)に）するコードを作成する．\n",
    "\n",
    "<img src=\"images/woman.jpg\" width=200>\n",
    "<center>図：woman.jpg\n",
    "    (Royalty free / no attribute, <a href=\"http://www.ashinari.com/2009/05/10-019495.php\">微笑む</a>)</center>\n",
    "\n"
   ]
  },
  {
   "cell_type": "code",
   "execution_count": null,
   "metadata": {},
   "outputs": [],
   "source": [
    "im = imread(os.path.join('images','woman.jpg'))\n",
    "imshow(im)\n",
    "plt.title('original')\n",
    "plt.show()\n",
    "\n",
    "# 赤にするには，RGBを(255, 0, 0)に設定する\n",
    "im[100:150, 100:350, 0] = 255 # Rチャンネルの値を255に\n",
    "im[100:150, 100:350, 1] = 0 # Gチャンネルの値を0に\n",
    "im[100:150, 100:350, 2] = 0 # Bチャンネルの値を0に\n",
    "\n",
    "# 白にするには，RGBを(255, 255, 255)に設定する\n",
    "im[10:50, 100:350, 0] = 255 # Rチャンネル\n",
    "im[10:50, 100:350, 1] = 255 # Gチャンネル\n",
    "im[10:50, 100:350, 2] = 255 # Bチャンネル\n",
    "\n",
    "# 青チャンネルの値だけを変更しても，他のチャンネル（赤・緑）の値はそのまま\n",
    "im[200:250, 100:350, 2] = 255  # Bチャンネルの値だけを255に\n",
    "\n",
    "\n",
    "imshow(im)\n",
    "plt.title('eyes are masked')\n",
    "plt.show()\n",
    "\n",
    "imsave('IP1-task2.jpg', im)  # 処理画像の保存"
   ]
  },
  {
   "cell_type": "code",
   "execution_count": null,
   "metadata": {},
   "outputs": [],
   "source": []
  },
  {
   "cell_type": "code",
   "execution_count": null,
   "metadata": {},
   "outputs": [],
   "source": []
  },
  {
   "cell_type": "markdown",
   "metadata": {},
   "source": [
    "# レポート課題\n",
    "\n",
    "\n",
    "## 概要\n",
    "\n",
    "- レポート課題1, 2を行い，そのコードと結果画像をレポートにまとめる．\n",
    "- 自分のカメラで撮影した画像を`images`フォルダに保存し，その画像に対してレポート課題2を行い，結果画像をレポートにまとめる．（色を変更する場所や色は適当に設定すること）\n",
    "\n",
    "\n",
    "\n",
    "## 評価\n",
    "\n",
    "- レポートの評価基準\n",
    " - レポートの体裁（PDFか，指定したテンプレートを使ったフォーマットか，氏名・学生番号があるか，タイトルは適切か）\n",
    " - 課題の説明（どのような課題の結果を記述したレポートなのかが明確に記述できているか）\n",
    " - 文章・画像の引用がある場合，その出典を明記しているか\n",
    " - コード（課題を説明するために必要十分なコードがコメント付きで掲載されているか，コードの説明が論理的な文章として記述されているか）\n",
    " - 処理結果（処理前後の画像を比較して掲載しているか，画像が複数ある場合には，説明を付けてそれらを掲載しているか）\n",
    "- 提出方法\n",
    " - Bb9にPDFファイルをアップロードする\n",
    " - フォーマットは指定のLaTeXテンプレートを使う．[テンプレートはこちら](https://www.overleaf.com/read/sfrdswwcwmyx)\n",
    " - ワードファイルは不可（docx形式も，それを変換したPDFも不可）\n",
    "\n",
    "\n"
   ]
  },
  {
   "cell_type": "code",
   "execution_count": null,
   "metadata": {},
   "outputs": [],
   "source": []
  },
  {
   "cell_type": "code",
   "execution_count": null,
   "metadata": {},
   "outputs": [],
   "source": []
  },
  {
   "cell_type": "code",
   "execution_count": null,
   "metadata": {},
   "outputs": [],
   "source": []
  }
 ],
 "metadata": {
  "anaconda-cloud": {},
  "kernelspec": {
   "display_name": "Python 3",
   "language": "python",
   "name": "python3"
  },
  "language_info": {
   "codemirror_mode": {
    "name": "ipython",
    "version": 3
   },
   "file_extension": ".py",
   "mimetype": "text/x-python",
   "name": "python",
   "nbconvert_exporter": "python",
   "pygments_lexer": "ipython3",
   "version": "3.7.7"
  },
  "toc": {
   "base_numbering": 1,
   "nav_menu": {
    "height": "512px",
    "width": "252px"
   },
   "number_sections": true,
   "sideBar": true,
   "skip_h1_title": false,
   "title_cell": "Table of Contents",
   "title_sidebar": "Contents",
   "toc_cell": true,
   "toc_position": {
    "height": "1224px",
    "left": "0px",
    "right": "985px",
    "top": "110px",
    "width": "295px"
   },
   "toc_section_display": "block",
   "toc_window_display": false
  }
 },
 "nbformat": 4,
 "nbformat_minor": 2
}
