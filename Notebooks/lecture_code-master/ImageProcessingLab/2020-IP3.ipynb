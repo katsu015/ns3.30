{
 "cells": [
  {
   "cell_type": "markdown",
   "metadata": {},
   "source": [
    "# 情報データ科学演習III第3週：画像のフィルタリング\n",
    "\n",
    "\n",
    "第3週では，Pythonで読み込んだ画像に対してフィルタリングを適用する処理方法を習得する．\n",
    "\n",
    "\n"
   ]
  },
  {
   "cell_type": "markdown",
   "metadata": {},
   "source": [
    "まずいろいろなモジュールをインポートするために以下のセルを実行する．notebookを起動したときには，これらのモジュールをインポートしなければ，これらのモジュールの関数を使うことはできない．"
   ]
  },
  {
   "cell_type": "code",
   "execution_count": null,
   "metadata": {
    "ExecuteTime": {
     "end_time": "2017-05-30T01:41:59.119528Z",
     "start_time": "2017-05-30T01:41:53.905901Z"
    }
   },
   "outputs": [],
   "source": [
    "import numpy as np\n",
    "import os\n",
    "\n",
    "import matplotlib.pyplot as plt\n",
    "%matplotlib inline\n",
    "plt.gray();\n",
    "from matplotlib.pyplot import imshow\n",
    "\n",
    "from skimage.io import imread, imsave\n",
    "from skimage.color import rgb2gray\n",
    "\n",
    "from scipy.signal import fftconvolve as convolve"
   ]
  },
  {
   "cell_type": "markdown",
   "metadata": {},
   "source": [
    "# ===================================\n",
    "\n",
    "\n",
    "# パート1：空間フィルタリング\n",
    "\n",
    "ここでは，画像のボケに代表される平均値フィルタによるフィルタリングの例を見る．\n"
   ]
  },
  {
   "cell_type": "markdown",
   "metadata": {},
   "source": [
    "## 平均値フィルタ\n",
    "\n",
    "平滑化フィルタは画像をぼかしたりノイズを減らすために用いられる．平滑化フィルタの出力は，フィルタマスクの近傍にある画素値の平均である．\n",
    "こうすることによって，出力画像では輝度の急激な変化が少なくなり，画像をぼかすことができる．"
   ]
  },
  {
   "cell_type": "markdown",
   "metadata": {},
   "source": [
    "次式がサイズが3×3の平滑化フィルタである．\n",
    "フィルタの中央が対応する画素に相当し，その周囲8画素（とその画素自身）の輝度値を，\n",
    "フィルタの数値を重みにして平均を計算する．\n",
    "\n",
    "$$\n",
    "W =\n",
    "\\frac{1}{9}\n",
    "\\begin{pmatrix}\n",
    "1 & 1 & 1\\\\\n",
    "1 & 1 & 1\\\\\n",
    "1 & 1 & 1\n",
    "\\end{pmatrix}\n",
    "$$\n",
    "\n",
    "`N`が奇数の場合にも，同様にNxNの平均値フィルタが設定できる．`N`を大きくするほど，平均を計算する近傍が大きくなる．"
   ]
  },
  {
   "cell_type": "code",
   "execution_count": null,
   "metadata": {},
   "outputs": [],
   "source": [
    "N = 3\n",
    "W = np.ones((N, N)) / (N**2)  # N×N平滑化フィルタW\n",
    "print(W)"
   ]
  },
  {
   "cell_type": "markdown",
   "metadata": {},
   "source": [
    "平均値フィルタを画像に適用するには`convolve`を用いる．\n",
    "\n",
    "引数：\n",
    "\n",
    "- `im`：フィルタリングする対象の画像\n",
    "- `W`：フィルタ\n",
    "- `mode`：画像の端の部分の処理の種類．通常は`mode='same'`とする．\n",
    "\n",
    "返り値：\n",
    "\n",
    "- フィルタリングされた画像\n",
    "\n",
    "\n",
    "使用例：\n",
    "- `convolve(im, W, mode='same')`"
   ]
  },
  {
   "cell_type": "markdown",
   "metadata": {},
   "source": [
    "以下の2枚の画像をフィルタリングする．\n",
    "\n",
    "<img src=\"images/test_pattern.jpg\" width=400>\n",
    "<center>図：test_pattern.jpg\n",
    "(<a href=\"https://commons.wikimedia.org/wiki/File:EIA_Resolution_Chart_1956.svg#/media/File:EIA_Resolution_Chart_1956.svg\">By Self painted - Self painted, Public Domain, <a href=\"https://commons.wikimedia.org/w/index.php?curid=6824470\">Link</a>)\n",
    "</center>\n",
    "\n",
    "<img src=\"images/hubble.jpg\" width=400>\n",
    "<center>図：hubble.jpg\n",
    "(public domain from wikimedia, \n",
    "<a href=\"https://ja.wikipedia.org/wiki/ファイル:NASA-HS201427a-HubbleUltraDeepField2014-20140603.jpg\">\"Hubble Team Unveils Most Colorful View of Universe Captured by Space Telescope\"</a>)\n",
    "</center>"
   ]
  },
  {
   "cell_type": "markdown",
   "metadata": {},
   "source": [
    "## グレースケール画像の場合\n",
    "\n",
    "グレースケール画像に対するフィルタリングは，convolveを適用するだけである．\n",
    "\n",
    "以下では，対象となる画像が`im`，適用するフィルタが`W`である．\n"
   ]
  },
  {
   "cell_type": "code",
   "execution_count": null,
   "metadata": {},
   "outputs": [],
   "source": [
    "im = rgb2gray(imread(os.path.join('images', 'test_pattern.jpg')))  # グレースケール画像\n",
    "\n",
    "im *= 255  # rgb2grayは画素値の範囲を0から1に変換してしまうため，255をかけておく\n",
    "\n",
    "plt.figure(figsize=(20, 20))\n",
    "imshow(im)\n",
    "plt.title('original image')\n",
    "plt.show()\n",
    "\n",
    "N = 15\n",
    "W = np.ones((N, N)) / (N**2)  # N×N平滑化フィルタW\n",
    "im_filtered = convolve(im, W, mode='same')\n",
    "\n",
    "plt.figure(figsize=(20, 20))\n",
    "imshow(im_filtered)\n",
    "plt.title('filtered image')\n",
    "plt.show()\n",
    "\n",
    "imsave('IP3-filtering.jpg', im_filtered.astype(np.uint8))  # 処理画像の保存"
   ]
  },
  {
   "cell_type": "markdown",
   "metadata": {},
   "source": [
    "## カラー画像の場合\n",
    "\n",
    "カラー画像の場合には，RGBの各チャンネルに対して適用する．\n",
    "\n",
    "カラー画像`im`のi番目のチャンネルを取り出すには，`im[:, :, i]`と指定する．これはグレースケール画像であり，これに対してフィルタリングすれば良いので，`convolve(im[:, :, i], W, mode='same')`とする．\n",
    "\n",
    "その結果はi番目のチャンネルの結果なので，あらかじめ準備しておいた受け取り用配列のi番目のチャンネル\n",
    "`im_filtered[:, :, i]`に代入する．"
   ]
  },
  {
   "cell_type": "code",
   "execution_count": null,
   "metadata": {
    "scrolled": false
   },
   "outputs": [],
   "source": [
    "im = imread(os.path.join('images', 'hubble.jpg'))  # カラー画像\n",
    "\n",
    "plt.figure(figsize=(20, 20))\n",
    "imshow(im)\n",
    "plt.title('original image')\n",
    "plt.show()\n",
    "\n",
    "N = 15\n",
    "W = np.ones((N, N)) / (N**2)  # N×N平滑化フィルタW\n",
    "im_filtered = np.zeros_like(im)  # imと同じサイズの配列を準備（値はすべて0）\n",
    "\n",
    "for i in range(3):  # RGBそれぞれに適用\n",
    "    # i番目のチャンネルについて\n",
    "    im_filtered[:, :, i] = convolve(im[:, :, i], W, mode='same')\n",
    "\n",
    "plt.figure(figsize=(20, 20))\n",
    "imshow(im_filtered)\n",
    "plt.title('filtered image')\n",
    "plt.show()\n",
    "\n",
    "imsave('IP3-filtering.jpg', im_filtered.astype(np.uint8))  # 処理画像の保存"
   ]
  },
  {
   "cell_type": "markdown",
   "metadata": {
    "collapsed": true
   },
   "source": [
    "\n",
    "## レポート課題1\n",
    "\n",
    "- 画像`test_pattern.jpg`, `hubble.jpg`を読み込み，それぞれに対して平均値フィルタによるフィルタリングを適用する．\n",
    "- 平均値フィルタのサイズ`N`（奇数）を3, 5, ..., 55まで変えて，結果画像のどの部分がどのようにぼかされているのかを考察する．\n"
   ]
  },
  {
   "cell_type": "code",
   "execution_count": null,
   "metadata": {},
   "outputs": [],
   "source": []
  },
  {
   "cell_type": "markdown",
   "metadata": {},
   "source": [
    "\n",
    "## レポート課題2\n",
    "\n",
    "平均値フィルタの代わりに，以下のフィルタを適用する．\n",
    "\n"
   ]
  },
  {
   "cell_type": "code",
   "execution_count": null,
   "metadata": {},
   "outputs": [],
   "source": [
    "N = 3\n",
    "W1 = np.eye(N) / N\n",
    "print(W1)"
   ]
  },
  {
   "cell_type": "markdown",
   "metadata": {},
   "source": [
    "- 画像`test_pattern.jpg`, `hubble.jpg`を読み込み，それぞれに対してこのフィルタによるフィルタリングを適用する．\n",
    "- フィルタのサイズ`N`（奇数）を3, 5, ..., 55まで変えて，結果画像のどの部分がどのようになっているのか，なぜそうなるのか，また平均値フィルタとどのように異なるのかを考察する．（レポートにはすべてのフィルタサイズの結果を載せる必要はない．適切なものだけを選択して載せること）\n",
    "\n"
   ]
  },
  {
   "cell_type": "code",
   "execution_count": null,
   "metadata": {},
   "outputs": [],
   "source": []
  },
  {
   "cell_type": "markdown",
   "metadata": {},
   "source": [
    "## レポート課題3\n",
    "\n",
    "平均値フィルタの代わりに，以下のフィルタを適用する．"
   ]
  },
  {
   "cell_type": "code",
   "execution_count": null,
   "metadata": {},
   "outputs": [],
   "source": [
    "N = 3\n",
    "W2 = np.eye(N)\n",
    "W2 = W2 + np.fliplr(W2)\n",
    "W2 /= W2.sum()\n",
    "print(W2)"
   ]
  },
  {
   "cell_type": "markdown",
   "metadata": {},
   "source": [
    "- 画像`test_pattern.jpg`, `hubble.jpg`を読み込み，それぞれに対してこのフィルタによるフィルタリングを適用する．\n",
    "- フィルタのサイズ`N`（奇数）を3, 5, ..., 55まで変えて，結果画像のどの部分がどのようになっているのか，なぜそうなるのか，また平均値フィルタとどのように異なるのかを考察する．（レポートにはすべてのフィルタサイズの結果を載せる必要はない．適切なものだけを選択して載せること）\n",
    "\n",
    "\n",
    "\n",
    "\n",
    "\n",
    "\n"
   ]
  },
  {
   "cell_type": "code",
   "execution_count": null,
   "metadata": {},
   "outputs": [],
   "source": []
  },
  {
   "cell_type": "code",
   "execution_count": null,
   "metadata": {},
   "outputs": [],
   "source": []
  },
  {
   "cell_type": "markdown",
   "metadata": {},
   "source": [
    "# ===================================\n",
    "\n",
    "\n",
    "# パート2：大量の画像に対するフィルタリング\n",
    "\n",
    "以下ではフィルタリングを数万枚の画像に適用する．"
   ]
  },
  {
   "cell_type": "markdown",
   "metadata": {},
   "source": [
    "* データセット [Cats and Dogs in Kaggle](https://www.kaggle.com/c/dogs-vs-cats/data)のものを利用\n",
    "* データセット入手先 https://www.microsoft.com/en-us/download/details.aspx?id=54765\n",
    "\n",
    "以下の手順に従って，画像データセットをダウンロードし，画像を展開する．"
   ]
  },
  {
   "cell_type": "code",
   "execution_count": null,
   "metadata": {},
   "outputs": [],
   "source": [
    "import os\n",
    "os.makedirs('data', exist_ok=True)  # 現在のディレクトリに'data'フォルダを作成する\n",
    "\n",
    "zip_file_name = os.path.join('data', 'dog-cat.zip')  # ダウンロードして保存するファイル名を'data/dog-cat.zip'にする"
   ]
  },
  {
   "cell_type": "code",
   "execution_count": null,
   "metadata": {},
   "outputs": [],
   "source": [
    "# ダウンロード用関数\n",
    "import requests\n",
    "def download(url, filename):\n",
    "    with open(filename, 'wb') as saveFile:\n",
    "        saveFile.write(requests.get(url).content)\n",
    "\n",
    "\n",
    "# 画像データセットをダウンロードする\n",
    "download('https://download.microsoft.com/download/3/E/1/3E1C3F21-ECDB-4869-8368-6DEBA77B919F/kagglecatsanddogs_3367a.zip',\n",
    "         zip_file_name)  # 820MBあるのでダウンロードに時間がかかります"
   ]
  },
  {
   "cell_type": "code",
   "execution_count": null,
   "metadata": {},
   "outputs": [],
   "source": [
    "# ダウンロードしたzipファイルを展開する\n",
    "import zipfile\n",
    "with zipfile.ZipFile(zip_file_name) as zip_file:\n",
    "    zip_file.extractall('data')  # 2.5万枚あるので展開に時間がかかります"
   ]
  },
  {
   "cell_type": "markdown",
   "metadata": {},
   "source": [
    "これで，現在のディレクトリの`data/PetImages/Cat/`もしくは`data/PetImages/Dog`以下に，jpgファイルが保存された．\n",
    "\n",
    "まず，それらのファイル名を取得する．そのために`glob`モジュールを使って，猫の画像ファイルのリスト`cat_files`と犬の画像のファイルのリスト`dog_files`を作成する．`len`でリストの長さを表示すれば分かるように，それぞれ12,500枚の画像がある．"
   ]
  },
  {
   "cell_type": "code",
   "execution_count": null,
   "metadata": {
    "scrolled": true
   },
   "outputs": [],
   "source": [
    "import glob\n",
    "cat_files = glob.glob(os.path.join('data', 'PetImages', 'Cat', '*.jpg'))\n",
    "dog_files = glob.glob(os.path.join('data', 'PetImages', 'Dog', '*.jpg'))\n",
    "print('There are ', len(cat_files), 'Cat images.')\n",
    "print('There are ', len(cat_files), 'Dog images.')"
   ]
  },
  {
   "cell_type": "markdown",
   "metadata": {},
   "source": [
    "それぞれのリストの先頭のファイルを表示して画像を確認する．"
   ]
  },
  {
   "cell_type": "code",
   "execution_count": null,
   "metadata": {},
   "outputs": [],
   "source": [
    "im = imread(cat_files[0])\n",
    "imshow(im)\n",
    "plt.title(cat_files[0])\n",
    "plt.show()\n",
    "\n",
    "im = imread(dog_files[0])\n",
    "imshow(im)\n",
    "plt.title(dog_files[0])\n",
    "plt.show()"
   ]
  },
  {
   "cell_type": "markdown",
   "metadata": {},
   "source": [
    "## 確認\n",
    "\n",
    "画像を保存したフォルダを開いて，多数の犬と猫の画像があることを確認する．\n",
    "\n",
    "フォルダ中にファイルが1万枚以上あるため，ファイルリストが表示されるのは非常に遅いことを覚悟すること．（マシンスペックの低いPCでは，マシンが反応しなくなり，強制シャットダウンするしかない状況になる可能性もあるので注意すること）"
   ]
  },
  {
   "cell_type": "markdown",
   "metadata": {},
   "source": [
    "それではこれらのファイル全てに`N=15`の平均値フィルタによるフィルタリングを適用する．"
   ]
  },
  {
   "cell_type": "code",
   "execution_count": null,
   "metadata": {},
   "outputs": [],
   "source": [
    "N = 15\n",
    "W = np.ones((N, N)) / (N**2)  # N×N平滑化フィルタW"
   ]
  },
  {
   "cell_type": "markdown",
   "metadata": {},
   "source": [
    "1万枚以上あるファイルをループで処理するため，今何回目のループかを表示するプログレスバーがあると便利である．\n",
    "ここではそのためのtqdmモジュールを利用する．"
   ]
  },
  {
   "cell_type": "code",
   "execution_count": null,
   "metadata": {},
   "outputs": [],
   "source": [
    "# プログレスバーを表示するためのモジュール\n",
    "from tqdm.notebook import tqdm"
   ]
  },
  {
   "cell_type": "markdown",
   "metadata": {},
   "source": [
    "まずは<b>猫</b>の画像に対してフィルタリングを行う．"
   ]
  },
  {
   "cell_type": "code",
   "execution_count": null,
   "metadata": {
    "scrolled": true
   },
   "outputs": [],
   "source": [
    "# 1. フィルタリングした画像の保存先フォルダを作成\n",
    "os.makedirs('data_cat', exist_ok=True)  # 現在のディレクトリに'data_cat'フォルダを作成\n",
    "\n",
    "# 2. すべての猫の画像ファイル名を取得\n",
    "cat_files = sorted(glob.glob(os.path.join('data', 'PetImages', 'Cat', '*.jpg')), \n",
    "                   key=lambda x: int(os.path.basename(os.path.splitext(x)[0])))  # 連番ファイル名順にソートする方法\n",
    "\n",
    "cat_files = cat_files[:100]  # 最初の100枚だけを使用．すべての画像に適用するにはこの行をコメントアウトする\n",
    "\n",
    "# 3. 各ファイルについて\n",
    "for f in tqdm(cat_files):  # プログレスバー表示のためのループ方法\n",
    "\n",
    "    # 読み込み\n",
    "    print(f)\n",
    "    im = imread(f)\n",
    "   \n",
    "    # フィルタリング\n",
    "    im_filtered = np.zeros_like(im)\n",
    "    for i in range(3):\n",
    "        im_filtered[..., i] = convolve(im[..., i], W, mode='same')\n",
    "\n",
    "    # 保存\n",
    "    save_file_name = os.path.join('data_cat', os.path.basename(f))\n",
    "    imsave(save_file_name, im_filtered)"
   ]
  },
  {
   "cell_type": "markdown",
   "metadata": {},
   "source": [
    "## 確認\n",
    "\n",
    "フィルタリングした画像を保存したフォルダを開いて，処理した100枚に対して平均値フィルタが適用されている（つまりボケている）ことを確認する．\n",
    "\n"
   ]
  },
  {
   "cell_type": "code",
   "execution_count": null,
   "metadata": {},
   "outputs": [],
   "source": []
  },
  {
   "cell_type": "markdown",
   "metadata": {},
   "source": [
    "\n",
    "\n",
    "## すべての画像に適用する\n",
    "\n",
    "### コメントアウト\n",
    "\n",
    "上記のコードは最初の100枚だけに適用するものである．\n",
    "\n",
    "`cat_files = cat_files[:100]`\n",
    "\n",
    "という行をコメントアウトする，つまり先頭に`#`を入れて\n",
    "\n",
    "`# cat_files = cat_files[:100]`\n",
    "\n",
    "とすれば，すべての画像に適用できる．\n",
    "\n",
    "\n",
    "### 不適切な画像の除外\n",
    "\n",
    "すべての画像に適用した場合，エラーにより途中でループが停止してしまう．\n",
    "その理由は様々だが，大規模なデータを扱う場合には例外的なデータは必ず発生する．\n",
    "\n",
    "ここでは，エラーが出て読み込めなかった・変換できなかったファイルを削除することで対応する．\n",
    "つまり，実行してループがエラーで停止したら，その時のファイル（エラーが出て止まったときに最後に表示されているファイル）\n",
    "をフォルダから削除する．\n",
    "\n",
    "これを，エラーが無くなるまで繰り返す．\n",
    "\n",
    "### 確認\n",
    "\n",
    "フィルタリングした画像を保存したフォルダを開いて，すべての画像に（削除したファイルを除いて）\n",
    "平均値フィルタが適用されている（つまりボケている）ことを確認する．\n",
    "\n"
   ]
  },
  {
   "cell_type": "code",
   "execution_count": null,
   "metadata": {},
   "outputs": [],
   "source": []
  },
  {
   "cell_type": "markdown",
   "metadata": {},
   "source": [
    "## レポート課題4\n",
    "\n",
    "- すべての<b>犬</b>の画像に対して，レポート課題2または3のフィルタを適用するコードを作成し，実行する．（フィルタサイズは各自で決定すること）\n",
    "- エラーとなるファイルを除外すること．またそのファイル・ファイル名を確認する．（どのファイルを除外したのかをレポートに記載すること）\n",
    "- 何枚かの画像に対して，フィルタリングされていることを確認する．（確認した画像をレポートに掲載すること）\n",
    "\n"
   ]
  },
  {
   "cell_type": "code",
   "execution_count": null,
   "metadata": {},
   "outputs": [],
   "source": []
  },
  {
   "cell_type": "markdown",
   "metadata": {},
   "source": [
    "# レポート課題\n",
    "\n",
    "\n",
    "## 概要\n",
    "\n",
    "- レポート課題1, 2, 3, 4を行い，そのコードと結果画像をレポートにまとめる．\n",
    "- 自分のカメラで撮影した画像を`images`フォルダに保存し，その画像に対してレポート課題1, 2, 3を行い，結果画像をレポートにまとめる．\n",
    "\n",
    "\n",
    "\n",
    "## 評価\n",
    "\n",
    "- レポートの評価基準\n",
    " - レポートの体裁（PDFか，指定したテンプレートを使ったフォーマットか，氏名・学生番号があるか，タイトルは適切か）\n",
    " - 課題の説明（どのような課題の結果を記述したレポートなのかが明確に記述できているか）\n",
    " - 文章・画像の引用がある場合，その出典を明記しているか\n",
    " - コード（課題を説明するために必要十分なコードがコメント付きで掲載されているか，コードの説明が論理的な文章として記述されているか）\n",
    " - 処理結果（処理前後の画像を比較して掲載しているか，画像が複数ある場合には，説明を付けてそれらを掲載しているか）\n",
    " - 考察（論理的な文章として記述されているか，客観的な結果を示しそれを元に議論しているか）\n",
    "- 提出方法\n",
    " - Bb9にPDFファイルをアップロードする\n",
    " - フォーマットは指定のLaTeXテンプレートを使う．[テンプレートはこちら](https://www.overleaf.com/read/sfrdswwcwmyx)\n",
    " - ワードファイルは不可（docx形式も，それを変換したPDFも不可）\n",
    " "
   ]
  },
  {
   "cell_type": "code",
   "execution_count": null,
   "metadata": {},
   "outputs": [],
   "source": []
  }
 ],
 "metadata": {
  "kernelspec": {
   "display_name": "Python 3",
   "language": "python",
   "name": "python3"
  },
  "language_info": {
   "codemirror_mode": {
    "name": "ipython",
    "version": 3
   },
   "file_extension": ".py",
   "mimetype": "text/x-python",
   "name": "python",
   "nbconvert_exporter": "python",
   "pygments_lexer": "ipython3",
   "version": "3.7.7"
  }
 },
 "nbformat": 4,
 "nbformat_minor": 4
}
