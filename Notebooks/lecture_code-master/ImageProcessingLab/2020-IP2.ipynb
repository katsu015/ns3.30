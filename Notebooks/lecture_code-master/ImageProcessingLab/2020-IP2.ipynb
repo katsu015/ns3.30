{
 "cells": [
  {
   "cell_type": "markdown",
   "metadata": {},
   "source": [
    "# 情報データ科学演習III第2週：画像の輝度変換\n",
    "\n",
    "\n",
    "第2週では，Pythonで読み込んだ画像に輝度値に対する処理方法を習得する．具体的には，輝度変換，ヒストグラム計算，しきい値による二値化である．\n",
    "\n",
    "\n"
   ]
  },
  {
   "cell_type": "markdown",
   "metadata": {},
   "source": [
    "まずいろいろなモジュールをインポートするために以下のセルを実行する．notebookを起動したときには，これらのモジュールをインポートしなければ，これらのモジュールの関数を使うことはできない．"
   ]
  },
  {
   "cell_type": "code",
   "execution_count": null,
   "metadata": {
    "ExecuteTime": {
     "end_time": "2017-04-25T00:17:53.043548Z",
     "start_time": "2017-04-25T00:17:47.171857Z"
    }
   },
   "outputs": [],
   "source": [
    "import numpy as np\n",
    "import os\n",
    "\n",
    "import matplotlib.pyplot as plt\n",
    "%matplotlib inline\n",
    "plt.gray();\n",
    "from matplotlib.pyplot import imshow\n",
    "\n",
    "from skimage.io import imread, imsave\n",
    "\n",
    "import os"
   ]
  },
  {
   "cell_type": "markdown",
   "metadata": {
    "ExecuteTime": {
     "end_time": "2017-04-25T00:18:00.556537Z",
     "start_time": "2017-04-25T00:18:00.55302Z"
    }
   },
   "source": [
    "\n",
    "# 使用する画像\n",
    "\n",
    "ここでは画像の輝度を変換するいくつかの例を見る．そのためにいくつかの画像を用いる．"
   ]
  },
  {
   "cell_type": "markdown",
   "metadata": {},
   "source": [
    "マンモグラフィ（胸部X線写真）のデジタル画像`breast_g.jpg`には，小さな病変部位が白く映っている．\n",
    "\n",
    "<img src=\"images/breast_g.jpg\" width=400>\n",
    "<center>図：breast_g.jpg (public domain from wikimedia, <a href=\"https://commons.wikimedia.org/wiki/File:Mammogram_showing_dense_and_fatty_breasts.jpg\">\"Mammogram Showing Dense And Fatty Breasts\"</a>)</center>"
   ]
  },
  {
   "cell_type": "markdown",
   "metadata": {},
   "source": [
    "\n",
    "画像`spine_g.jpg`は，折れた上部胸椎の一部のMRI (Magnetic Resonance Imaging) 画像である．この画像のほとんどの部分が暗いため，輝度値の範囲を拡張することが必要である．\n",
    "\n",
    "<img src=\"images/spine_g.jpg\" width=400>\n",
    "<center>図：spine_g.jpg\n",
    "<a href=\"https://commons.wikimedia.org/wiki/File:Transverse_myelitis_MRI.jpg\">\n",
    "    Frank Gaillard - CC BY-SA 3.0</a>\n",
    "\n",
    "</center>"
   ]
  },
  {
   "cell_type": "markdown",
   "metadata": {},
   "source": [
    "空港の空撮画像`aerial_g.jpg`はややコントラストが低い画像である．\n",
    "\n",
    "\n",
    "<img src=\"images/aerial_g.jpg\" width=400>\n",
    "<center>図：aerial_g.jpg\n",
    "(public domain from wikimedia, \n",
    "<a href=\"https://commons.wikimedia.org/wiki/File:Baltimore_aerial.jpg\">\n",
    "\"Baltimore, Maryland, seen from an airplane\"\n",
    "</a>)\n",
    "</center>"
   ]
  },
  {
   "cell_type": "markdown",
   "metadata": {},
   "source": [
    "画像`bone_g.jpg`は手のレントゲン写真であり，骨格構造が映し出されている．\n",
    "\n",
    "<img src=\"images/bone_g.jpg\" width=400>\n",
    "<center>図：bone_g.jpg\n",
    "<a href=\"https://pixabay.com/ja/x線-健康状態-アーム-医療の-医学-骨-病院-ヘルスケア-1704855/\">\n",
    "(from pixbay)\n",
    "</a>\n",
    "</center>"
   ]
  },
  {
   "cell_type": "code",
   "execution_count": null,
   "metadata": {},
   "outputs": [],
   "source": []
  },
  {
   "cell_type": "markdown",
   "metadata": {},
   "source": [
    "# ===================================\n",
    "\n",
    "\n",
    "# パート1：輝度変換\n",
    "\n",
    "以下では，白黒反転，対数変換，ガンマ変換，コントラスト強調という4つの輝度値変換を行う．\n",
    "\n",
    "\n",
    "## 白黒反転\n",
    "\n",
    "輝度値の範囲が$[0, 255]$である画像を白黒反転するには，以下のように輝度値を変換する．\n",
    "$$\n",
    "y = 255 - x\n",
    "$$\n",
    "ここで$x$は入力画像の輝度値，$y$は変換後の輝度値である．\n",
    "これをプロットすると以下のようになる．つまり入力輝度値$x$が小さいほど，出力輝度値$y$は大きくなる．"
   ]
  },
  {
   "cell_type": "code",
   "execution_count": null,
   "metadata": {},
   "outputs": [],
   "source": [
    "plt.figure(figsize=(5, 5))  # プロットのサイズ\n",
    "\n",
    "x = np.arange(0, 256) # [0, 1, ..., 255]のリスト\n",
    "y = 255 - x  # xの各要素に対して，この式を適用する\n",
    "\n",
    "plt.plot(x, y)  # x,yのペアをプロット\n",
    "\n",
    "\n",
    "# 以下はプロットの設定\n",
    "plt.xlabel(\"input pixel value x\")\n",
    "plt.ylabel(\"output pixel value y\")\n",
    "plt.xlim(0, 255)\n",
    "plt.ylim(0, 255)\n",
    "plt.title(\"Negation transform\")\n",
    "plt.savefig('IP2-plot.pdf')  # プロットの保存．plt.show()の前に行う\n",
    "plt.show()"
   ]
  },
  {
   "cell_type": "markdown",
   "metadata": {},
   "source": [
    "以下では画像に白黒反転の処理を適用する．"
   ]
  },
  {
   "cell_type": "code",
   "execution_count": null,
   "metadata": {
    "ExecuteTime": {
     "end_time": "2017-04-25T00:36:49.602822Z",
     "start_time": "2017-04-25T00:36:48.914799Z"
    }
   },
   "outputs": [],
   "source": [
    "# 画像の読み込み\n",
    "im = imread(os.path.join('images','breast_g.jpg'))\n",
    "# im = imread(os.path.join('images','spine_g.jpg'))\n",
    "# im = imread(os.path.join('images','aerial_g.jpg'))\n",
    "# im = imread(os.path.join('images','bone_g.jpg'))\n",
    "\n",
    "\n",
    "imshow(im, vmin=0, vmax=255)  # 必ずvmin, vmaxオプションをつけましょう（そうしないと輝度が自動調整されてしまう）\n",
    "plt.colorbar()\n",
    "plt.title('original')\n",
    "plt.show()\n",
    "\n",
    "\n",
    "x = im.astype(float)  # 分かりやすいように，入力画像をxとおく．また型をfloatにしておく（以降の処理では実数値で処理をするため）．\n",
    "y = 255 - x  # 白黒反転\n",
    "\n",
    "imshow(y, vmin=0, vmax=255)  # 結果画像yの表示\n",
    "plt.colorbar()\n",
    "plt.title('converted')\n",
    "plt.show()\n",
    "\n",
    "imsave('IP2-negation.jpg', y.astype(np.uint8))  # 処理画像の保存．保存するときにはuint8に戻す"
   ]
  },
  {
   "cell_type": "markdown",
   "metadata": {},
   "source": [
    "## 対数変換\n",
    "\n",
    "以下は対数変換の式である．\n",
    "\n",
    "$$\n",
    "y = c \\log(1 + x)\n",
    "$$\n",
    "\n",
    "ここで$c$は定数で，$0 \\le x$である．\n",
    "\n",
    "これをプロットした以下の図を見ると，入力輝度値$x$が小さいと出力輝度値$y$は大きくなり（つまり暗い部分が明るくなる），\n",
    "$x$が大きくなると$y$も大きくなる．\n"
   ]
  },
  {
   "cell_type": "code",
   "execution_count": null,
   "metadata": {},
   "outputs": [],
   "source": [
    "plt.figure(figsize=(5, 5))\n",
    "\n",
    "x = np.arange(0, 256) # [0, 1, ..., 255]\n",
    "\n",
    "c = 45.0  # 定数cに適切な値を設定\n",
    "y = c * np.log(1 + x)  # 対数変換\n",
    "\n",
    "\n",
    "plt.plot(x, y)\n",
    "plt.xlabel(\"input pixel value x\")\n",
    "plt.ylabel(\"output pixel value y\")\n",
    "plt.xlim(0, 255)\n",
    "plt.ylim(0, 255)\n",
    "plt.title(\"Log transform\")\n",
    "plt.savefig('IP2-plot.pdf')  # プロットの保存．plt.show()の前に行う\n",
    "plt.show()"
   ]
  },
  {
   "cell_type": "markdown",
   "metadata": {},
   "source": [
    "以下では画像に対数変換の処理を適用する．"
   ]
  },
  {
   "cell_type": "code",
   "execution_count": null,
   "metadata": {
    "scrolled": false
   },
   "outputs": [],
   "source": [
    "im = imread(os.path.join('images','breast_g.jpg'))\n",
    "# im = imread(os.path.join('images','spine_g.jpg'))\n",
    "# im = imread(os.path.join('images','aerial_g.jpg'))\n",
    "# im = imread(os.path.join('images','bone_g.jpg'))\n",
    "\n",
    "\n",
    "imshow(im, vmin=0, vmax=255)\n",
    "plt.colorbar()\n",
    "plt.title('original')\n",
    "plt.show()\n",
    "\n",
    "x = im.astype(float)\n",
    "c = 45.0  # 適切な定数を設定\n",
    "y = c * np.log(1 + x)  # 対数変換\n",
    "\n",
    "imshow(y, vmin=0, vmax=255)\n",
    "plt.colorbar()\n",
    "plt.title('converted')\n",
    "plt.show()\n",
    "\n",
    "imsave('IP2-log-trans.jpg', y.astype(np.uint8))  # 処理画像の保存"
   ]
  },
  {
   "cell_type": "markdown",
   "metadata": {},
   "source": [
    "## ガンマ変換\n",
    "\n",
    "ガンマ変換は以下の式であらわされる．\n",
    "\n",
    "$$\n",
    "y = 255 \\left(\\frac{x}{255}\\right)^\\gamma\n",
    "$$\n",
    "\n",
    "ここで$\\gamma$は正の定数である．\n",
    "$x=0$は$y=0$に変換され，$x=255$は$y=255$に変換される．\n",
    "\n",
    "$\\gamma < 1$のときの指数曲線は，暗い輝度値のある狭い範囲を，広い範囲に拡大する．\n",
    "また逆に，明るい輝度値についても同様である．\n",
    "この効果は$\\gamma > 1$の時は逆になる．\n",
    "$\\gamma$の値を変えることで，コントラスト強調に使うことができる．\n"
   ]
  },
  {
   "cell_type": "code",
   "execution_count": null,
   "metadata": {},
   "outputs": [],
   "source": [
    "plt.figure(figsize=(5, 5))\n",
    "\n",
    "x = np.arange(0, 256) # [0, 1, ..., 255]\n",
    "\n",
    "gamma = 2.0\n",
    "y = 255 * ( (x / 255) ** gamma )\n",
    "\n",
    "plt.plot(x, y)\n",
    "plt.xlabel(\"input pixel value x\")\n",
    "plt.ylabel(\"output pixel value y\")\n",
    "plt.xlim(0, 255)\n",
    "plt.ylim(0, 255)\n",
    "plt.title(\"Gamma transform\")\n",
    "plt.savefig('IP2-plot.pdf')  # プロットの保存．plt.show()の前に行う\n",
    "plt.show()"
   ]
  },
  {
   "cell_type": "markdown",
   "metadata": {},
   "source": [
    "以下では画像にガンマ変換の処理を適用する．"
   ]
  },
  {
   "cell_type": "code",
   "execution_count": null,
   "metadata": {},
   "outputs": [],
   "source": [
    "im = imread(os.path.join('images','breast_g.jpg'))\n",
    "# im = imread(os.path.join('images','spine_g.jpg'))\n",
    "# im = imread(os.path.join('images','aerial_g.jpg'))\n",
    "# im = imread(os.path.join('images','bone_g.jpg'))\n",
    "\n",
    "\n",
    "imshow(im, vmin=0, vmax=255)\n",
    "plt.colorbar()\n",
    "plt.title('original')\n",
    "plt.show()\n",
    "\n",
    "x = im.astype(float)\n",
    "gamma = 2.0  # gammaの値を設定\n",
    "y = 255 * ( (x / 255) ** gamma )  # ガンマ変換\n",
    "\n",
    "imshow(y, vmin=0, vmax=255)\n",
    "plt.colorbar()\n",
    "plt.title('converted')\n",
    "plt.show()\n",
    "\n",
    "imsave('IP2-gamma-trans.jpg', y.astype(np.uint8))  # 処理画像の保存"
   ]
  },
  {
   "cell_type": "markdown",
   "metadata": {},
   "source": [
    "## コントラスト強調\n",
    "\n",
    "コントラスト強調は次の式で表される．\n",
    "\n",
    "$$\n",
    "y = T(x) = \\frac{255}{1 + \\Bigl(\\frac{M}{x+\\epsilon}\\Bigr)^E}\n",
    "$$\n",
    "\n",
    "この変換は，M以下の輝度値を暗くし，M以上の輝度値を明るくするため，結果画像は元画像よりもコントラストが高くなる．つまり，M以下の輝度値はこの変換によってより狭い範囲の輝度値に変換され，暗くなる．M以上の輝度値についてはこの逆である．上式のEは，この関数の傾きを制御するパラメータである．なお$\\epsilon$は0で割ることを防ぐための小さな値である（例えば0.0001程度）．"
   ]
  },
  {
   "cell_type": "code",
   "execution_count": null,
   "metadata": {},
   "outputs": [],
   "source": [
    "plt.figure(figsize=(5, 5))\n",
    "\n",
    "x = np.arange(0, 256) # [0, 1, ..., 255]\n",
    "\n",
    "M = 128\n",
    "E = 5.0\n",
    "epsilon = 0.0001\n",
    "y = 255 / (1 + (M / (x + epsilon)) ** E)\n",
    "y *= 255 / y.max()\n",
    "\n",
    "plt.plot(x, y)\n",
    "plt.xlabel(\"input pixel value x\")\n",
    "plt.ylabel(\"output pixel value y\")\n",
    "plt.xlim(0, 255)\n",
    "plt.ylim(0, 255)\n",
    "plt.title(\"Constrast enhancement\")\n",
    "plt.savefig('IP2-plot.pdf')  # プロットの保存．plt.show()の前に行う\n",
    "plt.show()"
   ]
  },
  {
   "cell_type": "markdown",
   "metadata": {},
   "source": [
    "以下では画像にコントラスト強調の処理を適用する．"
   ]
  },
  {
   "cell_type": "code",
   "execution_count": null,
   "metadata": {
    "scrolled": false
   },
   "outputs": [],
   "source": [
    "im = imread(os.path.join('images','breast_g.jpg'))\n",
    "# im = imread(os.path.join('images','spine_g.jpg'))\n",
    "# im = imread(os.path.join('images','aerial_g.jpg'))\n",
    "# im = imread(os.path.join('images','bone_g.jpg'))\n",
    "\n",
    "\n",
    "imshow(im, vmin=0, vmax=255)\n",
    "plt.colorbar()\n",
    "plt.title('original')\n",
    "plt.show()\n",
    "\n",
    "x = im.astype(float)\n",
    "\n",
    "M = 128\n",
    "E = 5.0\n",
    "epsilon = 0.0001\n",
    "y = 255 / (1 + (M / (x + epsilon)) ** E)  # コントラスト強調\n",
    "y *= 255 / y.max()  # 最大値が255になるように正規化\n",
    "\n",
    "\n",
    "imshow(y, vmin=0, vmax=255)\n",
    "plt.colorbar()\n",
    "plt.title('converted')\n",
    "plt.show()\n",
    "\n",
    "imsave('IP2-contrast-enhanced.jpg', y.astype(np.uint8))  # 処理画像の保存"
   ]
  },
  {
   "cell_type": "markdown",
   "metadata": {},
   "source": [
    "## レポート課題1\n",
    "\n",
    "- 4つの画像（breast_g.jpg, spine_g.jpg, aerial_g.jpg, bone_g.jpg）のそれぞれに対して，白黒反転，対数変換，ガンマ変換，コントラスト強調を適用する．\n",
    "- それぞれの変換・それぞれの画像に対して，パラメータ（c, gamma, M, E）の値を変えて，どのような変化が出るのか，また最も画像が見やすくなる値はなにか，を考察する．\n"
   ]
  },
  {
   "cell_type": "code",
   "execution_count": null,
   "metadata": {},
   "outputs": [],
   "source": []
  },
  {
   "cell_type": "code",
   "execution_count": null,
   "metadata": {},
   "outputs": [],
   "source": []
  },
  {
   "cell_type": "markdown",
   "metadata": {},
   "source": [
    "# ===================================\n",
    "\n",
    "\n",
    "# パート2：ヒストグラム\n",
    "\n",
    "画像のヒストグラムとは，輝度値の頻度分布を表すグラフである．\n",
    "ヒストグラムの横軸は輝度値，縦軸はその輝度値を持つ画素の個数である．\n",
    "\n",
    "暗い画像のヒストグラムの要素は低い（暗い）輝度値に集中している．\n",
    "逆に，明るい画像のヒストグラムの要素は高い（明るい）輝度値に偏っている．\n",
    "またこれら画像はコントラストが低く，輝度値の中央付近に集中したヒストグラムを持つ．\n",
    "コントラストが高い画像であれば，輝度値の範囲全体に分布するヒストグラムを持つ．\n",
    "\n",
    "ヒストグラムを計算・表示するには，関数`plt.hist`を用いる．"
   ]
  },
  {
   "cell_type": "code",
   "execution_count": null,
   "metadata": {
    "ExecuteTime": {
     "end_time": "2017-05-08T01:20:35.399439Z",
     "start_time": "2017-05-08T01:20:35.345415Z"
    }
   },
   "outputs": [],
   "source": [
    "im = imread(os.path.join('images','breast_g.jpg'))\n",
    "# im = imread(os.path.join('images','spine_g.jpg'))\n",
    "# im = imread(os.path.join('images','aerial_g.jpg'))\n",
    "# im = imread(os.path.join('images','bone_g.jpg'))\n",
    "\n",
    "imshow(im, vmin=0, vmax=255)\n",
    "plt.title('original grayscale image')\n",
    "plt.show()\n",
    "\n",
    "\n",
    "plt.hist(im.flatten(), bins=16)  # ヒストグラムの計算とプロット\n",
    "\n",
    "# プロットの設定\n",
    "plt.xlabel(\"intensity\")\n",
    "plt.ylabel(\"frequency\")\n",
    "plt.title('histogram')\n",
    "plt.savefig('IP2-histogram.pdf')  # ヒストグラムを保存．plt.show()の前に行う\n",
    "plt.show()\n",
    "\n"
   ]
  },
  {
   "cell_type": "markdown",
   "metadata": {},
   "source": [
    "`plt.hist`の引数：\n",
    "\n",
    "- `im`は入力画像（ただし`flatten()`関数を使って画像を1次元化しておく必要がある）．\n",
    "- `bins`はヒストグラムの区間（ビン，bin）の数である．区間とは，輝度値の範囲を分割した部分範囲のことである．\n",
    "\n"
   ]
  },
  {
   "cell_type": "markdown",
   "metadata": {},
   "source": [
    "## レポート課題2\n",
    "\n",
    "- 4つの画像（breast_g.jpg, spine_g.jpg, aerial_g.jpg, bone_g.jpg）のそれぞれに対して，区間数binsを128, 64, 32, 16と変更して，それぞれヒストグラムを表示する．\n",
    "- ヒストグラムの形状から画像について分かることを予想し，また実際が画像がそうなっているかどうかを考察する．\n",
    "- どの区間数のときが，輝度分布の形を把握しやすいのかを考察する．\n"
   ]
  },
  {
   "cell_type": "code",
   "execution_count": null,
   "metadata": {},
   "outputs": [],
   "source": []
  },
  {
   "cell_type": "code",
   "execution_count": null,
   "metadata": {},
   "outputs": [],
   "source": []
  },
  {
   "cell_type": "markdown",
   "metadata": {},
   "source": [
    "# ===================================\n",
    "\n",
    "\n",
    "# パート3：しきい値処理\n",
    "\n",
    "しきい値処理とは，画素値があるしきい値$T$以下なら黒に，それより大きければ白にする処理である．\n",
    "\n",
    "以下の3枚の画像に適用する．"
   ]
  },
  {
   "cell_type": "markdown",
   "metadata": {},
   "source": [
    "\n",
    "\n",
    "\n",
    "<img src=\"images/coins_g.jpg\" width=400>\n",
    "<center>図：coins_g.jpg \n",
    "(<a href=\"https://commons.wikimedia.org/w/index.php?curid=15065444\">\n",
    "Vassia Atanassova - CC BY-SA 3.0</a>)\n",
    "</center>\n",
    "\n",
    "\n",
    "<img src=\"images/handwritten.jpg\" width=400>\n",
    "<center>図：handwritten.jpg\n",
    "(public domain from wikimedia,\n",
    "    <a href=\"https://commons.wikimedia.org/wiki/File:Daiquiri_Handwritten_Recipex.jpg\">\"Original Bacardi daiquiri recipe\"</a>\n",
    ")\n",
    "</center>\n",
    "\n",
    "<img src=\"images/fingerprint.jpg\" width=400>\n",
    "<center>図：fingerprint.jpg\n",
    "(public domain from wikimedia,\n",
    "    <a href=\"https://commons.wikimedia.org/wiki/File:Fingerprint_Arch.jpg\">Picture of an arch fingerprint pattern\"</a>\n",
    ")"
   ]
  },
  {
   "cell_type": "markdown",
   "metadata": {},
   "source": [
    "以下ではコインの画像に対してしきい値を`T=152`に設定している．\n",
    "こうすると，ヒストグラムの2つの山を分離するようなしきい値処理となり，つまり画像中の白い部分と黒い部分を分けることができる．"
   ]
  },
  {
   "cell_type": "code",
   "execution_count": null,
   "metadata": {},
   "outputs": [],
   "source": [
    "im = imread(os.path.join('images','coins_g.jpg'))\n",
    "# im = imread(os.path.join('images','handwritten.jpg'))\n",
    "# im = imread(os.path.join('images','fingerprint.jpg'))\n",
    "\n",
    "\n",
    "imshow(im, vmin=0, vmax=255)\n",
    "plt.show()\n",
    "\n",
    "\n",
    "plt.hist(im.flatten(), bins=64)\n",
    "plt.xlabel(\"intensity\")\n",
    "plt.ylabel(\"frequency\")\n",
    "plt.title('histogram')\n",
    "plt.savefig('IP2-histogram.pdf')  # ヒストグラムを保存．plt.show()の前に行う\n",
    "plt.show()\n",
    "\n",
    "\n",
    "# しきい値処理\n",
    "T = 152\n",
    "im[im <= T] = 0  # imの中で輝度値がT以下の画素の画素値を0にする\n",
    "im[im > T] = 255  # imの中で輝度値がTより大きい画素の画素値を255にする\n",
    "\n",
    "imshow(im, vmin=0, vmax=255)  # 処理した画像imを表示\n",
    "plt.show()\n",
    "\n",
    "imsave('IP2-binalized.jpg', im)  # 処理画像の保存"
   ]
  },
  {
   "cell_type": "markdown",
   "metadata": {},
   "source": [
    "## レポート課題3\n",
    "\n",
    "\n",
    "3つの画像`coins_g.jpg`, `handwritten.jpg`, `fingerprint.jpg`を読み込み，ぞれぞれに対してヒストグラムを表示し，\n",
    "二値化を行う．その際，\n",
    "\n",
    "- コインの画像：コインだけが白くなるように\n",
    "- 手書き文字の画像：文字の部分だけが黒くなるように\n",
    "- 指紋の画像：白黒がはっきりするように\n",
    "\n",
    "するにはしきい値Tをどのように調整すればよいのかを考察する．"
   ]
  },
  {
   "cell_type": "code",
   "execution_count": null,
   "metadata": {},
   "outputs": [],
   "source": []
  },
  {
   "cell_type": "code",
   "execution_count": null,
   "metadata": {},
   "outputs": [],
   "source": []
  },
  {
   "cell_type": "markdown",
   "metadata": {},
   "source": [
    "# レポート課題\n",
    "\n",
    "\n",
    "## 概要\n",
    "\n",
    "- レポート課題1，2，3を行い，そのコードと結果画像をレポートにまとめる．\n",
    "- 自分のカメラで撮影した画像を`images`フォルダに保存し，その画像に対してレポート課題1, 2, 3を行い，結果画像をレポートにまとめる．\n",
    "\n",
    "\n",
    "## 評価\n",
    " \n",
    "- レポートの評価基準\n",
    " - レポートの体裁（PDFか，指定したテンプレートを使ったフォーマットか，氏名・学生番号があるか，タイトルは適切か）\n",
    " - 課題の説明（どのような課題の結果を記述したレポートなのかが明確に記述できているか）\n",
    " - 文章・画像の引用がある場合，その出典を明記しているか\n",
    " - コード（課題を説明するために必要十分なコードがコメント付きで掲載されているか，コードの説明が論理的な文章として記述されているか）\n",
    " - 処理結果（処理前後の画像やヒストグラムを比較して掲載しているか，画像が複数ある場合には，説明を付けてそれらを掲載しているか）\n",
    " - 考察（論理的な文章として記述されているか，客観的な結果を示しそれを元に議論しているか）\n",
    "- 提出方法\n",
    " - Bb9にPDFファイルをアップロードする\n",
    " - フォーマットは指定のLaTeXテンプレートを使う．[テンプレートはこちら](https://www.overleaf.com/read/sfrdswwcwmyx)\n",
    " - ワードファイルは不可（docx形式も，それを変換したPDFも不可）\n",
    "\n"
   ]
  },
  {
   "cell_type": "code",
   "execution_count": null,
   "metadata": {},
   "outputs": [],
   "source": []
  }
 ],
 "metadata": {
  "anaconda-cloud": {},
  "kernelspec": {
   "display_name": "Python 3",
   "language": "python",
   "name": "python3"
  },
  "language_info": {
   "codemirror_mode": {
    "name": "ipython",
    "version": 3
   },
   "file_extension": ".py",
   "mimetype": "text/x-python",
   "name": "python",
   "nbconvert_exporter": "python",
   "pygments_lexer": "ipython3",
   "version": "3.7.7"
  },
  "toc": {
   "base_numbering": 1,
   "nav_menu": {
    "height": "512px",
    "width": "252px"
   },
   "number_sections": true,
   "sideBar": true,
   "skip_h1_title": false,
   "title_cell": "Table of Contents",
   "title_sidebar": "Contents",
   "toc_cell": true,
   "toc_position": {
    "height": "394px",
    "left": "0px",
    "right": "641.1141357421875px",
    "top": "132.9891357421875px",
    "width": "250px"
   },
   "toc_section_display": "block",
   "toc_window_display": false
  },
  "widgets": {
   "state": {
    "353c13ac3b2f4cc2bc324c1cf14b702f": {
     "views": [
      {
       "cell_index": 52
      }
     ]
    }
   },
   "version": "1.2.0"
  }
 },
 "nbformat": 4,
 "nbformat_minor": 2
}
