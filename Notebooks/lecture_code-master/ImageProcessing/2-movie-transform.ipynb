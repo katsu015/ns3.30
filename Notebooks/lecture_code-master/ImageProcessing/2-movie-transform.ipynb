{
 "cells": [
  {
   "cell_type": "code",
   "execution_count": null,
   "metadata": {},
   "outputs": [],
   "source": [
    "import numpy as np\n",
    "\n",
    "import matplotlib.pyplot as plt\n",
    "%matplotlib inline\n",
    "plt.gray();\n",
    "from matplotlib.pyplot import imshow\n",
    "\n",
    "import skimage\n",
    "from skimage.io import imread, imsave\n",
    "from skimage.transform import rotate, resize\n",
    "from skimage.filters import gaussian\n",
    "from skimage.transform import AffineTransform, ProjectiveTransform, warp\n",
    "\n",
    "from ipywidgets import interact, interactive, fixed, RadioButtons\n",
    "import ipywidgets as widgets\n",
    "from IPython.display import display"
   ]
  },
  {
   "cell_type": "markdown",
   "metadata": {},
   "source": [
    "# 幾何変換"
   ]
  },
  {
   "cell_type": "code",
   "execution_count": null,
   "metadata": {},
   "outputs": [],
   "source": [
    "im = imread('girl.jpg')\n",
    "\n",
    "\n",
    "@interact(angle=(-180, 180, 10))\n",
    "def g(angle=0):\n",
    "\n",
    "    fig = plt.figure(figsize=(15,3))\n",
    "    \n",
    "    fig.add_subplot(1, 3, 1)\n",
    "    im_rot = rotate(im, angle=angle, resize=False)\n",
    "    imshow(im_rot)\n",
    "    plt.axis('off')\n",
    "    plt.title('rotation without resize')\n",
    "\n",
    "    fig.add_subplot(1, 3, 2)\n",
    "    im_rot = rotate(im, angle=angle, resize=True)\n",
    "    imshow(im_rot)\n",
    "    plt.axis('off')\n",
    "    plt.title('rotation with resize')\n",
    "\n",
    "\n",
    "    fig.add_subplot(1, 3, 3)\n",
    "    angle = np.deg2rad(angle)\n",
    "    A = np.array([[np.cos(angle), -np.sin(angle), 0],\n",
    "                  [np.sin(angle), np.cos(angle), 0],\n",
    "                  [ 0,  0, 1]])\n",
    "    imshow(warp(im, AffineTransform(A)))\n",
    "    plt.axis('off')\n",
    "    plt.title('rotation around the origin')\n",
    "    \n",
    "\n",
    "    plt.show()"
   ]
  },
  {
   "cell_type": "markdown",
   "metadata": {},
   "source": [
    "# 変換の合成"
   ]
  },
  {
   "cell_type": "code",
   "execution_count": null,
   "metadata": {},
   "outputs": [],
   "source": [
    "im = imread('girl.jpg')\n",
    "\n",
    "\n",
    "@interact(angle=(-180, 180, 10), \n",
    "          tx=(0, im.shape[1], 50),\n",
    "          ty=(0, im.shape[0], 50),\n",
    "         )\n",
    "def g(angle=0, tx=0, ty=0):\n",
    "\n",
    "    angle = np.deg2rad(angle)\n",
    "    A = np.array([[np.cos(angle), -np.sin(angle), 0],\n",
    "                  [np.sin(angle), np.cos(angle), 0],\n",
    "                  [ 0,  0, 1]])\n",
    "    B = np.array([[ 1,  0, tx],\n",
    "                  [ 0,  1, ty],\n",
    "                  [ 0,  0, 1]])\n",
    "\n",
    "    fig = plt.figure(figsize=(15,3))\n",
    "    \n",
    "    fig.add_subplot(1, 4, 1)\n",
    "    imshow(warp(im, AffineTransform(A).inverse))\n",
    "    plt.axis('off')\n",
    "    plt.title('A')\n",
    "\n",
    "\n",
    "    fig.add_subplot(1, 4, 2)\n",
    "    imshow(warp(im, AffineTransform(B).inverse))\n",
    "    plt.axis('off')\n",
    "    plt.title('B')\n",
    "\n",
    "\n",
    "    fig.add_subplot(1, 4, 3)\n",
    "    imshow(warp(im, AffineTransform(A @ B).inverse))\n",
    "    plt.axis('off')\n",
    "    plt.title('AB')\n",
    "\n",
    "\n",
    "    fig.add_subplot(1, 4, 4)\n",
    "    imshow(warp(im, AffineTransform(B @ A).inverse))\n",
    "    plt.axis('off')\n",
    "    plt.title('BA')\n",
    "\n",
    "\n",
    "    \n",
    "\n",
    "    plt.show()"
   ]
  },
  {
   "cell_type": "markdown",
   "metadata": {},
   "source": [
    "# 射影変換"
   ]
  },
  {
   "cell_type": "code",
   "execution_count": null,
   "metadata": {},
   "outputs": [],
   "source": [
    "im = imread('girl.jpg')\n",
    "\n",
    "\n",
    "H = np.array([[1.0, 0.01,  10], \n",
    "              [0.01, 1.0,  20], \n",
    "              [-0.001, 0.002,  1]])\n",
    "\n",
    "imshow(warp(im, ProjectiveTransform(H).inverse))\n",
    "plt.show()"
   ]
  },
  {
   "cell_type": "markdown",
   "metadata": {},
   "source": [
    "# 順変換と逆変換"
   ]
  },
  {
   "cell_type": "markdown",
   "metadata": {},
   "source": [
    "## 順変換"
   ]
  },
  {
   "cell_type": "code",
   "execution_count": null,
   "metadata": {},
   "outputs": [],
   "source": [
    "im1 = imread('girl.jpg')\n",
    "\n",
    "h,w,c = im1.shape\n",
    "im2 = np.zeros(im1.shape, dtype=np.uint8)\n",
    "\n",
    "@interact(sx=(0.5, 2.0, 0.1),\n",
    "          sy=(0.5, 2.0, 0.1))\n",
    "def g(sx=1.1, sy=1.1):\n",
    "\n",
    "    im2 = np.zeros(im1.shape, dtype=np.uint8)\n",
    "\n",
    "    for y in range(h):\n",
    "        for x in range(w):\n",
    "            pix_val = im1[y][x]\n",
    "\n",
    "            xp = sx * x  # x' = s_x x\n",
    "            yp = sy * y  # y' = s_y y\n",
    "\n",
    "            xp = int(xp + 0.5)\n",
    "            yp = int(yp + 0.5)\n",
    "\n",
    "            if xp >= 0 and xp < w and yp >= 0 and yp < h:\n",
    "                im2[yp][xp] = pix_val\n",
    "\n",
    "    imshow(im2)\n",
    "    plt.axis('off')\n",
    "    plt.show()"
   ]
  },
  {
   "cell_type": "markdown",
   "metadata": {},
   "source": [
    "## 逆変換"
   ]
  },
  {
   "cell_type": "code",
   "execution_count": null,
   "metadata": {},
   "outputs": [],
   "source": [
    "im1 = imread('girl.jpg')\n",
    "\n",
    "h,w,c = im1.shape\n",
    "\n",
    "@interact(sx=(0.5, 2.0, 0.1),\n",
    "          sy=(0.5, 2.0, 0.1))\n",
    "def g(sx=1.1, sy=1.1):\n",
    "\n",
    "    im2 = np.zeros(im1.shape, dtype=np.uint8)\n",
    "\n",
    "    for yp in range(h):\n",
    "        for xp in range(w):\n",
    "\n",
    "            x = xp / sx  # x = (1/s_x) x'\n",
    "            y = yp / sy  # y = (1/s_y) y'\n",
    "\n",
    "            x = int(x + 0.5)\n",
    "            y = int(y + 0.5)\n",
    "\n",
    "            if x >= 0 and x < w and y >= 0 and y < h:\n",
    "                pix_val = im1[y][x]\n",
    "                im2[yp][xp] = pix_val\n",
    "\n",
    "    imshow(im2)\n",
    "    plt.axis('off')\n",
    "    plt.show()"
   ]
  },
  {
   "cell_type": "markdown",
   "metadata": {},
   "source": [
    "## 補間手法"
   ]
  },
  {
   "cell_type": "code",
   "execution_count": null,
   "metadata": {},
   "outputs": [],
   "source": [
    "im = imread('girl.jpg')\n",
    "h, w = im.shape[:2]\n",
    "im = resize(im, (h//10, w//10))\n",
    "patch = im[30:50, 50:70]\n",
    "\n",
    "methods = ['none', 'nearest', 'bilinear', 'bicubic',\n",
    "           'spline16', 'spline36', 'hanning', 'hamming',\n",
    "           'hermite', 'kaiser', 'quadric', 'catrom',\n",
    "           'gaussian', 'bessel', 'mitchell', 'sinc', 'lanczos']\n",
    "\n",
    "@interact(method=methods)\n",
    "def g(method=methods[0]):\n",
    "\n",
    "    fig = plt.figure(figsize=(15,5))\n",
    "\n",
    "    fig.add_subplot(1, 2, 1)\n",
    "    imshow(im)\n",
    "\n",
    "    fig.add_subplot(1, 2, 2)\n",
    "    imshow(patch, interpolation=method)\n",
    "    plt.title(method)\n",
    "\n",
    "    plt.show()"
   ]
  },
  {
   "cell_type": "code",
   "execution_count": null,
   "metadata": {},
   "outputs": [],
   "source": []
  },
  {
   "cell_type": "code",
   "execution_count": null,
   "metadata": {},
   "outputs": [],
   "source": []
  }
 ],
 "metadata": {
  "kernelspec": {
   "display_name": "Python 3",
   "language": "python",
   "name": "python3"
  },
  "language_info": {
   "codemirror_mode": {
    "name": "ipython",
    "version": 3
   },
   "file_extension": ".py",
   "mimetype": "text/x-python",
   "name": "python",
   "nbconvert_exporter": "python",
   "pygments_lexer": "ipython3",
   "version": "3.7.7"
  }
 },
 "nbformat": 4,
 "nbformat_minor": 4
}
