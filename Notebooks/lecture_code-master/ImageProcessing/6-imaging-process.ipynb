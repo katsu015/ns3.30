{
 "cells": [
  {
   "cell_type": "code",
   "execution_count": null,
   "metadata": {},
   "outputs": [],
   "source": [
    "from PIL import Image\n",
    "from PIL.ExifTags import TAGS, GPSTAGS\n",
    "\n",
    "import numpy as np\n",
    "\n",
    "\n",
    "import matplotlib.pyplot as plt\n",
    "%matplotlib inline\n",
    "plt.gray();\n",
    "from matplotlib.pyplot import imshow\n",
    "\n",
    "import skimage\n",
    "from skimage.io import imread, imsave\n",
    "from skimage.transform import resize\n",
    "\n",
    "from ipywidgets import interact, interactive, fixed, RadioButtons\n",
    "import ipywidgets as widgets\n",
    "from IPython.display import display"
   ]
  },
  {
   "cell_type": "markdown",
   "metadata": {},
   "source": [
    "# 写真のExif"
   ]
  },
  {
   "cell_type": "code",
   "execution_count": null,
   "metadata": {},
   "outputs": [],
   "source": [
    "def show_exif(filename):\n",
    "    im = Image.open(filename)\n",
    "    exif = im._getexif()\n",
    "    if exif is None:\n",
    "        print('no EXIF data')\n",
    "    else:\n",
    "        for i, value in exif.items():\n",
    "            print(i, TAGS.get(i), value)"
   ]
  },
  {
   "cell_type": "code",
   "execution_count": null,
   "metadata": {},
   "outputs": [],
   "source": [
    "imshow(imread('lake.jpg'));"
   ]
  },
  {
   "cell_type": "code",
   "execution_count": null,
   "metadata": {
    "scrolled": false
   },
   "outputs": [],
   "source": [
    "show_exif('lake.jpg')"
   ]
  },
  {
   "cell_type": "code",
   "execution_count": null,
   "metadata": {
    "scrolled": true
   },
   "outputs": [],
   "source": [
    "imshow(imread('girl.jpg'));"
   ]
  },
  {
   "cell_type": "code",
   "execution_count": null,
   "metadata": {},
   "outputs": [],
   "source": [
    "show_exif('girl.jpg')"
   ]
  },
  {
   "cell_type": "code",
   "execution_count": null,
   "metadata": {},
   "outputs": [],
   "source": [
    "imshow(imread('Colosseum.jpg'));"
   ]
  },
  {
   "cell_type": "code",
   "execution_count": null,
   "metadata": {},
   "outputs": [],
   "source": [
    "show_exif('Colosseum.jpg')"
   ]
  },
  {
   "cell_type": "code",
   "execution_count": null,
   "metadata": {},
   "outputs": [],
   "source": [
    "imshow(imread('Colosseum_original.jpg'));"
   ]
  },
  {
   "cell_type": "code",
   "execution_count": null,
   "metadata": {},
   "outputs": [],
   "source": [
    "show_exif('Colosseum_original.jpg')"
   ]
  },
  {
   "cell_type": "markdown",
   "metadata": {},
   "source": [
    "# 周辺光量低下"
   ]
  },
  {
   "cell_type": "code",
   "execution_count": null,
   "metadata": {},
   "outputs": [],
   "source": [
    "im = imread('girl.jpg')\n",
    "imshow(im)\n",
    "plt.axis('off')\n",
    "plt.show()"
   ]
  },
  {
   "cell_type": "code",
   "execution_count": null,
   "metadata": {},
   "outputs": [],
   "source": [
    "h, w, _ = im.shape\n",
    "im2 = np.zeros_like(im)\n",
    "\n",
    "\n",
    "@interact(coeff=(0, 5, 1))\n",
    "def g(coeff=3):\n",
    "    \n",
    "    for y in range(h):\n",
    "        cy = h//2 - y\n",
    "        for x in range(w):\n",
    "            cx = w//2 - x\n",
    "            r2 = cx**2 + cy**2\n",
    "            r4 = r2**2\n",
    "            im2[y, x] = im[y, x] * (1 - coeff * 1e-12 * r4)\n",
    "\n",
    "    imshow(im2)\n",
    "    plt.axis('off')\n",
    "    plt.title('coeff={}'.format(coeff))\n",
    "    plt.show()\n"
   ]
  },
  {
   "cell_type": "code",
   "execution_count": null,
   "metadata": {},
   "outputs": [],
   "source": []
  },
  {
   "cell_type": "markdown",
   "metadata": {},
   "source": [
    "# 歪曲収差"
   ]
  },
  {
   "cell_type": "code",
   "execution_count": null,
   "metadata": {},
   "outputs": [],
   "source": [
    "h, w, _ = im.shape\n",
    "\n",
    "\n",
    "@interact(coeff=(-9, -3, 1),\n",
    "          ud=RadioButtons(options=[1, -1]))\n",
    "def g(coeff=-10, ud=1):\n",
    "    \n",
    "    im2 = np.zeros_like(im)\n",
    "\n",
    "    for y in range(h):\n",
    "        yu = h//2 - y\n",
    "        for x in range(w):\n",
    "            xu = w//2 - x\n",
    "            r2 = xu**2 + yu**2\n",
    "            c = 1 + ud * r2 * (10 ** coeff)\n",
    "            yd = int(h//2 - yu * c)\n",
    "            xd = int(w//2 - xu * c)\n",
    "            if 0 <= yd < h and 0 <= xd < w:\n",
    "                im2[y, x] = im[yd, xd]\n",
    "\n",
    "    imshow(im2)\n",
    "    plt.axis('off')\n",
    "    plt.title('coeff=1e{}'.format(coeff))\n",
    "    plt.show()\n",
    "\n"
   ]
  },
  {
   "cell_type": "code",
   "execution_count": null,
   "metadata": {},
   "outputs": [],
   "source": []
  },
  {
   "cell_type": "markdown",
   "metadata": {},
   "source": [
    "# 透視投影パラメータの算出\n",
    "\n",
    "## 問題：月と人物\n",
    "\n",
    "月と人物が重なる映像を撮影したい．"
   ]
  },
  {
   "cell_type": "code",
   "execution_count": null,
   "metadata": {},
   "outputs": [],
   "source": [
    "# CC0 1.0\n",
    "# https://openclipart.org/detail/247372/woman-walking\n",
    "sil = imread('https://openclipart.org/image/400px/svg_to_png/247372/WomanWalking.png')"
   ]
  },
  {
   "cell_type": "code",
   "execution_count": null,
   "metadata": {},
   "outputs": [],
   "source": [
    "# NASA Public domain\n",
    "# File:Moon right-view (Clementine dataset).png\n",
    "moon = imread('https://upload.wikimedia.org/wikipedia/commons/thumb/4/41/Moon_right-view_%28Clementine_dataset%29.png/800px-Moon_right-view_%28Clementine_dataset%29.png')"
   ]
  },
  {
   "cell_type": "code",
   "execution_count": null,
   "metadata": {},
   "outputs": [],
   "source": [
    "hs, ws, cs = sil.shape\n",
    "hm, wm, cm = moon.shape\n",
    "scale = hm / hs"
   ]
  },
  {
   "cell_type": "code",
   "execution_count": null,
   "metadata": {},
   "outputs": [],
   "source": [
    "sil = resize(sil, ( (int(hs * scale + 0.5), int(ws * scale + 0.5)))).astype(np.uint8)\n",
    "hs, ws, cs = sil.shape"
   ]
  },
  {
   "cell_type": "code",
   "execution_count": null,
   "metadata": {},
   "outputs": [],
   "source": [
    "moon[:, wm//2 - ws//2:wm//2 + ws//2, 3] *= (1 - sil[:, :, 3])"
   ]
  },
  {
   "cell_type": "code",
   "execution_count": null,
   "metadata": {},
   "outputs": [],
   "source": [
    "imshow(moon)\n",
    "plt.axis('off')\n",
    "plt.show()"
   ]
  },
  {
   "cell_type": "markdown",
   "metadata": {},
   "source": [
    "このような映像を撮影するための条件を考える．\n",
    "\n",
    "以下を仮定する．\n",
    "- 人物の身長は$H=170$ [cm]\n",
    "- 人物の画面中の高さ$h$は，画面の高さ$h$と同じ\n",
    "- 月の画面中の高さ$h$も，画面の高さ$h$と同じ\n",
    "\n",
    "月の半径と月までの距離は各自で調べよ．\n",
    "\n",
    "カメラから人物までの距離を$L_1$ [m]とする．\n",
    "撮影に使用するカメラのレンズの焦点距離を$f$ [mm]，センササイズは35mmフィルム換算とする（つまりセンサ高は$h=24$ [mm]）．\n",
    "\n",
    "\n",
    "- $L_1$ [m]と$f$ [mm]を求めよ．\n",
    "- 求めた$f$に近いレンズ焦点距離を持つ一眼レフカメラ用のレンズを<a href=\"https://www.amazon.co.jp\">Amazon.co.jp</a>から探せ．これが撮影に利用する機材候補である．"
   ]
  },
  {
   "cell_type": "markdown",
   "metadata": {},
   "source": [
    "## 問題：マラソン中継カメラ\n",
    "\n",
    "Katie Chan - Own work CC BY-SA 4.0\n",
    "https://commons.wikimedia.org/wiki/File:2017_London_Marathon_-_Alphonce_Simbu.jpg\n",
    "\n",
    "<img src=\"https://upload.wikimedia.org/wikipedia/commons/thumb/d/da/2017_London_Marathon_-_Alphonce_Simbu.jpg/320px-2017_London_Marathon_-_Alphonce_Simbu.jpg\">\n",
    "\n",
    "マラソン中継において，上の写真のようにトップランナー前方から後方に撮影したとき，第2集団の選手は画面の中ではトップランナーに比べて小さく写ってしまう．\n",
    "そうならないためにはどのような撮影をすればよいかを考える．\n",
    "\n",
    "以下を仮定する．\n",
    "- 選手の身長はすべて$H$=170 [cm]\n",
    "- トップランナーと第2集団との差は10秒．選手は1kmを3分で走る．\n",
    "- すべての選手は画面の中央に写る（つまり選手の縦中央は画面の縦中央）．\n",
    "- トップランナーの画面中の高さ$h_1$は，画面の高さ$h$の1/3を占める\n",
    "- 第2集団の選手の画面中の高さ$h_2$は$h_2 = \\alpha h_1$とする．ここで$0 < \\alpha < 1$であり，番組プロデューサは$\\alpha=0.8$を希望している\n",
    "\n",
    "中継カメラからトップランナーまでの距離を$L_1$ [m]，トップランナーと第2集団との間の距離を$L_2$ [m]とする．\n",
    "撮影に使用するカメラのレンズの焦点距離を$f$ [mm]，センササイズは35mmフィルム換算とする（つまりセンサ高は$h=24$ [mm]）．\n",
    "\n",
    "\n",
    "- $L_1$ [m]と$f$ [mm]を求めよ．\n",
    "- 求めた$f$に近いレンズ焦点距離を持つ一眼レフカメラ用のレンズを<a href=\"https://www.amazon.co.jp\">Amazon.co.jp</a>から探せ．これが撮影に利用する機材候補である（本当は放送映像用レンズだがここでは一眼レフカメラにする）．カメラ本体はすでにあるものを利用し，レンズだけを新規に購入するとする．このレンズを購入するための予算をいくつか設定し，予算を超えてしまう場合には，どのパラメータを諦めれば予算内に収まるのかを提案せよ．"
   ]
  },
  {
   "cell_type": "code",
   "execution_count": null,
   "metadata": {},
   "outputs": [],
   "source": []
  }
 ],
 "metadata": {
  "kernelspec": {
   "display_name": "Python 3",
   "language": "python",
   "name": "python3"
  },
  "language_info": {
   "codemirror_mode": {
    "name": "ipython",
    "version": 3
   },
   "file_extension": ".py",
   "mimetype": "text/x-python",
   "name": "python",
   "nbconvert_exporter": "python",
   "pygments_lexer": "ipython3",
   "version": "3.7.7"
  }
 },
 "nbformat": 4,
 "nbformat_minor": 4
}
