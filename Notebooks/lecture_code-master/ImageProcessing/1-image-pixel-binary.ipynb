{
 "cells": [
  {
   "cell_type": "markdown",
   "metadata": {},
   "source": [
    "- scikit-image https://scikit-image.org\n",
    "- OpenCV https://opencv.org\n",
    "- Python Image Library (PIL) http://www.pythonware.com/products/pil/ (deplicated)\n",
    "- Pillow or (PIL) https://pillow.readthedocs.io/en/stable/"
   ]
  },
  {
   "cell_type": "code",
   "execution_count": null,
   "metadata": {},
   "outputs": [],
   "source": [
    "import matplotlib.pyplot as plt\n",
    "%matplotlib inline\n",
    "plt.gray();\n",
    "from matplotlib.pyplot import imshow\n",
    "\n",
    "import skimage\n",
    "from skimage.io import imread, imsave\n",
    "\n",
    "from skimage.color import rgb2gray\n",
    "from skimage.transform import resize\n",
    "from skimage.filters import threshold_otsu, threshold_local\n",
    "from skimage.exposure import histogram, adjust_gamma\n",
    "from skimage.morphology import square\n",
    "from skimage import measure, color, morphology\n",
    "\n",
    "import cv2\n",
    "\n",
    "import numpy as np\n",
    "\n",
    "from ipywidgets import interact, interactive, fixed, RadioButtons\n",
    "import ipywidgets as widgets\n",
    "from IPython.display import display"
   ]
  },
  {
   "cell_type": "markdown",
   "metadata": {},
   "source": [
    "# 画像ダウンロード"
   ]
  },
  {
   "cell_type": "code",
   "execution_count": null,
   "metadata": {},
   "outputs": [],
   "source": [
    "import requests\n",
    "def download(url, filename):\n",
    "    with open(filename, 'wb') as saveFile:\n",
    "        saveFile.write(requests.get(url).content)\n",
    "    \n",
    "# TheDefiniteArticle - Own work CC BY-SA 4.0\n",
    "# https://commons.wikimedia.org/wiki/File:Woy_Woy_Channel_-_Vignetted.jpg\n",
    "download('https://upload.wikimedia.org/wikipedia/commons/0/03/Woy_Woy_Channel_-_Vignetted.jpg',\n",
    "         'lake.jpg')\n",
    "\n",
    "# Pixabay License\n",
    "# https://pixabay.com/photos/girl-portrait-looking-young-female-919048/\n",
    "download('https://cdn.pixabay.com/photo/2015/09/02/13/24/girl-919048_1280.jpg',\n",
    "         'girl.jpg')\n",
    "\n",
    "# Baka888 - Own work CC BY-SA 4.0\n",
    "# https://commons.wikimedia.org/wiki/File:Worldflags19.png\n",
    "download('https://upload.wikimedia.org/wikipedia/commons/b/bb/Worldflags19.png',\n",
    "         'flag.png')\n",
    "\n",
    "# yellowcloud CC BY 2.0\n",
    "# https://www.flickr.com/photos/yellowcloud/6375883291\n",
    "download('https://live.staticflickr.com/6226/6375883291_972be61f52_w_d.jpg',\n",
    "         'IR_cat.jpg')\n",
    "\n",
    "# Achim Köhler~commonswiki CC BY-SA 3.0\n",
    "# https://commons.wikimedia.org/w/index.php?curid=555450\n",
    "download('https://upload.wikimedia.org/wikipedia/commons/3/32/Dead_tree_salt_and_pepper.png',\n",
    "         'salt_and_pepper.png')\n",
    "\n",
    "# Pixabay License\n",
    "# https://pixabay.com/ja/illustrations/ハニカム-蜂の巣-自然-2891372/\n",
    "download('https://cdn.pixabay.com/photo/2017/10/26/15/05/honeycomb-2891372_1280.jpg',\n",
    "         'honeycomb.jpg')\n",
    "\n",
    "# Christoph Michels - Own work CC BY-SA 3.0\n",
    "# https://commons.wikimedia.org/wiki/File:Text.JPG\n",
    "download('https://upload.wikimedia.org/wikipedia/commons/thumb/3/3e/Text.JPG/640px-Text.JPG',\n",
    "         'text.jpg')\n",
    "\n",
    "# 由紀奈 / CC0\n",
    "# https://commons.wikimedia.org/wiki/File:Start.wav\n",
    "download('https://upload.wikimedia.org/wikipedia/commons/9/93/Start.wav',\n",
    "         'start.wav')\n",
    "\n",
    "# Shirt58 CC0\n",
    "# https://en.wikipedia.org/wiki/File:Shirt58_handwriting.png\n",
    "download('https://upload.wikimedia.org/wikipedia/en/thumb/5/5d/Shirt58_handwriting.png/800px-Shirt58_handwriting.png',\n",
    "         'writing.png')\n",
    "\n",
    "# Tkgd2007 - Own work CC BY-SA 3.0\n",
    "# https://commons.wikimedia.org/wiki/File:Human_evolution.svg\n",
    "download('https://upload.wikimedia.org/wikipedia/commons/thumb/6/69/Human_evolution.svg/600px-Human_evolution.svg.png',\n",
    "         'evol.png')\n",
    "\n",
    "# Designguy84 - Photo CC BY-SA 3.0\n",
    "# https://commons.wikimedia.org/wiki/File:Early_Imperial_Australian_Coins.jpg\n",
    "download('https://upload.wikimedia.org/wikipedia/commons/thumb/b/bd/Early_Imperial_Australian_Coins.jpg/320px-Early_Imperial_Australian_Coins.jpg',\n",
    "         'coins.jpg')\n",
    "\n",
    "# Donald Trung CC BY-SA 4.0\n",
    "# https://commons.wikimedia.org/wiki/File:Taxi_Noord_business_card,_Oude_Pekela_(2020)_02.jpg\n",
    "download('https://upload.wikimedia.org/wikipedia/commons/thumb/2/29/Taxi_Noord_business_card%2C_Oude_Pekela_%282020%29_02.jpg/640px-Taxi_Noord_business_card%2C_Oude_Pekela_%282020%29_02.jpg',\n",
    "         'card.jpg')\n",
    "\n",
    "# Diliff - Own work CC BY-SA 2.5\n",
    "# http://en.wikipedia.org/wiki/File:Colosseum_in_Rome,_Italy_-_April_2007.jpg\n",
    "download('https://upload.wikimedia.org/wikipedia/commons/thumb/5/53/Colosseum_in_Rome%2C_Italy_-_April_2007.jpg/640px-Colosseum_in_Rome%2C_Italy_-_April_2007.jpg',\n",
    "         'Colosseum.jpg')\n",
    "download('https://upload.wikimedia.org/wikipedia/commons/5/53/Colosseum_in_Rome%2C_Italy_-_April_2007.jpg',\n",
    "         'Colosseum_original.jpg')\n",
    "\n",
    "\n",
    "# OpenCV BSD\n",
    "download('https://raw.githubusercontent.com/opencv/opencv/master/samples/data/aloeL.jpg', 'aloeL.jpg')\n",
    "download('https://raw.githubusercontent.com/opencv/opencv/master/samples/data/aloeR.jpg', 'aloeR.jpg')   "
   ]
  },
  {
   "cell_type": "code",
   "execution_count": null,
   "metadata": {},
   "outputs": [],
   "source": [
    "# Axel Jacobs (Photographer) - Axel Jacobs, WebHDR CC BY-SA 2.0\n",
    "# https://commons.wikimedia.org/wiki/File:HDRI_Sample_Scene_Window_-_01.jpg\n",
    "# ..\n",
    "# https://commons.wikimedia.org/wiki/File:HDRI_Sample_Scene_Window_-_12.jpg\n",
    "\n",
    "urls = \\\n",
    "['https://upload.wikimedia.org/wikipedia/commons/5/51/HDRI_Sample_Scene_Window_-_01.jpg',\n",
    "'https://upload.wikimedia.org/wikipedia/commons/c/c1/HDRI_Sample_Scene_Window_-_02.jpg',\n",
    "'https://upload.wikimedia.org/wikipedia/commons/5/5b/HDRI_Sample_Scene_Window_-_03.jpg',\n",
    "'https://upload.wikimedia.org/wikipedia/commons/6/6e/HDRI_Sample_Scene_Window_-_04.jpg',\n",
    "'https://upload.wikimedia.org/wikipedia/commons/d/d1/HDRI_Sample_Scene_Window_-_05.jpg',\n",
    "'https://upload.wikimedia.org/wikipedia/commons/5/51/HDRI_Sample_Scene_Window_-_06.jpg',\n",
    "'https://upload.wikimedia.org/wikipedia/commons/b/b6/HDRI_Sample_Scene_Window_-_07.jpg',\n",
    "'https://upload.wikimedia.org/wikipedia/commons/f/f8/HDRI_Sample_Scene_Window_-_08.jpg',\n",
    "'https://upload.wikimedia.org/wikipedia/commons/8/83/HDRI_Sample_Scene_Window_-_09.jpg',\n",
    "'https://upload.wikimedia.org/wikipedia/commons/c/c0/HDRI_Sample_Scene_Window_-_10.jpg',\n",
    "'https://upload.wikimedia.org/wikipedia/commons/6/6e/HDRI_Sample_Scene_Window_-_11.jpg',\n",
    "'https://upload.wikimedia.org/wikipedia/commons/8/8b/HDRI_Sample_Scene_Window_-_12.jpg']\n",
    "\n",
    "\n",
    "for i, url in enumerate(urls):\n",
    "    filename = 'hdr_{:02d}.jpg'.format(i)\n",
    "    print(url, filename)\n",
    "    download(url, filename)"
   ]
  },
  {
   "cell_type": "markdown",
   "metadata": {},
   "source": [
    "# 配列へのアクセス：行，列\n",
    "\n",
    "- 配列へのアクセスの順番\n",
    " - 行，列\n",
    "- 画素へのアクセスの順番\n",
    " - 縦，横\n",
    " - y, x\n",
    "- ループを回すなら外側がy，内側がx\n",
    " - 配列2つ目のインデックスのほうが連続したメモリ領域\n",
    "\n",
    "例："
   ]
  },
  {
   "cell_type": "code",
   "execution_count": null,
   "metadata": {},
   "outputs": [],
   "source": [
    "im = np.zeros((2, 3)) # 幅3✕高さ2の画像（配列）\n",
    "im[0, 1] = 255 # (x,y)=(1,0)の画素へアクセス\n",
    "print(im)\n",
    "\n",
    "imshow(im)\n",
    "plt.axis('off')\n",
    "plt.show()"
   ]
  },
  {
   "cell_type": "markdown",
   "metadata": {},
   "source": [
    "C言語なら\n",
    "<pre>\n",
    "#include <stdio.h>\n",
    "int main(void){\n",
    "    \n",
    "    float im[2][3];\n",
    "    im[0][1] = 255;\n",
    "    for(int y = 0; y < 2; y++) {\n",
    "        for(int x = 0; x < 3; x++)\n",
    "            printf(\"%.2f, \", im[y][x]);\n",
    "        printf(\"\\n\");\n",
    "    }\n",
    "    return 0;\n",
    "}\n",
    "</pre>"
   ]
  },
  {
   "cell_type": "markdown",
   "metadata": {},
   "source": [
    "# カラー画像とグレースケール画像"
   ]
  },
  {
   "cell_type": "code",
   "execution_count": null,
   "metadata": {},
   "outputs": [],
   "source": [
    "im = imread('girl.jpg')\n",
    "imshow(im)\n",
    "\n",
    "print('shape: ', im.shape)\n",
    "rows, columns, channels = im.shape\n",
    "print(\"row: \", rows)\n",
    "print(\"col: \", columns)\n",
    "print(\"chn: \", channels)"
   ]
  },
  {
   "cell_type": "code",
   "execution_count": null,
   "metadata": {},
   "outputs": [],
   "source": [
    "im = rgb2gray(imread('girl.jpg'))\n",
    "imshow(im)\n",
    "\n",
    "print('shape: ', im.shape)\n",
    "rows, columns = im.shape\n",
    "print(\"row: \", rows)\n",
    "print(\"col: \", columns)\n",
    "print(\"chn: \", channels)"
   ]
  },
  {
   "cell_type": "markdown",
   "metadata": {},
   "source": [
    "# RGBチャンネル"
   ]
  },
  {
   "cell_type": "code",
   "execution_count": null,
   "metadata": {},
   "outputs": [],
   "source": [
    "# im = imread('lake.jpg')\n",
    "# im = imread('flag.png')\n",
    "im = imread('girl.jpg')\n",
    "\n",
    "imshow(im)\n",
    "plt.title(\"original RGB image\")\n",
    "plt.show()\n",
    "\n",
    "r_channel = im[:, :, 0]\n",
    "g_channel = im[:, :, 1]\n",
    "b_channel = im[:, :, 2]\n",
    "\n",
    "fig = plt.figure(figsize=(15,3))\n",
    "\n",
    "for i, c in zip(range(3), 'RGB'):\n",
    "    ax = fig.add_subplot(1, 3, i + 1)\n",
    "    imshow(im[:, :, i], vmin=0, vmax=255)\n",
    "    plt.colorbar()\n",
    "    plt.title('{} channel'.format(c))\n",
    "\n",
    "plt.show();"
   ]
  },
  {
   "cell_type": "markdown",
   "metadata": {},
   "source": [
    "# 3次元配列でのカラー画像の表現\n",
    "\n",
    "## Packed format\n",
    "- 画素へのアクセスの順番\n",
    " - 縦，横，チャンネル\n",
    " - y, x, color\n",
    " - 1画素の色情報のメモリ領域が連続している\n",
    "- 多くの場合はこれ"
   ]
  },
  {
   "cell_type": "code",
   "execution_count": null,
   "metadata": {},
   "outputs": [],
   "source": [
    "im = np.zeros((2, 4, 3), dtype=np.uint8) # 縦2，横4，3チャンネル分\n",
    "\n",
    "im[0, 1, 0] = 255\n",
    "\n",
    "print(im[:, :, 0]) # 赤：0番目のチャンネル\n",
    "print(im[:, :, 1]) # 緑：1番目のチャンネル\n",
    "print(im[:, :, 2]) # 青：2番目のチャンネル\n",
    "\n",
    "imshow(im)\n",
    "plt.axis('off')\n",
    "plt.show()"
   ]
  },
  {
   "cell_type": "markdown",
   "metadata": {},
   "source": [
    "## Planar format\n",
    "- 画素へのアクセスの順番\n",
    "- チャンネル，縦，横\n",
    " - channel, y, x\n",
    " - 「2x3の画像」のメモリ領域が連続している\n",
    "- 特殊用途\n",
    " - 一部の動画フォーマット\n",
    " - 深層学習では「バッチ」"
   ]
  },
  {
   "cell_type": "code",
   "execution_count": null,
   "metadata": {},
   "outputs": [],
   "source": [
    "im = np.zeros((3, 2, 4), dtype=np.uint8) # 画像を3枚，縦2，横4\n",
    "im[0, 0, 1] = 255\n",
    "print(im)"
   ]
  },
  {
   "cell_type": "code",
   "execution_count": null,
   "metadata": {},
   "outputs": [],
   "source": [
    "imshow(im) # imshowはpacked formatを仮定しているので，このplanar formatを表示するとおかしなことになる\n",
    "plt.axis('off')\n",
    "plt.show()"
   ]
  },
  {
   "cell_type": "markdown",
   "metadata": {},
   "source": [
    "# RGBとBGR\n",
    "\n",
    "## RGB\n",
    "- 多くの教科書の説明もこれ\n",
    "- 多くの画像処理ライブラリはこれ\n",
    " - pythonならskimage, matplotlib"
   ]
  },
  {
   "cell_type": "code",
   "execution_count": null,
   "metadata": {},
   "outputs": [],
   "source": [
    "im = np.zeros((2, 4, 3), dtype=np.uint8) # 縦2，横4，3チャンネル分\n",
    "\n",
    "im[0, 1, 0] = 255\n",
    "\n",
    "print(im[:, :, 0]) # 赤：0番目のチャンネル\n",
    "print(im[:, :, 1]) # 緑：1番目のチャンネル\n",
    "print(im[:, :, 2]) # 青：2番目のチャンネル\n",
    "\n",
    "imshow(im)\n",
    "plt.axis('off')\n",
    "plt.show()"
   ]
  },
  {
   "cell_type": "markdown",
   "metadata": {},
   "source": [
    "## BGR\n",
    "- こちらもよく使われる\n",
    " - opencv（python, C/C++）\n",
    " - WindowsのCOLORREF（16進で0x00bbggrr）\n",
    " - ハードウェア\n",
    "\n",
    "- データの解釈の違いだけ"
   ]
  },
  {
   "cell_type": "code",
   "execution_count": null,
   "metadata": {},
   "outputs": [],
   "source": [
    "im = np.zeros((2, 4, 3), dtype=np.uint8)\n",
    "\n",
    "im[0, 1, 0] = 255\n",
    "\n",
    "print(im[:, :, 0]) # 青：0番目のチャンネル\n",
    "print(im[:, :, 1]) # 緑：1番目のチャンネル\n",
    "print(im[:, :, 2]) # 赤：2番目のチャンネル"
   ]
  },
  {
   "cell_type": "code",
   "execution_count": null,
   "metadata": {},
   "outputs": [],
   "source": [
    "imshow(im) # このmatplotlibのimshowはRGBを仮定\n",
    "plt.axis('off')\n",
    "plt.show()"
   ]
  },
  {
   "cell_type": "code",
   "execution_count": null,
   "metadata": {},
   "outputs": [],
   "source": [
    "# opencvのimshowはBGRを仮定\n",
    "cv2.imshow('opencv imshow window', cv2.resize(im, (400, 200), interpolation=cv2.INTER_NEAREST))\n",
    "cv2.waitKey(3000)  # 3000ms（3秒）待つ\n",
    "cv2.destroyWindow('opencv imshow window') # 消えないかもしれないけど無視"
   ]
  },
  {
   "cell_type": "markdown",
   "metadata": {},
   "source": [
    "## BGRとRGBの変換"
   ]
  },
  {
   "cell_type": "code",
   "execution_count": null,
   "metadata": {},
   "outputs": [],
   "source": [
    "im_BGR = cv2.imread('girl.jpg') # OpenCV\n",
    "im_RGB = imread('girl.jpg') # scikit-image"
   ]
  },
  {
   "cell_type": "code",
   "execution_count": null,
   "metadata": {},
   "outputs": [],
   "source": [
    "imshow(im_RGB) # matplotlibのimshowはRGBを仮定\n",
    "plt.title('show RGB image as RGB image')\n",
    "plt.axis('off')\n",
    "plt.show()\n",
    "\n",
    "imshow(im_BGR) # matplotlibのimshowはRGBを仮定\n",
    "plt.title('show BGR image as RGB image')\n",
    "plt.axis('off')\n",
    "plt.show()"
   ]
  },
  {
   "cell_type": "code",
   "execution_count": null,
   "metadata": {},
   "outputs": [],
   "source": [
    "im_BGR_to_RGB = cv2.cvtColor(im_BGR, cv2.COLOR_BGR2RGB)\n",
    "imshow(im_BGR_to_RGB)\n",
    "plt.title('show RGB-converted BGR image as RGB image')\n",
    "plt.axis('off')\n",
    "plt.show()"
   ]
  },
  {
   "cell_type": "code",
   "execution_count": null,
   "metadata": {},
   "outputs": [],
   "source": [
    "im_BGR_to_RGB = im_BGR[:, :, ::-1]\n",
    "imshow(im_BGR_to_RGB)\n",
    "plt.title('show RGB-converted BGR image as RGB image')\n",
    "plt.axis('off')\n",
    "plt.show()"
   ]
  },
  {
   "cell_type": "code",
   "execution_count": null,
   "metadata": {},
   "outputs": [],
   "source": [
    "im_BGR_to_RGB = np.zeros_like(im_BGR)\n",
    "\n",
    "im_BGR_to_RGB[:, :, 0] = im_BGR[:, :, 2]\n",
    "im_BGR_to_RGB[:, :, 1] = im_BGR[:, :, 1]\n",
    "im_BGR_to_RGB[:, :, 2] = im_BGR[:, :, 0]\n",
    "\n",
    "imshow(im_BGR_to_RGB)\n",
    "plt.title('show RGB-converted BGR image as RGB image')\n",
    "plt.axis('off')\n",
    "plt.show()"
   ]
  },
  {
   "cell_type": "code",
   "execution_count": null,
   "metadata": {},
   "outputs": [],
   "source": [
    "imsave('girl_rgb.jpg', im_RGB) # scikit-image: RGB\n",
    "im = imread('girl_rgb.jpg') # scikit-image: RGB\n",
    "imshow(im) # matplotlib: RGB\n",
    "plt.title('RGB image')\n",
    "plt.axis('off')\n",
    "plt.show()"
   ]
  },
  {
   "cell_type": "code",
   "execution_count": null,
   "metadata": {},
   "outputs": [],
   "source": [
    "cv2.imwrite('girl_rgb.jpg', im_RGB) # Opencv: BGR\n",
    "im = imread('girl_rgb.jpg') # scikit-image: RGB\n",
    "imshow(im) # matplotlib: RGB\n",
    "plt.title('RGB image')\n",
    "plt.axis('off')\n",
    "plt.show()"
   ]
  },
  {
   "cell_type": "code",
   "execution_count": null,
   "metadata": {},
   "outputs": [],
   "source": [
    "cv2.imwrite('girl_rgb.jpg', im_RGB) # OpenCV: BGR\n",
    "im = cv2.imread('girl_rgb.jpg') # OpenCV: BGR\n",
    "imshow(im) # matplotlib: RGB\n",
    "plt.title('RGB image')\n",
    "plt.axis('off')\n",
    "plt.show()"
   ]
  },
  {
   "cell_type": "markdown",
   "metadata": {},
   "source": [
    "# グレースケールへの変換"
   ]
  },
  {
   "cell_type": "code",
   "execution_count": null,
   "metadata": {},
   "outputs": [],
   "source": [
    "# im = imread('lake.jpg')\n",
    "# im = imread('flag.png')[:,:,:3]  # RGBAの場合はRGBだけ取り出す\n",
    "im = imread('girl.jpg')\n",
    "\n",
    "imshow(im)\n",
    "plt.title(\"original RGB image\")\n",
    "plt.show()\n",
    "\n",
    "# 組み込みのrgb2gray関数を使う gray = 0.2125 R + 0.7154 G + 0.0721 B\n",
    "im_gray1 = rgb2gray(im)\n",
    "imshow(im_gray1, vmin=0, vmax=1) # 型はfloat，範囲は[0,1]になる\n",
    "plt.colorbar()\n",
    "plt.title(\"rgb2gray min {0} max {1}\".format(im_gray1.min(), im_gray1.max() ))\n",
    "plt.show()\n",
    "\n",
    "# RGBの平均をグレースケール画像とする．最初にfloatに変換し（範囲は[0,255]になる），表示のときにuint8に変換する\n",
    "im_gray2 = (im[:,:,0].astype(float) +\n",
    "            im[:,:,1].astype(float) + \n",
    "            im[:,:,2].astype(float)) / 3\n",
    "imshow(im_gray2, vmin=0, vmax=255)\n",
    "plt.colorbar()\n",
    "plt.title(\"(R+B+G)/3 min {0:.2f} max {1:.2f}\".format(im_gray2.min(), im_gray2.max() ))\n",
    "plt.show()\n",
    "\n",
    "\n",
    "# RGBの重み付き平均をグレースケール画像とする．\n",
    "# https://en.wikipedia.org/wiki/Grayscale#Luma_coding_in_video_systems\n",
    "im_gray3 = (0.299 * im[:,:,0].astype(float) +\n",
    "            0.587 * im[:,:,1].astype(float) + \n",
    "            0.114 * im[:,:,2].astype(float))\n",
    "imshow(im_gray3, vmin=0, vmax=255)\n",
    "plt.colorbar()\n",
    "plt.title(\"$\\gamma'$ of PAL and NTSC min {0:.2f} max {1:.2f}\".format(im_gray3.min(), im_gray3.max() ))\n",
    "plt.show()\n",
    "\n",
    "# RGBの重み付き平均をグレースケール画像とする．その2．規格によって重み係数は異なる\n",
    "# https://en.wikipedia.org/wiki/Grayscale#Luma_coding_in_video_systems\n",
    "# rgb2gray()はこれを使っている．http://scikit-image.org/docs/dev/api/skimage.color.html#skimage.color.rgb2gray\n",
    "im_gray4 = (0.2126 * im[:,:,0].astype(float) +\n",
    "            0.7152 * im[:,:,1].astype(float) + \n",
    "            0.0722 * im[:,:,2].astype(float))\n",
    "imshow(im_gray4, vmin=0, vmax=255)\n",
    "plt.colorbar()\n",
    "plt.title(\"$\\gamma'$ of HDTV min {0:.2f} max {1:.2f}\".format(im_gray4.min(), im_gray4.max() ))\n",
    "plt.show()"
   ]
  },
  {
   "cell_type": "markdown",
   "metadata": {},
   "source": [
    "# ヒストグラム"
   ]
  },
  {
   "cell_type": "code",
   "execution_count": null,
   "metadata": {},
   "outputs": [],
   "source": [
    "im_files = ['lake.jpg', 'flag.png', 'girl.jpg', 'writing.png']\n",
    "\n",
    "for file in im_files:\n",
    "    im = imread(file)[:,:,:3]  # RGBAの場合はRGBだけ取り出す\n",
    "\n",
    "    fig = plt.figure(figsize=(20,3))\n",
    "\n",
    "    ax = fig.add_subplot(1, 3, 1)\n",
    "    im = rgb2gray(im) # 範囲は[0,1]\n",
    "    imshow(im)\n",
    "    plt.title(file)\n",
    "    plt.axis('off')\n",
    "\n",
    "    bins = 256\n",
    "\n",
    "    ax = fig.add_subplot(1, 3, 2)\n",
    "    freq, bins = histogram(im)\n",
    "    plt.plot(bins, freq)\n",
    "    plt.xlabel(\"intensity\")\n",
    "    plt.ylabel(\"frequency\")\n",
    "    plt.title('histogram (linear)')\n",
    "    plt.xlim(0,1)\n",
    "\n",
    "\n",
    "    ax = fig.add_subplot(1, 3, 3)\n",
    "    freq, bins = histogram(im)\n",
    "    plt.plot(bins, freq)\n",
    "    plt.xlabel(\"intensity\")\n",
    "    plt.ylabel(\"log frequency\")\n",
    "    plt.yscale('log')\n",
    "    plt.title('histogram (log)')\n",
    "    plt.xlim(0,1)\n",
    "\n",
    "    plt.show();"
   ]
  },
  {
   "cell_type": "markdown",
   "metadata": {},
   "source": [
    "# 統計量"
   ]
  },
  {
   "cell_type": "code",
   "execution_count": null,
   "metadata": {},
   "outputs": [],
   "source": [
    "im_files = ['lake.jpg', 'flag.png', 'girl.jpg', 'writing.png']\n",
    "\n",
    "for file in im_files:\n",
    "    im = imread(file)[:,:,:3]  # RGBAの場合はRGBだけ取り出す\n",
    "    imshow(im)\n",
    "    plt.title(file)\n",
    "    plt.show()\n",
    "    \n",
    "    im = rgb2gray(im)\n",
    "    print('mean: ', im.mean())\n",
    "    print('std: ', im.std())\n",
    "    print('median: ', np.median(im))\n",
    "    print('max: ', im.max())\n",
    "    print('min: ', im.min())\n",
    "    print('contrast: ', (im.max() - im.min()) / (im.max() + im.min()) ) # Michelson contrast\n",
    "    print('contrast: ', im.max() / im.min() if im.min() > 0 else np.nan ) # contrast ratio\n",
    "    print('contrast: ', im.max() - im.min() ) # contrast difference\n",
    "    print()"
   ]
  },
  {
   "cell_type": "markdown",
   "metadata": {},
   "source": [
    "## 平均と分散の計算方法"
   ]
  },
  {
   "cell_type": "markdown",
   "metadata": {},
   "source": [
    "### 定義式そのまま\n",
    "- 計算量大：2重ループ2回\n",
    "- 書いてはいけないコード\n"
   ]
  },
  {
   "cell_type": "code",
   "execution_count": null,
   "metadata": {},
   "outputs": [],
   "source": [
    "im = rgb2gray(imread('girl.jpg'))"
   ]
  },
  {
   "cell_type": "code",
   "execution_count": null,
   "metadata": {},
   "outputs": [],
   "source": [
    "h, w = im.shape\n",
    "\n",
    "mean = 0\n",
    "for y in range(h):\n",
    "    for x in range(w):\n",
    "        mean += im[y, x]\n",
    "mean /= h * w\n",
    "print('mean: ', mean)\n",
    "\n",
    "var = 0\n",
    "for y in range(h):\n",
    "    for x in range(w):\n",
    "        var += (im[y, x] - mean)**2\n",
    "var /= h * w\n",
    "print('variance: ', var)\n",
    "print('std: ', np.sqrt(var))"
   ]
  },
  {
   "cell_type": "markdown",
   "metadata": {},
   "source": [
    "### 定義式を変形したもの\n",
    "- 計算量は半分：2重ループ1回\n",
    "- 数式から導出できる\n",
    "\n",
    "$\n",
    "\\mu = \\frac{1}{N} \\sum_i x_i \\\\\n",
    "\\sigma^2 = \\frac{1}{N} \\sum_i (x_i - \\mu)^2\n",
    "= (\\frac{1}{N} \\sum_i x_i^2) - \\mu^2\n",
    "$"
   ]
  },
  {
   "cell_type": "code",
   "execution_count": null,
   "metadata": {},
   "outputs": [],
   "source": [
    "h, w = im.shape\n",
    "\n",
    "mean = 0\n",
    "var = 0\n",
    "for y in range(h):\n",
    "    for x in range(w):\n",
    "        mean += im[y, x]\n",
    "        var  += im[y, x]**2\n",
    "\n",
    "mean /= h * w\n",
    "print('mean: ', mean)\n",
    "\n",
    "var /= h * w\n",
    "var -= mean**2\n",
    "print('variance: ', var)\n",
    "print('std: ', np.sqrt(var))"
   ]
  },
  {
   "cell_type": "markdown",
   "metadata": {},
   "source": [
    "# タスク\n",
    "\n",
    "- カメラを手で抑えて真っ暗な画像を撮影する\n",
    "- その画像を読み込み，ヒストグラムと統計量を計算する"
   ]
  },
  {
   "cell_type": "markdown",
   "metadata": {},
   "source": [
    "# ガンマ変換"
   ]
  },
  {
   "cell_type": "code",
   "execution_count": null,
   "metadata": {},
   "outputs": [],
   "source": [
    "files = ['flag.png', 'lake.jpg', 'girl.jpg']\n",
    "\n",
    "@interact(gamma=(0.1, 10, 0.1),\n",
    "          file=files)\n",
    "def g(gamma=1.0, file=files[0]):\n",
    "    \n",
    "    im = rgb2gray(imread(file)[:,:,:3])  # RGBAの場合はRGBだけ取り出す\n",
    "    \n",
    "    fig = plt.figure(figsize=(20, 3))\n",
    "\n",
    "    ax = fig.add_subplot(1, 4, 1)\n",
    "    imshow(im, vmin=0, vmax=1)\n",
    "    plt.colorbar()\n",
    "    plt.title('original image')\n",
    "    \n",
    "    ax = fig.add_subplot(1, 4, 2)\n",
    "    im_gamma = adjust_gamma(im, gamma)\n",
    "    imshow(im_gamma, vmin=0, vmax=1)\n",
    "    plt.colorbar()\n",
    "    plt.title('$\\gamma$ = {}'.format(gamma))\n",
    "    \n",
    "    ax = fig.add_subplot(1, 4, 3)\n",
    "    x = np.arange(0, 1, 0.01)\n",
    "    plt.plot(x, x ** gamma)\n",
    "    ax.set_aspect('equal')\n",
    "    ax.set_xlabel('input')\n",
    "    ax.set_ylabel('output')\n",
    "    plt.title('$\\gamma$ = {}'.format(gamma))\n",
    "\n",
    "    ax = fig.add_subplot(1, 4, 4)  \n",
    "    freq, bins = histogram(im_gamma)\n",
    "    plt.plot(bins, freq)\n",
    "    plt.xlim(0, 1)\n",
    "    plt.xlabel(\"intensity\")\n",
    "    plt.ylabel(\"log frequency\")\n",
    "    plt.yscale('log')\n",
    "    plt.title('histogram (log)')\n",
    "\n",
    "\n",
    "    plt.show();"
   ]
  },
  {
   "cell_type": "markdown",
   "metadata": {},
   "source": [
    "# チャンネル別のガンマ変換\n"
   ]
  },
  {
   "cell_type": "code",
   "execution_count": null,
   "metadata": {},
   "outputs": [],
   "source": [
    "vals = (val_start, val_end, val_step) = 0.1, 10, 0.1\n",
    "val_default = 1.0\n",
    "\n",
    "files = ['flag.png', 'lake.jpg', 'girl.jpg']\n",
    "\n",
    "@interact(r_gamma=vals,\n",
    "          g_gamma=vals,\n",
    "          b_gamma=vals,\n",
    "          file=files)\n",
    "def g(r_gamma=val_default,\n",
    "      g_gamma=val_default,\n",
    "      b_gamma=val_default,\n",
    "      file=files[0]):\n",
    "    \n",
    "    im = imread(file)[:,:,:3]  # RGBAの場合はRGBだけ取り出す\n",
    "    \n",
    "    fig = plt.figure(figsize=(15, 3))\n",
    "\n",
    "    ax = fig.add_subplot(1, 3, 1)\n",
    "    imshow(im, vmin=0, vmax=255)\n",
    "    plt.title('original image')\n",
    "    \n",
    "    ax = fig.add_subplot(1, 3, 2)\n",
    "    im[:, :, 0] = 255 * (im[:, :, 0]/255) ** r_gamma\n",
    "    im[:, :, 1] = 255 * (im[:, :, 1]/255) ** g_gamma\n",
    "    im[:, :, 2] = 255 * (im[:, :, 2]/255) ** b_gamma\n",
    "    imshow(im, vmin=0, vmax=1)\n",
    "    plt.title('$\\gamma$ = ({0},{1},{2})'.format(r_gamma, g_gamma, b_gamma))\n",
    "    \n",
    "    ax = fig.add_subplot(1, 3, 3)\n",
    "    x = np.arange(0, 1, 0.01)\n",
    "    plt.plot(x, x ** r_gamma, c='red', label='$\\gamma$ for R')\n",
    "    plt.plot(x, x ** g_gamma, c='green', label='$\\gamma$ for G')\n",
    "    plt.plot(x, x ** b_gamma, c='blue', label='$\\gamma$ for B')\n",
    "    plt.legend()\n",
    "    ax.set_aspect('equal')\n",
    "    ax.set_xlabel('input')\n",
    "    ax.set_ylabel('output')\n",
    "\n",
    "    plt.show();"
   ]
  },
  {
   "cell_type": "markdown",
   "metadata": {},
   "source": [
    "# 疑似カラー表示"
   ]
  },
  {
   "cell_type": "code",
   "execution_count": null,
   "metadata": {},
   "outputs": [],
   "source": [
    "im = rgb2gray(imread('IR_cat.jpg'))\n",
    "\n",
    "cmaps = ['gray', 'gray_r', \n",
    "         'jet', 'jet_r',\n",
    "         'rainbow', 'rainbow_r',\n",
    "         'hsv', 'hsv_r',\n",
    "         'terrain', 'terrain_r'\n",
    "       ]\n",
    "\n",
    "@interact(cmap=RadioButtons(options=cmaps))\n",
    "def g(cmap='gray'):\n",
    "    \n",
    "    imshow(im, cmap=cmap)\n",
    "    plt.colorbar()\n",
    "    plt.axis('off')\n",
    "    plt.tight_layout()\n",
    "    plt.show()"
   ]
  },
  {
   "cell_type": "markdown",
   "metadata": {},
   "source": [
    "# 画像間の演算\n",
    "\n",
    "## 平均"
   ]
  },
  {
   "cell_type": "code",
   "execution_count": null,
   "metadata": {},
   "outputs": [],
   "source": [
    "im1 = imread('girl.jpg')\n",
    "im2 = imread('flag.png')[:,:,:3] # alphaチャンネルを除去\n",
    "\n",
    "im1 = resize(im1, (480, 640, 3))\n",
    "im2 = resize(im2, (480, 640, 3))\n",
    "\n",
    "im_ave = (im1 + im2) / 2\n",
    "imshow(im_ave)\n",
    "plt.axis('off')\n",
    "plt.title('average image')\n",
    "plt.show();"
   ]
  },
  {
   "cell_type": "markdown",
   "metadata": {},
   "source": [
    "## 重み付き平均"
   ]
  },
  {
   "cell_type": "code",
   "execution_count": null,
   "metadata": {},
   "outputs": [],
   "source": [
    "vals = (val_start, val_end, val_step) = 0.0, 1, 0.1\n",
    "val_default = 0.5\n",
    "\n",
    "im1 = imread('girl.jpg')\n",
    "im2 = imread('flag.png')[:,:,:3] # alphaチャンネルを除去\n",
    "\n",
    "im1 = resize(im1, (480, 640, 3))\n",
    "im2 = resize(im2, (480, 640, 3))\n",
    "\n",
    "@interact(alpha=vals)\n",
    "def g(alpha=val_default):\n",
    "    \n",
    "    \n",
    "    fig = plt.figure(figsize=(15, 3))\n",
    "\n",
    "    ax = fig.add_subplot(1, 3, 1)\n",
    "    im_weighted_ave = alpha * im1 + (1 - alpha) * im2\n",
    "    imshow(im_weighted_ave)\n",
    "    \n",
    "    ax = fig.add_subplot(1, 3, 2)\n",
    "    imshow(alpha * im1)\n",
    "    plt.title('weight: {:.2f}'.format(alpha))\n",
    "    \n",
    "\n",
    "    ax = fig.add_subplot(1, 3, 3)\n",
    "    imshow((1 - alpha) * im2)\n",
    "    plt.title('weight: {:.2f}'.format(1 - alpha))\n",
    "\n",
    "    \n",
    "\n",
    "    plt.show()\n"
   ]
  },
  {
   "cell_type": "markdown",
   "metadata": {},
   "source": [
    "## アルファブレンディング"
   ]
  },
  {
   "cell_type": "code",
   "execution_count": null,
   "metadata": {},
   "outputs": [],
   "source": [
    "vals = (val_start, val_end, val_step) = 0, 640, 20\n",
    "val_default = 320\n",
    "\n",
    "im1 = imread('girl.jpg')\n",
    "im2 = imread('flag.png')[:, :, :3] # alphaチャンネルを除去\n",
    "\n",
    "im1 = resize(im1, (480, 640, 3))\n",
    "im2 = resize(im2, (480, 640, 3))\n",
    "\n",
    "@interact(center=vals)\n",
    "def g(center=val_default):\n",
    "    \n",
    "\n",
    "    alpha_mask = np.zeros((480, 640, 3))\n",
    "    for y in range(480):\n",
    "        for x in range(640):\n",
    "            alpha_mask[y, x, :] = 1 / (1 + np.exp(-(x - center) * 0.015))\n",
    "    \n",
    "    \n",
    "    im1_a = im1 * alpha_mask\n",
    "    im2_a = im2 * (1 - alpha_mask)\n",
    "\n",
    "    \n",
    "    fig = plt.figure(figsize=(15, 6))\n",
    "\n",
    "    \n",
    "    ax = fig.add_subplot(2, 3, 1)\n",
    "    im_weighted_ave = im1_a + im2_a\n",
    "    imshow(im_weighted_ave)\n",
    "    \n",
    "    ax = fig.add_subplot(2, 3, 2)\n",
    "    imshow(im1_a)\n",
    "   \n",
    "    ax = fig.add_subplot(2, 3, 3)\n",
    "    imshow(im2_a)\n",
    "\n",
    "    ax = fig.add_subplot(2, 3, 5)\n",
    "    imshow(alpha_mask)\n",
    "   \n",
    "    ax = fig.add_subplot(2, 3, 6)\n",
    "    imshow(1 - alpha_mask)\n",
    "\n",
    "   \n",
    "    plt.show()\n"
   ]
  },
  {
   "cell_type": "markdown",
   "metadata": {},
   "source": [
    "# 二値化"
   ]
  },
  {
   "cell_type": "code",
   "execution_count": null,
   "metadata": {},
   "outputs": [],
   "source": [
    "im = rgb2gray(imread('text.jpg'))\n",
    "\n",
    "\n",
    "@interact(block_size=(1, 500, 10))\n",
    "def g(block_size=51):\n",
    "   \n",
    "    fig = plt.figure(figsize=(15, 2.5))\n",
    "\n",
    "    ax = fig.add_subplot(1, 3, 1)\n",
    "    imshow(im)\n",
    "    plt.axis('off')\n",
    "    plt.title('original image')\n",
    "    \n",
    "    ax = fig.add_subplot(1, 3, 2)\n",
    "    global_th = threshold_otsu(im)\n",
    "    binary_global = im > global_th\n",
    "    imshow(binary_global)\n",
    "    plt.axis('off')\n",
    "    plt.title('global thresholding by Otsu th')\n",
    "\n",
    "\n",
    "    ax = fig.add_subplot(1, 3, 3)\n",
    "    adaptive_th = threshold_local(im, block_size)\n",
    "    binary_adaptive = im > adaptive_th\n",
    "    imshow(binary_adaptive)\n",
    "    plt.title('adaptive thresholding with {0}x{0} block'.format(block_size))\n",
    "    plt.axis('off')\n",
    "\n",
    "\n",
    "    plt.show()\n"
   ]
  },
  {
   "cell_type": "markdown",
   "metadata": {},
   "source": [
    "# ラベリング"
   ]
  },
  {
   "cell_type": "code",
   "execution_count": null,
   "metadata": {},
   "outputs": [],
   "source": [
    "img = rgb2gray(imread('coins.jpg'))\n",
    "imshow(img)"
   ]
  },
  {
   "cell_type": "code",
   "execution_count": null,
   "metadata": {},
   "outputs": [],
   "source": [
    "block_size = 121\n",
    "\n",
    "img2 = img > threshold_local(img, block_size)\n",
    "imshow(img2)\n",
    "plt.title('type {0}, values {1}'.format(img2.dtype, np.unique(img2)))\n",
    "plt.show()\n",
    "\n",
    "img2i = skimage.img_as_int(img2)\n",
    "imshow(img2i)\n",
    "plt.title('type {0}, values {1}'.format(img2i.dtype, np.unique(img2i)))\n",
    "plt.show()"
   ]
  },
  {
   "cell_type": "code",
   "execution_count": null,
   "metadata": {},
   "outputs": [],
   "source": [
    "img2il = measure.label(img2i) # ラベリング\n",
    "\n",
    "imshow(img2il) # ラベリング結果の表示．輝度値はラベル番号\n",
    "plt.title('labeling')\n",
    "plt.show()\n",
    "\n",
    "imshow(color.label2rgb(img2il, bg_label=0)) # ラベリング結果をカラーで表示．\n",
    "plt.title('labeling with random colors')\n",
    "plt.show()"
   ]
  },
  {
   "cell_type": "markdown",
   "metadata": {},
   "source": [
    "# モルフォロジー処理"
   ]
  },
  {
   "cell_type": "code",
   "execution_count": null,
   "metadata": {},
   "outputs": [],
   "source": [
    "@interact(element=['disk', 'square'],\n",
    "          size=(1, 10, 1)\n",
    "         )\n",
    "def g(element='disk', size=1):\n",
    "    \n",
    "    if element == 'square':\n",
    "        disk = morphology.square(size)\n",
    "    else:\n",
    "        disk = morphology.disk(size)\n",
    "\n",
    "\n",
    "    fig = plt.figure(figsize=(20, 6))\n",
    "    \n",
    "    fig.add_subplot(2, 4, 1)\n",
    "    imshow(img2il) # ラベリング結果の表示．輝度値はラベル番号\n",
    "    plt.title('labeling')\n",
    "    plt.axis('off')\n",
    "\n",
    "    \n",
    "    img2im = img2il.copy()\n",
    "\n",
    "    fig.add_subplot(2, 4, 2)\n",
    "    img2im = morphology.binary_dilation(img2im, disk)\n",
    "    img2im = morphology.binary_erosion(img2im, disk)\n",
    "    imshow( measure.label(img2im) )\n",
    "    plt.title('filling holes')\n",
    "    plt.axis('off')\n",
    "\n",
    "\n",
    "\n",
    "    fig.add_subplot(2, 4, 3)\n",
    "    img2im = morphology.binary_erosion(img2im, disk)\n",
    "    img2im = morphology.binary_dilation(img2im, disk)\n",
    "    imshow( measure.label(img2im) )\n",
    "    plt.title('remove small regions')\n",
    "    plt.axis('off')\n",
    "\n",
    "\n",
    "\n",
    "    fig.add_subplot(2, 4, 4)\n",
    "    imshow(color.label2rgb(measure.label(img2im), bg_label=0))\n",
    "    plt.title('labeling after morphorogy operations')\n",
    "    plt.axis('off')\n",
    "\n",
    "    \n",
    "    fig.add_subplot(2, 4, 8)\n",
    "    # 各物体の凸包を求めると，もっときれいになる\n",
    "    img2im = measure.label(morphology.convex_hull_object(img2im))\n",
    "    imshow(color.label2rgb(img2im, bg_label=0))\n",
    "    plt.title('convex hulls')\n",
    "    plt.axis('off')\n",
    "\n",
    "\n",
    "    plt.show()\n",
    "    "
   ]
  },
  {
   "cell_type": "markdown",
   "metadata": {},
   "source": [
    "# 細線化"
   ]
  },
  {
   "cell_type": "code",
   "execution_count": null,
   "metadata": {},
   "outputs": [],
   "source": [
    "img = (imread('evol.png')[:,:,3] > 1).astype(int) # 実はRGBA画像なので，まずRGB値を使ってboolへ変換"
   ]
  },
  {
   "cell_type": "code",
   "execution_count": null,
   "metadata": {},
   "outputs": [],
   "source": [
    "fig = plt.figure(figsize=(15, 3))\n",
    "\n",
    "ax = fig.add_subplot(1, 3, 1)\n",
    "imshow(img)\n",
    "plt.title('original bianry image')\n",
    "plt.axis('off')\n",
    "\n",
    "ax = fig.add_subplot(1, 3, 2)\n",
    "thin_img = morphology.skeletonize(img)\n",
    "imshow(thin_img)\n",
    "plt.title('thinning')\n",
    "plt.axis('off')\n",
    "\n",
    "\n",
    "ax = fig.add_subplot(1, 3, 3)\n",
    "_, dist = morphology.medial_axis(img, return_distance=True)\n",
    "imshow(dist) # 距離変換画像．これを使って細線化を行っているはず\n",
    "plt.title('distance transform')\n",
    "plt.axis('off')\n",
    "\n",
    "plt.show()"
   ]
  },
  {
   "cell_type": "code",
   "execution_count": null,
   "metadata": {},
   "outputs": [],
   "source": []
  }
 ],
 "metadata": {
  "kernelspec": {
   "display_name": "Python 3",
   "language": "python",
   "name": "python3"
  },
  "language_info": {
   "codemirror_mode": {
    "name": "ipython",
    "version": 3
   },
   "file_extension": ".py",
   "mimetype": "text/x-python",
   "name": "python",
   "nbconvert_exporter": "python",
   "pygments_lexer": "ipython3",
   "version": "3.7.7"
  }
 },
 "nbformat": 4,
 "nbformat_minor": 4
}
