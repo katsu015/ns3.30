{
 "cells": [
  {
   "cell_type": "markdown",
   "metadata": {},
   "source": [
    "# 顔画像の識別"
   ]
  },
  {
   "cell_type": "markdown",
   "metadata": {},
   "source": [
    "# 顔画像データセットの準備"
   ]
  },
  {
   "cell_type": "code",
   "execution_count": null,
   "metadata": {
    "ExecuteTime": {
     "end_time": "2017-04-20T07:29:24.391696Z",
     "start_time": "2017-04-20T07:29:24.384804Z"
    },
    "run_control": {
     "frozen": false,
     "read_only": false
    }
   },
   "outputs": [],
   "source": [
    "# load modules\n",
    "\n",
    "import numpy as np\n",
    "\n",
    "import skimage.data\n",
    "\n",
    "import matplotlib\n",
    "import matplotlib.pyplot as plt\n",
    "from matplotlib.pyplot import imshow\n",
    "%matplotlib inline\n",
    "plt.gray();\n",
    "\n",
    "import sklearn\n",
    "from sklearn.datasets import fetch_olivetti_faces\n",
    "from sklearn.model_selection import StratifiedShuffleSplit\n",
    "\n",
    "from sklearn.svm import SVC as SVM\n",
    "from sklearn.neighbors import KNeighborsClassifier as kNN\n",
    "from sklearn.ensemble import AdaBoostClassifier as AdaBoost\n",
    "from sklearn.ensemble import RandomForestClassifier as RandomForest\n",
    "\n",
    "\n",
    "from ipywidgets import interact, interactive, fixed, RadioButtons\n",
    "import ipywidgets as widgets\n",
    "from IPython.display import display"
   ]
  },
  {
   "cell_type": "markdown",
   "metadata": {},
   "source": [
    "## 顔画像データセットのダウンロード\n",
    "\n",
    "ここではsklearnのデータセットとして準備されているOlivetti facesデータセットを用いる．\n",
    "詳しくは[sklearnのマニュアル](https://scikit-learn.org/stable/modules/generated/sklearn.datasets.fetch_olivetti_faces.html)を参照．\n",
    "\n",
    "このデータセットには400枚の顔画像があり，それぞれが4096次元のベクトルである（64x64画像を表す）．"
   ]
  },
  {
   "cell_type": "code",
   "execution_count": null,
   "metadata": {
    "ExecuteTime": {
     "end_time": "2017-04-20T07:29:25.0397Z",
     "start_time": "2017-04-20T07:29:25.00078Z"
    },
    "run_control": {
     "frozen": false,
     "read_only": false
    }
   },
   "outputs": [],
   "source": [
    "# load the face dataset\n",
    "\n",
    "dataset = fetch_olivetti_faces(shuffle=False)\n",
    "faces = dataset.data"
   ]
  },
  {
   "cell_type": "code",
   "execution_count": null,
   "metadata": {
    "ExecuteTime": {
     "end_time": "2017-04-20T07:29:25.265055Z",
     "start_time": "2017-04-20T07:29:25.261476Z"
    },
    "run_control": {
     "frozen": false,
     "read_only": false
    }
   },
   "outputs": [],
   "source": [
    "# faces has images as its row vectors\n",
    "\n",
    "nsamples, dim = faces.shape\n",
    "print(\"there are\", nsamples, \"samples of dimension\", dim)"
   ]
  },
  {
   "cell_type": "code",
   "execution_count": null,
   "metadata": {
    "ExecuteTime": {
     "end_time": "2017-04-20T07:29:25.500179Z",
     "start_time": "2017-04-20T07:29:25.49607Z"
    },
    "run_control": {
     "frozen": false,
     "read_only": false
    }
   },
   "outputs": [],
   "source": [
    "# see the inside of faces\n",
    "\n",
    "faces"
   ]
  },
  {
   "cell_type": "code",
   "execution_count": null,
   "metadata": {},
   "outputs": [],
   "source": [
    "# show 0-th image with colorbar (pixel values range from 0 to 1)\n",
    "\n",
    "# reshape(64,64) converts a vector into a 64x64 image \n",
    "imshow(faces[0].reshape(64,64), vmin=0, vmax=1) # set vmin=0 and vmax=1 to display value 0 to be black, and 1 white (otherwise min value is black and max value is white)\n",
    "\n",
    "plt.colorbar() # show colorbar\n",
    "plt.axis('off') # turn off border ticks\n",
    "plt.title(\"0th image\"); # set title"
   ]
  },
  {
   "cell_type": "code",
   "execution_count": null,
   "metadata": {
    "ExecuteTime": {
     "end_time": "2017-04-20T07:29:44.204734Z",
     "start_time": "2017-04-20T07:29:26.092395Z"
    },
    "run_control": {
     "frozen": false,
     "read_only": false
    }
   },
   "outputs": [],
   "source": [
    "# show all 400 images. takes time, wait for a while....\n",
    "\n",
    "plt.figure(figsize=(20, 20))\n",
    "for i, p in enumerate(faces):\n",
    "    plt.subplot(20, 20, i + 1)\n",
    "    \n",
    "    plt.imshow(faces[i].reshape(64,64), vmin=0, vmax=1)\n",
    "    \n",
    "    plt.axis('off')\n",
    "\n",
    "plt.show()"
   ]
  },
  {
   "cell_type": "markdown",
   "metadata": {},
   "source": [
    "このデータセットにはラベルが付いている．"
   ]
  },
  {
   "cell_type": "code",
   "execution_count": null,
   "metadata": {
    "scrolled": false
   },
   "outputs": [],
   "source": [
    "dataset.target"
   ]
  },
  {
   "cell_type": "markdown",
   "metadata": {},
   "source": [
    "これを多クラス識別問題として扱う．"
   ]
  },
  {
   "cell_type": "code",
   "execution_count": null,
   "metadata": {},
   "outputs": [],
   "source": [
    "X = faces\n",
    "y = dataset.target"
   ]
  },
  {
   "cell_type": "code",
   "execution_count": null,
   "metadata": {},
   "outputs": [],
   "source": [
    "ss = StratifiedShuffleSplit(n_splits=1,      # 分割を1個生成\n",
    "                            train_size=0.5,  # 学習は半分\n",
    "                            test_size=0.5)   # テストも半分"
   ]
  },
  {
   "cell_type": "code",
   "execution_count": null,
   "metadata": {},
   "outputs": [],
   "source": [
    "train_index, test_index = next(ss.split(X, y))\n",
    "\n",
    "X_train, X_test = X[train_index], X[test_index] # 学習データ，テストデータ\n",
    "y_train, y_test = y[train_index], y[test_index] # 学習データのラベル，テストデータのラベル"
   ]
  },
  {
   "cell_type": "markdown",
   "metadata": {},
   "source": [
    "では各識別器を適用してみる．"
   ]
  },
  {
   "cell_type": "code",
   "execution_count": null,
   "metadata": {},
   "outputs": [],
   "source": [
    "methods = {'SVM': SVM(kernel='linear'),\n",
    "           'kNN': kNN(n_neighbors=5),\n",
    "           'AdaBoost': AdaBoost(n_estimators=15),\n",
    "           'RandomForest': RandomForest(n_estimators=50)}\n",
    "for m, clf in methods.items():\n",
    "    clf.fit(X_train, y_train)\n",
    "    print('method {0}: test accuracy {1}%'.format(m, clf.score(X_test, y_test) * 100))"
   ]
  },
  {
   "cell_type": "code",
   "execution_count": null,
   "metadata": {
    "scrolled": false
   },
   "outputs": [],
   "source": [
    "@interact(sample=(0, len(y)-1, 1),\n",
    "          method=RadioButtons(options=list(methods.keys()))\n",
    "         )\n",
    "def g(sample=0, method='kNN'):\n",
    "    \n",
    "    imshow(X[sample].reshape(64,64), vmin=0, vmax=1)\n",
    "    clf = methods[method]\n",
    "    y_pred = clf.predict(X[sample, np.newaxis])[0]\n",
    "    print(clf)\n",
    "\n",
    "    plt.axis('off')\n",
    "    plt.title('class: true {0} predict {1}\\n{2} sample'.format(y[sample], y_pred, \n",
    "                                                               'test' if sample in test_index else 'training'))"
   ]
  },
  {
   "cell_type": "code",
   "execution_count": null,
   "metadata": {},
   "outputs": [],
   "source": []
  }
 ],
 "metadata": {
  "kernelspec": {
   "display_name": "Python 3",
   "language": "python",
   "name": "python3"
  },
  "language_info": {
   "codemirror_mode": {
    "name": "ipython",
    "version": 3
   },
   "file_extension": ".py",
   "mimetype": "text/x-python",
   "name": "python",
   "nbconvert_exporter": "python",
   "pygments_lexer": "ipython3",
   "version": "3.7.7"
  }
 },
 "nbformat": 4,
 "nbformat_minor": 4
}
