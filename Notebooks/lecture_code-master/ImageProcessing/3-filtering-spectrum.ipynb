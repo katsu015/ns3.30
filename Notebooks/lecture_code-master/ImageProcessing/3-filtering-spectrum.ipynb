{
 "cells": [
  {
   "cell_type": "code",
   "execution_count": null,
   "metadata": {},
   "outputs": [],
   "source": [
    "from scipy import ndimage\n",
    "from scipy import signal\n",
    "from scipy.misc import derivative\n",
    "\n",
    "\n",
    "import skimage\n",
    "from skimage.color import rgb2gray\n",
    "from skimage.feature import canny\n",
    "from skimage.filters import gaussian, gabor_kernel, sobel, sobel_h, sobel_v, prewitt, prewitt_h, prewitt_v, roberts, median\n",
    "from skimage.io import imread, imsave\n",
    "from skimage.restoration import denoise_bilateral, denoise_nl_means\n",
    "from skimage.transform import rotate, resize\n",
    "from skimage.morphology import square\n",
    "\n",
    "\n",
    "import matplotlib.pyplot as plt\n",
    "%matplotlib inline\n",
    "plt.gray();\n",
    "from matplotlib.pyplot import imshow\n",
    "import matplotlib.mlab as mlab\n",
    "import matplotlib.colors as colors\n",
    "\n",
    "import numpy as np\n",
    "from numpy.fft import fft\n",
    "\n",
    "import wave\n",
    "\n",
    "from time import time\n",
    "\n",
    "\n",
    "import ipywidgets as widgets\n",
    "from IPython.display import display\n",
    "from ipywidgets import interact, interactive, fixed, RadioButtons\n",
    "\n",
    "from tqdm.notebook import tqdm\n"
   ]
  },
  {
   "cell_type": "code",
   "execution_count": null,
   "metadata": {},
   "outputs": [],
   "source": []
  },
  {
   "cell_type": "markdown",
   "metadata": {},
   "source": [
    "# フィルタリング"
   ]
  },
  {
   "cell_type": "markdown",
   "metadata": {},
   "source": [
    "## 平均値フィルタ"
   ]
  },
  {
   "cell_type": "code",
   "execution_count": null,
   "metadata": {},
   "outputs": [],
   "source": [
    "im = rgb2gray(imread('girl.jpg'))\n",
    "im = resize(im, (im.shape[0]//5, im.shape[1]//5))\n",
    "\n",
    "im[25, 70] = 0\n",
    "\n",
    "vals = (val_start, val_end, val_step) = 1, 21, 2\n",
    "val_default = 3\n",
    "\n",
    "@interact(N=vals)\n",
    "def g(N=val_default):\n",
    "    \n",
    "    fig = plt.figure(figsize=(10, 3))\n",
    "\n",
    "    ax = fig.add_subplot(1, 2, 1)\n",
    "    imshow(im)\n",
    "#     plt.axis('off')\n",
    "    plt.title('original image {0}x{1}'.format(im.shape[0], im.shape[1]))\n",
    "\n",
    "    ax = fig.add_subplot(1, 2, 2)\n",
    "    w = np.ones((N, N)) / (N ** 2)  # N×N平滑化フィルタ\n",
    "    imshow(ndimage.convolve(im, w))\n",
    "    plt.axis('off')\n",
    "    plt.title('{0}x{0} average filter'.format(N))\n",
    "\n",
    "    \n",
    "    plt.show()\n"
   ]
  },
  {
   "cell_type": "markdown",
   "metadata": {},
   "source": [
    "## ガウスフィルタ"
   ]
  },
  {
   "cell_type": "code",
   "execution_count": null,
   "metadata": {},
   "outputs": [],
   "source": [
    "im = rgb2gray(imread('girl.jpg'))\n",
    "im = resize(im, (im.shape[0]//5, im.shape[1]//5))\n",
    "\n",
    "size = min(im.shape[0], im.shape[1])\n",
    "impuse_response = np.zeros((size, size))\n",
    "impuse_response[size//2, size//2] = 1\n",
    "\n",
    "\n",
    "vals = (val_start, val_end, val_step) = 1, 20, 1\n",
    "val_default = 3\n",
    "\n",
    "@interact(sigma=vals)\n",
    "def g(sigma=val_default):\n",
    "    \n",
    "    fig = plt.figure(figsize=(13, 3))\n",
    "\n",
    "    ax = fig.add_subplot(1, 3, 1)\n",
    "    imshow(im)\n",
    "    plt.axis('off')\n",
    "    plt.title('original image {0}x{1}'.format(im.shape[0], im.shape[1]))\n",
    "\n",
    "    ax = fig.add_subplot(1, 3, 2)\n",
    "    imshow(gaussian(im, sigma=sigma))\n",
    "    plt.axis('off')\n",
    "    plt.title('filterd image')\n",
    "\n",
    "    ax = fig.add_subplot(1, 3, 3)\n",
    "    imshow(gaussian(impuse_response, sigma=sigma))\n",
    "    plt.colorbar()\n",
    "    plt.tight_layout()\n",
    "    plt.title('Gaussian filter with $\\sigma$={}'.format(sigma))\n",
    "\n",
    "\n",
    "    \n",
    "    plt.show()"
   ]
  },
  {
   "cell_type": "markdown",
   "metadata": {},
   "source": [
    "## ガボールフィルタ"
   ]
  },
  {
   "cell_type": "code",
   "execution_count": null,
   "metadata": {},
   "outputs": [],
   "source": [
    "fig = plt.figure(figsize=(20,9))\n",
    "\n",
    "for j in tqdm(range(3)):\n",
    "    for i in tqdm(range(5), leave=False):\n",
    "        ax = fig.add_subplot(3, 5, i+1 + j*5)\n",
    "        imshow(gabor_kernel(frequency=0.1, bandwidth=1/(2*j+1), theta=0.4 * i).real, cmap=\"gray\")\n",
    "        plt.tight_layout()\n",
    "        plt.colorbar()\n",
    "plt.show()"
   ]
  },
  {
   "cell_type": "code",
   "execution_count": null,
   "metadata": {},
   "outputs": [],
   "source": [
    "im = rgb2gray(imread('girl.jpg'))\n",
    "im = resize(im, (im.shape[0]//5, im.shape[1]//5))\n",
    "\n",
    "fig = plt.figure(figsize=(20,9))\n",
    "\n",
    "for j in tqdm(range(3)):\n",
    "    for i in tqdm(range(5), leave=False):\n",
    "        ax = fig.add_subplot(3, 5, i+1 + j*5)\n",
    "        gabor = gabor_kernel(frequency=0.1, bandwidth=1/(2*j+1), theta=0.4 * i).real\n",
    "        im_gabor = signal.fftconvolve(im, gabor, mode='same') # use FFT for convolution\n",
    "        imshow(im_gabor, cmap=\"gray\")\n",
    "        plt.tight_layout()\n",
    "        plt.colorbar()\n",
    "plt.plot()"
   ]
  },
  {
   "cell_type": "markdown",
   "metadata": {},
   "source": [
    "# 微分フィルタ"
   ]
  },
  {
   "cell_type": "markdown",
   "metadata": {},
   "source": [
    "## ソーベルフィルタ，プレウィットフィルタ"
   ]
  },
  {
   "cell_type": "code",
   "execution_count": null,
   "metadata": {
    "scrolled": false
   },
   "outputs": [],
   "source": [
    "im = rgb2gray(imread('girl.jpg'))\n",
    "im = resize(im, (im.shape[0]//5, im.shape[1]//5))\n",
    "\n",
    "kernels = {'diff': np.array([[ 0,0,0],\n",
    "                             [-1,0,1],\n",
    "                             [ 0,0,0]]) / 2,\n",
    "           'prewitt': np.array([[-1,0,1],\n",
    "                                [-1,0,1],\n",
    "                                [-1,0,1]]) / 6,\n",
    "           'sobel': np.array([[-1,0,1],\n",
    "                              [-2,0,2],\n",
    "                              [-1,0,1]]) / 8\n",
    "          }\n",
    "\n",
    "@interact(kernel=['diff', 'prewitt', 'sobel'],\n",
    "          val_max=(0.1, 0.5, 0.1))\n",
    "def g(kernel='diff', val_max=0.1):\n",
    "\n",
    "    k = kernels[kernel]\n",
    "\n",
    "    imh = ndimage.convolve(im, k)\n",
    "    imv = ndimage.convolve(im, k.T)\n",
    "\n",
    "    fig = plt.figure(figsize=(15, 3))\n",
    "\n",
    "    ax = fig.add_subplot(1, 3, 1)\n",
    "    imshow(imh, cmap=\"bwr\", vmin=-0.5, vmax=0.5)\n",
    "    plt.axis('off')\n",
    "    plt.colorbar()\n",
    "    plt.title('$I_x$')\n",
    "\n",
    "    ax = fig.add_subplot(1, 3, 2)\n",
    "    imshow(imv, cmap=\"bwr\", vmin=-0.5, vmax=0.5)\n",
    "    plt.axis('off')\n",
    "    plt.colorbar()\n",
    "    plt.title('$I_y$')\n",
    "\n",
    "    ax = fig.add_subplot(1, 3, 3)\n",
    "    imshow(np.sqrt(imv**2 + imh**2), cmap=\"gray\", vmin=0, vmax=val_max)\n",
    "    plt.axis('off')\n",
    "    plt.colorbar()\n",
    "    plt.title('$\\sqrt{I_x^2 + I_y^2}$')\n",
    "\n",
    "    plt.show()"
   ]
  },
  {
   "cell_type": "markdown",
   "metadata": {},
   "source": [
    "## ソーベル，プレウィット，ロバーツ"
   ]
  },
  {
   "cell_type": "code",
   "execution_count": null,
   "metadata": {},
   "outputs": [],
   "source": [
    "@interact(val_max=(0.1, 0.5, 0.1))\n",
    "def g(val_max=0.1):\n",
    "\n",
    "    fig = plt.figure(figsize=(15, 3))\n",
    "\n",
    "    ax = fig.add_subplot(1, 3, 1)\n",
    "    imshow(sobel(im), vmin=0, vmax=val_max)\n",
    "    plt.axis('off')\n",
    "    plt.colorbar()\n",
    "    plt.title('Sobel')\n",
    "\n",
    "    ax = fig.add_subplot(1, 3, 2)\n",
    "    imshow(prewitt(im), vmin=0, vmax=val_max)\n",
    "    plt.axis('off')\n",
    "    plt.colorbar()\n",
    "    plt.title('Prewitt')\n",
    "\n",
    "    ax = fig.add_subplot(1, 3, 3)\n",
    "    imshow(roberts(im), vmin=0, vmax=val_max)\n",
    "    plt.axis('off')\n",
    "    plt.colorbar()\n",
    "    plt.title('Roberts')\n",
    "\n",
    "    plt.show()"
   ]
  },
  {
   "cell_type": "markdown",
   "metadata": {},
   "source": [
    "## ラプラシアンフィルタ"
   ]
  },
  {
   "cell_type": "code",
   "execution_count": null,
   "metadata": {
    "scrolled": true
   },
   "outputs": [],
   "source": [
    "L4 = np.array([[0, 1, 0],\n",
    "               [1,-4, 1],\n",
    "               [0, 1, 0]])\n",
    "\n",
    "imshow(ndimage.convolve(im, L4), cmap=\"bwr\", vmin=-0.5, vmax=0.5)\n",
    "plt.axis('off')\n",
    "plt.colorbar()\n",
    "\n",
    "plt.show()"
   ]
  },
  {
   "cell_type": "code",
   "execution_count": null,
   "metadata": {
    "scrolled": true
   },
   "outputs": [],
   "source": [
    "imshow(ndimage.convolve(gaussian(im, sigma=1), L4), cmap=\"bwr\", vmin=-0.5, vmax=0.5)\n",
    "plt.axis('off')\n",
    "plt.colorbar()\n",
    "\n",
    "plt.show()"
   ]
  },
  {
   "cell_type": "markdown",
   "metadata": {},
   "source": [
    "## Laplacian of Gaussian （LoG）とゼロ交差"
   ]
  },
  {
   "cell_type": "code",
   "execution_count": null,
   "metadata": {
    "scrolled": true
   },
   "outputs": [],
   "source": [
    "fig = plt.figure(figsize=(20,6))\n",
    "\n",
    "for i in range(5):\n",
    "\n",
    "    ax = fig.add_subplot(2, 5, i+1)\n",
    "    iml = ndimage.convolve(gaussian(im, sigma=i+1), L4)\n",
    "    m = np.abs(iml).max() / 2\n",
    "    imshow(iml, cmap=\"bwr\", vmin=-m, vmax=m) \n",
    "    plt.axis('off')\n",
    "\n",
    "    ax = fig.add_subplot(2, 5, i+1 + 5)\n",
    "    plt.contour(iml, levels=[0])\n",
    "    plt.gca().invert_yaxis()\n",
    "    plt.axis('off')\n",
    "\n",
    "\n",
    "plt.show()"
   ]
  },
  {
   "cell_type": "code",
   "execution_count": null,
   "metadata": {},
   "outputs": [],
   "source": [
    "@interact(sigma=(0.1,10,0.1))\n",
    "def g(sigma=2):\n",
    "\n",
    "    fig = plt.figure(figsize=(20,6))\n",
    "\n",
    "    ax = fig.add_subplot(1, 2, 1)\n",
    "    iml = ndimage.convolve(gaussian(im, sigma=sigma), L4)\n",
    "    m = np.abs(iml).max() / 2\n",
    "    imshow(iml, cmap=\"bwr\", vmin=-m, vmax=m) \n",
    "    plt.axis('off')\n",
    "\n",
    "    ax = fig.add_subplot(1, 2, 2)\n",
    "    plt.contour(iml, levels=[0])\n",
    "    plt.gca().invert_yaxis()\n",
    "    plt.axis('off')\n",
    "\n",
    "    plt.show()"
   ]
  },
  {
   "cell_type": "markdown",
   "metadata": {},
   "source": [
    "## Laplacian-of-GaussianとDifference-of-Gaussian\n",
    "\n",
    "### LoG"
   ]
  },
  {
   "cell_type": "code",
   "execution_count": null,
   "metadata": {},
   "outputs": [],
   "source": [
    "def gauss(x, sigma=1):\n",
    "    return np.exp(- x**2 / 2 / sigma**2) / 2 / np.pi / sigma\n",
    "\n",
    "def grad_gauss(x, sigma, n=1):\n",
    "    return derivative(gauss, x, dx=1e-6, n=n, args=({sigma:sigma})) # n次導関数を計算\n",
    "\n",
    "@interact(sigma=(0.1, 2, 0.05))\n",
    "def g(sigma=1):\n",
    "    \n",
    "    x = np.arange(-5, 5, 0.1)\n",
    "    plt.plot(x, gauss(x, sigma=sigma), label=\"f(x)\")\n",
    "    plt.plot(x, grad_gauss(x, sigma=sigma), label=\"f'(x)\")\n",
    "    plt.plot(x, grad_gauss(x, sigma=sigma, n=2), label=\"f''(x)\")\n",
    "    plt.title(\"Gauss f(x) and derivatives f'(x), f''(x)\")\n",
    "    plt.xlabel(\"x\")\n",
    "    plt.ylim(-0.5, 0.5)\n",
    "    plt.legend()\n",
    "    plt.show()"
   ]
  },
  {
   "cell_type": "markdown",
   "metadata": {},
   "source": [
    "### DoG"
   ]
  },
  {
   "cell_type": "code",
   "execution_count": null,
   "metadata": {},
   "outputs": [],
   "source": [
    "@interact(sigma1=(0.1, 2, 0.05),\n",
    "         sigma2=(0.1, 2, 0.05))\n",
    "def g(sigma1=1,sigma2=2):\n",
    "    \n",
    "    x = np.arange(-5, 5, 0.1)\n",
    "    plt.plot(x, gauss(x, sigma=sigma1), label=\"f1(x)\")\n",
    "    plt.plot(x, gauss(x, sigma=sigma2), label=\"f2(x)\")\n",
    "    plt.plot(x, gauss(x, sigma=sigma1) - gauss(x, sigma=sigma2), label=\"f1 - f2\")\n",
    "    plt.title(\"f1(x), f2(x), and f1(x) - f2(x)\")\n",
    "    plt.xlabel(\"x\")\n",
    "    plt.ylim(-0.5, 0.5)\n",
    "    plt.legend()\n",
    "    plt.show()"
   ]
  },
  {
   "cell_type": "markdown",
   "metadata": {},
   "source": [
    "# Cannyエッジ"
   ]
  },
  {
   "cell_type": "code",
   "execution_count": null,
   "metadata": {},
   "outputs": [],
   "source": [
    "im = rgb2gray(imread('girl.jpg'))\n",
    "\n",
    "@interact(sigma=(0.1, 10, 0.1),\n",
    "          th_low=(0, 255, 1),\n",
    "          th_high=(0, 255, 1)\n",
    "         )\n",
    "def g(sigma=5, th_low=0, th_high=40):\n",
    "    fig = plt.figure(figsize=(20,6))\n",
    "\n",
    "    fig.add_subplot(1, 2, 1)\n",
    "    imshow(im)\n",
    "    plt.axis('off')\n",
    "    plt.title('original image')\n",
    "    \n",
    "    fig.add_subplot(1, 2, 2)\n",
    "    im_edge = canny(im, sigma=sigma, \n",
    "                    low_threshold=th_low/255, \n",
    "                    high_threshold=th_high/255)\n",
    "    imshow(im_edge, cmap='gray_r')\n",
    "    plt.axis('off')\n",
    "    plt.title('Canny edge with th_low={0} and th_high={1}'.format(th_low, th_high))\n",
    "    \n",
    "    plt.show()"
   ]
  },
  {
   "cell_type": "markdown",
   "metadata": {},
   "source": [
    "# アンシャープマスキング"
   ]
  },
  {
   "cell_type": "code",
   "execution_count": null,
   "metadata": {},
   "outputs": [],
   "source": [
    "im = rgb2gray(imread('girl.jpg'))\n",
    "\n",
    "@interact(sigma=(0, 10, 1), k=(1,10,1))\n",
    "def g(sigma=7, k=3):\n",
    "    \n",
    "    fig = plt.figure(figsize=(15, 5))\n",
    "\n",
    "    im_s = gaussian(im, sigma=sigma)\n",
    "\n",
    "    img1 = im + (im - im_s) * k\n",
    "    img1[img1 > 1] = 1\n",
    "    img1[img1 < 0] = 0\n",
    "\n",
    "    ax = fig.add_subplot(1, 2, 1)\n",
    "    imshow(im)\n",
    "    plt.axis('off')\n",
    "    plt.title('original image')\n",
    "    \n",
    "    ax = fig.add_subplot(1, 2, 2)\n",
    "    imshow(img1)\n",
    "    plt.axis('off')\n",
    "    plt.title('shapend image')\n",
    "    \n",
    "    plt.show()"
   ]
  },
  {
   "cell_type": "code",
   "execution_count": null,
   "metadata": {},
   "outputs": [],
   "source": [
    "def box(x, th=2):\n",
    "    return 1 if np.abs(x) < th else 0\n",
    "\n",
    "def gauss(x, sigma=1):\n",
    "    return np.exp(- x**2 / 2 / sigma**2) / 2 / np.pi / sigma\n",
    "\n",
    "\n",
    "@interact(sigma=(0, 2, 0.1), k=(0.1,3,0.1),\n",
    "         show_f=True, show_h=True, show_g=True, show_fg=True, show_result=True )\n",
    "def g(sigma=0.2, k=3, show_f=True, show_h=True, show_g=True, show_fg=True, show_result=True):\n",
    "    \n",
    "    x = np.arange(-5, 5, 0.01)\n",
    "    f = np.array([box(i) for i in x])\n",
    "    h = gauss(x, sigma=sigma)\n",
    "\n",
    "    if show_f: plt.plot(x, f, label=\"f\")\n",
    "    if show_h: plt.plot(x, h, label=\"h\")\n",
    "    g = signal.convolve(f, h, mode='same') / sum(h)\n",
    "    if show_g: plt.plot(x, g, label='g=f*h')\n",
    "    if show_fg: plt.plot(x, f - g, label='f - g')\n",
    "    if show_result: plt.plot(x, f + k * (f - g), label='f + k(f - g)')\n",
    "    plt.ylim(-2, 3)\n",
    "    plt.legend()\n",
    "    plt.show()"
   ]
  },
  {
   "cell_type": "markdown",
   "metadata": {},
   "source": [
    "# 非線形フィルタ：メディアンフィルタ"
   ]
  },
  {
   "cell_type": "code",
   "execution_count": null,
   "metadata": {},
   "outputs": [],
   "source": [
    "im = imread('salt_and_pepper.png')\n",
    "\n",
    "@interact(sigma=(0, 10, 1), N=(1, 10, 1))\n",
    "def g(sigma=2, N=3):\n",
    "\n",
    "    fig = plt.figure(figsize=(15, 5))\n",
    "\n",
    "    ax = fig.add_subplot(1, 3, 1)\n",
    "    imshow(im)\n",
    "    plt.axis('off')\n",
    "    plt.title('original image')\n",
    "\n",
    "\n",
    "    ax = fig.add_subplot(1, 3, 2)\n",
    "    imshow(gaussian(im, sigma=sigma))\n",
    "    plt.axis('off')\n",
    "    plt.title('Gaussian filter with $\\sigma$={}'.format(sigma))\n",
    "\n",
    "    ax = fig.add_subplot(1, 3, 3)\n",
    "    imshow(median(im, square(N)))\n",
    "    plt.axis('off')\n",
    "    plt.title('Median filter with {0}x{0} patch'.format(N))\n",
    "\n",
    "\n",
    "\n",
    "    plt.show()"
   ]
  },
  {
   "cell_type": "markdown",
   "metadata": {},
   "source": [
    "# 非線形フィルタ：バイラテラルフィルタ"
   ]
  },
  {
   "cell_type": "code",
   "execution_count": null,
   "metadata": {
    "scrolled": false
   },
   "outputs": [],
   "source": [
    "im = rgb2gray(imread('girl.jpg'))\n",
    "\n",
    "\n",
    "@interact(sigma_spatial=(0, 15, 1), sigma_color=(0, 0.5, 0.1))\n",
    "def g(sigma_spatial=1, sigma_color=0.1):\n",
    "    \n",
    "    fig = plt.figure(figsize=(15, 3))\n",
    "\n",
    "    ax = fig.add_subplot(1, 3, 1)\n",
    "\n",
    "    imshow(im)\n",
    "    plt.axis('off')\n",
    "    plt.title('original image')\n",
    "    \n",
    "\n",
    "    ax = fig.add_subplot(1, 3, 2)\n",
    "    imshow(gaussian(im, sigma=sigma_spatial))\n",
    "    plt.axis('off')\n",
    "    plt.title('Gaussian filter with sigma={}'.format(sigma_spatial))\n",
    "  \n",
    "    ax = fig.add_subplot(1, 3, 3)\n",
    "    im_denoise = denoise_bilateral(im,\n",
    "                                   sigma_spatial=sigma_spatial, \n",
    "                                   sigma_color=sigma_color)\n",
    "    imshow(im_denoise)\n",
    "    plt.axis('off')\n",
    "    plt.title('sigma_spatial={0} simga_color={1}'.format(sigma_spatial, sigma_color))\n",
    "\n",
    "\n",
    "\n",
    "\n",
    "    plt.show()\n"
   ]
  },
  {
   "cell_type": "markdown",
   "metadata": {},
   "source": [
    "# 非線形フィルタ：ノンローカルミーンフィルタ"
   ]
  },
  {
   "cell_type": "code",
   "execution_count": null,
   "metadata": {},
   "outputs": [],
   "source": [
    "im = rgb2gray(imread('girl.jpg'))\n",
    "\n",
    "    \n",
    "fig = plt.figure(figsize=(15, 3))\n",
    "\n",
    "ax = fig.add_subplot(1, 3, 1)\n",
    "\n",
    "imshow(im)\n",
    "plt.axis('off')\n",
    "plt.title('original image')\n",
    "\n",
    "ax = fig.add_subplot(1, 3, 2)\n",
    "im_denoise = denoise_bilateral(im, sigma_spatial=5, sigma_color=0.1)\n",
    "imshow(im_denoise)\n",
    "plt.axis('off')\n",
    "plt.title('bilateral filter')\n",
    "\n",
    "ax = fig.add_subplot(1, 3, 3)\n",
    "im_denoise = denoise_nl_means(im, patch_size=7, patch_distance=11)\n",
    "imshow(im_denoise)\n",
    "plt.axis('off')\n",
    "plt.title('non-local mean filter')\n",
    "\n",
    "\n",
    "plt.show()\n",
    "\n"
   ]
  },
  {
   "cell_type": "code",
   "execution_count": null,
   "metadata": {},
   "outputs": [],
   "source": []
  },
  {
   "cell_type": "code",
   "execution_count": null,
   "metadata": {},
   "outputs": [],
   "source": []
  },
  {
   "cell_type": "code",
   "execution_count": null,
   "metadata": {},
   "outputs": [],
   "source": []
  },
  {
   "cell_type": "markdown",
   "metadata": {},
   "source": [
    "# 音声データのフーリエ変換"
   ]
  },
  {
   "cell_type": "code",
   "execution_count": null,
   "metadata": {},
   "outputs": [],
   "source": [
    "def wavread(file, dtype=np.int16):\n",
    "    chunk_size = 1024 * 8\n",
    "\n",
    "    with wave.open(file, 'rb') as f:\n",
    "        nchannels = f.getnchannels()\n",
    "        audio_data = []\n",
    "        while True:\n",
    "            chunk = f.readframes(chunk_size)\n",
    "            audio_data.append(chunk)\n",
    "            if chunk == b'': break\n",
    "\n",
    "    audio_data = b''.join(audio_data)\n",
    "    audio_data = np.frombuffer(audio_data, dtype=dtype)\n",
    "    audio_data = audio_data.reshape((-1, nchannels)).transpose()\n",
    "\n",
    "    return audio_data"
   ]
  },
  {
   "cell_type": "code",
   "execution_count": null,
   "metadata": {},
   "outputs": [],
   "source": [
    "audio_data = wavread('start.wav') # 22kHz, 2 channels stereo, 16 bits/sample\n",
    "sr = 22000 # sampling rate\n",
    "\n",
    "plt.plot(audio_data[0], label='L channel')\n",
    "plt.plot(audio_data[1], label='R channel')\n",
    "plt.title('wave file')\n",
    "plt.xlabel('time [sec]')\n",
    "plt.legend()\n",
    "idx = np.arange(0, audio_data.shape[1], sr * 0.25) # 1/22000 sec per sample, tick every 0.25 sec\n",
    "plt.xticks(idx, idx / sr)\n",
    "plt.show()\n",
    "\n",
    "\n",
    "plt.plot(audio_data[0, :1000], label='L channel')\n",
    "plt.plot(audio_data[1, :1000], label='R channel')\n",
    "plt.title('first 1000 sampling points')\n",
    "plt.xlabel('time [sec]')\n",
    "plt.legend()\n",
    "idx = np.arange(0, audio_data.shape[1], sr * 0.01) # 1/22000 sec per sample, tick every 0.01 sec\n",
    "plt.xticks(idx, idx / sr)\n",
    "plt.xlim(0, 1000)\n",
    "plt.show()"
   ]
  },
  {
   "cell_type": "code",
   "execution_count": null,
   "metadata": {},
   "outputs": [],
   "source": [
    "power_spec = np.abs(fft(audio_data[0])) # FFT power spectrum (absolute value of complex spectrum)\n",
    "db_power_spec = np.log10(power_spec) * 20 # in dB"
   ]
  },
  {
   "cell_type": "code",
   "execution_count": null,
   "metadata": {},
   "outputs": [],
   "source": [
    "fps = sr / len(db_power_spec) # frequency per sample\n",
    "tick_idx = np.arange(0, len(db_power_spec), 2000 / fps) # tick every 2000 Hz\n",
    "tick_label = np.ceil(tick_idx * fps / 1000).astype(int) # in kHz"
   ]
  },
  {
   "cell_type": "code",
   "execution_count": null,
   "metadata": {},
   "outputs": [],
   "source": [
    "plt.plot(db_power_spec)\n",
    "plt.title('power spectrum')\n",
    "plt.xlabel('frequency [kHz]')\n",
    "plt.ylabel('power [dB]')\n",
    "plt.xticks(tick_idx, tick_label)\n",
    "plt.show()"
   ]
  },
  {
   "cell_type": "code",
   "execution_count": null,
   "metadata": {},
   "outputs": [],
   "source": [
    "plt.plot(db_power_spec[:len(db_power_spec)//2])\n",
    "plt.title('power spectrum')\n",
    "plt.xlabel('frequency [kHz]')\n",
    "plt.ylabel('power [dB]')\n",
    "plt.xticks(tick_idx, tick_label)\n",
    "plt.xlim(0, len(db_power_spec)//2)\n",
    "plt.show()"
   ]
  },
  {
   "cell_type": "markdown",
   "metadata": {},
   "source": [
    "## 短時間フーリエ変換によるスペクトログラムの表示"
   ]
  },
  {
   "cell_type": "code",
   "execution_count": null,
   "metadata": {},
   "outputs": [],
   "source": [
    "sr = 22000 # sampling rate\n",
    "\n",
    "B, F, T = mlab.specgram(audio_data[0], # left channel\n",
    "                        Fs=sr)\n",
    "\n",
    "imshow(B,\n",
    "       norm=colors.LogNorm(),\n",
    "       cmap='jet')\n",
    "\n",
    "\n",
    "def find_closest_val(T, t):\n",
    "    X = np.abs(T - t)\n",
    "    idx = np.where(X == X.min())\n",
    "    return idx[0][0]\n",
    "\n",
    "yticks = np.arange(0, 11, 2) # 0, 2, 4, ..., 11 kHz for x-axis\n",
    "yidx = [find_closest_val(F/1000, f) for f in yticks]\n",
    "\n",
    "xticks = np.arange(0, 1.4, 0.25) # 0, 0.25, 0.5, ..., 1.25 sec for y-axis\n",
    "xidx = [find_closest_val(T, t) for t in xticks]\n",
    "\n",
    "plt.yticks(yidx, yticks)\n",
    "plt.xticks(xidx, xticks)\n",
    "\n",
    "plt.xlabel('time [sec]')\n",
    "plt.ylabel('frequency [kHz]')\n",
    "plt.gca().invert_yaxis()\n",
    "plt.colorbar()\n",
    "plt.show()"
   ]
  },
  {
   "cell_type": "markdown",
   "metadata": {},
   "source": [
    "# 画像の二次元フーリエ変換"
   ]
  },
  {
   "cell_type": "code",
   "execution_count": null,
   "metadata": {},
   "outputs": [],
   "source": [
    "im = rgb2gray(imread('honeycomb.jpg'))\n",
    "\n",
    "@interact(angle=(0, 360, 5))\n",
    "def g(angle=0):\n",
    "\n",
    "    fig = plt.figure(figsize=(10,5))\n",
    "    \n",
    "    fig.add_subplot(1, 2, 1)\n",
    "    im_rot = rotate(im, angle=angle, preserve_range=True)\n",
    "    imshow(im_rot)\n",
    "    plt.axis('off')\n",
    "    plt.title('original image')\n",
    "\n",
    "    fig.add_subplot(1, 2, 2)\n",
    "    im_freq = np.fft.fft2(im_rot)\n",
    "    h, w = im_freq.shape\n",
    "#     im_freq = np.roll(im_freq, h//2, 0)\n",
    "#     im_freq = np.roll(im_freq, w//2, 1)\n",
    "    im_freq = np.fft.fftshift(im_freq)\n",
    "    imshow(np.log10(np.abs(im_freq)) * 20, vmin=0)\n",
    "    plt.axis('off')\n",
    "    plt.title('power spectrum (log scale)')\n",
    "\n",
    "\n",
    "    plt.show()"
   ]
  },
  {
   "cell_type": "markdown",
   "metadata": {},
   "source": [
    "# FFTと通常のフィルタリングの計算量の比較"
   ]
  },
  {
   "cell_type": "code",
   "execution_count": null,
   "metadata": {},
   "outputs": [],
   "source": [
    "im = rgb2gray(imread('girl.jpg'))\n",
    "\n",
    "time_ndconv = []\n",
    "time_sigconv = []\n",
    "time_sigconvfft = []\n",
    "time_fftconv = []\n",
    "\n",
    "N_range = range(3, 31, 2)\n",
    "\n",
    "for N in N_range:\n",
    "    w = np.ones((N, N)) / (N ** 2)  # N×N平均値フィルタ\n",
    "    print(w.shape)\n",
    "\n",
    "    st = time()\n",
    "    ndimage.convolve(im, w)\n",
    "    time_ndconv.append(time() - st)\n",
    "\n",
    "    if N < 15:\n",
    "        st = time()\n",
    "        signal.convolve(im, w, method='direct', mode='same')\n",
    "        time_sigconv.append(time() - st)\n",
    "    \n",
    "    st = time()\n",
    "    signal.convolve(im, w, method='fft', mode='same')\n",
    "    time_sigconvfft.append(time() - st)\n",
    "    \n",
    "    st = time()\n",
    "    signal.fftconvolve(im, w, mode='same')\n",
    "    time_fftconv.append(time() - st)"
   ]
  },
  {
   "cell_type": "code",
   "execution_count": null,
   "metadata": {},
   "outputs": [],
   "source": [
    "for yscale,ymin in [('linear', 0), ('log', 0.01)]:\n",
    "    plt.plot(N_range, time_ndconv, label='ndimage.convolve')\n",
    "    plt.plot(N_range[:len(time_sigconv)], time_sigconv, label='signal.convolve')\n",
    "    plt.plot(N_range, time_sigconvfft, label='signal.convolve with FFT')\n",
    "    plt.plot(N_range, time_fftconv, label='signal.fftconvolve')\n",
    "    plt.legend()\n",
    "    plt.ylabel('time [s]')\n",
    "    plt.xlabel('filter size N')\n",
    "    plt.yscale(yscale)\n",
    "    plt.ylim(ymin)\n",
    "    plt.show()"
   ]
  },
  {
   "cell_type": "markdown",
   "metadata": {},
   "source": [
    "# ローパスフィルタ\n",
    "\n",
    "## 円形ボックスフィルタ"
   ]
  },
  {
   "cell_type": "code",
   "execution_count": null,
   "metadata": {},
   "outputs": [],
   "source": [
    "im = rgb2gray(imread('girl.jpg'))\n",
    "\n",
    "@interact(radius=(0, 200, 5))\n",
    "def g(radius=30):\n",
    "\n",
    "    fig = plt.figure(figsize=(20,5))\n",
    "\n",
    "    fig.add_subplot(1, 4, 1)\n",
    "    imshow(im)\n",
    "    plt.axis('off')\n",
    "    plt.title('original image')\n",
    "\n",
    "    fig.add_subplot(1, 4, 2)\n",
    "    im_freq = np.fft.fft2(im)\n",
    "    h, w = im_freq.shape\n",
    "#     im_freq = np.roll(im_freq, h//2, 0)\n",
    "#     im_freq = np.roll(im_freq, w//2, 1)\n",
    "    im_freq = np.fft.fftshift(im_freq)\n",
    "    imshow(np.log10(np.abs(im_freq)) * 20, vmin=0)\n",
    "    plt.axis('off')\n",
    "    plt.title('fourier spectrum')\n",
    "\n",
    "    im_freq2 = im_freq.copy()\n",
    "    im_freq2 *= 0.0001\n",
    "    rr, cc = skimage.draw.circle(h//2, w//2, radius)\n",
    "    im_freq2[rr, cc] = im_freq[rr, cc]\n",
    "    fig.add_subplot(1, 4, 3)\n",
    "    imshow(np.log10(np.abs(im_freq2)) * 20, vmin=0)\n",
    "    plt.axis('off')\n",
    "    plt.title('filtered spectrum')\n",
    "    \n",
    "    fig.add_subplot(1, 4, 4)\n",
    "#     im_freq2 = np.roll(im_freq2, h//2, 0)\n",
    "#     im_freq2 = np.roll(im_freq2, w//2, 1)\n",
    "    im_freq2 = np.fft.fftshift(im_freq2)\n",
    "    g = np.fft.ifft2(im_freq2)\n",
    "    imshow(np.abs(g))\n",
    "    plt.axis('off')\n",
    "    plt.title('filtered image')\n",
    "\n",
    "    plt.show()"
   ]
  },
  {
   "cell_type": "markdown",
   "metadata": {},
   "source": [
    "# ガウス型ローパスフィルタ"
   ]
  },
  {
   "cell_type": "code",
   "execution_count": null,
   "metadata": {},
   "outputs": [],
   "source": [
    "im = rgb2gray(imread('girl.jpg'))\n",
    "\n",
    "impulse = np.ones(im.shape) * np.finfo(np.float32).eps # avoid 0-division in log\n",
    "h, w = im.shape\n",
    "impulse[h//2, w//2] = 1\n",
    "\n",
    "@interact(sigma=(1, 50, 5))\n",
    "def g(sigma=3):\n",
    "\n",
    "    fig = plt.figure(figsize=(20,5))\n",
    "\n",
    "    fig.add_subplot(1, 4, 1)\n",
    "    imshow(im)\n",
    "    plt.axis('off')\n",
    "    plt.title('original image')\n",
    "\n",
    "    fig.add_subplot(1, 4, 2)\n",
    "    im_freq = np.fft.fft2(im)\n",
    "    h, w = im_freq.shape\n",
    "#     im_freq = np.roll(im_freq, h//2, 0)\n",
    "#     im_freq = np.roll(im_freq, w//2, 1)\n",
    "    im_freq = np.fft.fftshift(im_freq)\n",
    "    imshow(np.log10(np.abs(im_freq) * 20), vmin=0)\n",
    "    plt.axis('off')\n",
    "    plt.title('fourier spectrum')\n",
    "\n",
    "    im_freq2 = im_freq.copy()\n",
    "    im_freq2 *= gaussian(impulse, sigma=sigma)\n",
    "    fig.add_subplot(1, 4, 3)\n",
    "    imshow(np.log10(np.abs(im_freq2) * 20), vmin=0)\n",
    "    plt.axis('off')\n",
    "    plt.title('filtered spectrum')\n",
    "\n",
    "    fig.add_subplot(1, 4, 4)\n",
    "#     im_freq2 = np.roll(im_freq2, h//2, 0)\n",
    "#     im_freq2 = np.roll(im_freq2, w//2, 1)\n",
    "    im_freq2 = np.fft.fftshift(im_freq2)\n",
    "    g = np.fft.ifft2(im_freq2)\n",
    "    imshow(np.abs(g))\n",
    "    plt.axis('off')\n",
    "    plt.title('filtered image')\n",
    "\n",
    "\n",
    "    plt.show()"
   ]
  },
  {
   "cell_type": "markdown",
   "metadata": {},
   "source": [
    "# ハイパスフィルタ"
   ]
  },
  {
   "cell_type": "code",
   "execution_count": null,
   "metadata": {},
   "outputs": [],
   "source": [
    "im = rgb2gray(imread('girl.jpg'))\n",
    "\n",
    "@interact(radius=(0, 20, 1))\n",
    "def g(radius=10):\n",
    "\n",
    "    fig = plt.figure(figsize=(20, 2.5))\n",
    "\n",
    "    fig.add_subplot(1, 4, 1)\n",
    "    imshow(im)\n",
    "    plt.axis('off')\n",
    "    plt.title('original image')\n",
    "    \n",
    "    im_freq = np.fft.fft2(im)\n",
    "\n",
    "    h, w = im_freq.shape\n",
    "#     im_freq = np.roll(im_freq, h//2, 0)\n",
    "#     im_freq = np.roll(im_freq, w//2, 1)\n",
    "    im_freq = np.fft.fftshift(im_freq)\n",
    "    fig.add_subplot(1, 4, 2)\n",
    "    imshow(np.log10(np.abs(im_freq) * 20), vmin=0)\n",
    "    plt.axis('off')\n",
    "    plt.title('fourier spectrum')\n",
    "\n",
    "\n",
    "\n",
    "    im_freq2 = im_freq.copy()\n",
    "    rr, cc = skimage.draw.circle(h//2, w//2, radius)\n",
    "    im_freq2[rr, cc] = 0.0001\n",
    "    fig.add_subplot(1, 4, 3)\n",
    "    imshow(np.log10(np.abs(im_freq2) * 20), vmin=0)\n",
    "    plt.axis('off')\n",
    "    plt.title('filtered spectrum')\n",
    "    \n",
    "    \n",
    "    fig.add_subplot(1, 4, 4)\n",
    "#     im_freq2 = np.roll(im_freq2, h//2, 0)\n",
    "#     im_freq2 = np.roll(im_freq2, w//2, 1)\n",
    "    im_freq2 = np.fft.fftshift(im_freq2)\n",
    "    g = np.fft.ifft2(im_freq2)\n",
    "    # imshow(np.abs(g))\n",
    "    imshow(g.real)\n",
    "    plt.axis('off')\n",
    "    plt.title('filtered image')\n",
    "\n",
    "    plt.show()"
   ]
  },
  {
   "cell_type": "markdown",
   "metadata": {},
   "source": [
    "## ガウス型ハイパスフィルタ"
   ]
  },
  {
   "cell_type": "code",
   "execution_count": null,
   "metadata": {},
   "outputs": [],
   "source": [
    "im = rgb2gray(imread('girl.jpg'))\n",
    "\n",
    "impulse = np.ones(im.shape) * np.finfo(np.float32).eps # avoid 0-division in log\n",
    "h, w = im.shape\n",
    "impulse[h//2, w//2] = 1\n",
    "\n",
    "@interact(sigma=(1, 20, 1))\n",
    "def g(sigma=5):\n",
    "\n",
    "    fig = plt.figure(figsize=(20,5))\n",
    "\n",
    "    fig.add_subplot(1, 4, 1)\n",
    "    imshow(im)\n",
    "    plt.axis('off')\n",
    "    plt.title('original image')\n",
    "\n",
    "    fig.add_subplot(1, 4, 2)\n",
    "    im_freq = np.fft.fft2(im)\n",
    "    h, w = im_freq.shape\n",
    "#     im_freq = np.roll(im_freq, h//2, 0)\n",
    "#     im_freq = np.roll(im_freq, w//2, 1)\n",
    "    im_freq = np.fft.fftshift(im_freq)\n",
    "    imshow(np.log10(np.abs(im_freq) * 20), vmin=0, vmax=5)\n",
    "    plt.axis('off')\n",
    "    plt.title('fourier spectrum')\n",
    "\n",
    "    im_freq2 = im_freq.copy()\n",
    "    gauss = gaussian(impulse, sigma=sigma)\n",
    "    im_freq2 *= (gauss.max()*1.01 - gauss)\n",
    "    fig.add_subplot(1, 4, 3)\n",
    "    imshow(np.log10(np.abs(im_freq2) * 20), vmin=0, vmax=5)\n",
    "    plt.axis('off')\n",
    "    plt.title('filtered spectrum')\n",
    "\n",
    "    fig.add_subplot(1, 4, 4)\n",
    "#     im_freq2 = np.roll(im_freq2, h//2, 0)\n",
    "#     im_freq2 = np.roll(im_freq2, w//2, 1)\n",
    "    im_freq2 = np.fft.fftshift(im_freq2)\n",
    "    g = np.fft.ifft2(im_freq2)\n",
    "#     imshow(np.abs(g))\n",
    "    imshow(g.real)\n",
    "    plt.axis('off')\n",
    "    plt.title('filtered image')\n",
    "\n",
    "\n",
    "    plt.show()"
   ]
  },
  {
   "cell_type": "markdown",
   "metadata": {},
   "source": [
    "# バンドパスフィルタ"
   ]
  },
  {
   "cell_type": "code",
   "execution_count": null,
   "metadata": {
    "scrolled": true
   },
   "outputs": [],
   "source": [
    "im = rgb2gray(imread('girl.jpg'))\n",
    "\n",
    "val_range = (0, 200, 10)\n",
    "@interact(radius1=val_range, \n",
    "          radius2=val_range)\n",
    "def g(radius1=60, radius2=20):\n",
    "\n",
    "    fig = plt.figure(figsize=(20, 2.5))\n",
    "\n",
    "    fig.add_subplot(1, 4, 1)\n",
    "    imshow(im)\n",
    "    plt.axis('off')\n",
    "    plt.title('original image')\n",
    "\n",
    "\n",
    "    fig.add_subplot(1, 4, 2)\n",
    "    im_freq = np.fft.fft2(im)\n",
    "    h, w = im_freq.shape\n",
    "#     im_freq = np.roll(im_freq, h//2, 0)\n",
    "#     im_freq = np.roll(im_freq, w//2, 1)\n",
    "    im_freq = np.fft.fftshift(im_freq)\n",
    "    imshow(np.log10(np.abs(im_freq)) * 20, vmin=0)\n",
    "    plt.axis('off')\n",
    "    plt.title('fourier spectrum')\n",
    "\n",
    "\n",
    "\n",
    "    fig.add_subplot(1, 4, 3)\n",
    "    im_freq2 = im_freq.copy()\n",
    "    im_freq2 *= 0.0001\n",
    "    rr, cc = skimage.draw.circle(h//2, w//2, radius1)\n",
    "    im_freq2[rr, cc] = im_freq[rr, cc]\n",
    "    rr, cc = skimage.draw.circle(h//2, w//2, radius2)\n",
    "    im_freq2[rr, cc] = 0.0001        \n",
    "    imshow(np.log10(np.abs(im_freq2)) * 20, vmin=0)\n",
    "    plt.axis('off')\n",
    "    plt.title('filtered spectrum')\n",
    "\n",
    "\n",
    "    fig.add_subplot(1, 4, 4)\n",
    "#     im_freq2 = np.roll(im_freq2, h//2, 0)\n",
    "#     im_freq2 = np.roll(im_freq2, w//2, 1)\n",
    "    im_freq2 = np.fft.fftshift(im_freq2)\n",
    "    g = np.fft.ifft2(im_freq2)\n",
    "#     imshow(np.abs(g))\n",
    "    imshow(g.real)\n",
    "    plt.axis('off')\n",
    "    plt.title('filtered image')\n",
    "\n",
    "\n",
    "    plt.show()"
   ]
  },
  {
   "cell_type": "code",
   "execution_count": null,
   "metadata": {},
   "outputs": [],
   "source": []
  }
 ],
 "metadata": {
  "kernelspec": {
   "display_name": "Python 3",
   "language": "python",
   "name": "python3"
  },
  "language_info": {
   "codemirror_mode": {
    "name": "ipython",
    "version": 3
   },
   "file_extension": ".py",
   "mimetype": "text/x-python",
   "name": "python",
   "nbconvert_exporter": "python",
   "pygments_lexer": "ipython3",
   "version": "3.7.7"
  }
 },
 "nbformat": 4,
 "nbformat_minor": 4
}
