{
 "cells": [
  {
   "cell_type": "code",
   "execution_count": 2,
   "metadata": {},
   "outputs": [],
   "source": [
    "import pandas as pd\n",
    "import cv2\n",
    "import numpy as np\n",
    "import matplotlib.pyplot as plt\n",
    "#jupyter内で画像を表示\n",
    "%matplotlib inline \n",
    "#別ウィンドウで画像表示\n",
    "# %matplotlib qt \n",
    "import csv\n",
    "import json\n",
    "from ipywidgets import interact, interactive, fixed, RadioButtons\n",
    "import ipywidgets as widgets\n",
    "from IPython.display import display\n",
    "import pathlib\n",
    "# sigo_path = pathlib.Path('../../ns3.30/data/sigo/shutoushu-nodenum_900_seed_43222.csv')\n",
    "sigo_path = pathlib.Path('../data/sigo/shutoushu-seed_33335nodenum_900.csv')\n",
    "lsgo_path = pathlib.Path('../data/lsgo/lsgo-seed_33335nodenum_900.csv')"
   ]
  },
  {
   "cell_type": "markdown",
   "metadata": {},
   "source": [
    "# csvファイルの取得\n",
    "pandasを利用：https://note.nkmk.me/python-pandas-value-counts/"
   ]
  },
  {
   "cell_type": "code",
   "execution_count": 3,
   "metadata": {},
   "outputs": [
    {
     "data": {
      "text/html": [
       "<div>\n",
       "<style scoped>\n",
       "    .dataframe tbody tr th:only-of-type {\n",
       "        vertical-align: middle;\n",
       "    }\n",
       "\n",
       "    .dataframe tbody tr th {\n",
       "        vertical-align: top;\n",
       "    }\n",
       "\n",
       "    .dataframe thead th {\n",
       "        text-align: right;\n",
       "    }\n",
       "</style>\n",
       "<table border=\"1\" class=\"dataframe\">\n",
       "  <thead>\n",
       "    <tr style=\"text-align: right;\">\n",
       "      <th></th>\n",
       "      <th>source_x</th>\n",
       "      <th>source_y</th>\n",
       "      <th>recv_x</th>\n",
       "      <th>recv_y</th>\n",
       "      <th>time</th>\n",
       "      <th>recv_priority</th>\n",
       "      <th>hopcount</th>\n",
       "      <th>recv_id</th>\n",
       "      <th>source_id</th>\n",
       "      <th>destination_id</th>\n",
       "      <th>destination_x</th>\n",
       "      <th>destination_y</th>\n",
       "      <th>pri_1</th>\n",
       "      <th>pri_2</th>\n",
       "      <th>pri_3</th>\n",
       "      <th>pri_4</th>\n",
       "      <th>pri_5</th>\n",
       "    </tr>\n",
       "  </thead>\n",
       "  <tbody>\n",
       "    <tr>\n",
       "      <th>0</th>\n",
       "      <td>1198</td>\n",
       "      <td>1416</td>\n",
       "      <td>1212</td>\n",
       "      <td>1498</td>\n",
       "      <td>10000200</td>\n",
       "      <td>5</td>\n",
       "      <td>1</td>\n",
       "      <td>892</td>\n",
       "      <td>24</td>\n",
       "      <td>355</td>\n",
       "      <td>2101</td>\n",
       "      <td>1815</td>\n",
       "      <td>76</td>\n",
       "      <td>243</td>\n",
       "      <td>66</td>\n",
       "      <td>416</td>\n",
       "      <td>892</td>\n",
       "    </tr>\n",
       "    <tr>\n",
       "      <th>1</th>\n",
       "      <td>1198</td>\n",
       "      <td>1416</td>\n",
       "      <td>1219</td>\n",
       "      <td>1498</td>\n",
       "      <td>10000200</td>\n",
       "      <td>4</td>\n",
       "      <td>1</td>\n",
       "      <td>416</td>\n",
       "      <td>24</td>\n",
       "      <td>355</td>\n",
       "      <td>2101</td>\n",
       "      <td>1815</td>\n",
       "      <td>76</td>\n",
       "      <td>243</td>\n",
       "      <td>66</td>\n",
       "      <td>416</td>\n",
       "      <td>892</td>\n",
       "    </tr>\n",
       "    <tr>\n",
       "      <th>2</th>\n",
       "      <td>1198</td>\n",
       "      <td>1416</td>\n",
       "      <td>1247</td>\n",
       "      <td>1498</td>\n",
       "      <td>10000200</td>\n",
       "      <td>2</td>\n",
       "      <td>1</td>\n",
       "      <td>243</td>\n",
       "      <td>24</td>\n",
       "      <td>355</td>\n",
       "      <td>2101</td>\n",
       "      <td>1815</td>\n",
       "      <td>76</td>\n",
       "      <td>243</td>\n",
       "      <td>66</td>\n",
       "      <td>416</td>\n",
       "      <td>892</td>\n",
       "    </tr>\n",
       "    <tr>\n",
       "      <th>3</th>\n",
       "      <td>1198</td>\n",
       "      <td>1416</td>\n",
       "      <td>1280</td>\n",
       "      <td>1498</td>\n",
       "      <td>10000200</td>\n",
       "      <td>1</td>\n",
       "      <td>1</td>\n",
       "      <td>76</td>\n",
       "      <td>24</td>\n",
       "      <td>355</td>\n",
       "      <td>2101</td>\n",
       "      <td>1815</td>\n",
       "      <td>76</td>\n",
       "      <td>243</td>\n",
       "      <td>66</td>\n",
       "      <td>416</td>\n",
       "      <td>892</td>\n",
       "    </tr>\n",
       "    <tr>\n",
       "      <th>4</th>\n",
       "      <td>1247</td>\n",
       "      <td>1498</td>\n",
       "      <td>1280</td>\n",
       "      <td>1498</td>\n",
       "      <td>10005368</td>\n",
       "      <td>1</td>\n",
       "      <td>2</td>\n",
       "      <td>76</td>\n",
       "      <td>243</td>\n",
       "      <td>355</td>\n",
       "      <td>2101</td>\n",
       "      <td>1815</td>\n",
       "      <td>76</td>\n",
       "      <td>10000000</td>\n",
       "      <td>10000000</td>\n",
       "      <td>10000000</td>\n",
       "      <td>10000000</td>\n",
       "    </tr>\n",
       "  </tbody>\n",
       "</table>\n",
       "</div>"
      ],
      "text/plain": [
       "   source_x  source_y  recv_x  recv_y      time  recv_priority  hopcount  \\\n",
       "0      1198      1416    1212    1498  10000200              5         1   \n",
       "1      1198      1416    1219    1498  10000200              4         1   \n",
       "2      1198      1416    1247    1498  10000200              2         1   \n",
       "3      1198      1416    1280    1498  10000200              1         1   \n",
       "4      1247      1498    1280    1498  10005368              1         2   \n",
       "\n",
       "   recv_id  source_id  destination_id  destination_x  destination_y  pri_1  \\\n",
       "0      892         24             355           2101           1815     76   \n",
       "1      416         24             355           2101           1815     76   \n",
       "2      243         24             355           2101           1815     76   \n",
       "3       76         24             355           2101           1815     76   \n",
       "4       76        243             355           2101           1815     76   \n",
       "\n",
       "      pri_2     pri_3     pri_4     pri_5  \n",
       "0       243        66       416       892  \n",
       "1       243        66       416       892  \n",
       "2       243        66       416       892  \n",
       "3       243        66       416       892  \n",
       "4  10000000  10000000  10000000  10000000  "
      ]
     },
     "execution_count": 3,
     "metadata": {},
     "output_type": "execute_result"
    }
   ],
   "source": [
    "sigo_df = pd.read_csv(sigo_path)\n",
    "lsgo_df = pd.read_csv(lsgo_path)\n",
    "sigo_df.head()"
   ]
  },
  {
   "cell_type": "markdown",
   "metadata": {},
   "source": [
    "# destination_idごとのパケット数"
   ]
  },
  {
   "cell_type": "code",
   "execution_count": 4,
   "metadata": {},
   "outputs": [
    {
     "data": {
      "text/plain": [
       "{13: 27,\n",
       " 32: 58,\n",
       " 43: 4,\n",
       " 52: 2,\n",
       " 55: 2,\n",
       " 74: 69,\n",
       " 96: 103,\n",
       " 159: 33,\n",
       " 196: 3,\n",
       " 237: 6,\n",
       " 250: 30,\n",
       " 318: 18,\n",
       " 320: 31,\n",
       " 344: 8,\n",
       " 355: 5,\n",
       " 362: 36,\n",
       " 408: 18,\n",
       " 427: 59,\n",
       " 442: 4}"
      ]
     },
     "execution_count": 4,
     "metadata": {},
     "output_type": "execute_result"
    }
   ],
   "source": [
    "sigo_df['destination_id'].value_counts().to_dict()"
   ]
  },
  {
   "cell_type": "markdown",
   "metadata": {},
   "source": [
    "destination_id を重複なしにリスト保存"
   ]
  },
  {
   "cell_type": "code",
   "execution_count": 5,
   "metadata": {},
   "outputs": [],
   "source": [
    "dest_list = sigo_df['destination_id'].value_counts().index.tolist()\n",
    "dest_list.sort()"
   ]
  },
  {
   "cell_type": "markdown",
   "metadata": {},
   "source": [
    "sigoとlsgoそれぞれ目的地に届いたidだけをlistに保存"
   ]
  },
  {
   "cell_type": "code",
   "execution_count": 6,
   "metadata": {},
   "outputs": [
    {
     "name": "stdout",
     "output_type": "stream",
     "text": [
      "sigo: [13, 32, 74, 250, 318, 320, 344, 362, 408, 427, 442]\n",
      "lsgo: [13, 32, 250, 318, 320, 344, 362, 408, 427, 442]\n"
     ]
    }
   ],
   "source": [
    "sigo_reach_list = sigo_df[sigo_df['recv_id'] == sigo_df['destination_id']]['destination_id'].value_counts().index.tolist()\n",
    "lsgo_reach_list = lsgo_df[lsgo_df['recv_id'] == lsgo_df['destination_id']]['destination_id'].value_counts().index.tolist()\n",
    "sigo_reach_list.sort()\n",
    "lsgo_reach_list.sort()\n",
    "\n",
    "print('sigo:',sigo_reach_list)\n",
    "print('lsgo:',lsgo_reach_list)"
   ]
  },
  {
   "cell_type": "markdown",
   "metadata": {},
   "source": [
    "# 軌跡描画"
   ]
  },
  {
   "cell_type": "code",
   "execution_count": 8,
   "metadata": {},
   "outputs": [],
   "source": [
    "def draw(log,count,img_area,protocol,text):\n",
    "    if protocol == 'sigo':\n",
    "        line_color = (0, 255, 0)\n",
    "        thick = 9\n",
    "        des_thick = 8\n",
    "    else:\n",
    "        line_color = (255, 0, 255)\n",
    "        thick = 4\n",
    "        des_thick = 4\n",
    "    \n",
    "    cv2.arrowedLine(img_area,(log.source_x, log.source_y), \n",
    "                            (log.recv_x, log.recv_y), line_color, thickness=thick, tipLength=0.15)\n",
    "    cv2.circle(img=img_area, center=(log.source_x,\n",
    "                           log.source_y), radius=10, color=(255,0,0), thickness=-1)\n",
    "    cv2.circle(img=img_area, center=(log.recv_x,\n",
    "                           log.recv_y), radius=10, color=(255,0,0), thickness=-1)\n",
    "    #受け取ったのが宛先だったならば\n",
    "    if log.recv_id == log.destination_id:\n",
    "        cv2.drawMarker(img_area, (log.recv_x, log.recv_y), line_color, thickness=des_thick, markerType=cv2.MARKER_TILTED_CROSS, markerSize=25)\n",
    "    if text == 'あり':    \n",
    "        cv2.putText(img_area, str(log.source_id), (log.source_x + 10,log.source_y +10 ), cv2.FONT_HERSHEY_SIMPLEX, 0.7, (255, 255, 255), thickness=2)\n",
    "        cv2.putText(img_area, str(log.recv_id), (log.recv_x + 10,log.recv_y +10 ), cv2.FONT_HERSHEY_SIMPLEX, 0.7, (255, 255, 255), thickness=2)\n",
    "    if count == 1:\n",
    "        #目的エリア描画\n",
    "        #csvファイルに目的地の座標を加える\n",
    "        cv2.rectangle(img_area, (log.destination_x - 15, log.destination_y - 15), (log.destination_x + 15, log.destination_y + 15), (255, 255, 0),thickness=8)\n",
    "        #source nodeを視覚で囲む\n",
    "        cv2.rectangle(img_area, (log.source_x - 15, log.source_y - 15), (log.source_x + 15, log.source_y + 15), (255, 255, 0),thickness=8)\n",
    "\n",
    "        #方眼\n",
    "        plt.figure(figsize=(20, 20))\n",
    "        plt.grid(color='r', linestyle='dotted', linewidth=1.0)\n",
    "        plt.xlim([-100, 2200])\n",
    "        plt.xticks([2100,1800,1500,1200,900,600,300, 0]) \n",
    "        plt.ylim([-100, 2200])\n",
    "        plt.yticks([0,300,600,900,1200,1500,1800,2100])  #メモリの間隔を指定 \n",
    "    "
   ]
  },
  {
   "cell_type": "code",
   "execution_count": 9,
   "metadata": {
    "scrolled": false
   },
   "outputs": [
    {
     "name": "stdout",
     "output_type": "stream",
     "text": [
      "lsgo: [13, 32, 250, 318, 320, 344, 362, 408, 427, 442]\n",
      "sigo: [13, 32, 74, 250, 318, 320, 344, 362, 408, 427, 442]\n"
     ]
    },
    {
     "data": {
      "application/vnd.jupyter.widget-view+json": {
       "model_id": "a1a7f4482259415bb41506337acb6d7e"
      }
     },
     "metadata": {},
     "output_type": "display_data"
    },
    {
     "data": {
      "image/png": "[encoded data removed]",
      "text/plain": [
       "<Figure size 1440x1440 with 1 Axes>"
      ]
     },
     "metadata": {},
     "output_type": "display_data"
    }
   ],
   "source": [
    "img_area = np.zeros(shape=(2100,2100, 3), dtype=np.int16)\n",
    "protocol_list = [\"sigo\",\"lsgo\", \"both\"]\n",
    "text_list = [\"なし\", \"あり\"]\n",
    "print('lsgo:',lsgo_reach_list)\n",
    "print('sigo:',sigo_reach_list)\n",
    "\n",
    "#packetの軌跡を描画 \n",
    "@interact(minHop=(0,14,1), maxHop=(2,15, 1), desId=dest_list, protocol = protocol_list, text = text_list)\n",
    "def packetDraw(protocol = 'both', desId, minHop=0, maxHop = 15, text = \"なし\"):\n",
    "    img_area = np.zeros(shape=(2100,2100, 3), dtype=np.int16)\n",
    "    count = 1\n",
    "    if protocol == 'sigo':\n",
    "        for log in sigo_df[sigo_df['destination_id'] == desId].itertuples():\n",
    "            if log.hopcount >= minHop and log.hopcount <= maxHop:\n",
    "                draw(log,count,img_area,protocol,text)\n",
    "            count = count +1\n",
    "        plt.imshow(img_area)\n",
    "    elif protocol == 'lsgo':\n",
    "        print('lsgo')\n",
    "        for log in lsgo_df[lsgo_df['destination_id'] == desId].itertuples():\n",
    "            if log.hopcount >= minHop and log.hopcount <= maxHop:\n",
    "                draw(log,count,img_area,protocol,text)\n",
    "            count = count +1\n",
    "        plt.imshow(img_area)\n",
    "    else:\n",
    "        print('both')\n",
    "        for log in sigo_df[sigo_df['destination_id'] == desId].itertuples():\n",
    "            if log.hopcount >= minHop and log.hopcount <= maxHop:\n",
    "                draw(log,count,img_area,'sigo',text)\n",
    "            count = count +1\n",
    "        for log in lsgo_df[lsgo_df['destination_id'] == desId].itertuples():\n",
    "            if log.hopcount >= minHop and log.hopcount <= maxHop:\n",
    "                draw(log,count,img_area,'lsgo',text)\n",
    "        plt.imshow(img_area)\n",
    "            "
   ]
  },
  {
   "cell_type": "code",
   "execution_count": null,
   "metadata": {},
   "outputs": [],
   "source": []
  }
 ],
 "metadata": {
  "kernelspec": {
   "display_name": "Python 3",
   "language": "python",
   "name": "python3"
  },
  "language_info": {
   "codemirror_mode": {
    "name": "ipython",
    "version": 3
   },
   "file_extension": ".py",
   "mimetype": "text/x-python",
   "name": "python",
   "nbconvert_exporter": "python",
   "pygments_lexer": "ipython3",
   "version": "3.6.9"
  }
 },
 "nbformat": 4,
 "nbformat_minor": 4
}
