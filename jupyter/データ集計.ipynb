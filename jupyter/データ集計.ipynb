{
 "cells": [
  {
   "cell_type": "code",
   "execution_count": 1,
   "metadata": {},
   "outputs": [],
   "source": [
    "import pandas as pd\n",
    "import cv2\n",
    "import numpy as np\n",
    "import matplotlib.pyplot as plt\n",
    "#jupyter内で画像を表示\n",
    "%matplotlib inline \n",
    "#別ウィンドウで画像表示\n",
    "# %matplotlib qt \n",
    "import csv\n",
    "import json\n",
    "from ipywidgets import interact, interactive, fixed, RadioButtons\n",
    "import ipywidgets as widgets\n",
    "from IPython.display import display\n",
    "import pathlib\n",
    "import glob\n",
    "import re\n",
    "import copy"
   ]
  },
  {
   "cell_type": "code",
   "execution_count": 19,
   "metadata": {},
   "outputs": [
    {
     "name": "stdout",
     "output_type": "stream",
     "text": [
      "['../data/sigo/shutoushu-seed_10000nodenum_1000.csv', '../data/sigo/shutoushu-seed_10000nodenum_600.csv', '../data/sigo/shutoushu-seed_10000nodenum_700.csv', '../data/sigo/shutoushu-seed_10000nodenum_800.csv', '../data/sigo/shutoushu-seed_10000nodenum_900.csv', '../data/sigo/shutoushu-seed_11111nodenum_1000.csv', '../data/sigo/shutoushu-seed_11111nodenum_600.csv', '../data/sigo/shutoushu-seed_11111nodenum_700.csv', '../data/sigo/shutoushu-seed_11111nodenum_800.csv', '../data/sigo/shutoushu-seed_11111nodenum_900.csv', '../data/sigo/shutoushu-seed_12000nodenum_1000.csv', '../data/sigo/shutoushu-seed_12000nodenum_600.csv', '../data/sigo/shutoushu-seed_12000nodenum_700.csv', '../data/sigo/shutoushu-seed_12000nodenum_800.csv', '../data/sigo/shutoushu-seed_12000nodenum_900.csv', '../data/sigo/shutoushu-seed_12121nodenum_1000.csv', '../data/sigo/shutoushu-seed_12121nodenum_600.csv', '../data/sigo/shutoushu-seed_12121nodenum_700.csv', '../data/sigo/shutoushu-seed_12121nodenum_800.csv', '../data/sigo/shutoushu-seed_12121nodenum_900.csv', '../data/sigo/shutoushu-seed_23451nodenum_1000.csv', '../data/sigo/shutoushu-seed_23451nodenum_600.csv', '../data/sigo/shutoushu-seed_23451nodenum_700.csv', '../data/sigo/shutoushu-seed_23451nodenum_800.csv', '../data/sigo/shutoushu-seed_23451nodenum_900.csv', '../data/sigo/shutoushu-seed_25000nodenum_1000.csv', '../data/sigo/shutoushu-seed_25000nodenum_600.csv', '../data/sigo/shutoushu-seed_25000nodenum_700.csv', '../data/sigo/shutoushu-seed_25000nodenum_800.csv', '../data/sigo/shutoushu-seed_25000nodenum_900.csv', '../data/sigo/shutoushu-seed_33335nodenum_1000.csv', '../data/sigo/shutoushu-seed_33335nodenum_600.csv', '../data/sigo/shutoushu-seed_33335nodenum_700.csv', '../data/sigo/shutoushu-seed_33335nodenum_800.csv', '../data/sigo/shutoushu-seed_33335nodenum_900.csv', '../data/sigo/shutoushu-seed_34567nodenum_1000.csv', '../data/sigo/shutoushu-seed_34567nodenum_600.csv', '../data/sigo/shutoushu-seed_34567nodenum_700.csv', '../data/sigo/shutoushu-seed_34567nodenum_800.csv', '../data/sigo/shutoushu-seed_34567nodenum_900.csv', '../data/sigo/shutoushu-seed_34589nodenum_1000.csv', '../data/sigo/shutoushu-seed_34589nodenum_600.csv', '../data/sigo/shutoushu-seed_34589nodenum_700.csv', '../data/sigo/shutoushu-seed_34589nodenum_800.csv', '../data/sigo/shutoushu-seed_34589nodenum_900.csv', '../data/sigo/shutoushu-seed_54321nodenum_1000.csv', '../data/sigo/shutoushu-seed_54321nodenum_600.csv', '../data/sigo/shutoushu-seed_54321nodenum_700.csv', '../data/sigo/shutoushu-seed_54321nodenum_800.csv', '../data/sigo/shutoushu-seed_54321nodenum_900.csv', '../data/sigo/shutoushu-seed_55000nodenum_1000.csv', '../data/sigo/shutoushu-seed_55000nodenum_600.csv', '../data/sigo/shutoushu-seed_55000nodenum_700.csv', '../data/sigo/shutoushu-seed_55000nodenum_800.csv', '../data/sigo/shutoushu-seed_55000nodenum_900.csv']\n"
     ]
    }
   ],
   "source": [
    "sigo_file_list = []\n",
    "sigo_files = glob.glob(\"../data/sigo/*\")\n",
    "for file in sigo_files:\n",
    "    sigo_file_list.append(file)\n",
    "sigo_file_list.sort()\n",
    "print(sigo_file_list)"
   ]
  },
  {
   "cell_type": "code",
   "execution_count": 18,
   "metadata": {},
   "outputs": [
    {
     "name": "stdout",
     "output_type": "stream",
     "text": [
      "['../data/lsgo/lsgo-seed_10000nodenum_1000.csv', '../data/lsgo/lsgo-seed_10000nodenum_600.csv', '../data/lsgo/lsgo-seed_10000nodenum_700.csv', '../data/lsgo/lsgo-seed_10000nodenum_800.csv', '../data/lsgo/lsgo-seed_10000nodenum_900.csv', '../data/lsgo/lsgo-seed_11111nodenum_1000.csv', '../data/lsgo/lsgo-seed_11111nodenum_600.csv', '../data/lsgo/lsgo-seed_11111nodenum_700.csv', '../data/lsgo/lsgo-seed_11111nodenum_800.csv', '../data/lsgo/lsgo-seed_11111nodenum_900.csv', '../data/lsgo/lsgo-seed_12000nodenum_1000.csv', '../data/lsgo/lsgo-seed_12000nodenum_600.csv', '../data/lsgo/lsgo-seed_12000nodenum_700.csv', '../data/lsgo/lsgo-seed_12000nodenum_800.csv', '../data/lsgo/lsgo-seed_12000nodenum_900.csv', '../data/lsgo/lsgo-seed_12121nodenum_1000.csv', '../data/lsgo/lsgo-seed_12121nodenum_600.csv', '../data/lsgo/lsgo-seed_12121nodenum_700.csv', '../data/lsgo/lsgo-seed_12121nodenum_800.csv', '../data/lsgo/lsgo-seed_12121nodenum_900.csv', '../data/lsgo/lsgo-seed_23451nodenum_1000.csv', '../data/lsgo/lsgo-seed_23451nodenum_600.csv', '../data/lsgo/lsgo-seed_23451nodenum_700.csv', '../data/lsgo/lsgo-seed_23451nodenum_800.csv', '../data/lsgo/lsgo-seed_23451nodenum_900.csv', '../data/lsgo/lsgo-seed_25000nodenum_1000.csv', '../data/lsgo/lsgo-seed_25000nodenum_600.csv', '../data/lsgo/lsgo-seed_25000nodenum_700.csv', '../data/lsgo/lsgo-seed_25000nodenum_800.csv', '../data/lsgo/lsgo-seed_25000nodenum_900.csv', '../data/lsgo/lsgo-seed_33335nodenum_1000.csv', '../data/lsgo/lsgo-seed_33335nodenum_600.csv', '../data/lsgo/lsgo-seed_33335nodenum_700.csv', '../data/lsgo/lsgo-seed_33335nodenum_800.csv', '../data/lsgo/lsgo-seed_33335nodenum_900.csv', '../data/lsgo/lsgo-seed_34567nodenum_1000.csv', '../data/lsgo/lsgo-seed_34567nodenum_600.csv', '../data/lsgo/lsgo-seed_34567nodenum_700.csv', '../data/lsgo/lsgo-seed_34567nodenum_800.csv', '../data/lsgo/lsgo-seed_34567nodenum_900.csv', '../data/lsgo/lsgo-seed_34589nodenum_1000.csv', '../data/lsgo/lsgo-seed_34589nodenum_600.csv', '../data/lsgo/lsgo-seed_34589nodenum_700.csv', '../data/lsgo/lsgo-seed_34589nodenum_800.csv', '../data/lsgo/lsgo-seed_34589nodenum_900.csv', '../data/lsgo/lsgo-seed_54321nodenum_1000.csv', '../data/lsgo/lsgo-seed_54321nodenum_600.csv', '../data/lsgo/lsgo-seed_54321nodenum_700.csv', '../data/lsgo/lsgo-seed_54321nodenum_800.csv', '../data/lsgo/lsgo-seed_54321nodenum_900.csv', '../data/lsgo/lsgo-seed_55000nodenum_1000.csv', '../data/lsgo/lsgo-seed_55000nodenum_600.csv', '../data/lsgo/lsgo-seed_55000nodenum_700.csv', '../data/lsgo/lsgo-seed_55000nodenum_800.csv', '../data/lsgo/lsgo-seed_55000nodenum_900.csv']\n"
     ]
    }
   ],
   "source": [
    "lsgo_file_list = []\n",
    "lsgo_files = glob.glob(\"../data/lsgo/*\")\n",
    "for file in lsgo_files:\n",
    "    lsgo_file_list.append(file)\n",
    "lsgo_file_list.sort()\n",
    "print(lsgo_file_list)"
   ]
  },
  {
   "cell_type": "markdown",
   "metadata": {},
   "source": [
    "# seed値とノード数のリストを作成する"
   ]
  },
  {
   "cell_type": "code",
   "execution_count": 20,
   "metadata": {},
   "outputs": [],
   "source": [
    "seed_list = []\n",
    "nodenum_list = ['600', '700', '800', '900', '1000'] ###############nodenumの形式を変更したらここはベタ打ちで変更を加える\n",
    "regex = re.compile('\\d+')\n",
    "\n",
    "for path in sigo_file_list:\n",
    "    for line in path.splitlines():\n",
    "        match = regex.findall(line)\n",
    "        if match[0] not in seed_list:\n",
    "            seed_list.append(match[0])\n",
    "        \n",
    "            "
   ]
  },
  {
   "cell_type": "markdown",
   "metadata": {},
   "source": [
    "   # seed値にノード数をネストした辞書配列を作成\n",
    "https://www.it-swarm-ja.tech/ja/python/python%E3%81%A7%E3%83%8D%E3%82%B9%E3%83%88%E3%81%95%E3%82%8C%E3%81%9F%E8%BE%9E%E6%9B%B8%E3%82%92%E3%81%A9%E3%81%AE%E3%82%88%E3%81%86%E3%81%AB%E4%BD%9C%E6%88%90%E3%81%97%E3%81%BE%E3%81%99%E3%81%8B%EF%BC%9F/1072031996"
   ]
  },
  {
   "cell_type": "code",
   "execution_count": 22,
   "metadata": {},
   "outputs": [
    {
     "name": "stdout",
     "output_type": "stream",
     "text": [
      "{'10000': {'1000': '../data/sigo/shutoushu-seed_10000nodenum_1000.csv', '600': '../data/sigo/shutoushu-seed_10000nodenum_600.csv', '700': '../data/sigo/shutoushu-seed_10000nodenum_700.csv', '800': '../data/sigo/shutoushu-seed_10000nodenum_800.csv', '900': '../data/sigo/shutoushu-seed_10000nodenum_900.csv'}, '11111': {'1000': '../data/sigo/shutoushu-seed_11111nodenum_1000.csv', '600': '../data/sigo/shutoushu-seed_11111nodenum_600.csv', '700': '../data/sigo/shutoushu-seed_11111nodenum_700.csv', '800': '../data/sigo/shutoushu-seed_11111nodenum_800.csv', '900': '../data/sigo/shutoushu-seed_11111nodenum_900.csv'}, '12000': {'1000': '../data/sigo/shutoushu-seed_12000nodenum_1000.csv', '600': '../data/sigo/shutoushu-seed_12000nodenum_600.csv', '700': '../data/sigo/shutoushu-seed_12000nodenum_700.csv', '800': '../data/sigo/shutoushu-seed_12000nodenum_800.csv', '900': '../data/sigo/shutoushu-seed_12000nodenum_900.csv'}, '12121': {'1000': '../data/sigo/shutoushu-seed_12121nodenum_1000.csv', '600': '../data/sigo/shutoushu-seed_12121nodenum_600.csv', '700': '../data/sigo/shutoushu-seed_12121nodenum_700.csv', '800': '../data/sigo/shutoushu-seed_12121nodenum_800.csv', '900': '../data/sigo/shutoushu-seed_12121nodenum_900.csv'}, '23451': {'1000': '../data/sigo/shutoushu-seed_23451nodenum_1000.csv', '600': '../data/sigo/shutoushu-seed_23451nodenum_600.csv', '700': '../data/sigo/shutoushu-seed_23451nodenum_700.csv', '800': '../data/sigo/shutoushu-seed_23451nodenum_800.csv', '900': '../data/sigo/shutoushu-seed_23451nodenum_900.csv'}, '25000': {'1000': '../data/sigo/shutoushu-seed_25000nodenum_1000.csv', '600': '../data/sigo/shutoushu-seed_25000nodenum_600.csv', '700': '../data/sigo/shutoushu-seed_25000nodenum_700.csv', '800': '../data/sigo/shutoushu-seed_25000nodenum_800.csv', '900': '../data/sigo/shutoushu-seed_25000nodenum_900.csv'}, '33335': {'1000': '../data/sigo/shutoushu-seed_33335nodenum_1000.csv', '600': '../data/sigo/shutoushu-seed_33335nodenum_600.csv', '700': '../data/sigo/shutoushu-seed_33335nodenum_700.csv', '800': '../data/sigo/shutoushu-seed_33335nodenum_800.csv', '900': '../data/sigo/shutoushu-seed_33335nodenum_900.csv'}, '34567': {'1000': '../data/sigo/shutoushu-seed_34567nodenum_1000.csv', '600': '../data/sigo/shutoushu-seed_34567nodenum_600.csv', '700': '../data/sigo/shutoushu-seed_34567nodenum_700.csv', '800': '../data/sigo/shutoushu-seed_34567nodenum_800.csv', '900': '../data/sigo/shutoushu-seed_34567nodenum_900.csv'}, '34589': {'1000': '../data/sigo/shutoushu-seed_34589nodenum_1000.csv', '600': '../data/sigo/shutoushu-seed_34589nodenum_600.csv', '700': '../data/sigo/shutoushu-seed_34589nodenum_700.csv', '800': '../data/sigo/shutoushu-seed_34589nodenum_800.csv', '900': '../data/sigo/shutoushu-seed_34589nodenum_900.csv'}, '54321': {'1000': '../data/sigo/shutoushu-seed_54321nodenum_1000.csv', '600': '../data/sigo/shutoushu-seed_54321nodenum_600.csv', '700': '../data/sigo/shutoushu-seed_54321nodenum_700.csv', '800': '../data/sigo/shutoushu-seed_54321nodenum_800.csv', '900': '../data/sigo/shutoushu-seed_54321nodenum_900.csv'}, '55000': {'1000': '../data/sigo/shutoushu-seed_55000nodenum_1000.csv', '600': '../data/sigo/shutoushu-seed_55000nodenum_600.csv', '700': '../data/sigo/shutoushu-seed_55000nodenum_700.csv', '800': '../data/sigo/shutoushu-seed_55000nodenum_800.csv', '900': '../data/sigo/shutoushu-seed_55000nodenum_900.csv'}}\n"
     ]
    }
   ],
   "source": [
    "sigo_dict = {}\n",
    "check_seed = seed_list[0]\n",
    "sigo_dict[check_seed] = {}\n",
    "for path in sigo_file_list:\n",
    "    for line in path.splitlines():\n",
    "        match = regex.findall(line) # match[0] = seed ,match[1] = nudenum\n",
    "    if match[0] == check_seed:\n",
    "        sigo_dict[match[0]][match[1]] = path\n",
    "    else:#ロープ中seed値が変わるとき\n",
    "        sigo_dict[match[0]] = {}\n",
    "        sigo_dict[match[0]][match[1]] = path\n",
    "        check_seed = match[0] #seed値の更新\n",
    "print(sigo_dict)"
   ]
  },
  {
   "cell_type": "code",
   "execution_count": 23,
   "metadata": {},
   "outputs": [
    {
     "name": "stdout",
     "output_type": "stream",
     "text": [
      "{'10000': {'1000': '../data/lsgo/lsgo-seed_10000nodenum_1000.csv', '600': '../data/lsgo/lsgo-seed_10000nodenum_600.csv', '700': '../data/lsgo/lsgo-seed_10000nodenum_700.csv', '800': '../data/lsgo/lsgo-seed_10000nodenum_800.csv', '900': '../data/lsgo/lsgo-seed_10000nodenum_900.csv'}, '11111': {'1000': '../data/lsgo/lsgo-seed_11111nodenum_1000.csv', '600': '../data/lsgo/lsgo-seed_11111nodenum_600.csv', '700': '../data/lsgo/lsgo-seed_11111nodenum_700.csv', '800': '../data/lsgo/lsgo-seed_11111nodenum_800.csv', '900': '../data/lsgo/lsgo-seed_11111nodenum_900.csv'}, '12000': {'1000': '../data/lsgo/lsgo-seed_12000nodenum_1000.csv', '600': '../data/lsgo/lsgo-seed_12000nodenum_600.csv', '700': '../data/lsgo/lsgo-seed_12000nodenum_700.csv', '800': '../data/lsgo/lsgo-seed_12000nodenum_800.csv', '900': '../data/lsgo/lsgo-seed_12000nodenum_900.csv'}, '12121': {'1000': '../data/lsgo/lsgo-seed_12121nodenum_1000.csv', '600': '../data/lsgo/lsgo-seed_12121nodenum_600.csv', '700': '../data/lsgo/lsgo-seed_12121nodenum_700.csv', '800': '../data/lsgo/lsgo-seed_12121nodenum_800.csv', '900': '../data/lsgo/lsgo-seed_12121nodenum_900.csv'}, '23451': {'1000': '../data/lsgo/lsgo-seed_23451nodenum_1000.csv', '600': '../data/lsgo/lsgo-seed_23451nodenum_600.csv', '700': '../data/lsgo/lsgo-seed_23451nodenum_700.csv', '800': '../data/lsgo/lsgo-seed_23451nodenum_800.csv', '900': '../data/lsgo/lsgo-seed_23451nodenum_900.csv'}, '25000': {'1000': '../data/lsgo/lsgo-seed_25000nodenum_1000.csv', '600': '../data/lsgo/lsgo-seed_25000nodenum_600.csv', '700': '../data/lsgo/lsgo-seed_25000nodenum_700.csv', '800': '../data/lsgo/lsgo-seed_25000nodenum_800.csv', '900': '../data/lsgo/lsgo-seed_25000nodenum_900.csv'}, '33335': {'1000': '../data/lsgo/lsgo-seed_33335nodenum_1000.csv', '600': '../data/lsgo/lsgo-seed_33335nodenum_600.csv', '700': '../data/lsgo/lsgo-seed_33335nodenum_700.csv', '800': '../data/lsgo/lsgo-seed_33335nodenum_800.csv', '900': '../data/lsgo/lsgo-seed_33335nodenum_900.csv'}, '34567': {'1000': '../data/lsgo/lsgo-seed_34567nodenum_1000.csv', '600': '../data/lsgo/lsgo-seed_34567nodenum_600.csv', '700': '../data/lsgo/lsgo-seed_34567nodenum_700.csv', '800': '../data/lsgo/lsgo-seed_34567nodenum_800.csv', '900': '../data/lsgo/lsgo-seed_34567nodenum_900.csv'}, '34589': {'1000': '../data/lsgo/lsgo-seed_34589nodenum_1000.csv', '600': '../data/lsgo/lsgo-seed_34589nodenum_600.csv', '700': '../data/lsgo/lsgo-seed_34589nodenum_700.csv', '800': '../data/lsgo/lsgo-seed_34589nodenum_800.csv', '900': '../data/lsgo/lsgo-seed_34589nodenum_900.csv'}, '54321': {'1000': '../data/lsgo/lsgo-seed_54321nodenum_1000.csv', '600': '../data/lsgo/lsgo-seed_54321nodenum_600.csv', '700': '../data/lsgo/lsgo-seed_54321nodenum_700.csv', '800': '../data/lsgo/lsgo-seed_54321nodenum_800.csv', '900': '../data/lsgo/lsgo-seed_54321nodenum_900.csv'}, '55000': {'1000': '../data/lsgo/lsgo-seed_55000nodenum_1000.csv', '600': '../data/lsgo/lsgo-seed_55000nodenum_600.csv', '700': '../data/lsgo/lsgo-seed_55000nodenum_700.csv', '800': '../data/lsgo/lsgo-seed_55000nodenum_800.csv', '900': '../data/lsgo/lsgo-seed_55000nodenum_900.csv'}}\n"
     ]
    }
   ],
   "source": [
    "lsgo_dict = {}\n",
    "check_seed = seed_list[0]\n",
    "lsgo_dict[check_seed] = {}\n",
    "for path in lsgo_file_list:\n",
    "    for line in path.splitlines():\n",
    "      match = regex.findall(line) # match[2] = seed ,match[3] = nudenum\n",
    "     \n",
    "    if match[0] == check_seed:\n",
    "        lsgo_dict[match[0]][match[1]] = path\n",
    "    else:#ロープ中seed値が変わるとき\n",
    "        lsgo_dict[match[0]] = {}\n",
    "        lsgo_dict[match[0]][match[1]] = path\n",
    "        check_seed = match[0] #seed値の更新\n",
    "print(lsgo_dict)"
   ]
  },
  {
   "cell_type": "markdown",
   "metadata": {},
   "source": [
    "# パケット到達率を返す関数"
   ]
  },
  {
   "cell_type": "code",
   "execution_count": 24,
   "metadata": {},
   "outputs": [],
   "source": [
    "def packet_ratio(path):\n",
    "    #csvファイルの取得\n",
    "    path_df = pd.read_csv(path)\n",
    "    dest_list = path_df['destination_id'].value_counts().index.tolist() #重複なしのdestination_idを格納\n",
    "    #目的地に届いたidだけをlistに保存\n",
    "    reach_list = path_df[path_df['recv_id'] == path_df['destination_id']]['destination_id'].value_counts().index.tolist()\n",
    "    PDR = len(reach_list)/len(dest_list)\n",
    "    return PDR"
   ]
  },
  {
   "cell_type": "markdown",
   "metadata": {},
   "source": [
    "# エンドツーエンド遅延(平均)を返す関数"
   ]
  },
  {
   "cell_type": "code",
   "execution_count": 25,
   "metadata": {},
   "outputs": [],
   "source": [
    "def packet_delay(path):\n",
    "    delay_list = []\n",
    "    #csvファイルの取得\n",
    "    path_df = pd.read_csv(path)\n",
    "    #目的地に届いたidだけをlistに保存\n",
    "    reach_list = path_df[path_df['recv_id'] == path_df['destination_id']]['destination_id'].value_counts().index.tolist()\n",
    "    #reach_listを回す\n",
    "    for reach_id in reach_list:\n",
    "        source_time = path_df[path_df['destination_id'] == reach_id]['time']\n",
    "        recv_time = path_df[(path_df['destination_id'] == reach_id) & (path_df['destination_id'] == path_df['recv_id'])]['time']\n",
    "        delay = int(recv_time.head(1).iloc[-1]) - int(source_time.head(1).iloc[-1])\n",
    "        delay = delay / 100000\n",
    "#         print('desID:', reach_id, 'delay:',delay)\n",
    "        delay_list.append(delay)\n",
    "    delay_mean = np.mean(delay_list)\n",
    "    return delay_mean"
   ]
  },
  {
   "cell_type": "markdown",
   "metadata": {},
   "source": [
    "# オーバーヘッドを返す関数"
   ]
  },
  {
   "cell_type": "code",
   "execution_count": 26,
   "metadata": {},
   "outputs": [],
   "source": [
    "def packet_over_head(path):\n",
    "    #csvファイルの取得\n",
    "    path_df = pd.read_csv(path)\n",
    "    #目的地に届いたidだけをlistに保存\n",
    "    reach_list = path_df[path_df['recv_id'] == path_df['destination_id']]['destination_id'].value_counts().index.tolist()\n",
    "    packet_count = 0\n",
    "    hopcount = 1\n",
    "    des_id = 0\n",
    "    for log in path_df.itertuples():\n",
    "        if packet_count == 0:\n",
    "            packet_count += 1\n",
    "            hopcount = int(log.hopcount)\n",
    "            des_id = int(log.destination_id)\n",
    "        else:\n",
    "            if hopcount == int(log.hopcount):#hopcountが一緒でもdes_idが変更されていた場合は足す\n",
    "                if des_id == int(log.destination_id): #以前のdes_idと一緒の時\n",
    "                    continue\n",
    "                else:\n",
    "                    des_id = int(log.destination_id) #des_idの更新\n",
    "                    packet_count += 1\n",
    "            else:\n",
    "                hopcount = int(log.hopcount)\n",
    "                des_id = int(log.destination_id)\n",
    "                packet_count += 1\n",
    "    overhead = packet_count/len(reach_list)\n",
    "#     print('pc:',packet_count,'des_lis:',len(reach_list))\n",
    "    return overhead"
   ]
  },
  {
   "cell_type": "markdown",
   "metadata": {},
   "source": [
    "# 列ごとの平均を返す関数"
   ]
  },
  {
   "cell_type": "code",
   "execution_count": 27,
   "metadata": {},
   "outputs": [],
   "source": [
    "def col_average(seeds):\n",
    "    new_list = []\n",
    "    for seed in seeds:\n",
    "        del seed[5] #1列ずつ平均を算出するうえで邪魔なseed値を消していく\n",
    "        new_list.append(seed)\n",
    "#     np.set_printoptions(precision=3, suppress=True)\n",
    "    np_new_list = np.array(new_list)\n",
    "    return np.mean(np_new_list, axis=0)"
   ]
  },
  {
   "cell_type": "markdown",
   "metadata": {},
   "source": [
    "# 出力  \n",
    "https://techacademy.jp/magazine/15638"
   ]
  },
  {
   "cell_type": "code",
   "execution_count": 28,
   "metadata": {},
   "outputs": [],
   "source": [
    "def header(protocol, writer, index):\n",
    "    writer.writerow([])\n",
    "    writer.writerow([protocol, index])\n",
    "    writer.writerow(['600', '700','800','900','1000','seed'])"
   ]
  },
  {
   "cell_type": "code",
   "execution_count": 30,
   "metadata": {},
   "outputs": [],
   "source": [
    "def write(seeds):\n",
    "    for seed in seeds:\n",
    "        writer.writerow(seed)\n",
    "\n",
    "with open('../data/Performance_evaluation.csv', 'w', newline='') as csv_file:\n",
    "    #---------------------------PDR---------------------------\n",
    "    sigo_pdr_average_list = []\n",
    "    lsgo_pdr_average_list = []\n",
    "    sigo_delay_average_list = []\n",
    "    lsgo_delay_average_list = []\n",
    "    sigo_overhead_average_list = []\n",
    "    lsgo_overhead_average_list = []\n",
    "    \n",
    "    #headerを設定\n",
    "    writer = csv.writer(csv_file)\n",
    "    header('SIGO', writer, 'PDR')\n",
    "    #--sigo--#\n",
    "    for seed in seed_list:\n",
    "        sigo_pdr_ratio_list = []\n",
    "        for node in nodenum_list:\n",
    "            path = sigo_dict[seed][node]\n",
    "            ratio = packet_ratio(path)\n",
    "            sigo_pdr_ratio_list.append(ratio)\n",
    "        sigo_pdr_ratio_list.append(seed)\n",
    "        writer.writerow(sigo_pdr_ratio_list)\n",
    "        sigo_pdr_average_list.append(sigo_pdr_ratio_list)\n",
    "    #--lsgo---#\n",
    "    header('LSGO', writer, 'PDR')\n",
    "    for seed in seed_list:\n",
    "        lsgo_pdr_ratio_list = []\n",
    "        for node in nodenum_list:\n",
    "            path = lsgo_dict[seed][node]\n",
    "            ratio = packet_ratio(path)\n",
    "            lsgo_pdr_ratio_list.append(ratio)\n",
    "        lsgo_pdr_ratio_list.append(seed)\n",
    "        writer.writerow(lsgo_pdr_ratio_list)\n",
    "        lsgo_pdr_average_list.append(lsgo_pdr_ratio_list)\n",
    "    #------------------------delay-----------------------\n",
    "    header('SIGO', writer, 'delay')\n",
    "    #--sigo--#\n",
    "    for seed in seed_list:\n",
    "        sigo_delay_list = []\n",
    "        for node in nodenum_list:\n",
    "            path = sigo_dict[seed][node]\n",
    "            delay = packet_delay(path)\n",
    "            sigo_delay_list.append(delay)\n",
    "        sigo_delay_list.append(seed)\n",
    "        writer.writerow(sigo_delay_list)\n",
    "        sigo_delay_average_list.append(sigo_delay_list)\n",
    "    #--lsgo--#\n",
    "    header('LSGO', writer, 'delay')\n",
    "    for seed in seed_list:\n",
    "        lsgo_delay_list = []\n",
    "        for node in nodenum_list:\n",
    "            path = lsgo_dict[seed][node]\n",
    "            delay = packet_delay(path)\n",
    "            lsgo_delay_list.append(delay)\n",
    "        lsgo_delay_list.append(seed)\n",
    "        writer.writerow(lsgo_delay_list)\n",
    "        lsgo_delay_average_list.append(lsgo_delay_list)\n",
    "    #------------------------overhead-----------------------\n",
    "    header('SIGO', writer, 'Overhead')\n",
    "    #--sigo--#\n",
    "    for seed in seed_list:\n",
    "        sigo_overhead_list = []\n",
    "        for node in nodenum_list:\n",
    "            path = sigo_dict[seed][node]\n",
    "            overhead = packet_over_head(path)\n",
    "            sigo_overhead_list.append(overhead)\n",
    "        sigo_overhead_list.append(seed)\n",
    "        writer.writerow(sigo_overhead_list)\n",
    "        sigo_overhead_average_list.append(sigo_overhead_list)\n",
    "    #--lsgo--#\n",
    "    header('LSGO', writer, 'Overhead')\n",
    "    for seed in seed_list:\n",
    "        lsgo_overhead_list = []\n",
    "        for node in nodenum_list:\n",
    "            path = lsgo_dict[seed][node]\n",
    "            overhead = packet_over_head(path)\n",
    "            lsgo_overhead_list.append(overhead)\n",
    "        lsgo_overhead_list.append(seed)\n",
    "        writer.writerow(lsgo_overhead_list)\n",
    "        lsgo_overhead_average_list.append(lsgo_overhead_list)\n",
    "        \n",
    "    header('SIGO', writer , 'PDR-average')\n",
    "    writer.writerow(col_average(sigo_pdr_average_list))\n",
    "    header('LSGO', writer, 'PDR-average')\n",
    "    writer.writerow(col_average(lsgo_pdr_average_list))\n",
    "    header('SIGO', writer , 'delay-average')\n",
    "    writer.writerow(col_average(sigo_delay_average_list))\n",
    "    header('LSGO', writer , 'delay-average')\n",
    "    writer.writerow(col_average(lsgo_delay_average_list))\n",
    "    header('SIGO', writer , 'overhead-average')\n",
    "    writer.writerow(col_average(sigo_overhead_average_list))\n",
    "    header('LSGO', writer , 'delay-average')\n",
    "    writer.writerow(col_average(lsgo_overhead_average_list))\n"
   ]
  },
  {
   "cell_type": "code",
   "execution_count": 14,
   "metadata": {},
   "outputs": [
    {
     "name": "stdout",
     "output_type": "stream",
     "text": [
      "10000\n",
      "0.21151857142857144\n",
      "0.3254775\n",
      "0.2450244444444444\n",
      "0.312052\n",
      "0.4371244444444444\n",
      "11111\n",
      "0.28041\n",
      "0.140546\n",
      "0.2895316666666667\n",
      "0.34293625\n",
      "0.38299222222222223\n",
      "12000\n",
      "0.344354\n",
      "0.329745\n",
      "0.38605625\n",
      "0.38242875\n",
      "0.34011800000000003\n",
      "12121\n",
      "0.3531433333333333\n",
      "0.37987166666666666\n",
      "0.36306\n",
      "0.41667999999999994\n",
      "0.3254485714285714\n",
      "23451\n",
      "0.21694750000000002\n",
      "0.14168833333333333\n",
      "0.40346666666666664\n",
      "0.203052\n",
      "0.24630555555555558\n",
      "25000\n",
      "0.3839957142857143\n",
      "0.3397977777777778\n",
      "0.3227211111111112\n",
      "0.2736272727272727\n",
      "0.36908125\n",
      "33335\n",
      "0.310265\n",
      "0.321323\n",
      "0.30322000000000005\n",
      "0.261075\n",
      "0.300641\n",
      "34567\n",
      "0.3350757142857143\n",
      "0.27730374999999996\n",
      "0.3287791666666667\n",
      "0.37794444444444447\n",
      "0.2940825\n",
      "34589\n",
      "0.2596325\n",
      "0.45084\n",
      "0.31919125000000004\n",
      "0.33114333333333335\n",
      "0.43589666666666665\n",
      "43222\n",
      "0.28972800000000004\n",
      "0.4892766666666666\n",
      "13.814210000000001\n",
      "0.39344500000000004\n",
      "0.45936\n",
      "54321\n",
      "0.16110600000000003\n",
      "0.23188777777777775\n",
      "0.25068714285714283\n",
      "0.313678\n",
      "0.31719\n",
      "55000\n",
      "0.2445425\n",
      "0.387575\n",
      "0.3261222222222222\n",
      "0.38742\n",
      "0.3813688888888889\n"
     ]
    }
   ],
   "source": [
    "for seed in seed_list:\n",
    "        lsgo_delay_list = []\n",
    "        print(seed)\n",
    "        for node in nodenum_list:\n",
    "            path = lsgo_dict[seed][node]\n",
    "            delay = packet_delay(path)\n",
    "            print(delay)"
   ]
  },
  {
   "cell_type": "code",
   "execution_count": 15,
   "metadata": {},
   "outputs": [
    {
     "name": "stdout",
     "output_type": "stream",
     "text": [
      "10000\n",
      "0.21151857142857144\n",
      "0.3254775\n",
      "0.24502555555555558\n",
      "0.3030672727272727\n",
      "0.4371244444444444\n",
      "11111\n",
      "0.28041\n",
      "0.140546\n",
      "0.2895316666666667\n",
      "0.34293625\n",
      "0.38299222222222223\n",
      "12000\n",
      "0.3508066666666667\n",
      "0.253188\n",
      "0.3726157142857143\n",
      "0.3852988888888889\n",
      "0.2992333333333333\n",
      "12121\n",
      "0.35314333333333336\n",
      "0.35431\n",
      "0.38445666666666667\n",
      "0.37788999999999995\n",
      "0.32239833333333334\n",
      "23451\n",
      "0.21694750000000002\n",
      "0.174445\n",
      "0.40346666666666664\n",
      "0.23408\n",
      "0.2327111111111111\n",
      "25000\n",
      "0.3839957142857143\n",
      "0.3476125\n",
      "0.3227211111111111\n",
      "0.2736272727272727\n",
      "0.36908125\n",
      "33335\n",
      "0.310265\n",
      "0.335247\n",
      "0.3439475\n",
      "0.2983190909090909\n",
      "0.29772363636363636\n",
      "34567\n",
      "0.326915\n",
      "0.2949555555555556\n",
      "0.3172323076923077\n",
      "0.37470111111111115\n",
      "0.3571475\n",
      "34589\n",
      "0.175455\n",
      "0.3250633333333333\n",
      "0.29352500000000004\n",
      "0.34304571428571423\n",
      "0.43079333333333336\n",
      "43222\n",
      "0.28972800000000004\n",
      "0.39899249999999997\n",
      "13.814210000000001\n",
      "0.3740033333333333\n",
      "0.46427874999999996\n",
      "54321\n",
      "0.16575666666666666\n",
      "0.24161444444444444\n",
      "0.2151757142857143\n",
      "0.310439\n",
      "0.30544571428571426\n",
      "55000\n",
      "0.268285\n",
      "0.37888\n",
      "0.32612222222222226\n",
      "0.38274875\n",
      "0.39957699999999996\n"
     ]
    }
   ],
   "source": [
    "for seed in seed_list:\n",
    "        sigo_delay_list = []\n",
    "        print(seed)\n",
    "        for node in nodenum_list:\n",
    "            path = sigo_dict[seed][node]\n",
    "            delay = packet_delay(path)\n",
    "            print(delay)"
   ]
  },
  {
   "cell_type": "code",
   "execution_count": null,
   "metadata": {},
   "outputs": [],
   "source": []
  }
 ],
 "metadata": {
  "kernelspec": {
   "display_name": "Python 3",
   "language": "python",
   "name": "python3"
  },
  "language_info": {
   "codemirror_mode": {
    "name": "ipython",
    "version": 3
   },
   "file_extension": ".py",
   "mimetype": "text/x-python",
   "name": "python",
   "nbconvert_exporter": "python",
   "pygments_lexer": "ipython3",
   "version": "3.6.9"
  }
 },
 "nbformat": 4,
 "nbformat_minor": 4
}
